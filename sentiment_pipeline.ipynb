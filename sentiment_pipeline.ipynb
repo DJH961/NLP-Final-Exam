{
 "cells": [
  {
   "cell_type": "code",
   "execution_count": 13,
   "id": "7453bbf1",
   "metadata": {},
   "outputs": [
    {
     "name": "stderr",
     "output_type": "stream",
     "text": [
      "[nltk_data] Downloading package vader_lexicon to\n",
      "[nltk_data]     C:\\Users\\danie\\AppData\\Roaming\\nltk_data...\n",
      "[nltk_data]   Package vader_lexicon is already up-to-date!\n"
     ]
    }
   ],
   "source": [
    "import pandas as pd\n",
    "import nltk\n",
    "nltk.download('vader_lexicon')\n",
    "from nltk.sentiment import SentimentIntensityAnalyzer\n",
    "from transformers import AutoTokenizer, AutoModelForSequenceClassification\n",
    "import torch\n",
    "import numpy as np"
   ]
  },
  {
   "cell_type": "code",
   "execution_count": null,
   "id": "dd10d915",
   "metadata": {},
   "outputs": [],
   "source": []
  },
  {
   "cell_type": "markdown",
   "id": "4ac198d7",
   "metadata": {},
   "source": [
    "## Vader Analysis"
   ]
  },
  {
   "cell_type": "code",
   "execution_count": 14,
   "id": "5926d5fb",
   "metadata": {},
   "outputs": [],
   "source": [
    "vader = SentimentIntensityAnalyzer()"
   ]
  },
  {
   "cell_type": "code",
   "execution_count": 15,
   "id": "f6122037",
   "metadata": {},
   "outputs": [],
   "source": [
    "def analyze_vader(text):\n",
    "    scores = vader.polarity_scores(text)\n",
    "    return scores['compound']  # Main sentiment score [-1, 1]\n",
    "\n",
    "def add_vader_sentiment(df, text_column='dialogue'):\n",
    "    df['vader_sentiment'] = df[text_column].apply(analyze_vader)\n",
    "    return df"
   ]
  },
  {
   "cell_type": "markdown",
   "id": "a777859b",
   "metadata": {},
   "source": [
    "## BERT"
   ]
  },
  {
   "cell_type": "code",
   "execution_count": 16,
   "id": "cc608a88",
   "metadata": {},
   "outputs": [
    {
     "name": "stderr",
     "output_type": "stream",
     "text": [
      "Some weights of RobertaForSequenceClassification were not initialized from the model checkpoint at kornosk/polibertweet-mlm and are newly initialized: ['classifier.dense.bias', 'classifier.dense.weight', 'classifier.out_proj.bias', 'classifier.out_proj.weight']\n",
      "You should probably TRAIN this model on a down-stream task to be able to use it for predictions and inference.\n"
     ]
    }
   ],
   "source": [
    "# === BERT Setup ===\n",
    "model_name = \"kornosk/polibertweet-mlm\"\n",
    "tokenizer = AutoTokenizer.from_pretrained(model_name)\n",
    "model = AutoModelForSequenceClassification.from_pretrained(model_name)\n",
    "\n",
    "def analyze_bert(text):\n",
    "    inputs = tokenizer(text, return_tensors=\"pt\", truncation=True)\n",
    "    with torch.no_grad():\n",
    "        logits = model(**inputs).logits\n",
    "    probs = torch.nn.functional.softmax(logits, dim=-1).squeeze().numpy()\n",
    "    return float(probs[1])  # Probability of positive sentiment\n",
    "\n",
    "def add_bert_sentiment(df, text_column='dialogue'):\n",
    "    df['bert_sentiment'] = (2*(df[text_column].apply(analyze_bert)))-1  # Scale to [-1, 1]\n",
    "    return df"
   ]
  },
  {
   "cell_type": "markdown",
   "id": "231ab89c",
   "metadata": {},
   "source": [
    "## Comparison Values"
   ]
  },
  {
   "cell_type": "code",
   "execution_count": 17,
   "id": "40927b42",
   "metadata": {},
   "outputs": [],
   "source": [
    "def add_diff_sentiment(df, text_column='dialogue'):\n",
    "    df = add_vader_sentiment(df, text_column)\n",
    "    df = add_bert_sentiment(df, text_column)\n",
    "    df['diff_sentiment'] = df['bert_sentiment'] - df['vader_sentiment']\n",
    "    return df"
   ]
  },
  {
   "cell_type": "markdown",
   "id": "fc3f3267",
   "metadata": {},
   "source": [
    "## First Test"
   ]
  },
  {
   "cell_type": "code",
   "execution_count": 18,
   "id": "0a36bcf7",
   "metadata": {},
   "outputs": [],
   "source": [
    "with open('debate_transcripts_cleaned.csv', 'r') as f:\n",
    "    df = pd.read_csv(f)\n",
    "    df = add_diff_sentiment(df, text_column='dialogue')\n",
    "    df.to_csv('debate_transcripts_sentiment.csv', index=False)"
   ]
  },
  {
   "cell_type": "code",
   "execution_count": 19,
   "id": "72ba2506",
   "metadata": {},
   "outputs": [
    {
     "data": {
      "application/vnd.microsoft.datawrangler.viewer.v0+json": {
       "columns": [
        {
         "name": "index",
         "rawType": "int64",
         "type": "integer"
        },
        {
         "name": "year",
         "rawType": "int64",
         "type": "integer"
        },
        {
         "name": "date",
         "rawType": "object",
         "type": "string"
        },
        {
         "name": "actor",
         "rawType": "object",
         "type": "string"
        },
        {
         "name": "dialogue",
         "rawType": "object",
         "type": "string"
        },
        {
         "name": "is_candidate",
         "rawType": "bool",
         "type": "boolean"
        },
        {
         "name": "party",
         "rawType": "object",
         "type": "unknown"
        },
        {
         "name": "is_winner",
         "rawType": "bool",
         "type": "boolean"
        },
        {
         "name": "VP_debate",
         "rawType": "bool",
         "type": "boolean"
        },
        {
         "name": "is_incumbent",
         "rawType": "bool",
         "type": "boolean"
        },
        {
         "name": "vader_sentiment",
         "rawType": "float64",
         "type": "float"
        },
        {
         "name": "bert_sentiment",
         "rawType": "float64",
         "type": "float"
        },
        {
         "name": "diff_sentiment",
         "rawType": "float64",
         "type": "float"
        }
       ],
       "conversionMethod": "pd.DataFrame",
       "ref": "5a73ca5a-8b54-4449-9689-7263eb2110d0",
       "rows": [
        [
         "0",
         "1960",
         "1960-09-26",
         "Kennedy",
         "Mr. Smith, Mr. Nixon. In the election of 1860, Abraham Lincoln said the question was whether this nation could exist half-slave or half-free. In the election of 1960, and with the world around us, the question is whether the world will exist half-slave or half-free, whether it will move in the direction of freedom, in the direction of the road that we are taking, or whether it will move in the direction of slavery. I think it will depend in great measure upon what we do here in the United States, on the kind of society that we build, on the kind of strength that we maintain. We discuss tonight domestic issues, but I would not want that to be any implication to be given that this does not involve directly our struggle with Mr. Khrushchev for survival. Mr. Khrushchev is in New York, and he maintains the Communist offensive throughout the world because of the productive power of the Soviet Union itself. The Chinese Communists have always had a large population. But they are important and dangerous now because they are mounting a major effort within their own country. The kind of country we have here, the kind of society we have, the kind of strength we build in the United States will be the defense of freedom. If we do well here, if we meet our obligations, if were moving ahead, then I think freedom will be secure around the world. If we fail, then freedom fails. Therefore, I think the question before the American people is: Are we doing as much as we can do? Are we as strong as we should be? Are we as strong as we must be if were going to maintain our independence, and if were going to maintain and hold out the hand of friendship to those who look to us for assistance, to those who look to us for survival? I should make it very clear that I do not think were doing enough, that I am not satisfied as an American with the progress that were making. This is a great country, but I think it could be a greater country; and this is a powerful country, but I think it could be a more powerful country. Im not satisfied to have fifty percent of our steel-mill capacity unused. Im not satisfied when the United States had last year the lowest rate of economic growth of any major industrialized society in the world. Because economic growth means strength and vitality; it means were able to sustain our defenses; it means were able to meet our commitments abroad. Im not satisfied when we have over nine billion dollars worth of food  some of it rotting  even though there is a hungry world, and even though four million Americans wait every month for a food package from the government, which averages five cents a day per individual. I saw cases in West Virginia, here in the United States, where children took home part of their school lunch in order to feed their families because I dont think were meeting our obligations toward these Americans. Im not satisfied when the Soviet Union is turning out twice as many scientists and engineers as we are. Im not satisfied when many of our teachers are inadequately paid, or when our children go to school part-time shifts. I think we should have an educational system second to none. Im not satisfied when I see men like Jimmy Hoffa  in charge of the largest union in the United States  still free. Im not satisfied when we are failing to develop the natural resources of the United States to the fullest. Here in the United States, which developed the Tennessee Valley and which built the Grand Coulee and the other dams in the Northwest United States at the present rate of hydropower production  and that is the hallmark of an industrialized society  the Soviet Union by 1975 will be producing more power than we are. These are all the things, I think, in this country that can make our society strong, or can mean that it stands still. Im not satisfied until every American enjoys his full constitutional rights. If a Negro baby is born  and this is true also of Puerto Ricans and Mexicans in some of our cities  he has about one-half as much chance to get through high school as a white baby. He has one-third as much chance to get through college as a white student. He has about a third as much chance to be a professional man, about half as much chance to own a house. He has about uh  four times as much chance that hell be out of work in his life as the white baby. I think we can do better. I dont want the talents of any American to go to waste. I know that there are those who want to turn everything over to the government. I dont at all. I want the individuals to meet their responsibilities. And I want the states to meet their responsibilities. But I think there is also a national responsibility. The argument has been used against every piece of social legislation in the last twenty-five years. The people of the United States individually could not have developed the Tennessee Valley; collectively they could have. A cotton farmer in Georgia or a peanut farmer or a dairy farmer in Wisconsin and Minnesota, he cannot protect himself against the forces of supply and demand in the market place; but working together in effective governmental programs he can do so. Seventeen million Americans, who live over sixty-five on an average Social Security check of about seventy-eight dollars a month, theyre not able to sustain themselves individually, but they can sustain themselves through the social security system. I dont believe in big government, but I believe in effective governmental action. And I think thats the only way that the United States is going to maintain its freedom. Its the only way that were going to move ahead. I think we can do a better job. I think were going to have to do a better job if we are going to meet the responsibilities which time and events have placed upon us. We cannot turn the job over to anyone else. If the United States fails, then the whole cause of freedom fails. And I think it depends in great measure on what we do here in this country. The reason Franklin Roosevelt was a good neighbor in Latin America was because he was a good neighbor in the United States. Because they felt that the American society was moving again. I want us to recapture that image. I want people in Latin America and Africa and Asia to start to look to America; to see how were doing things; to wonder what the resident of the United States is doing; and not to look at Khrushchev, or look at the Chinese Communists. That is the obligation upon our generation. In 1933, Franklin Roosevelt said in his inaugural that this generation of Americans has a rendezvous with destiny. I think our generation of Americans has the same rendezvous. The question now is: Can freedom be maintained under the most severe tack  attack it has ever known? I think it can be. And I think in the final analysis it depends upon what we do here. I think its time America started moving again.",
         "True",
         "Democratic",
         "True",
         "False",
         "False",
         "0.9993",
         "0.020700693130493164",
         "-0.9785993068695068"
        ],
        [
         "1",
         "1960",
         "1960-09-26",
         "Smith",
         "And now the opening statement by Vice President Richard M. Nixon.",
         "False",
         null,
         "False",
         "False",
         "False",
         "0.0",
         "0.03822672367095947",
         "0.03822672367095947"
        ],
        [
         "2",
         "1960",
         "1960-09-26",
         "Nixon",
         "Mr. Smith, Senator Kennedy. The things that Senator Kennedy has said many of us can agree with. There is no question but that we cannot discuss our internal affairs in the United States without recognizing that they have a tremendous bearing on our international position. There is no question but that this nation cannot stand still; because we are in a deadly competition, a competition not only with the men in the Kremlin, but the men in Peking. Were ahead in this competition, as Senator Kennedy, I think, has implied. But when youre in a race, the only way to stay ahead is to move ahead. And I subscribe completely to the spirit that Senator Kennedy has expressed tonight, the spirit that the United States should move ahead. Where, then, do we disagree? I think we disagree on the implication of his remarks tonight and on the statements that he has made on many occasions during his campaign to the effect that the United States has been standing still. We heard tonight, for example, the statement made that our growth in national product last year was the lowest of any industrial nation in the world. Now last year, of course, was 1958. That happened to be a recession year. But when we look at the growth of G.N.P. this year, a year of recovery, we find that its six and nine-tenths per cent and one of the highest in the world today. More about that later. Looking then to this problem of how the United States should move ahead and where the United States is moving, I think it is well that we take the advice of a very famous campaigner: Lets look at the record. Is the United States standing still? Is it true that this Administration, as Senator Kennedy has charged, has been an Administration of retreat, of defeat, of stagnation? Is it true that, as far as this country is concerned, in the field of electric power, in all of the fields that he has mentioned, we have not been moving ahead. Well, we have a comparison that we can make. We have the record of the Truman Administration of seven and a half years and the seven and a half years of the Eisenhower Administration. When we compare these two records in the areas that Senator Kennedy has  has discussed tonight, I think we find that America has been moving ahead. Lets take schools. We have built more schools in these last seven and a half years than we built in the previous seven and a half, for that matter in the previous twenty years. Lets take hydroelectric power. We have developed more hydroelectric power in these seven and a half years than was developed in any previous administration in history. Let us take hospitals. We find that more have been built in this Administration than in the previous Administration. The same is true of highways. Lets put it in terms that all of us can understand. We often hear gross national product discussed and in that respect may I say that when we compare the growth in this Administration with that of the previous Administration that then there was a total growth of eleven percent over seven years; in this Administration there has been a total growth of nineteen per cent over seven years. That shows that theres been more growth in this Administration than in its predecessor. But lets not put it there; lets put it in terms of the average family. What has happened to you? We find that your wages have gone up five times as much in the Eisenhower Administration as they did in the Truman Administration. What about the prices you pay? We find that the prices you pay went up five times as much in the Truman Administration as they did in the Eisenhower Administration. Whats the net result of this? This means that the average family income went up fifteen per cent in the Eisenhower years as against two per cent in the Truman years. Now, this is not standing still. But, good as this record is, may I emphasize it isnt enough. A record is never something to stand on. Its something to build on. And in building on this record, I believe that we have the secret for progress, we know the way to progress. And I think, first of all, our own record proves that we know the way. Senator Kennedy has suggested that he believes he knows the way. I respect the sincerity which he m- which he makes that suggestion. But on the other hand, when we look at the various programs that he offers, they do not seem to be new. They seem to be simply retreads of the programs of the Truman Administration which preceded it. And I would suggest that during the course of the evening he might indicate those areas in which his programs are new, where they will mean more progress than we had then. What kind of programs are we for? We are for programs that will expand educational opportunities, that will give to all Americans their equal chance for education, for all of the things which are necessary and dear to the hearts of our people. We are for programs, in addition, which will see that our medical care for the aged are  is  are much  is much better handled than it is at the present time. Here again, may I indicate that Senator Kennedy and I are not in disagreement as to the aims. We both want to help the old people. We want to see that they do have adequate medical care. The question is the means. I think that the means that I advocate will reach that goal better than the means that he advocates. I could give better examples, but for  for whatever it is, whether its in the field of housing, or health, or medical care, or schools, or the eh- development of electric power, we have programs which we believe will move America, move her forward and build on the wonderful record that we have made over these past seven and a half years. Now, when we look at these programs, might I suggest that in evaluating them we often have a tendency to say that the test of a program is how much youre spending. I will concede that in all the areas to which I have referred Senator Kennedy would have the spe- federal government spend more than I would have it spend. I costed out the cost of the Democratic platform. It runs a minimum of thirteen and two-tenths billions dollars a year more than we are presently spending to a maximum of eighteen billion dollars a year more than were presently spending. Now the Republican platform will cost more too. It will cost a minimum of four billion dollars a year more, a maximum of four and nine-tenths billion dollar a year more than were presently spending. Now, does this mean that his program is better than ours? Not at all. Because it isnt a question of how much the federal government spends; it isnt a question of which government does the most. It is a question of which administration does the right thing. And in our case, I do believe that our programs will stimulate the creative energies of a hundred and eighty million free Americans. I believe the programs that Senator Kennedy advocates will have a tendency to stifle those creative energies, I believe in other words, that his program would lead to the stagnation of the motive power that we need in this country to get progress. The final point that I would like to make is this: Senator Kennedy has suggested in his speeches that we lack compassion for the poor, for the old, and for others that are unfortunate. Let us understand throughout this campaign that his motives and mine are sincere. I know what it means to be poor. I know what it means to see people who are unemployed. I know Senator Kennedy feels as deeply about these problems as I do, but our disagreement is not about the goals for America but only about the means to reach those goals.",
         "True",
         "Republican",
         "False",
         "False",
         "False",
         "0.9992",
         "-0.001360177993774414",
         "-1.0005601779937745"
        ],
        [
         "3",
         "1960",
         "1960-09-26",
         "Smith",
         "Thank you, Mr. Nixon. That completes the opening statements, and now the candidates will answer questions or comment upon one anothers answers to questions, put by correspondents of the networks. The correspondents: [introducing themselves: Im Sander Vanocur, NBC News; Im Charles Warren, Mutual News; Im Stuart Novins, CBS News; Bob Fleming, ABC News.] The first question to Senator Kennedy from Mr. Fleming.",
         "False",
         null,
         "False",
         "False",
         "False",
         "0.3612",
         "0.03491389751434326",
         "-0.32628610248565676"
        ],
        [
         "4",
         "1960",
         "1960-09-26",
         "Fleming",
         "Senator, the Vice President in his campaign has said that you were naive and at times immature. He has raised the question of leadership. On this issue, why do you think people should vote for you rather than the Vice President?",
         "False",
         null,
         "False",
         "False",
         "False",
         "-0.2732",
         "0.08810949325561523",
         "0.36130949325561523"
        ]
       ],
       "shape": {
        "columns": 12,
        "rows": 5
       }
      },
      "text/html": [
       "<div>\n",
       "<style scoped>\n",
       "    .dataframe tbody tr th:only-of-type {\n",
       "        vertical-align: middle;\n",
       "    }\n",
       "\n",
       "    .dataframe tbody tr th {\n",
       "        vertical-align: top;\n",
       "    }\n",
       "\n",
       "    .dataframe thead th {\n",
       "        text-align: right;\n",
       "    }\n",
       "</style>\n",
       "<table border=\"1\" class=\"dataframe\">\n",
       "  <thead>\n",
       "    <tr style=\"text-align: right;\">\n",
       "      <th></th>\n",
       "      <th>year</th>\n",
       "      <th>date</th>\n",
       "      <th>actor</th>\n",
       "      <th>dialogue</th>\n",
       "      <th>is_candidate</th>\n",
       "      <th>party</th>\n",
       "      <th>is_winner</th>\n",
       "      <th>VP_debate</th>\n",
       "      <th>is_incumbent</th>\n",
       "      <th>vader_sentiment</th>\n",
       "      <th>bert_sentiment</th>\n",
       "      <th>diff_sentiment</th>\n",
       "    </tr>\n",
       "  </thead>\n",
       "  <tbody>\n",
       "    <tr>\n",
       "      <th>0</th>\n",
       "      <td>1960</td>\n",
       "      <td>1960-09-26</td>\n",
       "      <td>Kennedy</td>\n",
       "      <td>Mr. Smith, Mr. Nixon. In the election of 1860,...</td>\n",
       "      <td>True</td>\n",
       "      <td>Democratic</td>\n",
       "      <td>True</td>\n",
       "      <td>False</td>\n",
       "      <td>False</td>\n",
       "      <td>0.9993</td>\n",
       "      <td>0.020701</td>\n",
       "      <td>-0.978599</td>\n",
       "    </tr>\n",
       "    <tr>\n",
       "      <th>1</th>\n",
       "      <td>1960</td>\n",
       "      <td>1960-09-26</td>\n",
       "      <td>Smith</td>\n",
       "      <td>And now the opening statement by Vice Presiden...</td>\n",
       "      <td>False</td>\n",
       "      <td>NaN</td>\n",
       "      <td>False</td>\n",
       "      <td>False</td>\n",
       "      <td>False</td>\n",
       "      <td>0.0000</td>\n",
       "      <td>0.038227</td>\n",
       "      <td>0.038227</td>\n",
       "    </tr>\n",
       "    <tr>\n",
       "      <th>2</th>\n",
       "      <td>1960</td>\n",
       "      <td>1960-09-26</td>\n",
       "      <td>Nixon</td>\n",
       "      <td>Mr. Smith, Senator Kennedy. The things that Se...</td>\n",
       "      <td>True</td>\n",
       "      <td>Republican</td>\n",
       "      <td>False</td>\n",
       "      <td>False</td>\n",
       "      <td>False</td>\n",
       "      <td>0.9992</td>\n",
       "      <td>-0.001360</td>\n",
       "      <td>-1.000560</td>\n",
       "    </tr>\n",
       "    <tr>\n",
       "      <th>3</th>\n",
       "      <td>1960</td>\n",
       "      <td>1960-09-26</td>\n",
       "      <td>Smith</td>\n",
       "      <td>Thank you, Mr. Nixon. That completes the openi...</td>\n",
       "      <td>False</td>\n",
       "      <td>NaN</td>\n",
       "      <td>False</td>\n",
       "      <td>False</td>\n",
       "      <td>False</td>\n",
       "      <td>0.3612</td>\n",
       "      <td>0.034914</td>\n",
       "      <td>-0.326286</td>\n",
       "    </tr>\n",
       "    <tr>\n",
       "      <th>4</th>\n",
       "      <td>1960</td>\n",
       "      <td>1960-09-26</td>\n",
       "      <td>Fleming</td>\n",
       "      <td>Senator, the Vice President in his campaign ha...</td>\n",
       "      <td>False</td>\n",
       "      <td>NaN</td>\n",
       "      <td>False</td>\n",
       "      <td>False</td>\n",
       "      <td>False</td>\n",
       "      <td>-0.2732</td>\n",
       "      <td>0.088109</td>\n",
       "      <td>0.361309</td>\n",
       "    </tr>\n",
       "  </tbody>\n",
       "</table>\n",
       "</div>"
      ],
      "text/plain": [
       "   year        date    actor  \\\n",
       "0  1960  1960-09-26  Kennedy   \n",
       "1  1960  1960-09-26    Smith   \n",
       "2  1960  1960-09-26    Nixon   \n",
       "3  1960  1960-09-26    Smith   \n",
       "4  1960  1960-09-26  Fleming   \n",
       "\n",
       "                                            dialogue  is_candidate  \\\n",
       "0  Mr. Smith, Mr. Nixon. In the election of 1860,...          True   \n",
       "1  And now the opening statement by Vice Presiden...         False   \n",
       "2  Mr. Smith, Senator Kennedy. The things that Se...          True   \n",
       "3  Thank you, Mr. Nixon. That completes the openi...         False   \n",
       "4  Senator, the Vice President in his campaign ha...         False   \n",
       "\n",
       "        party  is_winner  VP_debate  is_incumbent  vader_sentiment  \\\n",
       "0  Democratic       True      False         False           0.9993   \n",
       "1         NaN      False      False         False           0.0000   \n",
       "2  Republican      False      False         False           0.9992   \n",
       "3         NaN      False      False         False           0.3612   \n",
       "4         NaN      False      False         False          -0.2732   \n",
       "\n",
       "   bert_sentiment  diff_sentiment  \n",
       "0        0.020701       -0.978599  \n",
       "1        0.038227        0.038227  \n",
       "2       -0.001360       -1.000560  \n",
       "3        0.034914       -0.326286  \n",
       "4        0.088109        0.361309  "
      ]
     },
     "execution_count": 19,
     "metadata": {},
     "output_type": "execute_result"
    }
   ],
   "source": [
    "df.head()"
   ]
  }
 ],
 "metadata": {
  "kernelspec": {
   "display_name": "tensorflow",
   "language": "python",
   "name": "python3"
  },
  "language_info": {
   "codemirror_mode": {
    "name": "ipython",
    "version": 3
   },
   "file_extension": ".py",
   "mimetype": "text/x-python",
   "name": "python",
   "nbconvert_exporter": "python",
   "pygments_lexer": "ipython3",
   "version": "3.12.9"
  }
 },
 "nbformat": 4,
 "nbformat_minor": 5
}
