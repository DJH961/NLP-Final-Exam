{
 "cells": [
  {
   "cell_type": "markdown",
   "id": "afc85172",
   "metadata": {},
   "source": [
    "# Preprocessing Debates\n",
    "\n",
    "Here we turn our dataset into a more usable dataset."
   ]
  },
  {
   "cell_type": "markdown",
   "id": "a95b550a",
   "metadata": {},
   "source": [
    "## Old Debates"
   ]
  }
 ],
 "metadata": {
  "language_info": {
   "name": "python"
  }
 },
 "nbformat": 4,
 "nbformat_minor": 5
}
