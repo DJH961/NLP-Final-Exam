{
 "cells": [
  {
   "cell_type": "markdown",
   "id": "59c2e5e4",
   "metadata": {},
   "source": [
    "Test test test"
   ]
  },
  {
   "cell_type": "markdown",
   "id": "e824ea0e",
   "metadata": {},
   "source": [
    "hi sven"
   ]
  }
 ],
 "metadata": {
  "language_info": {
   "name": "python"
  }
 },
 "nbformat": 4,
 "nbformat_minor": 5
}
