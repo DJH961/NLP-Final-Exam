{
 "cells": [
  {
   "cell_type": "markdown",
   "id": "d2f3f5b2-38c4-4806-a6b6-df0f3446618b",
   "metadata": {},
   "source": [
    "# Install & Import Libraries"
   ]
  },
  {
   "cell_type": "markdown",
   "id": "24581ff5-4bd7-469f-aa76-69a7ae2753fe",
   "metadata": {},
   "source": [
    "# BERTopic per Year"
   ]
  },
  {
   "cell_type": "code",
   "execution_count": 5,
   "id": "14267a62-1993-4612-9c75-b21fb269ff75",
   "metadata": {},
   "outputs": [
    {
     "name": "stdout",
     "output_type": "stream",
     "text": [
      "Requirement already satisfied: umap-learn in c:\\users\\danie\\anaconda3\\envs\\tensorflow\\lib\\site-packages (0.5.7)\n",
      "Requirement already satisfied: bertopic[all] in c:\\users\\danie\\anaconda3\\envs\\tensorflow\\lib\\site-packages (0.17.0)\n",
      "Requirement already satisfied: hdbscan>=0.8.29 in c:\\users\\danie\\anaconda3\\envs\\tensorflow\\lib\\site-packages (from bertopic[all]) (0.8.40)\n",
      "Requirement already satisfied: numpy>=1.20.0 in c:\\users\\danie\\anaconda3\\envs\\tensorflow\\lib\\site-packages (from bertopic[all]) (2.1.3)\n",
      "Requirement already satisfied: pandas>=1.1.5 in c:\\users\\danie\\anaconda3\\envs\\tensorflow\\lib\\site-packages (from bertopic[all]) (2.2.3)\n",
      "Requirement already satisfied: plotly>=4.7.0 in c:\\users\\danie\\anaconda3\\envs\\tensorflow\\lib\\site-packages (from bertopic[all]) (6.1.1)\n",
      "Requirement already satisfied: scikit-learn>=1.0 in c:\\users\\danie\\anaconda3\\envs\\tensorflow\\lib\\site-packages (from bertopic[all]) (1.6.1)\n",
      "Requirement already satisfied: sentence-transformers>=0.4.1 in c:\\users\\danie\\anaconda3\\envs\\tensorflow\\lib\\site-packages (from bertopic[all]) (4.1.0)\n",
      "Requirement already satisfied: tqdm>=4.41.1 in c:\\users\\danie\\anaconda3\\envs\\tensorflow\\lib\\site-packages (from bertopic[all]) (4.67.1)\n",
      "Requirement already satisfied: scipy>=1.3.1 in c:\\users\\danie\\anaconda3\\envs\\tensorflow\\lib\\site-packages (from umap-learn) (1.15.2)\n",
      "Requirement already satisfied: numba>=0.51.2 in c:\\users\\danie\\anaconda3\\envs\\tensorflow\\lib\\site-packages (from umap-learn) (0.61.2)\n",
      "Requirement already satisfied: pynndescent>=0.5 in c:\\users\\danie\\anaconda3\\envs\\tensorflow\\lib\\site-packages (from umap-learn) (0.5.13)\n",
      "Requirement already satisfied: joblib>=1.0 in c:\\users\\danie\\anaconda3\\envs\\tensorflow\\lib\\site-packages (from hdbscan>=0.8.29->bertopic[all]) (1.4.2)\n",
      "Requirement already satisfied: llvmlite<0.45,>=0.44.0dev0 in c:\\users\\danie\\anaconda3\\envs\\tensorflow\\lib\\site-packages (from numba>=0.51.2->umap-learn) (0.44.0)\n",
      "Requirement already satisfied: python-dateutil>=2.8.2 in c:\\users\\danie\\appdata\\roaming\\python\\python312\\site-packages (from pandas>=1.1.5->bertopic[all]) (2.9.0.post0)\n",
      "Requirement already satisfied: pytz>=2020.1 in c:\\users\\danie\\anaconda3\\envs\\tensorflow\\lib\\site-packages (from pandas>=1.1.5->bertopic[all]) (2025.2)\n",
      "Requirement already satisfied: tzdata>=2022.7 in c:\\users\\danie\\anaconda3\\envs\\tensorflow\\lib\\site-packages (from pandas>=1.1.5->bertopic[all]) (2025.2)\n",
      "Requirement already satisfied: narwhals>=1.15.1 in c:\\users\\danie\\anaconda3\\envs\\tensorflow\\lib\\site-packages (from plotly>=4.7.0->bertopic[all]) (1.40.0)\n",
      "Requirement already satisfied: packaging in c:\\users\\danie\\appdata\\roaming\\python\\python312\\site-packages (from plotly>=4.7.0->bertopic[all]) (24.1)\n",
      "Requirement already satisfied: threadpoolctl>=3.1.0 in c:\\users\\danie\\anaconda3\\envs\\tensorflow\\lib\\site-packages (from scikit-learn>=1.0->bertopic[all]) (3.6.0)\n",
      "Requirement already satisfied: transformers<5.0.0,>=4.41.0 in c:\\users\\danie\\anaconda3\\envs\\tensorflow\\lib\\site-packages (from sentence-transformers>=0.4.1->bertopic[all]) (4.51.3)\n",
      "Requirement already satisfied: torch>=1.11.0 in c:\\users\\danie\\anaconda3\\envs\\tensorflow\\lib\\site-packages (from sentence-transformers>=0.4.1->bertopic[all]) (2.7.0)\n",
      "Requirement already satisfied: huggingface-hub>=0.20.0 in c:\\users\\danie\\anaconda3\\envs\\tensorflow\\lib\\site-packages (from sentence-transformers>=0.4.1->bertopic[all]) (0.31.2)\n",
      "Requirement already satisfied: Pillow in c:\\users\\danie\\anaconda3\\envs\\tensorflow\\lib\\site-packages (from sentence-transformers>=0.4.1->bertopic[all]) (11.2.1)\n",
      "Requirement already satisfied: typing_extensions>=4.5.0 in c:\\users\\danie\\anaconda3\\envs\\tensorflow\\lib\\site-packages (from sentence-transformers>=0.4.1->bertopic[all]) (4.13.0)\n",
      "Requirement already satisfied: colorama in c:\\users\\danie\\appdata\\roaming\\python\\python312\\site-packages (from tqdm>=4.41.1->bertopic[all]) (0.4.6)\n",
      "Requirement already satisfied: filelock in c:\\users\\danie\\anaconda3\\envs\\tensorflow\\lib\\site-packages (from huggingface-hub>=0.20.0->sentence-transformers>=0.4.1->bertopic[all]) (3.18.0)\n",
      "Requirement already satisfied: fsspec>=2023.5.0 in c:\\users\\danie\\anaconda3\\envs\\tensorflow\\lib\\site-packages (from huggingface-hub>=0.20.0->sentence-transformers>=0.4.1->bertopic[all]) (2025.3.2)\n",
      "Requirement already satisfied: pyyaml>=5.1 in c:\\users\\danie\\anaconda3\\envs\\tensorflow\\lib\\site-packages (from huggingface-hub>=0.20.0->sentence-transformers>=0.4.1->bertopic[all]) (6.0.2)\n",
      "Requirement already satisfied: requests in c:\\users\\danie\\anaconda3\\envs\\tensorflow\\lib\\site-packages (from huggingface-hub>=0.20.0->sentence-transformers>=0.4.1->bertopic[all]) (2.32.3)\n",
      "Requirement already satisfied: six>=1.5 in c:\\users\\danie\\appdata\\roaming\\python\\python312\\site-packages (from python-dateutil>=2.8.2->pandas>=1.1.5->bertopic[all]) (1.16.0)\n",
      "Requirement already satisfied: sympy>=1.13.3 in c:\\users\\danie\\anaconda3\\envs\\tensorflow\\lib\\site-packages (from torch>=1.11.0->sentence-transformers>=0.4.1->bertopic[all]) (1.14.0)\n",
      "Requirement already satisfied: networkx in c:\\users\\danie\\anaconda3\\envs\\tensorflow\\lib\\site-packages (from torch>=1.11.0->sentence-transformers>=0.4.1->bertopic[all]) (3.4.2)\n",
      "Requirement already satisfied: jinja2 in c:\\users\\danie\\anaconda3\\envs\\tensorflow\\lib\\site-packages (from torch>=1.11.0->sentence-transformers>=0.4.1->bertopic[all]) (3.1.6)\n",
      "Requirement already satisfied: setuptools in c:\\users\\danie\\anaconda3\\envs\\tensorflow\\lib\\site-packages (from torch>=1.11.0->sentence-transformers>=0.4.1->bertopic[all]) (75.8.0)\n",
      "Requirement already satisfied: regex!=2019.12.17 in c:\\users\\danie\\anaconda3\\envs\\tensorflow\\lib\\site-packages (from transformers<5.0.0,>=4.41.0->sentence-transformers>=0.4.1->bertopic[all]) (2024.11.6)\n",
      "Requirement already satisfied: tokenizers<0.22,>=0.21 in c:\\users\\danie\\anaconda3\\envs\\tensorflow\\lib\\site-packages (from transformers<5.0.0,>=4.41.0->sentence-transformers>=0.4.1->bertopic[all]) (0.21.1)\n",
      "Requirement already satisfied: safetensors>=0.4.3 in c:\\users\\danie\\anaconda3\\envs\\tensorflow\\lib\\site-packages (from transformers<5.0.0,>=4.41.0->sentence-transformers>=0.4.1->bertopic[all]) (0.5.3)\n",
      "Requirement already satisfied: mpmath<1.4,>=1.1.0 in c:\\users\\danie\\anaconda3\\envs\\tensorflow\\lib\\site-packages (from sympy>=1.13.3->torch>=1.11.0->sentence-transformers>=0.4.1->bertopic[all]) (1.3.0)\n",
      "Requirement already satisfied: MarkupSafe>=2.0 in c:\\users\\danie\\anaconda3\\envs\\tensorflow\\lib\\site-packages (from jinja2->torch>=1.11.0->sentence-transformers>=0.4.1->bertopic[all]) (3.0.2)\n",
      "Requirement already satisfied: charset-normalizer<4,>=2 in c:\\users\\danie\\anaconda3\\envs\\tensorflow\\lib\\site-packages (from requests->huggingface-hub>=0.20.0->sentence-transformers>=0.4.1->bertopic[all]) (3.4.1)\n",
      "Requirement already satisfied: idna<4,>=2.5 in c:\\users\\danie\\anaconda3\\envs\\tensorflow\\lib\\site-packages (from requests->huggingface-hub>=0.20.0->sentence-transformers>=0.4.1->bertopic[all]) (3.10)\n",
      "Requirement already satisfied: urllib3<3,>=1.21.1 in c:\\users\\danie\\anaconda3\\envs\\tensorflow\\lib\\site-packages (from requests->huggingface-hub>=0.20.0->sentence-transformers>=0.4.1->bertopic[all]) (2.3.0)\n",
      "Requirement already satisfied: certifi>=2017.4.17 in c:\\users\\danie\\anaconda3\\envs\\tensorflow\\lib\\site-packages (from requests->huggingface-hub>=0.20.0->sentence-transformers>=0.4.1->bertopic[all]) (2025.1.31)\n"
     ]
    },
    {
     "name": "stderr",
     "output_type": "stream",
     "text": [
      "WARNING: bertopic 0.17.0 does not provide the extra 'all'\n"
     ]
    }
   ],
   "source": [
    "!pip install bertopic[all] umap-learn"
   ]
  },
  {
   "cell_type": "code",
   "execution_count": 6,
   "id": "8eebe8f4-975d-475c-b27e-f236fca42a47",
   "metadata": {},
   "outputs": [],
   "source": [
    "from bertopic import BERTopic\n",
    "from umap import UMAP\n",
    "from bertopic.representation import KeyBERTInspired\n",
    "from bertopic.vectorizers import ClassTfidfTransformer\n",
    "import pandas as pd"
   ]
  },
  {
   "cell_type": "code",
   "execution_count": null,
   "id": "3af2f63c",
   "metadata": {},
   "outputs": [],
   "source": [
    "df_debates = pd.read_csv('debate_transcripts_cleaned.csv', encoding='utf-8')\n",
    "df_debates = df_debates[df_debates[\"is_candidate\"] == True].copy()"
   ]
  },
  {
   "cell_type": "code",
   "execution_count": null,
   "id": "97d4c122-7fd6-4152-8328-fa56c4e187fb",
   "metadata": {},
   "outputs": [
    {
     "name": "stderr",
     "output_type": "stream",
     "text": [
      "2025-05-21 20:33:23,981 - BERTopic - Embedding - Transforming documents to embeddings.\n"
     ]
    },
    {
     "data": {
      "application/vnd.jupyter.widget-view+json": {
       "model_id": "f0c04959bcb748d0bd41f2b6202325d2",
       "version_major": 2,
       "version_minor": 0
      },
      "text/plain": [
       "Batches:   0%|          | 0/262 [00:00<?, ?it/s]"
      ]
     },
     "metadata": {},
     "output_type": "display_data"
    }
   ],
   "source": [
    "def run_bertopic_over_metadata(df, groupby_col=\"year\", model=None, embedding_model=\"all-MiniLM-L6-v2\", verbose=True):\n",
    "    \"\"\"\n",
    "    Fits BERTopic to the 'dialogue' column of df and returns topic model and topics over time/group.\n",
    "\n",
    "    Parameters:\n",
    "        df (pd.DataFrame): DataFrame with at least 'dialogue' and one metadata column\n",
    "        groupby_col (str): Column in df to group topic evolution by. Options: \"year\", \"date\", \"debate_title\", \"actor\", \"party\"\n",
    "        model (BERTopic or None): Pass an existing BERTopic model to reuse, or None to create new\n",
    "        embedding_model (str or SentenceTransformer): Sentence embedding model name or object\n",
    "        verbose (bool): Whether to print status messages\n",
    "\n",
    "    Returns:\n",
    "        topic_model (BERTopic)\n",
    "        topics_over_group (pd.DataFrame)\n",
    "        topics (List[int])\n",
    "        probs (List[float])\n",
    "    \"\"\"\n",
    "\n",
    "    assert \"dialogue\" in df.columns, \"DataFrame must have a 'dialogue' column.\"\n",
    "    assert groupby_col in df.columns, f\"{groupby_col} not found in DataFrame columns.\"\n",
    "\n",
    "    docs = df[\"dialogue\"].tolist()\n",
    "    timestamps = df[groupby_col].astype(str).tolist()  # convert to string for topics_over_time\n",
    "\n",
    "    if model is None:\n",
    "        if verbose:\n",
    "            print(f\"Creating new BERTopic model using embedding model: {embedding_model}\")\n",
    "        model = BERTopic(\n",
    "            language=\"english\",\n",
    "            embedding_model=embedding_model,\n",
    "            verbose=verbose\n",
    "        )\n",
    "\n",
    "    if verbose:\n",
    "        print(\"Fitting BERTopic...\")\n",
    "    topics, probs = model.fit_transform(docs)\n",
    "\n",
    "    if verbose:\n",
    "        print(f\"Computing topic evolution over '{groupby_col}'...\")\n",
    "    topics_over_group = model.topics_over_time(docs, timestamps)\n",
    "\n",
    "    return model, topics_over_group, topics, probs\n"
   ]
  },
  {
   "cell_type": "code",
   "execution_count": null,
   "id": "424ead6a-3221-4323-b79c-43d91d59426d",
   "metadata": {},
   "outputs": [],
   "source": [
    "model, topics_yearly, topics, probs = run_bertopic_over_metadata(df_debates, groupby_col=\"year\")\n",
    "model.visualize_topics_over_time(topics_yearly)"
   ]
  }
 ],
 "metadata": {
  "kernelspec": {
   "display_name": "tensorflow",
   "language": "python",
   "name": "python3"
  },
  "language_info": {
   "codemirror_mode": {
    "name": "ipython",
    "version": 3
   },
   "file_extension": ".py",
   "mimetype": "text/x-python",
   "name": "python",
   "nbconvert_exporter": "python",
   "pygments_lexer": "ipython3",
   "version": "3.12.9"
  }
 },
 "nbformat": 4,
 "nbformat_minor": 5
}
