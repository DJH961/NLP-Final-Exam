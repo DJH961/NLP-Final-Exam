{
 "cells": [
  {
   "cell_type": "markdown",
   "id": "d2f3f5b2-38c4-4806-a6b6-df0f3446618b",
   "metadata": {},
   "source": [
    "# Install & Import Libraries"
   ]
  },
  {
   "cell_type": "markdown",
   "id": "24581ff5-4bd7-469f-aa76-69a7ae2753fe",
   "metadata": {},
   "source": [
    "# BERTopic per Year"
   ]
  },
  {
   "cell_type": "code",
   "execution_count": 1,
   "id": "14267a62-1993-4612-9c75-b21fb269ff75",
   "metadata": {},
   "outputs": [],
   "source": [
    "#!pip install bertopic[all] umap-learn"
   ]
  },
  {
   "cell_type": "code",
   "execution_count": 2,
   "id": "8eebe8f4-975d-475c-b27e-f236fca42a47",
   "metadata": {},
   "outputs": [],
   "source": [
    "from bertopic import BERTopic\n",
    "from umap import UMAP\n",
    "from bertopic.representation import KeyBERTInspired\n",
    "from bertopic.vectorizers import ClassTfidfTransformer\n",
    "import pandas as pd\n",
    "from sentence_transformers import SentenceTransformer"
   ]
  },
  {
   "cell_type": "code",
   "execution_count": 3,
   "id": "3af2f63c",
   "metadata": {},
   "outputs": [],
   "source": [
    "df_debates = pd.read_csv('debate_transcripts_cleaned.csv', encoding='utf-8')\n",
    "df_debates = df_debates[df_debates[\"is_candidate\"] == True].copy()"
   ]
  },
  {
   "cell_type": "code",
   "execution_count": null,
   "id": "97d4c122-7fd6-4152-8328-fa56c4e187fb",
   "metadata": {},
   "outputs": [
    {
     "data": {
      "application/vnd.jupyter.widget-view+json": {
       "model_id": "162f9b11b03940518a14c4ab110a4725",
       "version_major": 2,
       "version_minor": 0
      },
      "text/plain": [
       "Batches:   0%|          | 0/143 [00:00<?, ?it/s]"
      ]
     },
     "metadata": {},
     "output_type": "display_data"
    }
   ],
   "source": [
    "embedderMiniLM = SentenceTransformer(\"all-MiniLM-L6-v2\")\n",
    "df_short = df_debates[df_debates[\"dialogue\"].str.split().str.len() > 5]  # remove anything shorter than 6 words\n",
    "docs = df_short[\"dialogue\"].tolist()\n",
    "embeddingsMiniLM=embedderMiniLM.encode(docs, show_progress_bar=True)\n",
    "\n",
    "def run_bertopic_over_metadata(df, groupby_col=\"year\", model=None, embedding_model=\"all-MiniLM-L6-v2\",embedder=embedderMiniLM, embeddings=embeddingsMiniLM, verbose=True):\n",
    "    \"\"\"\n",
    "    Fits BERTopic to the 'dialogue' column of df and returns topic model and topics over time/group.\n",
    "\n",
    "    Parameters:\n",
    "        df (pd.DataFrame): DataFrame with at least 'dialogue' and one metadata column\n",
    "        groupby_col (str): Column in df to group topic evolution by. Options: \"year\", \"date\", \"debate_title\", \"actor\", \"party\"\n",
    "        model (BERTopic or None): Pass an existing BERTopic model to reuse, or None to create new\n",
    "        embedding_model (str or SentenceTransformer): Sentence embedding model name or object\n",
    "        verbose (bool): Whether to print status messages\n",
    "\n",
    "    Returns:\n",
    "        topic_model (BERTopic)\n",
    "        topics_over_group (pd.DataFrame)\n",
    "        topics (List[int])\n",
    "        probs (List[float])\n",
    "    \"\"\"\n",
    "\n",
    "    assert \"dialogue\" in df.columns, \"DataFrame must have a 'dialogue' column.\"\n",
    "    assert groupby_col in df.columns, f\"{groupby_col} not found in DataFrame columns.\"\n",
    "\n",
    "    df = df[df[\"dialogue\"].str.split().str.len() > 5]  # remove anything shorter than 6 words\n",
    "    docs = df[\"dialogue\"].tolist()\n",
    "    timestamps = df[groupby_col].astype(str).tolist()  # convert to string for topics_over_time\n",
    "\n",
    "    if embedder is None:\n",
    "        if verbose:\n",
    "            print(f\"Creating embedding model: {embedding_model}\")\n",
    "        embedder=SentenceTransformer(embedding_model)\n",
    "\n",
    "    if embeddings is None:\n",
    "        if verbose:\n",
    "            print(f\"Embedding encoding\")\n",
    "        embeddings=embedder.encode(docs, show_progress_bar=True)\n",
    "\n",
    "    if model is None:\n",
    "        if verbose:\n",
    "            print(f\"Creating new BERTopic model using embedding model: {embedding_model}\")\n",
    "        model = BERTopic(\n",
    "            language=\"english\",\n",
    "            embedding_model=embedder,\n",
    "            verbose=verbose\n",
    "        )\n",
    "\n",
    "    if verbose:\n",
    "        print(\"Fitting BERTopic...\")\n",
    "    topics, probs = model.fit_transform(docs, embeddings)\n",
    "    # Automatically reduce topics based on similarity\n",
    "    model.reduce_topics(df[\"dialogue\"].tolist(), nr_topics=\"auto\")  # or set a target number like 30\n",
    "    model.set_topic_labels(model.generate_topic_labels())\n",
    "\n",
    "\n",
    "    if groupby_col in [\"year\", \"date\"]:\n",
    "        if verbose:\n",
    "            print(f\"Computing topic evolution over '{groupby_col}'...\")\n",
    "        topics_over_group = model.topics_over_time(docs, timestamps)\n",
    "    else:\n",
    "        if verbose:\n",
    "            print(f\"Computing topic frequency over '{groupby_col}'...\")\n",
    "        import pandas as pd\n",
    "        # Build DataFrame with topic and groupby_col\n",
    "        df_topics = pd.DataFrame({\"topic\": topics, groupby_col: group_data})\n",
    "        # Count frequency of each topic per group\n",
    "        topics_over_group = df_topics.groupby([groupby_col, \"topic\"]).size().reset_index(name=\"count\")\n",
    "\n",
    "    return model, topics_over_group, topics, probs\n"
   ]
  },
  {
   "cell_type": "code",
   "execution_count": 5,
   "id": "424ead6a-3221-4323-b79c-43d91d59426d",
   "metadata": {},
   "outputs": [
    {
     "name": "stderr",
     "output_type": "stream",
     "text": [
      "2025-05-23 18:02:47,564 - BERTopic - Dimensionality - Fitting the dimensionality reduction algorithm\n"
     ]
    },
    {
     "name": "stdout",
     "output_type": "stream",
     "text": [
      "Creating new BERTopic model using embedding model: all-MiniLM-L6-v2\n",
      "Fitting BERTopic...\n"
     ]
    },
    {
     "name": "stderr",
     "output_type": "stream",
     "text": [
      "2025-05-23 18:03:09,230 - BERTopic - Dimensionality - Completed ✓\n",
      "2025-05-23 18:03:09,233 - BERTopic - Cluster - Start clustering the reduced embeddings\n",
      "2025-05-23 18:03:09,388 - BERTopic - Cluster - Completed ✓\n",
      "2025-05-23 18:03:09,394 - BERTopic - Representation - Fine-tuning topics using representation models.\n",
      "2025-05-23 18:03:09,843 - BERTopic - Representation - Completed ✓\n",
      "2025-05-23 18:03:10,286 - BERTopic - Topic reduction - Reducing number of topics\n",
      "2025-05-23 18:03:10,305 - BERTopic - Representation - Fine-tuning topics using representation models.\n",
      "2025-05-23 18:03:10,752 - BERTopic - Representation - Completed ✓\n",
      "2025-05-23 18:03:10,754 - BERTopic - Topic reduction - Reduced number of topics from 81 to 17\n"
     ]
    },
    {
     "name": "stdout",
     "output_type": "stream",
     "text": [
      "Computing topic evolution over 'year'...\n"
     ]
    },
    {
     "name": "stderr",
     "output_type": "stream",
     "text": [
      "14it [00:00, 16.87it/s]\n"
     ]
    },
    {
     "data": {
      "application/vnd.plotly.v1+json": {
       "config": {
        "plotlyServerURL": "https://plot.ly"
       },
       "data": [
        {
         "hoverinfo": "text",
         "hovertext": [
          "<b>Topic 0</b><br>Words: the, that, of, in, to",
          "<b>Topic 0</b><br>Words: uh, the, of, to, and",
          "<b>Topic 0</b><br>Words: the, of, that, to, in",
          "<b>Topic 0</b><br>Words: the, that, and, to, of",
          "<b>Topic 0</b><br>Words: the, and, to, that, of",
          "<b>Topic 0</b><br>Words: the, to, and, that, of",
          "<b>Topic 0</b><br>Words: the, to, and, of, in",
          "<b>Topic 0</b><br>Words: the, to, and, of, that",
          "<b>Topic 0</b><br>Words: the, to, and, of, in",
          "<b>Topic 0</b><br>Words: to, the, and, that, of",
          "<b>Topic 0</b><br>Words: the, to, and, that, we",
          "<b>Topic 0</b><br>Words: the, and, to, of, that",
          "<b>Topic 0</b><br>Words: the, and, to, of, you",
          "<b>Topic 0</b><br>Words: the, and, to, that, we"
         ],
         "marker": {
          "color": "#E69F00"
         },
         "mode": "lines",
         "name": "0_the_to_and_that",
         "type": "scatter",
         "x": [
          "1960-01-01T00:00:00.000000000",
          "1976-01-01T00:00:00.000000000",
          "1980-01-01T00:00:00.000000000",
          "1984-01-01T00:00:00.000000000",
          "1988-01-01T00:00:00.000000000",
          "1992-01-01T00:00:00.000000000",
          "1996-01-01T00:00:00.000000000",
          "2000-01-01T00:00:00.000000000",
          "2004-01-01T00:00:00.000000000",
          "2008-01-01T00:00:00.000000000",
          "2012-01-01T00:00:00.000000000",
          "2016-01-01T00:00:00.000000000",
          "2020-01-01T00:00:00.000000000",
          "2024-01-01T00:00:00.000000000"
         ],
         "y": {
          "bdata": "PQBEADcAZQCCAL8AlgDIAJoADQEjAX4BFwGSAA==",
          "dtype": "i2"
         }
        },
        {
         "hoverinfo": "text",
         "hovertext": [
          "<b>Topic 1</b><br>Words: remember, you, last, time, said",
          "<b>Topic 1</b><br>Words: answer, question, true, thats, premise",
          "<b>Topic 1</b><br>Words: respond, answer, me, want, you",
          "<b>Topic 1</b><br>Words: agree, let, me, here, your",
          "<b>Topic 1</b><br>Words: respond, speaks, repeat, true, honor",
          "<b>Topic 1</b><br>Words: answer, let, ive, me, just",
          "<b>Topic 1</b><br>Words: just, let, me, well, respond",
          "<b>Topic 1</b><br>Words: me, respond, you, let, well",
          "<b>Topic 1</b><br>Words: respond, me, just, not, let",
          "<b>Topic 1</b><br>Words: respond, statement, thats, not, true",
          "<b>Topic 1</b><br>Words: respond, acknowledge, allowed, don, am"
         ],
         "marker": {
          "color": "#56B4E9"
         },
         "mode": "lines",
         "name": "1_respond_me_let_you",
         "type": "scatter",
         "x": [
          "1984-01-01T00:00:00.000000000",
          "1988-01-01T00:00:00.000000000",
          "1992-01-01T00:00:00.000000000",
          "1996-01-01T00:00:00.000000000",
          "2000-01-01T00:00:00.000000000",
          "2004-01-01T00:00:00.000000000",
          "2008-01-01T00:00:00.000000000",
          "2012-01-01T00:00:00.000000000",
          "2016-01-01T00:00:00.000000000",
          "2020-01-01T00:00:00.000000000",
          "2024-01-01T00:00:00.000000000"
         ],
         "y": {
          "bdata": "AQUZAgQBEBYlLgM=",
          "dtype": "i1"
         }
        },
        {
         "hoverinfo": "text",
         "hovertext": [
          "<b>Topic 2</b><br>Words: lost, whove, their, homes, jobs",
          "<b>Topic 2</b><br>Words: planetarium, projector, overhead, hometown, cut",
          "<b>Topic 2</b><br>Words: million, ransom, dollars, fisher, payment",
          "<b>Topic 2</b><br>Words: dollars, million, half, three, son",
          "<b>Topic 2</b><br>Words: moscow, sitting, wouldn, lost, paid"
         ],
         "marker": {
          "color": "#009E73"
         },
         "mode": "lines",
         "name": "2_dollars_million_half_he",
         "type": "scatter",
         "x": [
          "1992-01-01T00:00:00.000000000",
          "2008-01-01T00:00:00.000000000",
          "2016-01-01T00:00:00.000000000",
          "2020-01-01T00:00:00.000000000",
          "2024-01-01T00:00:00.000000000"
         ],
         "y": {
          "bdata": "AQEJHgI=",
          "dtype": "i1"
         }
        },
        {
         "hoverinfo": "text",
         "hovertext": [
          "<b>Topic 3</b><br>Words: hope, seconds, yellow, christmas, minutes",
          "<b>Topic 3</b><br>Words: 24, hour, waiting, time, period",
          "<b>Topic 3</b><br>Words: limit, keeping, yeah, there, one",
          "<b>Topic 3</b><br>Words: list, run, through, again, can",
          "<b>Topic 3</b><br>Words: question, second, 30, new, first",
          "<b>Topic 3</b><br>Words: time, longer, second, ill, line",
          "<b>Topic 3</b><br>Words: iif, fortunate, martha, hope, plans",
          "<b>Topic 3</b><br>Words: seconds, like, equal, add, would"
         ],
         "marker": {
          "color": "#F0E442"
         },
         "mode": "lines",
         "name": "3_time_24_seconds_hour",
         "type": "scatter",
         "x": [
          "1988-01-01T00:00:00.000000000",
          "1992-01-01T00:00:00.000000000",
          "1996-01-01T00:00:00.000000000",
          "2000-01-01T00:00:00.000000000",
          "2004-01-01T00:00:00.000000000",
          "2012-01-01T00:00:00.000000000",
          "2016-01-01T00:00:00.000000000",
          "2020-01-01T00:00:00.000000000"
         ],
         "y": {
          "bdata": "BBACAQIGAgM=",
          "dtype": "i1"
         }
        },
        {
         "hoverinfo": "text",
         "hovertext": [
          "<b>Topic 4</b><br>Words: grandchildren, starting, love, position, it",
          "<b>Topic 4</b><br>Words: ran, tried, last, you, time",
          "<b>Topic 4</b><br>Words: yeah, havent, seven, done, why",
          "<b>Topic 4</b><br>Words: cowboys, cardinals, sunday, dallas, watched",
          "<b>Topic 4</b><br>Words: done, it, 2103, been, actuaries",
          "<b>Topic 4</b><br>Words: it, hasnt, done, havent, you",
          "<b>Topic 4</b><br>Words: it, 25, didnt, why, last"
         ],
         "marker": {
          "color": "#D55E00"
         },
         "mode": "lines",
         "name": "4_it_done_years_hasnt",
         "type": "scatter",
         "x": [
          "1992-01-01T00:00:00.000000000",
          "1996-01-01T00:00:00.000000000",
          "2000-01-01T00:00:00.000000000",
          "2008-01-01T00:00:00.000000000",
          "2012-01-01T00:00:00.000000000",
          "2016-01-01T00:00:00.000000000",
          "2020-01-01T00:00:00.000000000"
         ],
         "y": {
          "bdata": "AwEBAQYIBQ==",
          "dtype": "i1"
         }
        },
        {
         "hoverinfo": "text",
         "hovertext": [
          "<b>Topic 5</b><br>Words: voted, record, your, for, you",
          "<b>Topic 5</b><br>Words: booth, factor, voting, they, ought",
          "<b>Topic 5</b><br>Words: against, voted, ballots, he, ballot",
          "<b>Topic 5</b><br>Words: scare, politicians, voting, dont, ahead",
          "<b>Topic 5</b><br>Words: voting, defend, wont, record, own",
          "<b>Topic 5</b><br>Words: ballots, ballot, you, its, it",
          "<b>Topic 5</b><br>Words: numbers, election, see, let, over"
         ],
         "marker": {
          "color": "#0072B2"
         },
         "mode": "lines",
         "name": "5_ballots_ballot_you_its",
         "type": "scatter",
         "x": [
          "1992-01-01T00:00:00.000000000",
          "2000-01-01T00:00:00.000000000",
          "2004-01-01T00:00:00.000000000",
          "2012-01-01T00:00:00.000000000",
          "2016-01-01T00:00:00.000000000",
          "2020-01-01T00:00:00.000000000",
          "2024-01-01T00:00:00.000000000"
         ],
         "y": {
          "bdata": "AQEBAQESAQ==",
          "dtype": "i1"
         }
        },
        {
         "hoverinfo": "text",
         "hovertext": [
          "<b>Topic 6</b><br>Words: that, of, to, church, in",
          "<b>Topic 6</b><br>Words: faith, church, religion, the, of",
          "<b>Topic 6</b><br>Words: to, the, religious, religion, and",
          "<b>Topic 6</b><br>Words: faith, and, to, that, the",
          "<b>Topic 6</b><br>Words: faith, informs, life, how, their",
          "<b>Topic 6</b><br>Words: faith, my, religion, was, and"
         ],
         "marker": {
          "color": "#CC79A7"
         },
         "mode": "lines",
         "name": "6_faith_church_religion_to",
         "type": "scatter",
         "x": [
          "1980-01-01T00:00:00.000000000",
          "1984-01-01T00:00:00.000000000",
          "1996-01-01T00:00:00.000000000",
          "2004-01-01T00:00:00.000000000",
          "2012-01-01T00:00:00.000000000",
          "2016-01-01T00:00:00.000000000"
         ],
         "y": {
          "bdata": "AggDAgEC",
          "dtype": "i1"
         }
        },
        {
         "hoverinfo": "text",
         "hovertext": [
          "<b>Topic 7</b><br>Words: door, he, session, minute, out",
          "<b>Topic 7</b><br>Words: question, he, differently, answers, answered",
          "<b>Topic 7</b><br>Words: he, doesnt, how, knows, answer"
         ],
         "marker": {
          "color": "#E69F00"
         },
         "mode": "lines",
         "name": "7_he_doesnt_how_knows",
         "type": "scatter",
         "x": [
          "1992-01-01T00:00:00.000000000",
          "2012-01-01T00:00:00.000000000",
          "2020-01-01T00:00:00.000000000"
         ],
         "y": {
          "bdata": "AgIO",
          "dtype": "i1"
         }
        },
        {
         "hoverinfo": "text",
         "hovertext": [
          "<b>Topic 8</b><br>Words: circumstances, illegal, under, any, those",
          "<b>Topic 8</b><br>Words: rules, oh, mean, course, care",
          "<b>Topic 8</b><br>Words: ad, law, sat, laws, you",
          "<b>Topic 8</b><br>Words: law, order, favor, crosstalk, you",
          "<b>Topic 8</b><br>Words: law, not, checked, 1990, laws"
         ],
         "marker": {
          "color": "#56B4E9"
         },
         "mode": "lines",
         "name": "8_law_ad_order_you",
         "type": "scatter",
         "x": [
          "1992-01-01T00:00:00.000000000",
          "2000-01-01T00:00:00.000000000",
          "2016-01-01T00:00:00.000000000",
          "2020-01-01T00:00:00.000000000",
          "2024-01-01T00:00:00.000000000"
         ],
         "y": {
          "bdata": "AQEFCAM=",
          "dtype": "i1"
         }
        },
        {
         "hoverinfo": "text",
         "hovertext": [
          "<b>Topic 9</b><br>Words: crosstalk, well, there, nobut, jeffersonian",
          "<b>Topic 9</b><br>Words: crosstalk, matter, fact, discredited, burn",
          "<b>Topic 9</b><br>Words: swing, crosstalk, your, ve, seen"
         ],
         "marker": {
          "color": "#009E73"
         },
         "mode": "lines",
         "name": "9_crosstalk_swing_well_fact",
         "type": "scatter",
         "x": [
          "2016-01-01T00:00:00.000000000",
          "2020-01-01T00:00:00.000000000",
          "2024-01-01T00:00:00.000000000"
         ],
         "y": {
          "bdata": "CwYB",
          "dtype": "i1"
         }
        },
        {
         "hoverinfo": "text",
         "hovertext": [
          "<b>Topic 10</b><br>Words: joe, you, laughter, nothing, applause",
          "<b>Topic 10</b><br>Words: joe, fine, you, hey, zero",
          "<b>Topic 10</b><br>Words: joe, you, gotta, 47, your"
         ],
         "marker": {
          "color": "#F0E442"
         },
         "mode": "lines",
         "name": "10_joe_you_gotta_47",
         "type": "scatter",
         "x": [
          "2000-01-01T00:00:00.000000000",
          "2008-01-01T00:00:00.000000000",
          "2020-01-01T00:00:00.000000000"
         ],
         "y": {
          "bdata": "AgIK",
          "dtype": "i1"
         }
        },
        {
         "hoverinfo": "text",
         "hovertext": [
          "<b>Topic 11</b><br>Words: judy, light, still, my, elaine",
          "<b>Topic 11</b><br>Words: thank, charlie, you, elaine, all",
          "<b>Topic 11</b><br>Words: bob, direct, well, asked, elaine",
          "<b>Topic 11</b><br>Words: bob, youll, education, let, me",
          "<b>Topic 11</b><br>Words: elaine, thank, let, thanks, me"
         ],
         "marker": {
          "color": "#D55E00"
         },
         "mode": "lines",
         "name": "11_elaine_thank_bob_me",
         "type": "scatter",
         "x": [
          "1988-01-01T00:00:00.000000000",
          "2004-01-01T00:00:00.000000000",
          "2008-01-01T00:00:00.000000000",
          "2012-01-01T00:00:00.000000000",
          "2016-01-01T00:00:00.000000000"
         ],
         "y": {
          "bdata": "AQECAQg=",
          "dtype": "i1"
         }
        },
        {
         "hoverinfo": "text",
         "hovertext": [
          "<b>Topic 12</b><br>Words: marriage, of, gay, and, the",
          "<b>Topic 12</b><br>Words: marriage, gay, and, that, to",
          "<b>Topic 12</b><br>Words: marriage, between, and, but, anything"
         ],
         "marker": {
          "color": "#0072B2"
         },
         "mode": "lines",
         "name": "12_marriage_gay_and_that",
         "type": "scatter",
         "x": [
          "2000-01-01T00:00:00.000000000",
          "2004-01-01T00:00:00.000000000",
          "2008-01-01T00:00:00.000000000"
         ],
         "y": {
          "bdata": "BgUC",
          "dtype": "i1"
         }
        },
        {
         "hoverinfo": "text",
         "hovertext": [
          "<b>Topic 13</b><br>Words: biggest, yes, problem, where, thats",
          "<b>Topic 13</b><br>Words: absolutely, input, long, them, yes",
          "<b>Topic 13</b><br>Words: absolutely, targets, drawn, setting, call",
          "<b>Topic 13</b><br>Words: places, precision, mathematically, no, sure",
          "<b>Topic 13</b><br>Words: dont, let, them, we, yes",
          "<b>Topic 13</b><br>Words: no, big, question, thats, but"
         ],
         "marker": {
          "color": "#CC79A7"
         },
         "mode": "lines",
         "name": "13_absolutely_yes_no_them",
         "type": "scatter",
         "x": [
          "1992-01-01T00:00:00.000000000",
          "2000-01-01T00:00:00.000000000",
          "2008-01-01T00:00:00.000000000",
          "2012-01-01T00:00:00.000000000",
          "2016-01-01T00:00:00.000000000",
          "2020-01-01T00:00:00.000000000"
         ],
         "y": {
          "bdata": "AQMCBAIB",
          "dtype": "i1"
         }
        },
        {
         "hoverinfo": "text",
         "hovertext": [
          "<b>Topic 14</b><br>Words: jim, seconds, ten, another, wants",
          "<b>Topic 14</b><br>Words: jim, could, round, disagreement, hey",
          "<b>Topic 14</b><br>Words: jim, big, this, point, having",
          "<b>Topic 14</b><br>Words: jim, segment, began, point, word"
         ],
         "marker": {
          "color": "#E69F00"
         },
         "mode": "lines",
         "name": "14_jim_this_big_point",
         "type": "scatter",
         "x": [
          "1988-01-01T00:00:00.000000000",
          "2000-01-01T00:00:00.000000000",
          "2008-01-01T00:00:00.000000000",
          "2012-01-01T00:00:00.000000000"
         ],
         "y": {
          "bdata": "AQMGAg==",
          "dtype": "i1"
         }
        },
        {
         "hoverinfo": "text",
         "hovertext": [
          "<b>Topic 15</b><br>Words: masks, mask, wear, anthony, said",
          "<b>Topic 15</b><br>Words: masks, toddlers, wear, crowded, theater"
         ],
         "marker": {
          "color": "#56B4E9"
         },
         "mode": "lines",
         "name": "15_masks_mask_wear_anthony",
         "type": "scatter",
         "x": [
          "2020-01-01T00:00:00.000000000",
          "2024-01-01T00:00:00.000000000"
         ],
         "y": {
          "bdata": "CgE=",
          "dtype": "i1"
         }
        }
       ],
       "layout": {
        "height": 450,
        "hoverlabel": {
         "bgcolor": "white",
         "font": {
          "family": "Rockwell",
          "size": 16
         }
        },
        "legend": {
         "title": {
          "text": "<b>Global Topic Representation"
         }
        },
        "template": {
         "data": {
          "bar": [
           {
            "error_x": {
             "color": "rgb(36,36,36)"
            },
            "error_y": {
             "color": "rgb(36,36,36)"
            },
            "marker": {
             "line": {
              "color": "white",
              "width": 0.5
             },
             "pattern": {
              "fillmode": "overlay",
              "size": 10,
              "solidity": 0.2
             }
            },
            "type": "bar"
           }
          ],
          "barpolar": [
           {
            "marker": {
             "line": {
              "color": "white",
              "width": 0.5
             },
             "pattern": {
              "fillmode": "overlay",
              "size": 10,
              "solidity": 0.2
             }
            },
            "type": "barpolar"
           }
          ],
          "carpet": [
           {
            "aaxis": {
             "endlinecolor": "rgb(36,36,36)",
             "gridcolor": "white",
             "linecolor": "white",
             "minorgridcolor": "white",
             "startlinecolor": "rgb(36,36,36)"
            },
            "baxis": {
             "endlinecolor": "rgb(36,36,36)",
             "gridcolor": "white",
             "linecolor": "white",
             "minorgridcolor": "white",
             "startlinecolor": "rgb(36,36,36)"
            },
            "type": "carpet"
           }
          ],
          "choropleth": [
           {
            "colorbar": {
             "outlinewidth": 1,
             "tickcolor": "rgb(36,36,36)",
             "ticks": "outside"
            },
            "type": "choropleth"
           }
          ],
          "contour": [
           {
            "colorbar": {
             "outlinewidth": 1,
             "tickcolor": "rgb(36,36,36)",
             "ticks": "outside"
            },
            "colorscale": [
             [
              0,
              "#440154"
             ],
             [
              0.1111111111111111,
              "#482878"
             ],
             [
              0.2222222222222222,
              "#3e4989"
             ],
             [
              0.3333333333333333,
              "#31688e"
             ],
             [
              0.4444444444444444,
              "#26828e"
             ],
             [
              0.5555555555555556,
              "#1f9e89"
             ],
             [
              0.6666666666666666,
              "#35b779"
             ],
             [
              0.7777777777777778,
              "#6ece58"
             ],
             [
              0.8888888888888888,
              "#b5de2b"
             ],
             [
              1,
              "#fde725"
             ]
            ],
            "type": "contour"
           }
          ],
          "contourcarpet": [
           {
            "colorbar": {
             "outlinewidth": 1,
             "tickcolor": "rgb(36,36,36)",
             "ticks": "outside"
            },
            "type": "contourcarpet"
           }
          ],
          "heatmap": [
           {
            "colorbar": {
             "outlinewidth": 1,
             "tickcolor": "rgb(36,36,36)",
             "ticks": "outside"
            },
            "colorscale": [
             [
              0,
              "#440154"
             ],
             [
              0.1111111111111111,
              "#482878"
             ],
             [
              0.2222222222222222,
              "#3e4989"
             ],
             [
              0.3333333333333333,
              "#31688e"
             ],
             [
              0.4444444444444444,
              "#26828e"
             ],
             [
              0.5555555555555556,
              "#1f9e89"
             ],
             [
              0.6666666666666666,
              "#35b779"
             ],
             [
              0.7777777777777778,
              "#6ece58"
             ],
             [
              0.8888888888888888,
              "#b5de2b"
             ],
             [
              1,
              "#fde725"
             ]
            ],
            "type": "heatmap"
           }
          ],
          "histogram": [
           {
            "marker": {
             "line": {
              "color": "white",
              "width": 0.6
             }
            },
            "type": "histogram"
           }
          ],
          "histogram2d": [
           {
            "colorbar": {
             "outlinewidth": 1,
             "tickcolor": "rgb(36,36,36)",
             "ticks": "outside"
            },
            "colorscale": [
             [
              0,
              "#440154"
             ],
             [
              0.1111111111111111,
              "#482878"
             ],
             [
              0.2222222222222222,
              "#3e4989"
             ],
             [
              0.3333333333333333,
              "#31688e"
             ],
             [
              0.4444444444444444,
              "#26828e"
             ],
             [
              0.5555555555555556,
              "#1f9e89"
             ],
             [
              0.6666666666666666,
              "#35b779"
             ],
             [
              0.7777777777777778,
              "#6ece58"
             ],
             [
              0.8888888888888888,
              "#b5de2b"
             ],
             [
              1,
              "#fde725"
             ]
            ],
            "type": "histogram2d"
           }
          ],
          "histogram2dcontour": [
           {
            "colorbar": {
             "outlinewidth": 1,
             "tickcolor": "rgb(36,36,36)",
             "ticks": "outside"
            },
            "colorscale": [
             [
              0,
              "#440154"
             ],
             [
              0.1111111111111111,
              "#482878"
             ],
             [
              0.2222222222222222,
              "#3e4989"
             ],
             [
              0.3333333333333333,
              "#31688e"
             ],
             [
              0.4444444444444444,
              "#26828e"
             ],
             [
              0.5555555555555556,
              "#1f9e89"
             ],
             [
              0.6666666666666666,
              "#35b779"
             ],
             [
              0.7777777777777778,
              "#6ece58"
             ],
             [
              0.8888888888888888,
              "#b5de2b"
             ],
             [
              1,
              "#fde725"
             ]
            ],
            "type": "histogram2dcontour"
           }
          ],
          "mesh3d": [
           {
            "colorbar": {
             "outlinewidth": 1,
             "tickcolor": "rgb(36,36,36)",
             "ticks": "outside"
            },
            "type": "mesh3d"
           }
          ],
          "parcoords": [
           {
            "line": {
             "colorbar": {
              "outlinewidth": 1,
              "tickcolor": "rgb(36,36,36)",
              "ticks": "outside"
             }
            },
            "type": "parcoords"
           }
          ],
          "pie": [
           {
            "automargin": true,
            "type": "pie"
           }
          ],
          "scatter": [
           {
            "fillpattern": {
             "fillmode": "overlay",
             "size": 10,
             "solidity": 0.2
            },
            "type": "scatter"
           }
          ],
          "scatter3d": [
           {
            "line": {
             "colorbar": {
              "outlinewidth": 1,
              "tickcolor": "rgb(36,36,36)",
              "ticks": "outside"
             }
            },
            "marker": {
             "colorbar": {
              "outlinewidth": 1,
              "tickcolor": "rgb(36,36,36)",
              "ticks": "outside"
             }
            },
            "type": "scatter3d"
           }
          ],
          "scattercarpet": [
           {
            "marker": {
             "colorbar": {
              "outlinewidth": 1,
              "tickcolor": "rgb(36,36,36)",
              "ticks": "outside"
             }
            },
            "type": "scattercarpet"
           }
          ],
          "scattergeo": [
           {
            "marker": {
             "colorbar": {
              "outlinewidth": 1,
              "tickcolor": "rgb(36,36,36)",
              "ticks": "outside"
             }
            },
            "type": "scattergeo"
           }
          ],
          "scattergl": [
           {
            "marker": {
             "colorbar": {
              "outlinewidth": 1,
              "tickcolor": "rgb(36,36,36)",
              "ticks": "outside"
             }
            },
            "type": "scattergl"
           }
          ],
          "scattermap": [
           {
            "marker": {
             "colorbar": {
              "outlinewidth": 1,
              "tickcolor": "rgb(36,36,36)",
              "ticks": "outside"
             }
            },
            "type": "scattermap"
           }
          ],
          "scattermapbox": [
           {
            "marker": {
             "colorbar": {
              "outlinewidth": 1,
              "tickcolor": "rgb(36,36,36)",
              "ticks": "outside"
             }
            },
            "type": "scattermapbox"
           }
          ],
          "scatterpolar": [
           {
            "marker": {
             "colorbar": {
              "outlinewidth": 1,
              "tickcolor": "rgb(36,36,36)",
              "ticks": "outside"
             }
            },
            "type": "scatterpolar"
           }
          ],
          "scatterpolargl": [
           {
            "marker": {
             "colorbar": {
              "outlinewidth": 1,
              "tickcolor": "rgb(36,36,36)",
              "ticks": "outside"
             }
            },
            "type": "scatterpolargl"
           }
          ],
          "scatterternary": [
           {
            "marker": {
             "colorbar": {
              "outlinewidth": 1,
              "tickcolor": "rgb(36,36,36)",
              "ticks": "outside"
             }
            },
            "type": "scatterternary"
           }
          ],
          "surface": [
           {
            "colorbar": {
             "outlinewidth": 1,
             "tickcolor": "rgb(36,36,36)",
             "ticks": "outside"
            },
            "colorscale": [
             [
              0,
              "#440154"
             ],
             [
              0.1111111111111111,
              "#482878"
             ],
             [
              0.2222222222222222,
              "#3e4989"
             ],
             [
              0.3333333333333333,
              "#31688e"
             ],
             [
              0.4444444444444444,
              "#26828e"
             ],
             [
              0.5555555555555556,
              "#1f9e89"
             ],
             [
              0.6666666666666666,
              "#35b779"
             ],
             [
              0.7777777777777778,
              "#6ece58"
             ],
             [
              0.8888888888888888,
              "#b5de2b"
             ],
             [
              1,
              "#fde725"
             ]
            ],
            "type": "surface"
           }
          ],
          "table": [
           {
            "cells": {
             "fill": {
              "color": "rgb(237,237,237)"
             },
             "line": {
              "color": "white"
             }
            },
            "header": {
             "fill": {
              "color": "rgb(217,217,217)"
             },
             "line": {
              "color": "white"
             }
            },
            "type": "table"
           }
          ]
         },
         "layout": {
          "annotationdefaults": {
           "arrowhead": 0,
           "arrowwidth": 1
          },
          "autotypenumbers": "strict",
          "coloraxis": {
           "colorbar": {
            "outlinewidth": 1,
            "tickcolor": "rgb(36,36,36)",
            "ticks": "outside"
           }
          },
          "colorscale": {
           "diverging": [
            [
             0,
             "rgb(103,0,31)"
            ],
            [
             0.1,
             "rgb(178,24,43)"
            ],
            [
             0.2,
             "rgb(214,96,77)"
            ],
            [
             0.3,
             "rgb(244,165,130)"
            ],
            [
             0.4,
             "rgb(253,219,199)"
            ],
            [
             0.5,
             "rgb(247,247,247)"
            ],
            [
             0.6,
             "rgb(209,229,240)"
            ],
            [
             0.7,
             "rgb(146,197,222)"
            ],
            [
             0.8,
             "rgb(67,147,195)"
            ],
            [
             0.9,
             "rgb(33,102,172)"
            ],
            [
             1,
             "rgb(5,48,97)"
            ]
           ],
           "sequential": [
            [
             0,
             "#440154"
            ],
            [
             0.1111111111111111,
             "#482878"
            ],
            [
             0.2222222222222222,
             "#3e4989"
            ],
            [
             0.3333333333333333,
             "#31688e"
            ],
            [
             0.4444444444444444,
             "#26828e"
            ],
            [
             0.5555555555555556,
             "#1f9e89"
            ],
            [
             0.6666666666666666,
             "#35b779"
            ],
            [
             0.7777777777777778,
             "#6ece58"
            ],
            [
             0.8888888888888888,
             "#b5de2b"
            ],
            [
             1,
             "#fde725"
            ]
           ],
           "sequentialminus": [
            [
             0,
             "#440154"
            ],
            [
             0.1111111111111111,
             "#482878"
            ],
            [
             0.2222222222222222,
             "#3e4989"
            ],
            [
             0.3333333333333333,
             "#31688e"
            ],
            [
             0.4444444444444444,
             "#26828e"
            ],
            [
             0.5555555555555556,
             "#1f9e89"
            ],
            [
             0.6666666666666666,
             "#35b779"
            ],
            [
             0.7777777777777778,
             "#6ece58"
            ],
            [
             0.8888888888888888,
             "#b5de2b"
            ],
            [
             1,
             "#fde725"
            ]
           ]
          },
          "colorway": [
           "#1F77B4",
           "#FF7F0E",
           "#2CA02C",
           "#D62728",
           "#9467BD",
           "#8C564B",
           "#E377C2",
           "#7F7F7F",
           "#BCBD22",
           "#17BECF"
          ],
          "font": {
           "color": "rgb(36,36,36)"
          },
          "geo": {
           "bgcolor": "white",
           "lakecolor": "white",
           "landcolor": "white",
           "showlakes": true,
           "showland": true,
           "subunitcolor": "white"
          },
          "hoverlabel": {
           "align": "left"
          },
          "hovermode": "closest",
          "mapbox": {
           "style": "light"
          },
          "paper_bgcolor": "white",
          "plot_bgcolor": "white",
          "polar": {
           "angularaxis": {
            "gridcolor": "rgb(232,232,232)",
            "linecolor": "rgb(36,36,36)",
            "showgrid": false,
            "showline": true,
            "ticks": "outside"
           },
           "bgcolor": "white",
           "radialaxis": {
            "gridcolor": "rgb(232,232,232)",
            "linecolor": "rgb(36,36,36)",
            "showgrid": false,
            "showline": true,
            "ticks": "outside"
           }
          },
          "scene": {
           "xaxis": {
            "backgroundcolor": "white",
            "gridcolor": "rgb(232,232,232)",
            "gridwidth": 2,
            "linecolor": "rgb(36,36,36)",
            "showbackground": true,
            "showgrid": false,
            "showline": true,
            "ticks": "outside",
            "zeroline": false,
            "zerolinecolor": "rgb(36,36,36)"
           },
           "yaxis": {
            "backgroundcolor": "white",
            "gridcolor": "rgb(232,232,232)",
            "gridwidth": 2,
            "linecolor": "rgb(36,36,36)",
            "showbackground": true,
            "showgrid": false,
            "showline": true,
            "ticks": "outside",
            "zeroline": false,
            "zerolinecolor": "rgb(36,36,36)"
           },
           "zaxis": {
            "backgroundcolor": "white",
            "gridcolor": "rgb(232,232,232)",
            "gridwidth": 2,
            "linecolor": "rgb(36,36,36)",
            "showbackground": true,
            "showgrid": false,
            "showline": true,
            "ticks": "outside",
            "zeroline": false,
            "zerolinecolor": "rgb(36,36,36)"
           }
          },
          "shapedefaults": {
           "fillcolor": "black",
           "line": {
            "width": 0
           },
           "opacity": 0.3
          },
          "ternary": {
           "aaxis": {
            "gridcolor": "rgb(232,232,232)",
            "linecolor": "rgb(36,36,36)",
            "showgrid": false,
            "showline": true,
            "ticks": "outside"
           },
           "baxis": {
            "gridcolor": "rgb(232,232,232)",
            "linecolor": "rgb(36,36,36)",
            "showgrid": false,
            "showline": true,
            "ticks": "outside"
           },
           "bgcolor": "white",
           "caxis": {
            "gridcolor": "rgb(232,232,232)",
            "linecolor": "rgb(36,36,36)",
            "showgrid": false,
            "showline": true,
            "ticks": "outside"
           }
          },
          "title": {
           "x": 0.05
          },
          "xaxis": {
           "automargin": true,
           "gridcolor": "rgb(232,232,232)",
           "linecolor": "rgb(36,36,36)",
           "showgrid": false,
           "showline": true,
           "ticks": "outside",
           "title": {
            "standoff": 15
           },
           "zeroline": false,
           "zerolinecolor": "rgb(36,36,36)"
          },
          "yaxis": {
           "automargin": true,
           "gridcolor": "rgb(232,232,232)",
           "linecolor": "rgb(36,36,36)",
           "showgrid": false,
           "showline": true,
           "ticks": "outside",
           "title": {
            "standoff": 15
           },
           "zeroline": false,
           "zerolinecolor": "rgb(36,36,36)"
          }
         }
        },
        "title": {
         "font": {
          "color": "Black",
          "size": 22
         },
         "text": "<b>Topics over Time</b>",
         "x": 0.4,
         "xanchor": "center",
         "y": 0.95,
         "yanchor": "top"
        },
        "width": 1250,
        "xaxis": {
         "showgrid": true
        },
        "yaxis": {
         "showgrid": true,
         "title": {
          "text": "Frequency"
         }
        }
       }
      }
     },
     "metadata": {},
     "output_type": "display_data"
    }
   ],
   "source": [
    "model, topics_yearly, topics, probs = run_bertopic_over_metadata(df_debates, groupby_col=\"year\")\n",
    "model.visualize_topics_over_time(topics_yearly)"
   ]
  },
  {
   "cell_type": "code",
   "execution_count": 6,
   "id": "0a179243",
   "metadata": {},
   "outputs": [
    {
     "name": "stderr",
     "output_type": "stream",
     "text": [
      "2025-05-23 18:03:12,246 - BERTopic - Dimensionality - Fitting the dimensionality reduction algorithm\n"
     ]
    },
    {
     "name": "stdout",
     "output_type": "stream",
     "text": [
      "Creating new BERTopic model using embedding model: all-MiniLM-L6-v2\n",
      "Fitting BERTopic...\n"
     ]
    },
    {
     "name": "stderr",
     "output_type": "stream",
     "text": [
      "2025-05-23 18:03:16,337 - BERTopic - Dimensionality - Completed ✓\n",
      "2025-05-23 18:03:16,341 - BERTopic - Cluster - Start clustering the reduced embeddings\n",
      "2025-05-23 18:03:16,527 - BERTopic - Cluster - Completed ✓\n",
      "2025-05-23 18:03:16,532 - BERTopic - Representation - Fine-tuning topics using representation models.\n",
      "2025-05-23 18:03:16,980 - BERTopic - Representation - Completed ✓\n",
      "2025-05-23 18:03:17,403 - BERTopic - Topic reduction - Reducing number of topics\n",
      "2025-05-23 18:03:17,421 - BERTopic - Representation - Fine-tuning topics using representation models.\n",
      "2025-05-23 18:03:17,814 - BERTopic - Representation - Completed ✓\n",
      "2025-05-23 18:03:17,816 - BERTopic - Topic reduction - Reduced number of topics from 73 to 34\n"
     ]
    },
    {
     "name": "stdout",
     "output_type": "stream",
     "text": [
      "Computing topic evolution over 'date'...\n"
     ]
    },
    {
     "name": "stderr",
     "output_type": "stream",
     "text": [
      "48it [00:01, 24.11it/s]\n"
     ]
    },
    {
     "data": {
      "application/vnd.plotly.v1+json": {
       "config": {
        "plotlyServerURL": "https://plot.ly"
       },
       "data": [
        {
         "hoverinfo": "text",
         "hovertext": [
          "<b>Topic 0</b><br>Words: the, that, in, of, we",
          "<b>Topic 0</b><br>Words: the, that, in, to, we",
          "<b>Topic 0</b><br>Words: the, that, of, to, and",
          "<b>Topic 0</b><br>Words: the, in, that, of, we",
          "<b>Topic 0</b><br>Words: uh, the, in, that, to",
          "<b>Topic 0</b><br>Words: the, uh, of, to, and",
          "<b>Topic 0</b><br>Words: uh, the, of, and, in",
          "<b>Topic 0</b><br>Words: that, the, of, to, in",
          "<b>Topic 0</b><br>Words: the, of, in, that, to",
          "<b>Topic 0</b><br>Words: the, that, and, to, of",
          "<b>Topic 0</b><br>Words: the, and, to, that, in",
          "<b>Topic 0</b><br>Words: the, and, that, to, we",
          "<b>Topic 0</b><br>Words: and, to, the, of, that",
          "<b>Topic 0</b><br>Words: the, and, that, to, of",
          "<b>Topic 0</b><br>Words: the, and, to, of, that",
          "<b>Topic 0</b><br>Words: the, to, and, in, we",
          "<b>Topic 0</b><br>Words: the, to, and, that, in",
          "<b>Topic 0</b><br>Words: to, the, you, and, it",
          "<b>Topic 0</b><br>Words: the, to, and, it, in",
          "<b>Topic 0</b><br>Words: the, and, to, in, that",
          "<b>Topic 0</b><br>Words: the, of, and, in, to",
          "<b>Topic 0</b><br>Words: to, the, and, we, in",
          "<b>Topic 0</b><br>Words: the, to, of, and, in",
          "<b>Topic 0</b><br>Words: the, to, of, and, in",
          "<b>Topic 0</b><br>Words: to, the, in, and, that",
          "<b>Topic 0</b><br>Words: the, to, and, of, that",
          "<b>Topic 0</b><br>Words: the, to, and, in, we",
          "<b>Topic 0</b><br>Words: the, to, in, of, we",
          "<b>Topic 0</b><br>Words: the, to, and, of, that",
          "<b>Topic 0</b><br>Words: to, the, and, in, of",
          "<b>Topic 0</b><br>Words: and, to, we, the, that",
          "<b>Topic 0</b><br>Words: to, the, and, that, in",
          "<b>Topic 0</b><br>Words: to, that, and, the, of",
          "<b>Topic 0</b><br>Words: to, and, the, that, of",
          "<b>Topic 0</b><br>Words: the, to, and, that, of",
          "<b>Topic 0</b><br>Words: the, we, to, and, in",
          "<b>Topic 0</b><br>Words: to, and, the, that, in",
          "<b>Topic 0</b><br>Words: to, that, and, the, we",
          "<b>Topic 0</b><br>Words: to, and, you, the, have",
          "<b>Topic 0</b><br>Words: the, and, to, donald, of",
          "<b>Topic 0</b><br>Words: and, the, to, of, she",
          "<b>Topic 0</b><br>Words: the, to, and, of, we",
          "<b>Topic 0</b><br>Words: the, to, and, you, in",
          "<b>Topic 0</b><br>Words: the, joe, and, of, american",
          "<b>Topic 0</b><br>Words: to, the, and, it, you",
          "<b>Topic 0</b><br>Words: he, re, we, the, they",
          "<b>Topic 0</b><br>Words: they, and, the, she, to",
          "<b>Topic 0</b><br>Words: that, the, to, we, and"
         ],
         "marker": {
          "color": "#E69F00"
         },
         "mode": "lines",
         "name": "0_the_to_and_that",
         "type": "scatter",
         "x": [
          "1960-09-26T00:00:00.000000000",
          "1960-10-07T00:00:00.000000000",
          "1960-10-13T00:00:00.000000000",
          "1960-10-21T00:00:00.000000000",
          "1976-09-23T00:00:00.000000000",
          "1976-10-06T00:00:00.000000000",
          "1976-10-22T00:00:00.000000000",
          "1980-09-21T00:00:00.000000000",
          "1980-10-28T00:00:00.000000000",
          "1984-10-07T00:00:00.000000000",
          "1984-10-11T00:00:00.000000000",
          "1984-10-21T00:00:00.000000000",
          "1988-09-25T00:00:00.000000000",
          "1988-10-05T00:00:00.000000000",
          "1988-10-13T00:00:00.000000000",
          "1992-10-11T00:00:00.000000000",
          "1992-10-13T00:00:00.000000000",
          "1992-10-15T00:00:00.000000000",
          "1992-10-19T00:00:00.000000000",
          "1996-10-06T00:00:00.000000000",
          "1996-10-09T00:00:00.000000000",
          "1996-10-16T00:00:00.000000000",
          "2000-10-03T00:00:00.000000000",
          "2000-10-05T00:00:00.000000000",
          "2000-10-11T00:00:00.000000000",
          "2000-10-17T00:00:00.000000000",
          "2004-09-30T00:00:00.000000000",
          "2004-10-05T00:00:00.000000000",
          "2004-10-08T00:00:00.000000000",
          "2004-10-13T00:00:00.000000000",
          "2008-09-26T00:00:00.000000000",
          "2008-10-02T00:00:00.000000000",
          "2008-10-07T00:00:00.000000000",
          "2008-10-15T00:00:00.000000000",
          "2012-10-03T00:00:00.000000000",
          "2012-10-11T00:00:00.000000000",
          "2012-10-16T00:00:00.000000000",
          "2012-10-22T00:00:00.000000000",
          "2016-09-26T00:00:00.000000000",
          "2016-10-04T00:00:00.000000000",
          "2016-10-09T00:00:00.000000000",
          "2016-10-19T00:00:00.000000000",
          "2020-09-29T00:00:00.000000000",
          "2020-10-07T00:00:00.000000000",
          "2020-10-22T00:00:00.000000000",
          "2024-07-27T00:00:00.000000000",
          "2024-09-10T00:00:00.000000000",
          "2024-10-01T00:00:00.000000000"
         ],
         "y": {
          "bdata": "DAAPAA4ADAAYABEAEQATAB8AHAAbABwAJwAsACMAIQA4ACcAIwAuACgAJgA6ACAAIwAoACAAIgAaABkAcgAtACcALwAxAFsAOQAyADUAhgAxAEkAPAAgAE0AHAAsAB0A",
          "dtype": "i2"
         }
        },
        {
         "hoverinfo": "text",
         "hovertext": [
          "<b>Topic 1</b><br>Words: uh, constitutional, amendment, abortions, abortion",
          "<b>Topic 1</b><br>Words: her, individual, abortion, believe, for",
          "<b>Topic 1</b><br>Words: abortion, life, unborn, that, child",
          "<b>Topic 1</b><br>Words: justices, falwell, abortion, position, abortions",
          "<b>Topic 1</b><br>Words: life, favor, abortion, furloughed, and",
          "<b>Topic 1</b><br>Words: child, leukemia, exception, life, and",
          "<b>Topic 1</b><br>Words: abortion, woman, abortions, pro, life",
          "<b>Topic 1</b><br>Words: life, pro, is, that, abortion",
          "<b>Topic 1</b><br>Words: abortions, life, womans, to, abortion",
          "<b>Topic 1</b><br>Words: abortion, abortions, the, that, of",
          "<b>Topic 1</b><br>Words: abortion, partial, birth, against, life",
          "<b>Topic 1</b><br>Words: promote, abortion, life, abortions, culture",
          "<b>Topic 1</b><br>Words: abortion, illinois, pro, voted, that",
          "<b>Topic 1</b><br>Words: life, catholic, abortion, abortions, religious",
          "<b>Topic 1</b><br>Words: women, life, abortion, pro, roe",
          "<b>Topic 1</b><br>Words: women, baby, that, roe, wade",
          "<b>Topic 1</b><br>Words: wade, roe, view, court, her",
          "<b>Topic 1</b><br>Words: it, abortion, the, roe, that",
          "<b>Topic 1</b><br>Words: abortion, it, the, and, to",
          "<b>Topic 1</b><br>Words: abortion, pro, that, women, this"
         ],
         "marker": {
          "color": "#56B4E9"
         },
         "mode": "lines",
         "name": "1_abortion_life_that_the",
         "type": "scatter",
         "x": [
          "1976-10-22T00:00:00.000000000",
          "1980-09-21T00:00:00.000000000",
          "1984-10-07T00:00:00.000000000",
          "1984-10-11T00:00:00.000000000",
          "1988-09-25T00:00:00.000000000",
          "1988-10-13T00:00:00.000000000",
          "1992-10-13T00:00:00.000000000",
          "1996-10-09T00:00:00.000000000",
          "2000-10-03T00:00:00.000000000",
          "2000-10-05T00:00:00.000000000",
          "2004-10-08T00:00:00.000000000",
          "2004-10-13T00:00:00.000000000",
          "2008-10-15T00:00:00.000000000",
          "2012-10-11T00:00:00.000000000",
          "2016-10-04T00:00:00.000000000",
          "2016-10-19T00:00:00.000000000",
          "2020-09-29T00:00:00.000000000",
          "2024-07-27T00:00:00.000000000",
          "2024-09-10T00:00:00.000000000",
          "2024-10-01T00:00:00.000000000"
         ],
         "y": {
          "bdata": "AgIEAwMBCgMDAgMBAwIGBgIJDAg=",
          "dtype": "i1"
         }
        },
        {
         "hoverinfo": "text",
         "hovertext": [
          "<b>Topic 2</b><br>Words: remember, last, you, time, said",
          "<b>Topic 2</b><br>Words: true, thats, not, statement, you",
          "<b>Topic 2</b><br>Words: must, talking, hes, now, what",
          "<b>Topic 2</b><br>Words: true, it, doesnt, say, you",
          "<b>Topic 2</b><br>Words: true, thats, fire, dont, others",
          "<b>Topic 2</b><br>Words: agree, right, thats, with, that",
          "<b>Topic 2</b><br>Words: exaggeration, thats, true, repeat, laughter",
          "<b>Topic 2</b><br>Words: speaks, itself, think, for, that",
          "<b>Topic 2</b><br>Words: again, forth, mean, thats, fact",
          "<b>Topic 2</b><br>Words: records, facts, described, read, youve",
          "<b>Topic 2</b><br>Words: statement, did, first, well, my",
          "<b>Topic 2</b><br>Words: tell, worse, saying, whats, thats",
          "<b>Topic 2</b><br>Words: itll, false, completely, case, thats",
          "<b>Topic 2</b><br>Words: matter, fact, youre, look, right",
          "<b>Topic 2</b><br>Words: not, opinion, theplease, athatsgo, checkers",
          "<b>Topic 2</b><br>Words: thats, statement, know, not, false",
          "<b>Topic 2</b><br>Words: checking, true, please, some, point",
          "<b>Topic 2</b><br>Words: quote, say, not, quoting, did",
          "<b>Topic 2</b><br>Words: true, not, thats, statement, said",
          "<b>Topic 2</b><br>Words: true, absolutely, is, not, that",
          "<b>Topic 2</b><br>Words: statement, thats, big, exactly, typical",
          "<b>Topic 2</b><br>Words: shouldn, unacceptable, totally, course, say",
          "<b>Topic 2</b><br>Words: acknowledge, don, no, at, all"
         ],
         "marker": {
          "color": "#009E73"
         },
         "mode": "lines",
         "name": "2_thats_true_not_statement",
         "type": "scatter",
         "x": [
          "1984-10-07T00:00:00.000000000",
          "1988-09-25T00:00:00.000000000",
          "1988-10-13T00:00:00.000000000",
          "1992-10-13T00:00:00.000000000",
          "1992-10-19T00:00:00.000000000",
          "1996-10-06T00:00:00.000000000",
          "2000-10-11T00:00:00.000000000",
          "2000-10-17T00:00:00.000000000",
          "2008-09-26T00:00:00.000000000",
          "2008-10-15T00:00:00.000000000",
          "2012-10-03T00:00:00.000000000",
          "2012-10-11T00:00:00.000000000",
          "2012-10-16T00:00:00.000000000",
          "2012-10-22T00:00:00.000000000",
          "2016-09-26T00:00:00.000000000",
          "2016-10-04T00:00:00.000000000",
          "2016-10-09T00:00:00.000000000",
          "2016-10-19T00:00:00.000000000",
          "2020-09-29T00:00:00.000000000",
          "2020-10-07T00:00:00.000000000",
          "2020-10-22T00:00:00.000000000",
          "2024-07-27T00:00:00.000000000",
          "2024-09-10T00:00:00.000000000"
         ],
         "y": {
          "bdata": "AQEBAQEBAgEGAwEHAwIFBwIFFwEGAQE=",
          "dtype": "i1"
         }
        },
        {
         "hoverinfo": "text",
         "hovertext": [
          "<b>Topic 3</b><br>Words: civil, black, rights, blocked, interest",
          "<b>Topic 3</b><br>Words: groups, have, too, we, to",
          "<b>Topic 3</b><br>Words: profiling, racial, would, skin, law",
          "<b>Topic 3</b><br>Words: police, profiling, racial, law, and",
          "<b>Topic 3</b><br>Words: police, have, law, communities, and",
          "<b>Topic 3</b><br>Words: police, law, and, the, in",
          "<b>Topic 3</b><br>Words: police, law, they, and, people",
          "<b>Topic 3</b><br>Words: law, and, police, justice, of",
          "<b>Topic 3</b><br>Words: black, police, the, law, racist",
          "<b>Topic 3</b><br>Words: police, black, horrible, he, predators"
         ],
         "marker": {
          "color": "#F0E442"
         },
         "mode": "lines",
         "name": "3_police_law_and_we",
         "type": "scatter",
         "x": [
          "1984-10-11T00:00:00.000000000",
          "1992-10-11T00:00:00.000000000",
          "2000-10-05T00:00:00.000000000",
          "2000-10-11T00:00:00.000000000",
          "2016-09-26T00:00:00.000000000",
          "2016-10-04T00:00:00.000000000",
          "2020-09-29T00:00:00.000000000",
          "2020-10-07T00:00:00.000000000",
          "2020-10-22T00:00:00.000000000",
          "2024-07-27T00:00:00.000000000"
         ],
         "y": {
          "bdata": "AQICBAoFCAUIAQ==",
          "dtype": "i1"
         }
        },
        {
         "hoverinfo": "text",
         "hovertext": [
          "<b>Topic 4</b><br>Words: young, of, research, think, heard",
          "<b>Topic 4</b><br>Words: aids, infection, infected, epidemic, combination",
          "<b>Topic 4</b><br>Words: flu, vaccine, shot, contaminated, england",
          "<b>Topic 4</b><br>Words: vaccine, shut, he, you, open",
          "<b>Topic 4</b><br>Words: vaccine, the, and, of, people",
          "<b>Topic 4</b><br>Words: vaccine, the, he, and, spike"
         ],
         "marker": {
          "color": "#D55E00"
         },
         "mode": "lines",
         "name": "4_vaccine_the_and_people",
         "type": "scatter",
         "x": [
          "1988-10-13T00:00:00.000000000",
          "2004-10-05T00:00:00.000000000",
          "2004-10-13T00:00:00.000000000",
          "2020-09-29T00:00:00.000000000",
          "2020-10-07T00:00:00.000000000",
          "2020-10-22T00:00:00.000000000"
         ],
         "y": {
          "bdata": "AQEBFgcM",
          "dtype": "i1"
         }
        },
        {
         "hoverinfo": "text",
         "hovertext": [
          "<b>Topic 5</b><br>Words: gun, uh, handgun, registration, crime",
          "<b>Topic 5</b><br>Words: questioning, dont, aclu, his, he",
          "<b>Topic 5</b><br>Words: police, crime, gun, the, officers",
          "<b>Topic 5</b><br>Words: guns, brady, gun, assault, instant",
          "<b>Topic 5</b><br>Words: gun, guns, that, the, think",
          "<b>Topic 5</b><br>Words: gun, guns, ad, that, the",
          "<b>Topic 5</b><br>Words: guns, gun, assault, ban, law",
          "<b>Topic 5</b><br>Words: gun, guns, violence, of, and",
          "<b>Topic 5</b><br>Words: lists, guns, impact, fly, watch",
          "<b>Topic 5</b><br>Words: loophole, close, online, gun, background",
          "<b>Topic 5</b><br>Words: amendment, second, gun, guns, that",
          "<b>Topic 5</b><br>Words: gun, guns, we, ve, violence"
         ],
         "marker": {
          "color": "#0072B2"
         },
         "mode": "lines",
         "name": "5_gun_guns_the_of",
         "type": "scatter",
         "x": [
          "1976-10-22T00:00:00.000000000",
          "1988-09-25T00:00:00.000000000",
          "1992-10-15T00:00:00.000000000",
          "1996-10-06T00:00:00.000000000",
          "2000-10-11T00:00:00.000000000",
          "2000-10-17T00:00:00.000000000",
          "2004-10-13T00:00:00.000000000",
          "2012-10-16T00:00:00.000000000",
          "2016-09-26T00:00:00.000000000",
          "2016-10-09T00:00:00.000000000",
          "2016-10-19T00:00:00.000000000",
          "2024-10-01T00:00:00.000000000"
         ],
         "y": {
          "bdata": "AwECAwgEAgQBAQMF",
          "dtype": "i1"
         }
        },
        {
         "hoverinfo": "text",
         "hovertext": [
          "<b>Topic 6</b><br>Words: planetarium, projector, overhead, hometown, pork",
          "<b>Topic 6</b><br>Words: spent, practically, tied, winning, applause",
          "<b>Topic 6</b><br>Words: ransom, payment, created, dollars, runway",
          "<b>Topic 6</b><br>Words: fisher, moneythe, housesthe, build, house",
          "<b>Topic 6</b><br>Words: dollars, million, half, three, millions",
          "<b>Topic 6</b><br>Words: dollars, son, million, 183, half",
          "<b>Topic 6</b><br>Words: moscow, sitting, wouldn, paid, 300"
         ],
         "marker": {
          "color": "#CC79A7"
         },
         "mode": "lines",
         "name": "6_dollars_million_half_moscow",
         "type": "scatter",
         "x": [
          "2008-10-15T00:00:00.000000000",
          "2016-09-26T00:00:00.000000000",
          "2016-10-04T00:00:00.000000000",
          "2016-10-19T00:00:00.000000000",
          "2020-09-29T00:00:00.000000000",
          "2020-10-22T00:00:00.000000000",
          "2024-09-10T00:00:00.000000000"
         ],
         "y": {
          "bdata": "AQEEARYEAg==",
          "dtype": "i1"
         }
        },
        {
         "hoverinfo": "text",
         "hovertext": [
          "<b>Topic 7</b><br>Words: voted, record, your, for, you",
          "<b>Topic 7</b><br>Words: booth, factor, voting, they, ought",
          "<b>Topic 7</b><br>Words: retrospect, lessons, considered, administration, seriously",
          "<b>Topic 7</b><br>Words: against, voted, ballots, he, vote",
          "<b>Topic 7</b><br>Words: fuel, nunn, alternate, nuclear, 1990s",
          "<b>Topic 7</b><br>Words: supported, always, fact, thats, it",
          "<b>Topic 7</b><br>Words: scare, politicians, voting, dont, ahead",
          "<b>Topic 7</b><br>Words: gold, standard, called, you, it",
          "<b>Topic 7</b><br>Words: voting, record, defend, wont, own",
          "<b>Topic 7</b><br>Words: ballots, ballot, you, count, em",
          "<b>Topic 7</b><br>Words: numbers, election, see, let, over"
         ],
         "marker": {
          "color": "#E69F00"
         },
         "mode": "lines",
         "name": "7_ballots_ballot_you_voted",
         "type": "scatter",
         "x": [
          "1992-10-13T00:00:00.000000000",
          "2000-10-03T00:00:00.000000000",
          "2000-10-11T00:00:00.000000000",
          "2004-10-05T00:00:00.000000000",
          "2008-09-26T00:00:00.000000000",
          "2008-10-02T00:00:00.000000000",
          "2012-10-11T00:00:00.000000000",
          "2016-09-26T00:00:00.000000000",
          "2016-10-04T00:00:00.000000000",
          "2020-09-29T00:00:00.000000000",
          "2024-07-27T00:00:00.000000000"
         ],
         "y": {
          "bdata": "AQECAQQBAQECEwE=",
          "dtype": "i1"
         }
        },
        {
         "hoverinfo": "text",
         "hovertext": [
          "<b>Topic 8</b><br>Words: uh, court, burger, the, of",
          "<b>Topic 8</b><br>Words: judges, religious, test, politicizing, reflection",
          "<b>Topic 8</b><br>Words: bench, appointments, appointed, court, appoint",
          "<b>Topic 8</b><br>Words: judges, court, bench, constitution, appoint",
          "<b>Topic 8</b><br>Words: constitution, judge, court, pick, judges",
          "<b>Topic 8</b><br>Words: litmus, test, judges, will, interpret",
          "<b>Topic 8</b><br>Words: court, judicial, judge, judiciary, had",
          "<b>Topic 8</b><br>Words: court, judges, justice, supreme, judge",
          "<b>Topic 8</b><br>Words: unelected, through, consensus, reaching, judges",
          "<b>Topic 8</b><br>Words: judges, those, said, and, court",
          "<b>Topic 8</b><br>Words: court, supreme, would, that, of",
          "<b>Topic 8</b><br>Words: court, supreme, justices, will, very",
          "<b>Topic 8</b><br>Words: justices, radical, supreme, court, wouldnt",
          "<b>Topic 8</b><br>Words: court, supreme, judge, coney, amy"
         ],
         "marker": {
          "color": "#56B4E9"
         },
         "mode": "lines",
         "name": "8_court_supreme_uh_judges",
         "type": "scatter",
         "x": [
          "1976-10-22T00:00:00.000000000",
          "1984-10-07T00:00:00.000000000",
          "1988-10-13T00:00:00.000000000",
          "2000-10-03T00:00:00.000000000",
          "2004-10-08T00:00:00.000000000",
          "2004-10-13T00:00:00.000000000",
          "2008-10-02T00:00:00.000000000",
          "2008-10-15T00:00:00.000000000",
          "2012-10-11T00:00:00.000000000",
          "2016-10-04T00:00:00.000000000",
          "2016-10-09T00:00:00.000000000",
          "2016-10-19T00:00:00.000000000",
          "2020-09-29T00:00:00.000000000",
          "2020-10-07T00:00:00.000000000"
         ],
         "y": {
          "bdata": "AwEDBAIBAQMBAQIEAQU=",
          "dtype": "i1"
         }
        },
        {
         "hoverinfo": "text",
         "hovertext": [
          "<b>Topic 9</b><br>Words: respond, to, want, some, moderator",
          "<b>Topic 9</b><br>Words: comment, didn, respond, get, make",
          "<b>Topic 9</b><br>Words: response, respond, great, why, had",
          "<b>Topic 9</b><br>Words: respond, honor, might, chance, opportunity",
          "<b>Topic 9</b><br>Words: respond, briefly, tom, can, because",
          "<b>Topic 9</b><br>Words: respond, tell, sure, let, me",
          "<b>Topic 9</b><br>Words: respond, no, to, have, that",
          "<b>Topic 9</b><br>Words: respond, hope, time, im, to",
          "<b>Topic 9</b><br>Words: respond, id, like, might, to",
          "<b>Topic 9</b><br>Words: respond, am, assume, allowed, please",
          "<b>Topic 9</b><br>Words: respond, to, willing, got, that",
          "<b>Topic 9</b><br>Words: respond, might, excuse, to, point",
          "<b>Topic 9</b><br>Words: respond, allowed, am, him, to",
          "<b>Topic 9</b><br>Words: respond, like, well, would, to"
         ],
         "marker": {
          "color": "#009E73"
         },
         "mode": "lines",
         "name": "9_respond_to_might_want",
         "type": "scatter",
         "x": [
          "1992-10-13T00:00:00.000000000",
          "1992-10-15T00:00:00.000000000",
          "1992-10-19T00:00:00.000000000",
          "2000-10-05T00:00:00.000000000",
          "2008-10-07T00:00:00.000000000",
          "2008-10-15T00:00:00.000000000",
          "2012-10-03T00:00:00.000000000",
          "2012-10-11T00:00:00.000000000",
          "2016-09-26T00:00:00.000000000",
          "2016-10-09T00:00:00.000000000",
          "2020-09-29T00:00:00.000000000",
          "2020-10-22T00:00:00.000000000",
          "2024-07-27T00:00:00.000000000",
          "2024-09-10T00:00:00.000000000"
         ],
         "y": {
          "bdata": "CQEBAgEBAQECAgQDAQE=",
          "dtype": "i1"
         }
        },
        {
         "hoverinfo": "text",
         "hovertext": [
          "<b>Topic 10</b><br>Words: included, passed, congress, then, plan",
          "<b>Topic 10</b><br>Words: grabbed, bowles, simpson, should, president",
          "<b>Topic 10</b><br>Words: fewer, sending, thats, people, hotspots",
          "<b>Topic 10</b><br>Words: removed, safety, people, american, come",
          "<b>Topic 10</b><br>Words: corporation, believed, no, individual, share",
          "<b>Topic 10</b><br>Words: slaughtered, applause, situation, bad, being",
          "<b>Topic 10</b><br>Words: suburb, crowds, cares, negative, rallies",
          "<b>Topic 10</b><br>Words: american, people, respecting, sacrifices, you",
          "<b>Topic 10</b><br>Words: republican, answer, congress, had, thats",
          "<b>Topic 10</b><br>Words: sad, day, america, very, it",
          "<b>Topic 10</b><br>Words: unlike, killing, people, many, those"
         ],
         "marker": {
          "color": "#F0E442"
         },
         "mode": "lines",
         "name": "10_people_american_fewer_thats",
         "type": "scatter",
         "x": [
          "1992-10-13T00:00:00.000000000",
          "2012-10-03T00:00:00.000000000",
          "2012-10-11T00:00:00.000000000",
          "2016-10-04T00:00:00.000000000",
          "2016-10-09T00:00:00.000000000",
          "2016-10-19T00:00:00.000000000",
          "2020-09-29T00:00:00.000000000",
          "2020-10-07T00:00:00.000000000",
          "2020-10-22T00:00:00.000000000",
          "2024-07-27T00:00:00.000000000",
          "2024-09-10T00:00:00.000000000"
         ],
         "y": {
          "bdata": "AQEGAwICAwgBAQE=",
          "dtype": "i1"
         }
        },
        {
         "hoverinfo": "text",
         "hovertext": [
          "<b>Topic 11</b><br>Words: hope, seconds, christmas, minutes, principle",
          "<b>Topic 11</b><br>Words: 24, hour, waiting, period, support",
          "<b>Topic 11</b><br>Words: bite, time, importance, lifetime, mess",
          "<b>Topic 11</b><br>Words: equal, lunging, seconds, time, interrupt",
          "<b>Topic 11</b><br>Words: limit, keeping, yeah, within, time",
          "<b>Topic 11</b><br>Words: first, go, want, do, you",
          "<b>Topic 11</b><br>Words: time, longer, line, debate, equal",
          "<b>Topic 11</b><br>Words: timekeepers, working, sure, here, want",
          "<b>Topic 11</b><br>Words: seconds, add, 30, back, can",
          "<b>Topic 11</b><br>Words: equal, time, like, would, but"
         ],
         "marker": {
          "color": "#D55E00"
         },
         "mode": "lines",
         "name": "11_time_24_seconds_hour",
         "type": "scatter",
         "x": [
          "1988-09-25T00:00:00.000000000",
          "1992-10-13T00:00:00.000000000",
          "1992-10-15T00:00:00.000000000",
          "1992-10-19T00:00:00.000000000",
          "1996-10-09T00:00:00.000000000",
          "2004-10-08T00:00:00.000000000",
          "2012-10-11T00:00:00.000000000",
          "2012-10-16T00:00:00.000000000",
          "2020-09-29T00:00:00.000000000",
          "2020-10-07T00:00:00.000000000"
         ],
         "y": {
          "bdata": "AwgCBAEBBAEBAQ==",
          "dtype": "i1"
         }
        },
        {
         "hoverinfo": "text",
         "hovertext": [
          "<b>Topic 12</b><br>Words: session, minute, okay, add, open",
          "<b>Topic 12</b><br>Words: door, soon, found, out, as",
          "<b>Topic 12</b><br>Words: sorry, oh, gets, ahead, youre",
          "<b>Topic 12</b><br>Words: qualifications, answer, question, his, me",
          "<b>Topic 12</b><br>Words: answers, differently, notice, he, friend",
          "<b>Topic 12</b><br>Words: answered, question, first, should, he",
          "<b>Topic 12</b><br>Words: broken, promise, he, hes, his",
          "<b>Topic 12</b><br>Words: he, doesnt, how, knows, answer",
          "<b>Topic 12</b><br>Words: flat, lying, website, matter, hes",
          "<b>Topic 12</b><br>Words: pounds, 225, 235, handicap, foot"
         ],
         "marker": {
          "color": "#0072B2"
         },
         "mode": "lines",
         "name": "12_he_doesnt_his_question",
         "type": "scatter",
         "x": [
          "1992-10-13T00:00:00.000000000",
          "1992-10-19T00:00:00.000000000",
          "2000-10-17T00:00:00.000000000",
          "2004-10-05T00:00:00.000000000",
          "2012-10-11T00:00:00.000000000",
          "2012-10-22T00:00:00.000000000",
          "2016-10-04T00:00:00.000000000",
          "2020-09-29T00:00:00.000000000",
          "2020-10-22T00:00:00.000000000",
          "2024-07-27T00:00:00.000000000"
         ],
         "y": {
          "bdata": "AQEBAQIBAg0BAg==",
          "dtype": "i1"
         }
        },
        {
         "hoverinfo": "text",
         "hovertext": [
          "<b>Topic 13</b><br>Words: hold, finish, let, me, on",
          "<b>Topic 13</b><br>Words: ahead, me, let, sir, excuse",
          "<b>Topic 13</b><br>Words: let, me, here, way, your",
          "<b>Topic 13</b><br>Words: let, me, just, points, well",
          "<b>Topic 13</b><br>Words: let, me, just, well, say",
          "<b>Topic 13</b><br>Words: finish, let, me, point, just",
          "<b>Topic 13</b><br>Words: entertain, letter, me, send, ill",
          "<b>Topic 13</b><br>Words: advice, let, me, give, well",
          "<b>Topic 13</b><br>Words: finishi, just, could, well, let",
          "<b>Topic 13</b><br>Words: let, me, weigh, interrupt, finish",
          "<b>Topic 13</b><br>Words: saylet, me, just, let, well",
          "<b>Topic 13</b><br>Words: hey, let, me, just, tell",
          "<b>Topic 13</b><br>Words: finish, letting, mind, me, let"
         ],
         "marker": {
          "color": "#CC79A7"
         },
         "mode": "lines",
         "name": "13_let_me_just_finish",
         "type": "scatter",
         "x": [
          "1992-10-13T00:00:00.000000000",
          "1992-10-15T00:00:00.000000000",
          "1996-10-16T00:00:00.000000000",
          "2008-09-26T00:00:00.000000000",
          "2008-10-15T00:00:00.000000000",
          "2012-10-03T00:00:00.000000000",
          "2012-10-11T00:00:00.000000000",
          "2012-10-16T00:00:00.000000000",
          "2016-09-26T00:00:00.000000000",
          "2016-10-04T00:00:00.000000000",
          "2016-10-19T00:00:00.000000000",
          "2020-09-29T00:00:00.000000000",
          "2020-10-07T00:00:00.000000000"
         ],
         "y": {
          "bdata": "AQIBBAEBAQEBBAECAQ==",
          "dtype": "i1"
         }
        },
        {
         "hoverinfo": "text",
         "hovertext": [
          "<b>Topic 14</b><br>Words: bookstore, crosstalk, book, written, tomorrow",
          "<b>Topic 14</b><br>Words: crosstalk, hit, well, jeffersonian, pentagons",
          "<b>Topic 14</b><br>Words: crosstalk, evidencebut, nobut, conspiracy, theories",
          "<b>Topic 14</b><br>Words: crosstalk, discredited, totally, matter, stores",
          "<b>Topic 14</b><br>Words: swing, crosstalk, your, ve, seen"
         ],
         "marker": {
          "color": "#E69F00"
         },
         "mode": "lines",
         "name": "14_crosstalk_discredited_swing_well",
         "type": "scatter",
         "x": [
          "2016-09-26T00:00:00.000000000",
          "2016-10-04T00:00:00.000000000",
          "2016-10-19T00:00:00.000000000",
          "2020-09-29T00:00:00.000000000",
          "2024-07-27T00:00:00.000000000"
         ],
         "y": {
          "bdata": "AQkDBgE=",
          "dtype": "i1"
         }
        },
        {
         "hoverinfo": "text",
         "hovertext": [
          "<b>Topic 15</b><br>Words: uh, enforcing, black, business, minority",
          "<b>Topic 15</b><br>Words: discrimination, industry, affairs, southerner, my",
          "<b>Topic 15</b><br>Words: affirmative, action, positive, quotas, feel",
          "<b>Topic 15</b><br>Words: quotas, civil, think, rights, dont",
          "<b>Topic 15</b><br>Words: affirmative, action, equality, against, quotas",
          "<b>Topic 15</b><br>Words: discrimination, affirmative, quotas, prove, action",
          "<b>Topic 15</b><br>Words: quotas, affirmative, action, against, diversity",
          "<b>Topic 15</b><br>Words: quotas, affirmative, to, reach, caucus",
          "<b>Topic 15</b><br>Words: educational, opportunities, african, fought, choice"
         ],
         "marker": {
          "color": "#56B4E9"
         },
         "mode": "lines",
         "name": "15_affirmative_quotas_action_discriminat...",
         "type": "scatter",
         "x": [
          "1976-10-22T00:00:00.000000000",
          "1980-10-28T00:00:00.000000000",
          "1984-10-11T00:00:00.000000000",
          "1992-10-19T00:00:00.000000000",
          "1996-10-09T00:00:00.000000000",
          "1996-10-16T00:00:00.000000000",
          "2000-10-17T00:00:00.000000000",
          "2004-10-13T00:00:00.000000000",
          "2020-10-07T00:00:00.000000000"
         ],
         "y": {
          "bdata": "AQEBAQMFBQIB",
          "dtype": "i1"
         }
        },
        {
         "hoverinfo": "text",
         "hovertext": [
          "<b>Topic 16</b><br>Words: church, that, of, try, faith",
          "<b>Topic 16</b><br>Words: faith, church, religion, that, religious",
          "<b>Topic 16</b><br>Words: religion, church, separation, prayer, religious",
          "<b>Topic 16</b><br>Words: religious, religion, church, to, faith",
          "<b>Topic 16</b><br>Words: faith, life, about, youll, unwanted",
          "<b>Topic 16</b><br>Words: faith, respect, catholic, religion, and",
          "<b>Topic 16</b><br>Words: faith, informs, life, how, their",
          "<b>Topic 16</b><br>Words: faith, my, religion, church, was"
         ],
         "marker": {
          "color": "#009E73"
         },
         "mode": "lines",
         "name": "16_faith_church_religion_of",
         "type": "scatter",
         "x": [
          "1980-09-21T00:00:00.000000000",
          "1984-10-07T00:00:00.000000000",
          "1984-10-11T00:00:00.000000000",
          "1996-10-16T00:00:00.000000000",
          "2004-10-08T00:00:00.000000000",
          "2004-10-13T00:00:00.000000000",
          "2012-10-11T00:00:00.000000000",
          "2016-10-04T00:00:00.000000000"
         ],
         "y": {
          "bdata": "AgUDAwECAQI=",
          "dtype": "i1"
         }
        },
        {
         "hoverinfo": "text",
         "hovertext": [
          "<b>Topic 17</b><br>Words: mans, awful, using, words, may",
          "<b>Topic 17</b><br>Words: beauty, he, miss, called, woman",
          "<b>Topic 17</b><br>Words: said, deplorables, donald, basket, insult",
          "<b>Topic 17</b><br>Words: he, women, donald, about, apologized",
          "<b>Topic 17</b><br>Words: he, women, donald, rigged, who",
          "<b>Topic 17</b><br>Words: slanders, regarding, absurd, armed, men",
          "<b>Topic 17</b><br>Words: he, donald, him, openly, trump"
         ],
         "marker": {
          "color": "#F0E442"
         },
         "mode": "lines",
         "name": "17_he_women_donald_said",
         "type": "scatter",
         "x": [
          "2000-10-11T00:00:00.000000000",
          "2016-09-26T00:00:00.000000000",
          "2016-10-04T00:00:00.000000000",
          "2016-10-09T00:00:00.000000000",
          "2016-10-19T00:00:00.000000000",
          "2020-10-07T00:00:00.000000000",
          "2024-09-10T00:00:00.000000000"
         ],
         "y": {
          "bdata": "AQIDAwYBAg==",
          "dtype": "i1"
         }
        },
        {
         "hoverinfo": "text",
         "hovertext": [
          "<b>Topic 18</b><br>Words: position, same, had, have, done",
          "<b>Topic 18</b><br>Words: starting, after, years, know, dont",
          "<b>Topic 18</b><br>Words: ran, tried, last, you, time",
          "<b>Topic 18</b><br>Words: yeah, havent, seven, done, why",
          "<b>Topic 18</b><br>Words: cowboys, cardinals, sunday, dallas, watched",
          "<b>Topic 18</b><br>Words: path, taking, working, new, time",
          "<b>Topic 18</b><br>Words: done, been, never, before, couple",
          "<b>Topic 18</b><br>Words: floor, while, youve, had, for",
          "<b>Topic 18</b><br>Words: havent, done, years, 26, you",
          "<b>Topic 18</b><br>Words: didnt, why, do, you, it",
          "<b>Topic 18</b><br>Words: years, simple, hell, didnt, 30",
          "<b>Topic 18</b><br>Words: 25, didnt, why, last, years"
         ],
         "marker": {
          "color": "#D55E00"
         },
         "mode": "lines",
         "name": "18_done_years_why_havent",
         "type": "scatter",
         "x": [
          "1992-10-13T00:00:00.000000000",
          "1992-10-15T00:00:00.000000000",
          "1996-10-16T00:00:00.000000000",
          "2000-10-03T00:00:00.000000000",
          "2008-10-15T00:00:00.000000000",
          "2012-10-03T00:00:00.000000000",
          "2012-10-11T00:00:00.000000000",
          "2012-10-22T00:00:00.000000000",
          "2016-09-26T00:00:00.000000000",
          "2016-10-09T00:00:00.000000000",
          "2016-10-19T00:00:00.000000000",
          "2020-09-29T00:00:00.000000000"
         ],
         "y": {
          "bdata": "AQEBAQEBAwEDAQED",
          "dtype": "i1"
         }
        },
        {
         "hoverinfo": "text",
         "hovertext": [
          "<b>Topic 19</b><br>Words: robbed, follow, me, her, up",
          "<b>Topic 19</b><br>Words: owe, respond, characters, carole, her",
          "<b>Topic 19</b><br>Words: tutwiler, margaret, sitting, today, see",
          "<b>Topic 19</b><br>Words: gwen, question, jobs, your, about",
          "<b>Topic 19</b><br>Words: correct, just, respond, quickly, record",
          "<b>Topic 19</b><br>Words: quick, follow, just, up, think",
          "<b>Topic 19</b><br>Words: fenton, katherine, looking, forward, question",
          "<b>Topic 19</b><br>Words: website, shouldyou, her, take, look",
          "<b>Topic 19</b><br>Words: susan, respond, attacked, record, talked",
          "<b>Topic 19</b><br>Words: kristen, respond, nobody, to, have",
          "<b>Topic 19</b><br>Words: ask, her, question, might, don",
          "<b>Topic 19</b><br>Words: margaret, important, well, because, think"
         ],
         "marker": {
          "color": "#0072B2"
         },
         "mode": "lines",
         "name": "19_respond_her_correct_margaret",
         "type": "scatter",
         "x": [
          "1984-10-11T00:00:00.000000000",
          "1992-10-15T00:00:00.000000000",
          "1992-10-19T00:00:00.000000000",
          "2004-10-05T00:00:00.000000000",
          "2008-09-26T00:00:00.000000000",
          "2008-10-07T00:00:00.000000000",
          "2012-10-16T00:00:00.000000000",
          "2016-09-26T00:00:00.000000000",
          "2020-10-07T00:00:00.000000000",
          "2020-10-22T00:00:00.000000000",
          "2024-09-10T00:00:00.000000000",
          "2024-10-01T00:00:00.000000000"
         ],
         "y": {
          "bdata": "AQIBAQIBAQEEAQIB",
          "dtype": "i1"
         }
        },
        {
         "hoverinfo": "text",
         "hovertext": [
          "<b>Topic 20</b><br>Words: circumstances, illegal, under, any, those",
          "<b>Topic 20</b><br>Words: rules, oh, mean, course, care",
          "<b>Topic 20</b><br>Words: ad, sat, law, laws, changed",
          "<b>Topic 20</b><br>Words: law, order, favor, crosstalk, you",
          "<b>Topic 20</b><br>Words: telling, law, simply, true, hes",
          "<b>Topic 20</b><br>Words: law, checked, 1990, laws, not"
         ],
         "marker": {
          "color": "#CC79A7"
         },
         "mode": "lines",
         "name": "20_law_ad_order_favor",
         "type": "scatter",
         "x": [
          "1992-10-13T00:00:00.000000000",
          "2000-10-11T00:00:00.000000000",
          "2016-10-19T00:00:00.000000000",
          "2020-09-29T00:00:00.000000000",
          "2020-10-22T00:00:00.000000000",
          "2024-10-01T00:00:00.000000000"
         ],
         "y": {
          "bdata": "AQEEBwED",
          "dtype": "i1"
         }
        },
        {
         "hoverinfo": "text",
         "hovertext": [
          "<b>Topic 21</b><br>Words: pakistan, strategy, to, and, troops",
          "<b>Topic 21</b><br>Words: pakistan, nuclear, already, deployed, thats",
          "<b>Topic 21</b><br>Words: pakistan, we, afghanistan, and, to",
          "<b>Topic 21</b><br>Words: pakistan, to, and, that, afghanistan",
          "<b>Topic 21</b><br>Words: alive, morphed, thousandsexcuse, iraq, vetting"
         ],
         "marker": {
          "color": "#E69F00"
         },
         "mode": "lines",
         "name": "21_pakistan_to_and_afghanistan",
         "type": "scatter",
         "x": [
          "2008-09-26T00:00:00.000000000",
          "2008-10-02T00:00:00.000000000",
          "2008-10-07T00:00:00.000000000",
          "2012-10-22T00:00:00.000000000",
          "2016-10-09T00:00:00.000000000"
         ],
         "y": {
          "bdata": "BAEFBAE=",
          "dtype": "i1"
         }
        },
        {
         "hoverinfo": "text",
         "hovertext": [
          "<b>Topic 22</b><br>Words: heres, governor, detroit, forget, thing",
          "<b>Topic 22</b><br>Words: pence, governor, acknowledge, mates, doesnt",
          "<b>Topic 22</b><br>Words: governor, experts, pence, donald, trump"
         ],
         "marker": {
          "color": "#56B4E9"
         },
         "mode": "lines",
         "name": "22_pence_governor_acknowledge_mates",
         "type": "scatter",
         "x": [
          "2012-10-22T00:00:00.000000000",
          "2016-10-04T00:00:00.000000000",
          "2024-10-01T00:00:00.000000000"
         ],
         "y": {
          "bdata": "AgoD",
          "dtype": "i1"
         }
        },
        {
         "hoverinfo": "text",
         "hovertext": [
          "<b>Topic 23</b><br>Words: joe, laughter, applause, nothing, you",
          "<b>Topic 23</b><br>Words: hey, joe, call, can, you",
          "<b>Topic 23</b><br>Words: joe, fine, zero, described, happy",
          "<b>Topic 23</b><br>Words: joe, 47, you, surprised, done",
          "<b>Topic 23</b><br>Words: gotta, joe, em, talk, you"
         ],
         "marker": {
          "color": "#009E73"
         },
         "mode": "lines",
         "name": "23_joe_you_gotta_47",
         "type": "scatter",
         "x": [
          "2000-10-05T00:00:00.000000000",
          "2008-10-02T00:00:00.000000000",
          "2008-10-15T00:00:00.000000000",
          "2020-09-29T00:00:00.000000000",
          "2020-10-22T00:00:00.000000000"
         ],
         "y": {
          "bdata": "AgEBCQI=",
          "dtype": "i1"
         }
        },
        {
         "hoverinfo": "text",
         "hovertext": [
          "<b>Topic 24</b><br>Words: answer, like, an, dont, its",
          "<b>Topic 24</b><br>Words: answer, question, fourth, time, try",
          "<b>Topic 24</b><br>Words: answer, question, happy, ill, yours",
          "<b>Topic 24</b><br>Words: answer, let, ive, me, got",
          "<b>Topic 24</b><br>Words: answer, question, happy, appreciate, thank",
          "<b>Topic 24</b><br>Words: answer, question, im, going, not",
          "<b>Topic 24</b><br>Words: answer, question, id, trying, like",
          "<b>Topic 24</b><br>Words: damning, answer, non, question, is"
         ],
         "marker": {
          "color": "#F0E442"
         },
         "mode": "lines",
         "name": "24_answer_question_damning_happy",
         "type": "scatter",
         "x": [
          "1988-09-25T00:00:00.000000000",
          "1988-10-05T00:00:00.000000000",
          "1992-10-13T00:00:00.000000000",
          "2004-10-08T00:00:00.000000000",
          "2012-10-16T00:00:00.000000000",
          "2020-09-29T00:00:00.000000000",
          "2020-10-07T00:00:00.000000000",
          "2024-10-01T00:00:00.000000000"
         ],
         "y": {
          "bdata": "AQEFAQIBAgE=",
          "dtype": "i1"
         }
        },
        {
         "hoverinfo": "text",
         "hovertext": [
          "<b>Topic 25</b><br>Words: initiation, tapes, given, prosecutor, authorities",
          "<b>Topic 25</b><br>Words: tapes, unlistened, fbi, pages, papers",
          "<b>Topic 25</b><br>Words: charges, halliburton, smokescreen, factcheck, confuse",
          "<b>Topic 25</b><br>Words: months, investigative, cronyism, runs, evidence",
          "<b>Topic 25</b><br>Words: assumed, charges, claims, kind, lot",
          "<b>Topic 25</b><br>Words: concluded, investigation, fbi, prosecutor, reasonable",
          "<b>Topic 25</b><br>Words: conspiracy, charges, spewing, theory, false",
          "<b>Topic 25</b><br>Words: discharged, dishonorably, wasnt, true, thats",
          "<b>Topic 25</b><br>Words: fraud, include, didn, cities, worst"
         ],
         "marker": {
          "color": "#D55E00"
         },
         "mode": "lines",
         "name": "25_charges_fbi_tapes_months",
         "type": "scatter",
         "x": [
          "1976-10-22T00:00:00.000000000",
          "2004-09-30T00:00:00.000000000",
          "2004-10-05T00:00:00.000000000",
          "2012-10-11T00:00:00.000000000",
          "2016-09-26T00:00:00.000000000",
          "2016-10-04T00:00:00.000000000",
          "2016-10-19T00:00:00.000000000",
          "2020-09-29T00:00:00.000000000",
          "2024-09-10T00:00:00.000000000"
         ],
         "y": {
          "bdata": "AQEBAgEEAgEB",
          "dtype": "i1"
         }
        },
        {
         "hoverinfo": "text",
         "hovertext": [
          "<b>Topic 26</b><br>Words: uh, should, united, external, states",
          "<b>Topic 26</b><br>Words: veterans, disability, issues, explain, pay",
          "<b>Topic 26</b><br>Words: veterans, our, how, embarked, home",
          "<b>Topic 26</b><br>Words: veterans, not, serve, whether, sacred",
          "<b>Topic 26</b><br>Words: veterans, scratch, medic, came, certifications",
          "<b>Topic 26</b><br>Words: support, wouldnt, veterans, supports, troops",
          "<b>Topic 26</b><br>Words: son, reveres, marine, captain, suggestion",
          "<b>Topic 26</b><br>Words: veterans, re, pits, sucker, cemetery"
         ],
         "marker": {
          "color": "#0072B2"
         },
         "mode": "lines",
         "name": "26_veterans_our_he_home",
         "type": "scatter",
         "x": [
          "1960-09-26T00:00:00.000000000",
          "1988-10-05T00:00:00.000000000",
          "2008-09-26T00:00:00.000000000",
          "2012-10-11T00:00:00.000000000",
          "2012-10-22T00:00:00.000000000",
          "2016-10-04T00:00:00.000000000",
          "2020-10-07T00:00:00.000000000",
          "2024-07-27T00:00:00.000000000"
         ],
         "y": {
          "bdata": "AQEEAQECAQI=",
          "dtype": "i1"
         }
        },
        {
         "hoverinfo": "text",
         "hovertext": [
          "<b>Topic 27</b><br>Words: jim, seconds, ten, another, wants",
          "<b>Topic 27</b><br>Words: jim, round, could, respond, big",
          "<b>Topic 27</b><br>Words: jim, disagreement, hey, direct, answer",
          "<b>Topic 27</b><br>Words: jim, big, point, having, this",
          "<b>Topic 27</b><br>Words: jim, segment, began, word, point",
          "<b>Topic 27</b><br>Words: find, did, where, jim, this"
         ],
         "marker": {
          "color": "#CC79A7"
         },
         "mode": "lines",
         "name": "27_jim_this_big_point",
         "type": "scatter",
         "x": [
          "1988-09-25T00:00:00.000000000",
          "2000-10-03T00:00:00.000000000",
          "2000-10-17T00:00:00.000000000",
          "2008-09-26T00:00:00.000000000",
          "2012-10-03T00:00:00.000000000",
          "2016-09-26T00:00:00.000000000"
         ],
         "y": {
          "bdata": "AQECBgIB",
          "dtype": "i1"
         }
        },
        {
         "hoverinfo": "text",
         "hovertext": [
          "<b>Topic 28</b><br>Words: confused, dont, im, so, now",
          "<b>Topic 28</b><br>Words: biggest, yes, problem, where, thats",
          "<b>Topic 28</b><br>Words: absolutely, input, long, yes, dont",
          "<b>Topic 28</b><br>Words: absolutely, targets, drawn, setting, call",
          "<b>Topic 28</b><br>Words: places, yes, no, other, some",
          "<b>Topic 28</b><br>Words: mathematically, sure, precisely, why, proposing",
          "<b>Topic 28</b><br>Words: let, dont, them, yes, we"
         ],
         "marker": {
          "color": "#E69F00"
         },
         "mode": "lines",
         "name": "28_absolutely_yes_dont_places",
         "type": "scatter",
         "x": [
          "1984-10-07T00:00:00.000000000",
          "1992-10-13T00:00:00.000000000",
          "2000-10-11T00:00:00.000000000",
          "2008-10-02T00:00:00.000000000",
          "2012-10-03T00:00:00.000000000",
          "2012-10-11T00:00:00.000000000",
          "2016-10-04T00:00:00.000000000"
         ],
         "y": {
          "bdata": "AQEEAgECAQ==",
          "dtype": "i1"
         }
        },
        {
         "hoverinfo": "text",
         "hovertext": [
          "<b>Topic 29</b><br>Words: marriage, relationships, gay, lesbian, of",
          "<b>Topic 29</b><br>Words: marriage, gay, law, respectful, institution",
          "<b>Topic 29</b><br>Words: marriage, gay, believe, massachusetts, and",
          "<b>Topic 29</b><br>Words: marriage, woman, between, man, constitution",
          "<b>Topic 29</b><br>Words: marriage, between, faiths, redefining, anything"
         ],
         "marker": {
          "color": "#56B4E9"
         },
         "mode": "lines",
         "name": "29_marriage_gay_between_woman",
         "type": "scatter",
         "x": [
          "2000-10-05T00:00:00.000000000",
          "2000-10-11T00:00:00.000000000",
          "2004-10-05T00:00:00.000000000",
          "2004-10-13T00:00:00.000000000",
          "2008-10-02T00:00:00.000000000"
         ],
         "y": {
          "bdata": "AgMDAgI=",
          "dtype": "i1"
         }
        },
        {
         "hoverinfo": "text",
         "hovertext": [
          "<b>Topic 30</b><br>Words: ford, mr, karl, marx, that",
          "<b>Topic 30</b><br>Words: nicaragua, support, covert, contras, that",
          "<b>Topic 30</b><br>Words: must, nicaragua, in, that, our",
          "<b>Topic 30</b><br>Words: central, that, arias, dukakis, nicaragua"
         ],
         "marker": {
          "color": "#009E73"
         },
         "mode": "lines",
         "name": "30_nicaragua_that_in_the",
         "type": "scatter",
         "x": [
          "1976-10-06T00:00:00.000000000",
          "1984-10-11T00:00:00.000000000",
          "1984-10-21T00:00:00.000000000",
          "1988-10-05T00:00:00.000000000"
         ],
         "y": {
          "bdata": "AQUEAQ==",
          "dtype": "i1"
         }
        },
        {
         "hoverinfo": "text",
         "hovertext": [
          "<b>Topic 31</b><br>Words: perfect, nice, wasnt, wouldnt, be",
          "<b>Topic 31</b><br>Words: nice, stealing, close, something, youre",
          "<b>Topic 31</b><br>Words: nbc, 00, eastern, tomorrow, wish",
          "<b>Topic 31</b><br>Words: forgotten, youd, thought, here, was",
          "<b>Topic 31</b><br>Words: itd, fine, me, be, with",
          "<b>Topic 31</b><br>Words: contactexcuse, interrupt, hate, ok, wasnt",
          "<b>Topic 31</b><br>Words: thank, here, good, how, you",
          "<b>Topic 31</b><br>Words: fun, nice, see, you, have"
         ],
         "marker": {
          "color": "#F0E442"
         },
         "mode": "lines",
         "name": "31_nice_itd_perfect_fine",
         "type": "scatter",
         "x": [
          "1988-09-25T00:00:00.000000000",
          "1988-10-13T00:00:00.000000000",
          "1992-10-15T00:00:00.000000000",
          "1992-10-19T00:00:00.000000000",
          "2008-10-07T00:00:00.000000000",
          "2016-10-09T00:00:00.000000000",
          "2024-07-27T00:00:00.000000000",
          "2024-09-10T00:00:00.000000000"
         ],
         "y": {
          "bdata": "AgEBAQECAQE=",
          "dtype": "i1"
         }
        },
        {
         "hoverinfo": "text",
         "hovertext": [
          "<b>Topic 32</b><br>Words: dingle, norwood, pending, specifically, main",
          "<b>Topic 32</b><br>Words: plan, grabbed, bowles, adjustments, simpson",
          "<b>Topic 32</b><br>Words: 1986, plan, reagans, ronald, like",
          "<b>Topic 32</b><br>Words: disastrous, repealed, replaced, plan, it",
          "<b>Topic 32</b><br>Words: biden, plan, im, radical, calls",
          "<b>Topic 32</b><br>Words: pass, republicans, deal, made, if",
          "<b>Topic 32</b><br>Words: concepts, distant, plan, something, come"
         ],
         "marker": {
          "color": "#D55E00"
         },
         "mode": "lines",
         "name": "32_plan_concepts_biden_it",
         "type": "scatter",
         "x": [
          "2000-10-17T00:00:00.000000000",
          "2012-10-03T00:00:00.000000000",
          "2016-10-04T00:00:00.000000000",
          "2016-10-09T00:00:00.000000000",
          "2020-09-29T00:00:00.000000000",
          "2020-10-22T00:00:00.000000000",
          "2024-09-10T00:00:00.000000000"
         ],
         "y": {
          "bdata": "AQIBAQMBAQ==",
          "dtype": "i1"
         }
        }
       ],
       "layout": {
        "height": 450,
        "hoverlabel": {
         "bgcolor": "white",
         "font": {
          "family": "Rockwell",
          "size": 16
         }
        },
        "legend": {
         "title": {
          "text": "<b>Global Topic Representation"
         }
        },
        "template": {
         "data": {
          "bar": [
           {
            "error_x": {
             "color": "rgb(36,36,36)"
            },
            "error_y": {
             "color": "rgb(36,36,36)"
            },
            "marker": {
             "line": {
              "color": "white",
              "width": 0.5
             },
             "pattern": {
              "fillmode": "overlay",
              "size": 10,
              "solidity": 0.2
             }
            },
            "type": "bar"
           }
          ],
          "barpolar": [
           {
            "marker": {
             "line": {
              "color": "white",
              "width": 0.5
             },
             "pattern": {
              "fillmode": "overlay",
              "size": 10,
              "solidity": 0.2
             }
            },
            "type": "barpolar"
           }
          ],
          "carpet": [
           {
            "aaxis": {
             "endlinecolor": "rgb(36,36,36)",
             "gridcolor": "white",
             "linecolor": "white",
             "minorgridcolor": "white",
             "startlinecolor": "rgb(36,36,36)"
            },
            "baxis": {
             "endlinecolor": "rgb(36,36,36)",
             "gridcolor": "white",
             "linecolor": "white",
             "minorgridcolor": "white",
             "startlinecolor": "rgb(36,36,36)"
            },
            "type": "carpet"
           }
          ],
          "choropleth": [
           {
            "colorbar": {
             "outlinewidth": 1,
             "tickcolor": "rgb(36,36,36)",
             "ticks": "outside"
            },
            "type": "choropleth"
           }
          ],
          "contour": [
           {
            "colorbar": {
             "outlinewidth": 1,
             "tickcolor": "rgb(36,36,36)",
             "ticks": "outside"
            },
            "colorscale": [
             [
              0,
              "#440154"
             ],
             [
              0.1111111111111111,
              "#482878"
             ],
             [
              0.2222222222222222,
              "#3e4989"
             ],
             [
              0.3333333333333333,
              "#31688e"
             ],
             [
              0.4444444444444444,
              "#26828e"
             ],
             [
              0.5555555555555556,
              "#1f9e89"
             ],
             [
              0.6666666666666666,
              "#35b779"
             ],
             [
              0.7777777777777778,
              "#6ece58"
             ],
             [
              0.8888888888888888,
              "#b5de2b"
             ],
             [
              1,
              "#fde725"
             ]
            ],
            "type": "contour"
           }
          ],
          "contourcarpet": [
           {
            "colorbar": {
             "outlinewidth": 1,
             "tickcolor": "rgb(36,36,36)",
             "ticks": "outside"
            },
            "type": "contourcarpet"
           }
          ],
          "heatmap": [
           {
            "colorbar": {
             "outlinewidth": 1,
             "tickcolor": "rgb(36,36,36)",
             "ticks": "outside"
            },
            "colorscale": [
             [
              0,
              "#440154"
             ],
             [
              0.1111111111111111,
              "#482878"
             ],
             [
              0.2222222222222222,
              "#3e4989"
             ],
             [
              0.3333333333333333,
              "#31688e"
             ],
             [
              0.4444444444444444,
              "#26828e"
             ],
             [
              0.5555555555555556,
              "#1f9e89"
             ],
             [
              0.6666666666666666,
              "#35b779"
             ],
             [
              0.7777777777777778,
              "#6ece58"
             ],
             [
              0.8888888888888888,
              "#b5de2b"
             ],
             [
              1,
              "#fde725"
             ]
            ],
            "type": "heatmap"
           }
          ],
          "histogram": [
           {
            "marker": {
             "line": {
              "color": "white",
              "width": 0.6
             }
            },
            "type": "histogram"
           }
          ],
          "histogram2d": [
           {
            "colorbar": {
             "outlinewidth": 1,
             "tickcolor": "rgb(36,36,36)",
             "ticks": "outside"
            },
            "colorscale": [
             [
              0,
              "#440154"
             ],
             [
              0.1111111111111111,
              "#482878"
             ],
             [
              0.2222222222222222,
              "#3e4989"
             ],
             [
              0.3333333333333333,
              "#31688e"
             ],
             [
              0.4444444444444444,
              "#26828e"
             ],
             [
              0.5555555555555556,
              "#1f9e89"
             ],
             [
              0.6666666666666666,
              "#35b779"
             ],
             [
              0.7777777777777778,
              "#6ece58"
             ],
             [
              0.8888888888888888,
              "#b5de2b"
             ],
             [
              1,
              "#fde725"
             ]
            ],
            "type": "histogram2d"
           }
          ],
          "histogram2dcontour": [
           {
            "colorbar": {
             "outlinewidth": 1,
             "tickcolor": "rgb(36,36,36)",
             "ticks": "outside"
            },
            "colorscale": [
             [
              0,
              "#440154"
             ],
             [
              0.1111111111111111,
              "#482878"
             ],
             [
              0.2222222222222222,
              "#3e4989"
             ],
             [
              0.3333333333333333,
              "#31688e"
             ],
             [
              0.4444444444444444,
              "#26828e"
             ],
             [
              0.5555555555555556,
              "#1f9e89"
             ],
             [
              0.6666666666666666,
              "#35b779"
             ],
             [
              0.7777777777777778,
              "#6ece58"
             ],
             [
              0.8888888888888888,
              "#b5de2b"
             ],
             [
              1,
              "#fde725"
             ]
            ],
            "type": "histogram2dcontour"
           }
          ],
          "mesh3d": [
           {
            "colorbar": {
             "outlinewidth": 1,
             "tickcolor": "rgb(36,36,36)",
             "ticks": "outside"
            },
            "type": "mesh3d"
           }
          ],
          "parcoords": [
           {
            "line": {
             "colorbar": {
              "outlinewidth": 1,
              "tickcolor": "rgb(36,36,36)",
              "ticks": "outside"
             }
            },
            "type": "parcoords"
           }
          ],
          "pie": [
           {
            "automargin": true,
            "type": "pie"
           }
          ],
          "scatter": [
           {
            "fillpattern": {
             "fillmode": "overlay",
             "size": 10,
             "solidity": 0.2
            },
            "type": "scatter"
           }
          ],
          "scatter3d": [
           {
            "line": {
             "colorbar": {
              "outlinewidth": 1,
              "tickcolor": "rgb(36,36,36)",
              "ticks": "outside"
             }
            },
            "marker": {
             "colorbar": {
              "outlinewidth": 1,
              "tickcolor": "rgb(36,36,36)",
              "ticks": "outside"
             }
            },
            "type": "scatter3d"
           }
          ],
          "scattercarpet": [
           {
            "marker": {
             "colorbar": {
              "outlinewidth": 1,
              "tickcolor": "rgb(36,36,36)",
              "ticks": "outside"
             }
            },
            "type": "scattercarpet"
           }
          ],
          "scattergeo": [
           {
            "marker": {
             "colorbar": {
              "outlinewidth": 1,
              "tickcolor": "rgb(36,36,36)",
              "ticks": "outside"
             }
            },
            "type": "scattergeo"
           }
          ],
          "scattergl": [
           {
            "marker": {
             "colorbar": {
              "outlinewidth": 1,
              "tickcolor": "rgb(36,36,36)",
              "ticks": "outside"
             }
            },
            "type": "scattergl"
           }
          ],
          "scattermap": [
           {
            "marker": {
             "colorbar": {
              "outlinewidth": 1,
              "tickcolor": "rgb(36,36,36)",
              "ticks": "outside"
             }
            },
            "type": "scattermap"
           }
          ],
          "scattermapbox": [
           {
            "marker": {
             "colorbar": {
              "outlinewidth": 1,
              "tickcolor": "rgb(36,36,36)",
              "ticks": "outside"
             }
            },
            "type": "scattermapbox"
           }
          ],
          "scatterpolar": [
           {
            "marker": {
             "colorbar": {
              "outlinewidth": 1,
              "tickcolor": "rgb(36,36,36)",
              "ticks": "outside"
             }
            },
            "type": "scatterpolar"
           }
          ],
          "scatterpolargl": [
           {
            "marker": {
             "colorbar": {
              "outlinewidth": 1,
              "tickcolor": "rgb(36,36,36)",
              "ticks": "outside"
             }
            },
            "type": "scatterpolargl"
           }
          ],
          "scatterternary": [
           {
            "marker": {
             "colorbar": {
              "outlinewidth": 1,
              "tickcolor": "rgb(36,36,36)",
              "ticks": "outside"
             }
            },
            "type": "scatterternary"
           }
          ],
          "surface": [
           {
            "colorbar": {
             "outlinewidth": 1,
             "tickcolor": "rgb(36,36,36)",
             "ticks": "outside"
            },
            "colorscale": [
             [
              0,
              "#440154"
             ],
             [
              0.1111111111111111,
              "#482878"
             ],
             [
              0.2222222222222222,
              "#3e4989"
             ],
             [
              0.3333333333333333,
              "#31688e"
             ],
             [
              0.4444444444444444,
              "#26828e"
             ],
             [
              0.5555555555555556,
              "#1f9e89"
             ],
             [
              0.6666666666666666,
              "#35b779"
             ],
             [
              0.7777777777777778,
              "#6ece58"
             ],
             [
              0.8888888888888888,
              "#b5de2b"
             ],
             [
              1,
              "#fde725"
             ]
            ],
            "type": "surface"
           }
          ],
          "table": [
           {
            "cells": {
             "fill": {
              "color": "rgb(237,237,237)"
             },
             "line": {
              "color": "white"
             }
            },
            "header": {
             "fill": {
              "color": "rgb(217,217,217)"
             },
             "line": {
              "color": "white"
             }
            },
            "type": "table"
           }
          ]
         },
         "layout": {
          "annotationdefaults": {
           "arrowhead": 0,
           "arrowwidth": 1
          },
          "autotypenumbers": "strict",
          "coloraxis": {
           "colorbar": {
            "outlinewidth": 1,
            "tickcolor": "rgb(36,36,36)",
            "ticks": "outside"
           }
          },
          "colorscale": {
           "diverging": [
            [
             0,
             "rgb(103,0,31)"
            ],
            [
             0.1,
             "rgb(178,24,43)"
            ],
            [
             0.2,
             "rgb(214,96,77)"
            ],
            [
             0.3,
             "rgb(244,165,130)"
            ],
            [
             0.4,
             "rgb(253,219,199)"
            ],
            [
             0.5,
             "rgb(247,247,247)"
            ],
            [
             0.6,
             "rgb(209,229,240)"
            ],
            [
             0.7,
             "rgb(146,197,222)"
            ],
            [
             0.8,
             "rgb(67,147,195)"
            ],
            [
             0.9,
             "rgb(33,102,172)"
            ],
            [
             1,
             "rgb(5,48,97)"
            ]
           ],
           "sequential": [
            [
             0,
             "#440154"
            ],
            [
             0.1111111111111111,
             "#482878"
            ],
            [
             0.2222222222222222,
             "#3e4989"
            ],
            [
             0.3333333333333333,
             "#31688e"
            ],
            [
             0.4444444444444444,
             "#26828e"
            ],
            [
             0.5555555555555556,
             "#1f9e89"
            ],
            [
             0.6666666666666666,
             "#35b779"
            ],
            [
             0.7777777777777778,
             "#6ece58"
            ],
            [
             0.8888888888888888,
             "#b5de2b"
            ],
            [
             1,
             "#fde725"
            ]
           ],
           "sequentialminus": [
            [
             0,
             "#440154"
            ],
            [
             0.1111111111111111,
             "#482878"
            ],
            [
             0.2222222222222222,
             "#3e4989"
            ],
            [
             0.3333333333333333,
             "#31688e"
            ],
            [
             0.4444444444444444,
             "#26828e"
            ],
            [
             0.5555555555555556,
             "#1f9e89"
            ],
            [
             0.6666666666666666,
             "#35b779"
            ],
            [
             0.7777777777777778,
             "#6ece58"
            ],
            [
             0.8888888888888888,
             "#b5de2b"
            ],
            [
             1,
             "#fde725"
            ]
           ]
          },
          "colorway": [
           "#1F77B4",
           "#FF7F0E",
           "#2CA02C",
           "#D62728",
           "#9467BD",
           "#8C564B",
           "#E377C2",
           "#7F7F7F",
           "#BCBD22",
           "#17BECF"
          ],
          "font": {
           "color": "rgb(36,36,36)"
          },
          "geo": {
           "bgcolor": "white",
           "lakecolor": "white",
           "landcolor": "white",
           "showlakes": true,
           "showland": true,
           "subunitcolor": "white"
          },
          "hoverlabel": {
           "align": "left"
          },
          "hovermode": "closest",
          "mapbox": {
           "style": "light"
          },
          "paper_bgcolor": "white",
          "plot_bgcolor": "white",
          "polar": {
           "angularaxis": {
            "gridcolor": "rgb(232,232,232)",
            "linecolor": "rgb(36,36,36)",
            "showgrid": false,
            "showline": true,
            "ticks": "outside"
           },
           "bgcolor": "white",
           "radialaxis": {
            "gridcolor": "rgb(232,232,232)",
            "linecolor": "rgb(36,36,36)",
            "showgrid": false,
            "showline": true,
            "ticks": "outside"
           }
          },
          "scene": {
           "xaxis": {
            "backgroundcolor": "white",
            "gridcolor": "rgb(232,232,232)",
            "gridwidth": 2,
            "linecolor": "rgb(36,36,36)",
            "showbackground": true,
            "showgrid": false,
            "showline": true,
            "ticks": "outside",
            "zeroline": false,
            "zerolinecolor": "rgb(36,36,36)"
           },
           "yaxis": {
            "backgroundcolor": "white",
            "gridcolor": "rgb(232,232,232)",
            "gridwidth": 2,
            "linecolor": "rgb(36,36,36)",
            "showbackground": true,
            "showgrid": false,
            "showline": true,
            "ticks": "outside",
            "zeroline": false,
            "zerolinecolor": "rgb(36,36,36)"
           },
           "zaxis": {
            "backgroundcolor": "white",
            "gridcolor": "rgb(232,232,232)",
            "gridwidth": 2,
            "linecolor": "rgb(36,36,36)",
            "showbackground": true,
            "showgrid": false,
            "showline": true,
            "ticks": "outside",
            "zeroline": false,
            "zerolinecolor": "rgb(36,36,36)"
           }
          },
          "shapedefaults": {
           "fillcolor": "black",
           "line": {
            "width": 0
           },
           "opacity": 0.3
          },
          "ternary": {
           "aaxis": {
            "gridcolor": "rgb(232,232,232)",
            "linecolor": "rgb(36,36,36)",
            "showgrid": false,
            "showline": true,
            "ticks": "outside"
           },
           "baxis": {
            "gridcolor": "rgb(232,232,232)",
            "linecolor": "rgb(36,36,36)",
            "showgrid": false,
            "showline": true,
            "ticks": "outside"
           },
           "bgcolor": "white",
           "caxis": {
            "gridcolor": "rgb(232,232,232)",
            "linecolor": "rgb(36,36,36)",
            "showgrid": false,
            "showline": true,
            "ticks": "outside"
           }
          },
          "title": {
           "x": 0.05
          },
          "xaxis": {
           "automargin": true,
           "gridcolor": "rgb(232,232,232)",
           "linecolor": "rgb(36,36,36)",
           "showgrid": false,
           "showline": true,
           "ticks": "outside",
           "title": {
            "standoff": 15
           },
           "zeroline": false,
           "zerolinecolor": "rgb(36,36,36)"
          },
          "yaxis": {
           "automargin": true,
           "gridcolor": "rgb(232,232,232)",
           "linecolor": "rgb(36,36,36)",
           "showgrid": false,
           "showline": true,
           "ticks": "outside",
           "title": {
            "standoff": 15
           },
           "zeroline": false,
           "zerolinecolor": "rgb(36,36,36)"
          }
         }
        },
        "title": {
         "font": {
          "color": "Black",
          "size": 22
         },
         "text": "<b>Topics over Time</b>",
         "x": 0.4,
         "xanchor": "center",
         "y": 0.95,
         "yanchor": "top"
        },
        "width": 1250,
        "xaxis": {
         "showgrid": true
        },
        "yaxis": {
         "showgrid": true,
         "title": {
          "text": "Frequency"
         }
        }
       }
      }
     },
     "metadata": {},
     "output_type": "display_data"
    }
   ],
   "source": [
    "model, topics_by_date, *_ = run_bertopic_over_metadata(df_debates, groupby_col=\"date\")\n",
    "model.visualize_topics_over_time(topics_by_date)"
   ]
  },
  {
   "cell_type": "code",
   "execution_count": 7,
   "id": "391bb2c2",
   "metadata": {},
   "outputs": [
    {
     "name": "stderr",
     "output_type": "stream",
     "text": [
      "2025-05-23 18:03:20,455 - BERTopic - Dimensionality - Fitting the dimensionality reduction algorithm\n"
     ]
    },
    {
     "name": "stdout",
     "output_type": "stream",
     "text": [
      "Creating new BERTopic model using embedding model: all-MiniLM-L6-v2\n",
      "Fitting BERTopic...\n"
     ]
    },
    {
     "name": "stderr",
     "output_type": "stream",
     "text": [
      "2025-05-23 18:03:24,434 - BERTopic - Dimensionality - Completed ✓\n",
      "2025-05-23 18:03:24,436 - BERTopic - Cluster - Start clustering the reduced embeddings\n",
      "2025-05-23 18:03:24,587 - BERTopic - Cluster - Completed ✓\n",
      "2025-05-23 18:03:24,592 - BERTopic - Representation - Fine-tuning topics using representation models.\n",
      "2025-05-23 18:03:25,008 - BERTopic - Representation - Completed ✓\n",
      "2025-05-23 18:03:25,408 - BERTopic - Topic reduction - Reducing number of topics\n",
      "2025-05-23 18:03:25,425 - BERTopic - Representation - Fine-tuning topics using representation models.\n",
      "2025-05-23 18:03:25,806 - BERTopic - Representation - Completed ✓\n",
      "2025-05-23 18:03:25,809 - BERTopic - Topic reduction - Reduced number of topics from 73 to 14\n"
     ]
    },
    {
     "name": "stdout",
     "output_type": "stream",
     "text": [
      "Computing topic evolution over 'actor'...\n"
     ]
    },
    {
     "ename": "DateParseError",
     "evalue": "Unknown datetime string format, unable to parse: Kennedy, at position 0",
     "output_type": "error",
     "traceback": [
      "\u001b[31m---------------------------------------------------------------------------\u001b[39m",
      "\u001b[31mDateParseError\u001b[39m                            Traceback (most recent call last)",
      "\u001b[36mCell\u001b[39m\u001b[36m \u001b[39m\u001b[32mIn[7]\u001b[39m\u001b[32m, line 1\u001b[39m\n\u001b[32m----> \u001b[39m\u001b[32m1\u001b[39m _, topics_by_actor, *_ = \u001b[43mrun_bertopic_over_metadata\u001b[49m\u001b[43m(\u001b[49m\u001b[43mdf_debates\u001b[49m\u001b[43m,\u001b[49m\u001b[43m \u001b[49m\u001b[43mgroupby_col\u001b[49m\u001b[43m=\u001b[49m\u001b[33;43m\"\u001b[39;49m\u001b[33;43mactor\u001b[39;49m\u001b[33;43m\"\u001b[39;49m\u001b[43m)\u001b[49m\n\u001b[32m      2\u001b[39m model.visualize_topics_over_time(topics_by_actor)\n",
      "\u001b[36mCell\u001b[39m\u001b[36m \u001b[39m\u001b[32mIn[4]\u001b[39m\u001b[32m, line 61\u001b[39m, in \u001b[36mrun_bertopic_over_metadata\u001b[39m\u001b[34m(df, groupby_col, model, embedding_model, embedder, embeddings, verbose)\u001b[39m\n\u001b[32m     59\u001b[39m \u001b[38;5;28;01mif\u001b[39;00m verbose:\n\u001b[32m     60\u001b[39m     \u001b[38;5;28mprint\u001b[39m(\u001b[33mf\u001b[39m\u001b[33m\"\u001b[39m\u001b[33mComputing topic evolution over \u001b[39m\u001b[33m'\u001b[39m\u001b[38;5;132;01m{\u001b[39;00mgroupby_col\u001b[38;5;132;01m}\u001b[39;00m\u001b[33m'\u001b[39m\u001b[33m...\u001b[39m\u001b[33m\"\u001b[39m)\n\u001b[32m---> \u001b[39m\u001b[32m61\u001b[39m topics_over_group = \u001b[43mmodel\u001b[49m\u001b[43m.\u001b[49m\u001b[43mtopics_over_time\u001b[49m\u001b[43m(\u001b[49m\u001b[43mdocs\u001b[49m\u001b[43m,\u001b[49m\u001b[43m \u001b[49m\u001b[43mtimestamps\u001b[49m\u001b[43m)\u001b[49m\n\u001b[32m     63\u001b[39m \u001b[38;5;28;01mreturn\u001b[39;00m model, topics_over_group, topics, probs\n",
      "\u001b[36mFile \u001b[39m\u001b[32m~/.local/lib/python3.12/site-packages/bertopic/_bertopic.py:867\u001b[39m, in \u001b[36mBERTopic.topics_over_time\u001b[39m\u001b[34m(self, docs, timestamps, topics, nr_bins, datetime_format, evolution_tuning, global_tuning)\u001b[39m\n\u001b[32m    865\u001b[39m \u001b[38;5;28;01mif\u001b[39;00m \u001b[38;5;28misinstance\u001b[39m(timestamps[\u001b[32m0\u001b[39m], \u001b[38;5;28mstr\u001b[39m):\n\u001b[32m    866\u001b[39m     infer_datetime_format = \u001b[38;5;28;01mTrue\u001b[39;00m \u001b[38;5;28;01mif\u001b[39;00m \u001b[38;5;129;01mnot\u001b[39;00m datetime_format \u001b[38;5;28;01melse\u001b[39;00m \u001b[38;5;28;01mFalse\u001b[39;00m\n\u001b[32m--> \u001b[39m\u001b[32m867\u001b[39m     documents[\u001b[33m\"\u001b[39m\u001b[33mTimestamps\u001b[39m\u001b[33m\"\u001b[39m] = \u001b[43mpd\u001b[49m\u001b[43m.\u001b[49m\u001b[43mto_datetime\u001b[49m\u001b[43m(\u001b[49m\n\u001b[32m    868\u001b[39m \u001b[43m        \u001b[49m\u001b[43mdocuments\u001b[49m\u001b[43m[\u001b[49m\u001b[33;43m\"\u001b[39;49m\u001b[33;43mTimestamps\u001b[39;49m\u001b[33;43m\"\u001b[39;49m\u001b[43m]\u001b[49m\u001b[43m,\u001b[49m\n\u001b[32m    869\u001b[39m \u001b[43m        \u001b[49m\u001b[43minfer_datetime_format\u001b[49m\u001b[43m=\u001b[49m\u001b[43minfer_datetime_format\u001b[49m\u001b[43m,\u001b[49m\n\u001b[32m    870\u001b[39m \u001b[43m        \u001b[49m\u001b[38;5;28;43mformat\u001b[39;49m\u001b[43m=\u001b[49m\u001b[43mdatetime_format\u001b[49m\u001b[43m,\u001b[49m\n\u001b[32m    871\u001b[39m \u001b[43m    \u001b[49m\u001b[43m)\u001b[49m\n\u001b[32m    873\u001b[39m \u001b[38;5;28;01mif\u001b[39;00m nr_bins:\n\u001b[32m    874\u001b[39m     documents[\u001b[33m\"\u001b[39m\u001b[33mBins\u001b[39m\u001b[33m\"\u001b[39m] = pd.cut(documents.Timestamps, bins=nr_bins)\n",
      "\u001b[36mFile \u001b[39m\u001b[32m~/.local/lib/python3.12/site-packages/pandas/core/tools/datetimes.py:1063\u001b[39m, in \u001b[36mto_datetime\u001b[39m\u001b[34m(arg, errors, dayfirst, yearfirst, utc, format, exact, unit, infer_datetime_format, origin, cache)\u001b[39m\n\u001b[32m   1061\u001b[39m             result = arg.tz_localize(\u001b[33m\"\u001b[39m\u001b[33mutc\u001b[39m\u001b[33m\"\u001b[39m)\n\u001b[32m   1062\u001b[39m \u001b[38;5;28;01melif\u001b[39;00m \u001b[38;5;28misinstance\u001b[39m(arg, ABCSeries):\n\u001b[32m-> \u001b[39m\u001b[32m1063\u001b[39m     cache_array = \u001b[43m_maybe_cache\u001b[49m\u001b[43m(\u001b[49m\u001b[43marg\u001b[49m\u001b[43m,\u001b[49m\u001b[43m \u001b[49m\u001b[38;5;28;43mformat\u001b[39;49m\u001b[43m,\u001b[49m\u001b[43m \u001b[49m\u001b[43mcache\u001b[49m\u001b[43m,\u001b[49m\u001b[43m \u001b[49m\u001b[43mconvert_listlike\u001b[49m\u001b[43m)\u001b[49m\n\u001b[32m   1064\u001b[39m     \u001b[38;5;28;01mif\u001b[39;00m \u001b[38;5;129;01mnot\u001b[39;00m cache_array.empty:\n\u001b[32m   1065\u001b[39m         result = arg.map(cache_array)\n",
      "\u001b[36mFile \u001b[39m\u001b[32m~/.local/lib/python3.12/site-packages/pandas/core/tools/datetimes.py:247\u001b[39m, in \u001b[36m_maybe_cache\u001b[39m\u001b[34m(arg, format, cache, convert_listlike)\u001b[39m\n\u001b[32m    245\u001b[39m unique_dates = unique(arg)\n\u001b[32m    246\u001b[39m \u001b[38;5;28;01mif\u001b[39;00m \u001b[38;5;28mlen\u001b[39m(unique_dates) < \u001b[38;5;28mlen\u001b[39m(arg):\n\u001b[32m--> \u001b[39m\u001b[32m247\u001b[39m     cache_dates = \u001b[43mconvert_listlike\u001b[49m\u001b[43m(\u001b[49m\u001b[43munique_dates\u001b[49m\u001b[43m,\u001b[49m\u001b[43m \u001b[49m\u001b[38;5;28;43mformat\u001b[39;49m\u001b[43m)\u001b[49m\n\u001b[32m    248\u001b[39m     \u001b[38;5;66;03m# GH#45319\u001b[39;00m\n\u001b[32m    249\u001b[39m     \u001b[38;5;28;01mtry\u001b[39;00m:\n",
      "\u001b[36mFile \u001b[39m\u001b[32m~/.local/lib/python3.12/site-packages/pandas/core/tools/datetimes.py:435\u001b[39m, in \u001b[36m_convert_listlike_datetimes\u001b[39m\u001b[34m(arg, format, name, utc, unit, errors, dayfirst, yearfirst, exact)\u001b[39m\n\u001b[32m    432\u001b[39m \u001b[38;5;28;01mif\u001b[39;00m \u001b[38;5;28mformat\u001b[39m \u001b[38;5;129;01mis\u001b[39;00m \u001b[38;5;129;01mnot\u001b[39;00m \u001b[38;5;28;01mNone\u001b[39;00m \u001b[38;5;129;01mand\u001b[39;00m \u001b[38;5;28mformat\u001b[39m != \u001b[33m\"\u001b[39m\u001b[33mmixed\u001b[39m\u001b[33m\"\u001b[39m:\n\u001b[32m    433\u001b[39m     \u001b[38;5;28;01mreturn\u001b[39;00m _array_strptime_with_fallback(arg, name, utc, \u001b[38;5;28mformat\u001b[39m, exact, errors)\n\u001b[32m--> \u001b[39m\u001b[32m435\u001b[39m result, tz_parsed = \u001b[43mobjects_to_datetime64\u001b[49m\u001b[43m(\u001b[49m\n\u001b[32m    436\u001b[39m \u001b[43m    \u001b[49m\u001b[43marg\u001b[49m\u001b[43m,\u001b[49m\n\u001b[32m    437\u001b[39m \u001b[43m    \u001b[49m\u001b[43mdayfirst\u001b[49m\u001b[43m=\u001b[49m\u001b[43mdayfirst\u001b[49m\u001b[43m,\u001b[49m\n\u001b[32m    438\u001b[39m \u001b[43m    \u001b[49m\u001b[43myearfirst\u001b[49m\u001b[43m=\u001b[49m\u001b[43myearfirst\u001b[49m\u001b[43m,\u001b[49m\n\u001b[32m    439\u001b[39m \u001b[43m    \u001b[49m\u001b[43mutc\u001b[49m\u001b[43m=\u001b[49m\u001b[43mutc\u001b[49m\u001b[43m,\u001b[49m\n\u001b[32m    440\u001b[39m \u001b[43m    \u001b[49m\u001b[43merrors\u001b[49m\u001b[43m=\u001b[49m\u001b[43merrors\u001b[49m\u001b[43m,\u001b[49m\n\u001b[32m    441\u001b[39m \u001b[43m    \u001b[49m\u001b[43mallow_object\u001b[49m\u001b[43m=\u001b[49m\u001b[38;5;28;43;01mTrue\u001b[39;49;00m\u001b[43m,\u001b[49m\n\u001b[32m    442\u001b[39m \u001b[43m\u001b[49m\u001b[43m)\u001b[49m\n\u001b[32m    444\u001b[39m \u001b[38;5;28;01mif\u001b[39;00m tz_parsed \u001b[38;5;129;01mis\u001b[39;00m \u001b[38;5;129;01mnot\u001b[39;00m \u001b[38;5;28;01mNone\u001b[39;00m:\n\u001b[32m    445\u001b[39m     \u001b[38;5;66;03m# We can take a shortcut since the datetime64 numpy array\u001b[39;00m\n\u001b[32m    446\u001b[39m     \u001b[38;5;66;03m# is in UTC\u001b[39;00m\n\u001b[32m    447\u001b[39m     out_unit = np.datetime_data(result.dtype)[\u001b[32m0\u001b[39m]\n",
      "\u001b[36mFile \u001b[39m\u001b[32m~/.local/lib/python3.12/site-packages/pandas/core/arrays/datetimes.py:2398\u001b[39m, in \u001b[36mobjects_to_datetime64\u001b[39m\u001b[34m(data, dayfirst, yearfirst, utc, errors, allow_object, out_unit)\u001b[39m\n\u001b[32m   2395\u001b[39m \u001b[38;5;66;03m# if str-dtype, convert\u001b[39;00m\n\u001b[32m   2396\u001b[39m data = np.asarray(data, dtype=np.object_)\n\u001b[32m-> \u001b[39m\u001b[32m2398\u001b[39m result, tz_parsed = \u001b[43mtslib\u001b[49m\u001b[43m.\u001b[49m\u001b[43marray_to_datetime\u001b[49m\u001b[43m(\u001b[49m\n\u001b[32m   2399\u001b[39m \u001b[43m    \u001b[49m\u001b[43mdata\u001b[49m\u001b[43m,\u001b[49m\n\u001b[32m   2400\u001b[39m \u001b[43m    \u001b[49m\u001b[43merrors\u001b[49m\u001b[43m=\u001b[49m\u001b[43merrors\u001b[49m\u001b[43m,\u001b[49m\n\u001b[32m   2401\u001b[39m \u001b[43m    \u001b[49m\u001b[43mutc\u001b[49m\u001b[43m=\u001b[49m\u001b[43mutc\u001b[49m\u001b[43m,\u001b[49m\n\u001b[32m   2402\u001b[39m \u001b[43m    \u001b[49m\u001b[43mdayfirst\u001b[49m\u001b[43m=\u001b[49m\u001b[43mdayfirst\u001b[49m\u001b[43m,\u001b[49m\n\u001b[32m   2403\u001b[39m \u001b[43m    \u001b[49m\u001b[43myearfirst\u001b[49m\u001b[43m=\u001b[49m\u001b[43myearfirst\u001b[49m\u001b[43m,\u001b[49m\n\u001b[32m   2404\u001b[39m \u001b[43m    \u001b[49m\u001b[43mcreso\u001b[49m\u001b[43m=\u001b[49m\u001b[43mabbrev_to_npy_unit\u001b[49m\u001b[43m(\u001b[49m\u001b[43mout_unit\u001b[49m\u001b[43m)\u001b[49m\u001b[43m,\u001b[49m\n\u001b[32m   2405\u001b[39m \u001b[43m\u001b[49m\u001b[43m)\u001b[49m\n\u001b[32m   2407\u001b[39m \u001b[38;5;28;01mif\u001b[39;00m tz_parsed \u001b[38;5;129;01mis\u001b[39;00m \u001b[38;5;129;01mnot\u001b[39;00m \u001b[38;5;28;01mNone\u001b[39;00m:\n\u001b[32m   2408\u001b[39m     \u001b[38;5;66;03m# We can take a shortcut since the datetime64 numpy array\u001b[39;00m\n\u001b[32m   2409\u001b[39m     \u001b[38;5;66;03m#  is in UTC\u001b[39;00m\n\u001b[32m   2410\u001b[39m     \u001b[38;5;28;01mreturn\u001b[39;00m result, tz_parsed\n",
      "\u001b[36mFile \u001b[39m\u001b[32mtslib.pyx:414\u001b[39m, in \u001b[36mpandas._libs.tslib.array_to_datetime\u001b[39m\u001b[34m()\u001b[39m\n",
      "\u001b[36mFile \u001b[39m\u001b[32mtslib.pyx:596\u001b[39m, in \u001b[36mpandas._libs.tslib.array_to_datetime\u001b[39m\u001b[34m()\u001b[39m\n",
      "\u001b[36mFile \u001b[39m\u001b[32mtslib.pyx:553\u001b[39m, in \u001b[36mpandas._libs.tslib.array_to_datetime\u001b[39m\u001b[34m()\u001b[39m\n",
      "\u001b[36mFile \u001b[39m\u001b[32mconversion.pyx:641\u001b[39m, in \u001b[36mpandas._libs.tslibs.conversion.convert_str_to_tsobject\u001b[39m\u001b[34m()\u001b[39m\n",
      "\u001b[36mFile \u001b[39m\u001b[32mparsing.pyx:336\u001b[39m, in \u001b[36mpandas._libs.tslibs.parsing.parse_datetime_string\u001b[39m\u001b[34m()\u001b[39m\n",
      "\u001b[36mFile \u001b[39m\u001b[32mparsing.pyx:666\u001b[39m, in \u001b[36mpandas._libs.tslibs.parsing.dateutil_parse\u001b[39m\u001b[34m()\u001b[39m\n",
      "\u001b[31mDateParseError\u001b[39m: Unknown datetime string format, unable to parse: Kennedy, at position 0"
     ]
    }
   ],
   "source": [
    "_, topics_by_actor, *_ = run_bertopic_over_metadata(df_debates, groupby_col=\"actor\")\n",
    "model.visualize_topics_over_time(topics_by_actor)"
   ]
  },
  {
   "cell_type": "code",
   "execution_count": null,
   "id": "4a66485d",
   "metadata": {},
   "outputs": [],
   "source": [
    "_, topics_by_party, *_ = run_bertopic_over_metadata(df_debates, groupby_col=\"party\")\n",
    "model.visualize_topics_over_time(topics_by_party)"
   ]
  }
 ],
 "metadata": {
  "kernelspec": {
   "display_name": "tensorflow",
   "language": "python",
   "name": "python3"
  },
  "language_info": {
   "codemirror_mode": {
    "name": "ipython",
    "version": 3
   },
   "file_extension": ".py",
   "mimetype": "text/x-python",
   "name": "python",
   "nbconvert_exporter": "python",
   "pygments_lexer": "ipython3",
   "version": "3.12.9"
  }
 },
 "nbformat": 4,
 "nbformat_minor": 5
}
