{
 "cells": [
  {
   "cell_type": "markdown",
   "id": "d2f3f5b2-38c4-4806-a6b6-df0f3446618b",
   "metadata": {},
   "source": [
    "# Install & Import Libraries"
   ]
  },
  {
   "cell_type": "markdown",
   "id": "24581ff5-4bd7-469f-aa76-69a7ae2753fe",
   "metadata": {},
   "source": [
    "# BERTopic per Year"
   ]
  },
  {
   "cell_type": "code",
   "execution_count": 2,
   "id": "14267a62-1993-4612-9c75-b21fb269ff75",
   "metadata": {},
   "outputs": [],
   "source": [
    "#!pip install bertopic[all] umap-learn"
   ]
  },
  {
   "cell_type": "code",
   "execution_count": 3,
   "id": "8eebe8f4-975d-475c-b27e-f236fca42a47",
   "metadata": {},
   "outputs": [],
   "source": [
    "from bertopic import BERTopic\n",
    "from umap import UMAP\n",
    "from bertopic.representation import KeyBERTInspired\n",
    "from bertopic.vectorizers import ClassTfidfTransformer\n",
    "import pandas as pd\n",
    "from sentence_transformers import SentenceTransformer"
   ]
  },
  {
   "cell_type": "code",
   "execution_count": 4,
   "id": "3af2f63c",
   "metadata": {},
   "outputs": [],
   "source": [
    "df_debates = pd.read_csv('debate_transcripts_cleaned.csv', encoding='utf-8')\n",
    "df_debates = df_debates[df_debates[\"is_candidate\"] == True].copy()"
   ]
  },
  {
   "cell_type": "code",
   "execution_count": 5,
   "id": "97d4c122-7fd6-4152-8328-fa56c4e187fb",
   "metadata": {},
   "outputs": [
    {
     "data": {
      "application/vnd.jupyter.widget-view+json": {
       "model_id": "66bb39c5e3df439aa32c02716ac55862",
       "version_major": 2,
       "version_minor": 0
      },
      "text/plain": [
       "Batches:   0%|          | 0/143 [00:00<?, ?it/s]"
      ]
     },
     "metadata": {},
     "output_type": "display_data"
    }
   ],
   "source": [
    "embedderMiniLM = SentenceTransformer(\"all-MiniLM-L6-v2\")\n",
    "df_short = df_debates[df_debates[\"dialogue\"].str.split().str.len() > 5]  # remove anything shorter than 6 words\n",
    "docs = df_short[\"dialogue\"].tolist()\n",
    "embeddingsMiniLM=embedderMiniLM.encode(docs, show_progress_bar=True)\n",
    "\n",
    "def run_bertopic_over_metadata(df, groupby_col=\"year\", model=None, embedding_model=\"all-MiniLM-L6-v2\",embedder=embedderMiniLM, embeddings=embeddingsMiniLM, verbose=True):\n",
    "    \"\"\"\n",
    "    Fits BERTopic to the 'dialogue' column of df and returns topic model and topics over time/group.\n",
    "\n",
    "    Parameters:\n",
    "        df (pd.DataFrame): DataFrame with at least 'dialogue' and one metadata column\n",
    "        groupby_col (str): Column in df to group topic evolution by. Options: \"year\", \"date\", \"debate_title\", \"actor\", \"party\"\n",
    "        model (BERTopic or None): Pass an existing BERTopic model to reuse, or None to create new\n",
    "        embedding_model (str or SentenceTransformer): Sentence embedding model name or object\n",
    "        verbose (bool): Whether to print status messages\n",
    "\n",
    "    Returns:\n",
    "        topic_model (BERTopic)\n",
    "        topics_over_group (pd.DataFrame)\n",
    "        topics (List[int])\n",
    "        probs (List[float])\n",
    "    \"\"\"\n",
    "\n",
    "    assert \"dialogue\" in df.columns, \"DataFrame must have a 'dialogue' column.\"\n",
    "    assert groupby_col in df.columns, f\"{groupby_col} not found in DataFrame columns.\"\n",
    "\n",
    "    df = df[df[\"dialogue\"].str.split().str.len() > 5]  # remove anything shorter than 6 words\n",
    "    docs = df[\"dialogue\"].tolist()\n",
    "    group_data = df[groupby_col]\n",
    "    timestamps = group_data.astype(str).tolist()\n",
    "\n",
    "    if embedder is None:\n",
    "        if verbose:\n",
    "            print(f\"Creating embedding model: {embedding_model}\")\n",
    "        embedder=SentenceTransformer(embedding_model)\n",
    "\n",
    "    if embeddings is None:\n",
    "        if verbose:\n",
    "            print(f\"Embedding encoding\")\n",
    "        embeddings=embedder.encode(docs, show_progress_bar=True)\n",
    "\n",
    "    if model is None:\n",
    "        if verbose:\n",
    "            print(f\"Creating new BERTopic model using embedding model: {embedding_model}\")\n",
    "        model = BERTopic(\n",
    "            language=\"english\",\n",
    "            embedding_model=embedder,\n",
    "            verbose=verbose\n",
    "        )\n",
    "\n",
    "    if verbose:\n",
    "        print(\"Fitting BERTopic...\")\n",
    "    topics, probs = model.fit_transform(docs, embeddings)\n",
    "    # Automatically reduce topics based on similarity\n",
    "    model.reduce_topics(df[\"dialogue\"].tolist(), nr_topics=\"auto\")  # or set a target number like 30\n",
    "    model.set_topic_labels(model.generate_topic_labels())\n",
    "\n",
    "\n",
    "    if groupby_col in [\"year\", \"date\"]:\n",
    "        if verbose:\n",
    "            print(f\"Computing topic evolution over '{groupby_col}'...\")\n",
    "        topics_over_group = model.topics_over_time(docs, timestamps)\n",
    "    else:\n",
    "        if verbose:\n",
    "            print(f\"Computing topic frequency over '{groupby_col}'...\")\n",
    "        import pandas as pd\n",
    "        # Build DataFrame with topic and groupby_col\n",
    "        df_topics = pd.DataFrame({\"topic\": topics, groupby_col: group_data})\n",
    "        # Count frequency of each topic per group\n",
    "        topics_over_group = df_topics.groupby([groupby_col, \"topic\"]).size().reset_index(name=\"count\")\n",
    "\n",
    "    return model, topics_over_group, topics, probs\n"
   ]
  },
  {
   "cell_type": "code",
   "execution_count": 6,
   "id": "424ead6a-3221-4323-b79c-43d91d59426d",
   "metadata": {},
   "outputs": [
    {
     "name": "stderr",
     "output_type": "stream",
     "text": [
      "2025-05-23 18:31:55,651 - BERTopic - Dimensionality - Fitting the dimensionality reduction algorithm\n"
     ]
    },
    {
     "name": "stdout",
     "output_type": "stream",
     "text": [
      "Creating new BERTopic model using embedding model: all-MiniLM-L6-v2\n",
      "Fitting BERTopic...\n"
     ]
    },
    {
     "name": "stderr",
     "output_type": "stream",
     "text": [
      "2025-05-23 18:32:18,024 - BERTopic - Dimensionality - Completed ✓\n",
      "2025-05-23 18:32:18,027 - BERTopic - Cluster - Start clustering the reduced embeddings\n",
      "2025-05-23 18:32:18,177 - BERTopic - Cluster - Completed ✓\n",
      "2025-05-23 18:32:18,183 - BERTopic - Representation - Fine-tuning topics using representation models.\n",
      "2025-05-23 18:32:18,595 - BERTopic - Representation - Completed ✓\n",
      "2025-05-23 18:32:19,010 - BERTopic - Topic reduction - Reducing number of topics\n",
      "2025-05-23 18:32:19,027 - BERTopic - Representation - Fine-tuning topics using representation models.\n",
      "2025-05-23 18:32:19,406 - BERTopic - Representation - Completed ✓\n",
      "2025-05-23 18:32:19,408 - BERTopic - Topic reduction - Reduced number of topics from 78 to 22\n"
     ]
    },
    {
     "name": "stdout",
     "output_type": "stream",
     "text": [
      "Computing topic evolution over 'year'...\n"
     ]
    },
    {
     "name": "stderr",
     "output_type": "stream",
     "text": [
      "14it [00:00, 17.20it/s]\n"
     ]
    },
    {
     "data": {
      "application/vnd.plotly.v1+json": {
       "config": {
        "plotlyServerURL": "https://plot.ly"
       },
       "data": [
        {
         "hoverinfo": "text",
         "hovertext": [
          "<b>Topic 0</b><br>Words: the, that, of, in, to",
          "<b>Topic 0</b><br>Words: uh, the, of, and, to",
          "<b>Topic 0</b><br>Words: the, of, that, to, in",
          "<b>Topic 0</b><br>Words: the, that, and, to, of",
          "<b>Topic 0</b><br>Words: the, and, to, of, that",
          "<b>Topic 0</b><br>Words: the, to, and, of, that",
          "<b>Topic 0</b><br>Words: the, to, and, in, of",
          "<b>Topic 0</b><br>Words: the, to, of, and, that",
          "<b>Topic 0</b><br>Words: the, to, and, of, in",
          "<b>Topic 0</b><br>Words: to, the, and, that, we",
          "<b>Topic 0</b><br>Words: the, to, and, that, we",
          "<b>Topic 0</b><br>Words: the, and, to, that, of",
          "<b>Topic 0</b><br>Words: the, and, to, you, of",
          "<b>Topic 0</b><br>Words: the, and, to, that, we"
         ],
         "marker": {
          "color": "#E69F00"
         },
         "mode": "lines",
         "name": "0_the_to_and_that",
         "type": "scatter",
         "x": [
          "1960-01-01T00:00:00.000000000",
          "1976-01-01T00:00:00.000000000",
          "1980-01-01T00:00:00.000000000",
          "1984-01-01T00:00:00.000000000",
          "1988-01-01T00:00:00.000000000",
          "1992-01-01T00:00:00.000000000",
          "1996-01-01T00:00:00.000000000",
          "2000-01-01T00:00:00.000000000",
          "2004-01-01T00:00:00.000000000",
          "2008-01-01T00:00:00.000000000",
          "2012-01-01T00:00:00.000000000",
          "2016-01-01T00:00:00.000000000",
          "2020-01-01T00:00:00.000000000",
          "2024-01-01T00:00:00.000000000"
         ],
         "y": {
          "bdata": "OQBHADcAYwCBALkAiwDTAJYADgEPAUAB+gCSAA==",
          "dtype": "i2"
         }
        },
        {
         "hoverinfo": "text",
         "hovertext": [
          "<b>Topic 1</b><br>Words: remember, last, you, time, said",
          "<b>Topic 1</b><br>Words: true, thats, not, must, talking",
          "<b>Topic 1</b><br>Words: true, thats, it, dont, you",
          "<b>Topic 1</b><br>Words: agree, right, thats, with, that",
          "<b>Topic 1</b><br>Words: speaks, true, repeat, itself, simply",
          "<b>Topic 1</b><br>Words: again, records, facts, forth, thats",
          "<b>Topic 1</b><br>Words: itll, thats, case, saying, statement",
          "<b>Topic 1</b><br>Words: not, true, thats, know, you",
          "<b>Topic 1</b><br>Words: true, not, statement, thats, is",
          "<b>Topic 1</b><br>Words: shouldn, unacceptable, totally, course, say"
         ],
         "marker": {
          "color": "#56B4E9"
         },
         "mode": "lines",
         "name": "1_true_thats_not_statement",
         "type": "scatter",
         "x": [
          "1984-01-01T00:00:00.000000000",
          "1988-01-01T00:00:00.000000000",
          "1992-01-01T00:00:00.000000000",
          "1996-01-01T00:00:00.000000000",
          "2000-01-01T00:00:00.000000000",
          "2008-01-01T00:00:00.000000000",
          "2012-01-01T00:00:00.000000000",
          "2016-01-01T00:00:00.000000000",
          "2020-01-01T00:00:00.000000000",
          "2024-01-01T00:00:00.000000000"
         ],
         "y": {
          "bdata": "AQICAQIICw8aAQ==",
          "dtype": "i1"
         }
        },
        {
         "hoverinfo": "text",
         "hovertext": [
          "<b>Topic 2</b><br>Words: lost, whove, homes, their, jobs",
          "<b>Topic 2</b><br>Words: planetarium, projector, overhead, hometown, cut",
          "<b>Topic 2</b><br>Words: million, ransom, fisher, dollars, payment",
          "<b>Topic 2</b><br>Words: dollars, million, half, son, three",
          "<b>Topic 2</b><br>Words: moscow, sitting, wouldn, paid, lost"
         ],
         "marker": {
          "color": "#009E73"
         },
         "mode": "lines",
         "name": "2_dollars_million_half_son",
         "type": "scatter",
         "x": [
          "1992-01-01T00:00:00.000000000",
          "2008-01-01T00:00:00.000000000",
          "2016-01-01T00:00:00.000000000",
          "2020-01-01T00:00:00.000000000",
          "2024-01-01T00:00:00.000000000"
         ],
         "y": {
          "bdata": "AQEJHgI=",
          "dtype": "i1"
         }
        },
        {
         "hoverinfo": "text",
         "hovertext": [
          "<b>Topic 3</b><br>Words: respond, to, want, some, that",
          "<b>Topic 3</b><br>Words: respond, honor, might, chance, opportunity",
          "<b>Topic 3</b><br>Words: respond, briefly, tom, can, because",
          "<b>Topic 3</b><br>Words: respond, to, hope, time, no",
          "<b>Topic 3</b><br>Words: respond, like, to, am, id",
          "<b>Topic 3</b><br>Words: respond, to, might, excuse, got",
          "<b>Topic 3</b><br>Words: respond, allowed, am, to, like"
         ],
         "marker": {
          "color": "#F0E442"
         },
         "mode": "lines",
         "name": "3_respond_to_might_like",
         "type": "scatter",
         "x": [
          "1992-01-01T00:00:00.000000000",
          "2000-01-01T00:00:00.000000000",
          "2008-01-01T00:00:00.000000000",
          "2012-01-01T00:00:00.000000000",
          "2016-01-01T00:00:00.000000000",
          "2020-01-01T00:00:00.000000000",
          "2024-01-01T00:00:00.000000000"
         ],
         "y": {
          "bdata": "DAIBAgUGAg==",
          "dtype": "i1"
         }
        },
        {
         "hoverinfo": "text",
         "hovertext": [
          "<b>Topic 4</b><br>Words: door, session, he, soon, minute",
          "<b>Topic 4</b><br>Words: sorry, oh, gets, ahead, he",
          "<b>Topic 4</b><br>Words: qualifications, answer, question, his, me",
          "<b>Topic 4</b><br>Words: contacts, encourages, other, he, negotiations",
          "<b>Topic 4</b><br>Words: he, question, answers, differently, answered",
          "<b>Topic 4</b><br>Words: he, negotiates, 112, dissidents, travels",
          "<b>Topic 4</b><br>Words: he, doesnt, how, knows, answer"
         ],
         "marker": {
          "color": "#D55E00"
         },
         "mode": "lines",
         "name": "4_he_question_doesnt_his",
         "type": "scatter",
         "x": [
          "1992-01-01T00:00:00.000000000",
          "2000-01-01T00:00:00.000000000",
          "2004-01-01T00:00:00.000000000",
          "2008-01-01T00:00:00.000000000",
          "2012-01-01T00:00:00.000000000",
          "2016-01-01T00:00:00.000000000",
          "2020-01-01T00:00:00.000000000"
         ],
         "y": {
          "bdata": "AgEBAwQDDg==",
          "dtype": "i1"
         }
        },
        {
         "hoverinfo": "text",
         "hovertext": [
          "<b>Topic 5</b><br>Words: seconds, yellow, minutes, minute, principle",
          "<b>Topic 5</b><br>Words: 24, hour, waiting, period, time",
          "<b>Topic 5</b><br>Words: limit, keeping, yeah, within, time",
          "<b>Topic 5</b><br>Words: first, go, want, do, you",
          "<b>Topic 5</b><br>Words: time, longer, ill, timekeepers, line",
          "<b>Topic 5</b><br>Words: plans, going, able, youre, to",
          "<b>Topic 5</b><br>Words: seconds, equal, add, 30, time"
         ],
         "marker": {
          "color": "#0072B2"
         },
         "mode": "lines",
         "name": "5_time_24_seconds_hour",
         "type": "scatter",
         "x": [
          "1988-01-01T00:00:00.000000000",
          "1992-01-01T00:00:00.000000000",
          "1996-01-01T00:00:00.000000000",
          "2004-01-01T00:00:00.000000000",
          "2012-01-01T00:00:00.000000000",
          "2016-01-01T00:00:00.000000000",
          "2020-01-01T00:00:00.000000000"
         ],
         "y": {
          "bdata": "Aw4BAQUBAg==",
          "dtype": "i1"
         }
        },
        {
         "hoverinfo": "text",
         "hovertext": [
          "<b>Topic 6</b><br>Words: jerry, brown, 800, voted, record",
          "<b>Topic 6</b><br>Words: booth, factor, voting, it, voted",
          "<b>Topic 6</b><br>Words: alternate, fuel, voted, time, my",
          "<b>Topic 6</b><br>Words: scare, voting, politicians, dont, ahead",
          "<b>Topic 6</b><br>Words: voting, defend, voted, border, wont",
          "<b>Topic 6</b><br>Words: ballots, ballot, you, count, em",
          "<b>Topic 6</b><br>Words: numbers, election, see, let, over"
         ],
         "marker": {
          "color": "#CC79A7"
         },
         "mode": "lines",
         "name": "6_ballots_ballot_you_voted",
         "type": "scatter",
         "x": [
          "1992-01-01T00:00:00.000000000",
          "2000-01-01T00:00:00.000000000",
          "2008-01-01T00:00:00.000000000",
          "2012-01-01T00:00:00.000000000",
          "2016-01-01T00:00:00.000000000",
          "2020-01-01T00:00:00.000000000",
          "2024-01-01T00:00:00.000000000"
         ],
         "y": {
          "bdata": "AgICAQIRAQ==",
          "dtype": "i1"
         }
        },
        {
         "hoverinfo": "text",
         "hovertext": [
          "<b>Topic 7</b><br>Words: crosstalk, well, hit, about, talk",
          "<b>Topic 7</b><br>Words: crosstalk, discredited, family, about, totally",
          "<b>Topic 7</b><br>Words: swing, crosstalk, your, ve, seen"
         ],
         "marker": {
          "color": "#E69F00"
         },
         "mode": "lines",
         "name": "7_crosstalk_discredited_about_swing",
         "type": "scatter",
         "x": [
          "2016-01-01T00:00:00.000000000",
          "2020-01-01T00:00:00.000000000",
          "2024-01-01T00:00:00.000000000"
         ],
         "y": {
          "bdata": "DQkB",
          "dtype": "i1"
         }
        },
        {
         "hoverinfo": "text",
         "hovertext": [
          "<b>Topic 8</b><br>Words: me, let, excuse, hold, ahead",
          "<b>Topic 8</b><br>Words: let, me, here, way, your",
          "<b>Topic 8</b><br>Words: let, me, just, well, points",
          "<b>Topic 8</b><br>Words: me, let, entertain, finish, advice",
          "<b>Topic 8</b><br>Words: me, let, weigh, just, well",
          "<b>Topic 8</b><br>Words: me, hey, let, just, finish"
         ],
         "marker": {
          "color": "#56B4E9"
         },
         "mode": "lines",
         "name": "8_me_let_just_well",
         "type": "scatter",
         "x": [
          "1992-01-01T00:00:00.000000000",
          "1996-01-01T00:00:00.000000000",
          "2008-01-01T00:00:00.000000000",
          "2012-01-01T00:00:00.000000000",
          "2016-01-01T00:00:00.000000000",
          "2020-01-01T00:00:00.000000000"
         ],
         "y": {
          "bdata": "BgEFAwUD",
          "dtype": "i1"
         }
        },
        {
         "hoverinfo": "text",
         "hovertext": [
          "<b>Topic 9</b><br>Words: in, that, traditions, too, or",
          "<b>Topic 9</b><br>Words: faith, religion, church, the, to",
          "<b>Topic 9</b><br>Words: religious, religion, to, the, and",
          "<b>Topic 9</b><br>Words: faith, catholic, and, to, that",
          "<b>Topic 9</b><br>Words: catholic, my, faith, life, contraception",
          "<b>Topic 9</b><br>Words: faith, my, religion, was, church"
         ],
         "marker": {
          "color": "#009E73"
         },
         "mode": "lines",
         "name": "9_faith_religion_church_and",
         "type": "scatter",
         "x": [
          "1980-01-01T00:00:00.000000000",
          "1984-01-01T00:00:00.000000000",
          "1996-01-01T00:00:00.000000000",
          "2004-01-01T00:00:00.000000000",
          "2012-01-01T00:00:00.000000000",
          "2016-01-01T00:00:00.000000000"
         ],
         "y": {
          "bdata": "AQgDAwIC",
          "dtype": "i1"
         }
        },
        {
         "hoverinfo": "text",
         "hovertext": [
          "<b>Topic 10</b><br>Words: joe, nothing, laughter, applause, you",
          "<b>Topic 10</b><br>Words: joe, fine, you, hey, zero",
          "<b>Topic 10</b><br>Words: joe, you, 47, gotta, done"
         ],
         "marker": {
          "color": "#F0E442"
         },
         "mode": "lines",
         "name": "10_joe_you_47_gotta",
         "type": "scatter",
         "x": [
          "2000-01-01T00:00:00.000000000",
          "2008-01-01T00:00:00.000000000",
          "2020-01-01T00:00:00.000000000"
         ],
         "y": {
          "bdata": "AgIO",
          "dtype": "i1"
         }
        },
        {
         "hoverinfo": "text",
         "hovertext": [
          "<b>Topic 11</b><br>Words: foundation, clinton, trump, haiti, the"
         ],
         "marker": {
          "color": "#D55E00"
         },
         "mode": "lines",
         "name": "11_foundation_clinton_trump_haiti",
         "type": "scatter",
         "x": [
          "2016-01-01T00:00:00.000000000"
         ],
         "y": {
          "bdata": "Eg==",
          "dtype": "i1"
         }
        },
        {
         "hoverinfo": "text",
         "hovertext": [
          "<b>Topic 12</b><br>Words: robbed, follow, me, her, up",
          "<b>Topic 12</b><br>Words: owe, her, tutwiler, margaret, characters",
          "<b>Topic 12</b><br>Words: gwen, question, jobs, your, about",
          "<b>Topic 12</b><br>Words: thank, you, gwen, her, margaret",
          "<b>Topic 12</b><br>Words: fenton, katherine, looking, forward, question",
          "<b>Topic 12</b><br>Words: her, interrupt, website, you, allowed",
          "<b>Topic 12</b><br>Words: respond, kristen, nobody, really, she",
          "<b>Topic 12</b><br>Words: margaret, her, ask, don, you"
         ],
         "marker": {
          "color": "#0072B2"
         },
         "mode": "lines",
         "name": "12_her_you_margaret_thank",
         "type": "scatter",
         "x": [
          "1984-01-01T00:00:00.000000000",
          "1992-01-01T00:00:00.000000000",
          "2004-01-01T00:00:00.000000000",
          "2008-01-01T00:00:00.000000000",
          "2012-01-01T00:00:00.000000000",
          "2016-01-01T00:00:00.000000000",
          "2020-01-01T00:00:00.000000000",
          "2024-01-01T00:00:00.000000000"
         ],
         "y": {
          "bdata": "AQMBAQEEAgQ=",
          "dtype": "i1"
         }
        },
        {
         "hoverinfo": "text",
         "hovertext": [
          "<b>Topic 13</b><br>Words: circumstances, illegal, under, any, those",
          "<b>Topic 13</b><br>Words: rules, oh, mean, course, care",
          "<b>Topic 13</b><br>Words: ad, sat, law, laws, changed",
          "<b>Topic 13</b><br>Words: law, order, favor, crosstalk, you",
          "<b>Topic 13</b><br>Words: law, checked, not, 1990, laws"
         ],
         "marker": {
          "color": "#CC79A7"
         },
         "mode": "lines",
         "name": "13_law_ad_order_favor",
         "type": "scatter",
         "x": [
          "1992-01-01T00:00:00.000000000",
          "2000-01-01T00:00:00.000000000",
          "2016-01-01T00:00:00.000000000",
          "2020-01-01T00:00:00.000000000",
          "2024-01-01T00:00:00.000000000"
         ],
         "y": {
          "bdata": "AQEECAM=",
          "dtype": "i1"
         }
        },
        {
         "hoverinfo": "text",
         "hovertext": [
          "<b>Topic 14</b><br>Words: starting, position, after, same, years",
          "<b>Topic 14</b><br>Words: ran, tried, you, last, time",
          "<b>Topic 14</b><br>Words: havent, done, yeah, seven, why",
          "<b>Topic 14</b><br>Words: done, it, ill, been, never",
          "<b>Topic 14</b><br>Words: done, havent, it, you, why",
          "<b>Topic 14</b><br>Words: done, happened, got, know, it"
         ],
         "marker": {
          "color": "#E69F00"
         },
         "mode": "lines",
         "name": "14_done_havent_it_you",
         "type": "scatter",
         "x": [
          "1992-01-01T00:00:00.000000000",
          "1996-01-01T00:00:00.000000000",
          "2000-01-01T00:00:00.000000000",
          "2012-01-01T00:00:00.000000000",
          "2016-01-01T00:00:00.000000000",
          "2020-01-01T00:00:00.000000000"
         ],
         "y": {
          "bdata": "AgEBBQUB",
          "dtype": "i1"
         }
        },
        {
         "hoverinfo": "text",
         "hovertext": [
          "<b>Topic 15</b><br>Words: fewer, hotspots, thats, statistics, people",
          "<b>Topic 15</b><br>Words: turned, notwell, 35, disaster, 000",
          "<b>Topic 15</b><br>Words: crowds, 38, 000, outside, down"
         ],
         "marker": {
          "color": "#56B4E9"
         },
         "mode": "lines",
         "name": "15_000_crowds_38_outside",
         "type": "scatter",
         "x": [
          "2012-01-01T00:00:00.000000000",
          "2016-01-01T00:00:00.000000000",
          "2020-01-01T00:00:00.000000000"
         ],
         "y": {
          "bdata": "BAII",
          "dtype": "i1"
         }
        },
        {
         "hoverinfo": "text",
         "hovertext": [
          "<b>Topic 16</b><br>Words: jim, seconds, ten, another, wants",
          "<b>Topic 16</b><br>Words: jim, could, round, disagreement, hey",
          "<b>Topic 16</b><br>Words: jim, big, point, having, this",
          "<b>Topic 16</b><br>Words: jim, segment, began, word, point",
          "<b>Topic 16</b><br>Words: yapping, segment, productive, jim, wasnt"
         ],
         "marker": {
          "color": "#009E73"
         },
         "mode": "lines",
         "name": "16_jim_segment_this_big",
         "type": "scatter",
         "x": [
          "1988-01-01T00:00:00.000000000",
          "2000-01-01T00:00:00.000000000",
          "2008-01-01T00:00:00.000000000",
          "2012-01-01T00:00:00.000000000",
          "2020-01-01T00:00:00.000000000"
         ],
         "y": {
          "bdata": "AQMGAgE=",
          "dtype": "i1"
         }
        },
        {
         "hoverinfo": "text",
         "hovertext": [
          "<b>Topic 17</b><br>Words: judy, light, still, elaine, my",
          "<b>Topic 17</b><br>Words: thank, charlie, you, elaine, all",
          "<b>Topic 17</b><br>Words: bob, direct, well, asked, elaine",
          "<b>Topic 17</b><br>Words: bob, youll, education, let, me",
          "<b>Topic 17</b><br>Words: elaine, thank, thanks, let, me"
         ],
         "marker": {
          "color": "#F0E442"
         },
         "mode": "lines",
         "name": "17_elaine_thank_bob_me",
         "type": "scatter",
         "x": [
          "1988-01-01T00:00:00.000000000",
          "2004-01-01T00:00:00.000000000",
          "2008-01-01T00:00:00.000000000",
          "2012-01-01T00:00:00.000000000",
          "2016-01-01T00:00:00.000000000"
         ],
         "y": {
          "bdata": "AQECAQg=",
          "dtype": "i1"
         }
        },
        {
         "hoverinfo": "text",
         "hovertext": [
          "<b>Topic 18</b><br>Words: answer, question, fourth, time, try",
          "<b>Topic 18</b><br>Words: answer, question, happy, ill, me",
          "<b>Topic 18</b><br>Words: answer, let, ive, me, got",
          "<b>Topic 18</b><br>Words: question, answer, happy, appreciate, thank",
          "<b>Topic 18</b><br>Words: answer, question, im, trying, now"
         ],
         "marker": {
          "color": "#D55E00"
         },
         "mode": "lines",
         "name": "18_answer_question_happy_me",
         "type": "scatter",
         "x": [
          "1988-01-01T00:00:00.000000000",
          "1992-01-01T00:00:00.000000000",
          "2004-01-01T00:00:00.000000000",
          "2012-01-01T00:00:00.000000000",
          "2020-01-01T00:00:00.000000000"
         ],
         "y": {
          "bdata": "AgUBAgI=",
          "dtype": "i1"
         }
        },
        {
         "hoverinfo": "text",
         "hovertext": [
          "<b>Topic 19</b><br>Words: biggest, yes, problem, where, thats",
          "<b>Topic 19</b><br>Words: absolutely, input, long, yes, theyre",
          "<b>Topic 19</b><br>Words: absolutely, targets, drawn, setting, call",
          "<b>Topic 19</b><br>Words: places, precision, mathematically, sure, yes",
          "<b>Topic 19</b><br>Words: let, them, say, yes, we"
         ],
         "marker": {
          "color": "#0072B2"
         },
         "mode": "lines",
         "name": "19_absolutely_yes_we_them",
         "type": "scatter",
         "x": [
          "1992-01-01T00:00:00.000000000",
          "2000-01-01T00:00:00.000000000",
          "2008-01-01T00:00:00.000000000",
          "2012-01-01T00:00:00.000000000",
          "2016-01-01T00:00:00.000000000"
         ],
         "y": {
          "bdata": "AQMCBAI=",
          "dtype": "i1"
         }
        },
        {
         "hoverinfo": "text",
         "hovertext": [
          "<b>Topic 20</b><br>Words: marriage, gay, of, lesbian, relationships",
          "<b>Topic 20</b><br>Words: marriage, gay, and, that, woman",
          "<b>Topic 20</b><br>Words: marriage, between, anything, support, but"
         ],
         "marker": {
          "color": "#CC79A7"
         },
         "mode": "lines",
         "name": "20_marriage_gay_and_that",
         "type": "scatter",
         "x": [
          "2000-01-01T00:00:00.000000000",
          "2004-01-01T00:00:00.000000000",
          "2008-01-01T00:00:00.000000000"
         ],
         "y": {
          "bdata": "BQUC",
          "dtype": "i1"
         }
        }
       ],
       "layout": {
        "height": 450,
        "hoverlabel": {
         "bgcolor": "white",
         "font": {
          "family": "Rockwell",
          "size": 16
         }
        },
        "legend": {
         "title": {
          "text": "<b>Global Topic Representation"
         }
        },
        "template": {
         "data": {
          "bar": [
           {
            "error_x": {
             "color": "rgb(36,36,36)"
            },
            "error_y": {
             "color": "rgb(36,36,36)"
            },
            "marker": {
             "line": {
              "color": "white",
              "width": 0.5
             },
             "pattern": {
              "fillmode": "overlay",
              "size": 10,
              "solidity": 0.2
             }
            },
            "type": "bar"
           }
          ],
          "barpolar": [
           {
            "marker": {
             "line": {
              "color": "white",
              "width": 0.5
             },
             "pattern": {
              "fillmode": "overlay",
              "size": 10,
              "solidity": 0.2
             }
            },
            "type": "barpolar"
           }
          ],
          "carpet": [
           {
            "aaxis": {
             "endlinecolor": "rgb(36,36,36)",
             "gridcolor": "white",
             "linecolor": "white",
             "minorgridcolor": "white",
             "startlinecolor": "rgb(36,36,36)"
            },
            "baxis": {
             "endlinecolor": "rgb(36,36,36)",
             "gridcolor": "white",
             "linecolor": "white",
             "minorgridcolor": "white",
             "startlinecolor": "rgb(36,36,36)"
            },
            "type": "carpet"
           }
          ],
          "choropleth": [
           {
            "colorbar": {
             "outlinewidth": 1,
             "tickcolor": "rgb(36,36,36)",
             "ticks": "outside"
            },
            "type": "choropleth"
           }
          ],
          "contour": [
           {
            "colorbar": {
             "outlinewidth": 1,
             "tickcolor": "rgb(36,36,36)",
             "ticks": "outside"
            },
            "colorscale": [
             [
              0,
              "#440154"
             ],
             [
              0.1111111111111111,
              "#482878"
             ],
             [
              0.2222222222222222,
              "#3e4989"
             ],
             [
              0.3333333333333333,
              "#31688e"
             ],
             [
              0.4444444444444444,
              "#26828e"
             ],
             [
              0.5555555555555556,
              "#1f9e89"
             ],
             [
              0.6666666666666666,
              "#35b779"
             ],
             [
              0.7777777777777778,
              "#6ece58"
             ],
             [
              0.8888888888888888,
              "#b5de2b"
             ],
             [
              1,
              "#fde725"
             ]
            ],
            "type": "contour"
           }
          ],
          "contourcarpet": [
           {
            "colorbar": {
             "outlinewidth": 1,
             "tickcolor": "rgb(36,36,36)",
             "ticks": "outside"
            },
            "type": "contourcarpet"
           }
          ],
          "heatmap": [
           {
            "colorbar": {
             "outlinewidth": 1,
             "tickcolor": "rgb(36,36,36)",
             "ticks": "outside"
            },
            "colorscale": [
             [
              0,
              "#440154"
             ],
             [
              0.1111111111111111,
              "#482878"
             ],
             [
              0.2222222222222222,
              "#3e4989"
             ],
             [
              0.3333333333333333,
              "#31688e"
             ],
             [
              0.4444444444444444,
              "#26828e"
             ],
             [
              0.5555555555555556,
              "#1f9e89"
             ],
             [
              0.6666666666666666,
              "#35b779"
             ],
             [
              0.7777777777777778,
              "#6ece58"
             ],
             [
              0.8888888888888888,
              "#b5de2b"
             ],
             [
              1,
              "#fde725"
             ]
            ],
            "type": "heatmap"
           }
          ],
          "histogram": [
           {
            "marker": {
             "line": {
              "color": "white",
              "width": 0.6
             }
            },
            "type": "histogram"
           }
          ],
          "histogram2d": [
           {
            "colorbar": {
             "outlinewidth": 1,
             "tickcolor": "rgb(36,36,36)",
             "ticks": "outside"
            },
            "colorscale": [
             [
              0,
              "#440154"
             ],
             [
              0.1111111111111111,
              "#482878"
             ],
             [
              0.2222222222222222,
              "#3e4989"
             ],
             [
              0.3333333333333333,
              "#31688e"
             ],
             [
              0.4444444444444444,
              "#26828e"
             ],
             [
              0.5555555555555556,
              "#1f9e89"
             ],
             [
              0.6666666666666666,
              "#35b779"
             ],
             [
              0.7777777777777778,
              "#6ece58"
             ],
             [
              0.8888888888888888,
              "#b5de2b"
             ],
             [
              1,
              "#fde725"
             ]
            ],
            "type": "histogram2d"
           }
          ],
          "histogram2dcontour": [
           {
            "colorbar": {
             "outlinewidth": 1,
             "tickcolor": "rgb(36,36,36)",
             "ticks": "outside"
            },
            "colorscale": [
             [
              0,
              "#440154"
             ],
             [
              0.1111111111111111,
              "#482878"
             ],
             [
              0.2222222222222222,
              "#3e4989"
             ],
             [
              0.3333333333333333,
              "#31688e"
             ],
             [
              0.4444444444444444,
              "#26828e"
             ],
             [
              0.5555555555555556,
              "#1f9e89"
             ],
             [
              0.6666666666666666,
              "#35b779"
             ],
             [
              0.7777777777777778,
              "#6ece58"
             ],
             [
              0.8888888888888888,
              "#b5de2b"
             ],
             [
              1,
              "#fde725"
             ]
            ],
            "type": "histogram2dcontour"
           }
          ],
          "mesh3d": [
           {
            "colorbar": {
             "outlinewidth": 1,
             "tickcolor": "rgb(36,36,36)",
             "ticks": "outside"
            },
            "type": "mesh3d"
           }
          ],
          "parcoords": [
           {
            "line": {
             "colorbar": {
              "outlinewidth": 1,
              "tickcolor": "rgb(36,36,36)",
              "ticks": "outside"
             }
            },
            "type": "parcoords"
           }
          ],
          "pie": [
           {
            "automargin": true,
            "type": "pie"
           }
          ],
          "scatter": [
           {
            "fillpattern": {
             "fillmode": "overlay",
             "size": 10,
             "solidity": 0.2
            },
            "type": "scatter"
           }
          ],
          "scatter3d": [
           {
            "line": {
             "colorbar": {
              "outlinewidth": 1,
              "tickcolor": "rgb(36,36,36)",
              "ticks": "outside"
             }
            },
            "marker": {
             "colorbar": {
              "outlinewidth": 1,
              "tickcolor": "rgb(36,36,36)",
              "ticks": "outside"
             }
            },
            "type": "scatter3d"
           }
          ],
          "scattercarpet": [
           {
            "marker": {
             "colorbar": {
              "outlinewidth": 1,
              "tickcolor": "rgb(36,36,36)",
              "ticks": "outside"
             }
            },
            "type": "scattercarpet"
           }
          ],
          "scattergeo": [
           {
            "marker": {
             "colorbar": {
              "outlinewidth": 1,
              "tickcolor": "rgb(36,36,36)",
              "ticks": "outside"
             }
            },
            "type": "scattergeo"
           }
          ],
          "scattergl": [
           {
            "marker": {
             "colorbar": {
              "outlinewidth": 1,
              "tickcolor": "rgb(36,36,36)",
              "ticks": "outside"
             }
            },
            "type": "scattergl"
           }
          ],
          "scattermap": [
           {
            "marker": {
             "colorbar": {
              "outlinewidth": 1,
              "tickcolor": "rgb(36,36,36)",
              "ticks": "outside"
             }
            },
            "type": "scattermap"
           }
          ],
          "scattermapbox": [
           {
            "marker": {
             "colorbar": {
              "outlinewidth": 1,
              "tickcolor": "rgb(36,36,36)",
              "ticks": "outside"
             }
            },
            "type": "scattermapbox"
           }
          ],
          "scatterpolar": [
           {
            "marker": {
             "colorbar": {
              "outlinewidth": 1,
              "tickcolor": "rgb(36,36,36)",
              "ticks": "outside"
             }
            },
            "type": "scatterpolar"
           }
          ],
          "scatterpolargl": [
           {
            "marker": {
             "colorbar": {
              "outlinewidth": 1,
              "tickcolor": "rgb(36,36,36)",
              "ticks": "outside"
             }
            },
            "type": "scatterpolargl"
           }
          ],
          "scatterternary": [
           {
            "marker": {
             "colorbar": {
              "outlinewidth": 1,
              "tickcolor": "rgb(36,36,36)",
              "ticks": "outside"
             }
            },
            "type": "scatterternary"
           }
          ],
          "surface": [
           {
            "colorbar": {
             "outlinewidth": 1,
             "tickcolor": "rgb(36,36,36)",
             "ticks": "outside"
            },
            "colorscale": [
             [
              0,
              "#440154"
             ],
             [
              0.1111111111111111,
              "#482878"
             ],
             [
              0.2222222222222222,
              "#3e4989"
             ],
             [
              0.3333333333333333,
              "#31688e"
             ],
             [
              0.4444444444444444,
              "#26828e"
             ],
             [
              0.5555555555555556,
              "#1f9e89"
             ],
             [
              0.6666666666666666,
              "#35b779"
             ],
             [
              0.7777777777777778,
              "#6ece58"
             ],
             [
              0.8888888888888888,
              "#b5de2b"
             ],
             [
              1,
              "#fde725"
             ]
            ],
            "type": "surface"
           }
          ],
          "table": [
           {
            "cells": {
             "fill": {
              "color": "rgb(237,237,237)"
             },
             "line": {
              "color": "white"
             }
            },
            "header": {
             "fill": {
              "color": "rgb(217,217,217)"
             },
             "line": {
              "color": "white"
             }
            },
            "type": "table"
           }
          ]
         },
         "layout": {
          "annotationdefaults": {
           "arrowhead": 0,
           "arrowwidth": 1
          },
          "autotypenumbers": "strict",
          "coloraxis": {
           "colorbar": {
            "outlinewidth": 1,
            "tickcolor": "rgb(36,36,36)",
            "ticks": "outside"
           }
          },
          "colorscale": {
           "diverging": [
            [
             0,
             "rgb(103,0,31)"
            ],
            [
             0.1,
             "rgb(178,24,43)"
            ],
            [
             0.2,
             "rgb(214,96,77)"
            ],
            [
             0.3,
             "rgb(244,165,130)"
            ],
            [
             0.4,
             "rgb(253,219,199)"
            ],
            [
             0.5,
             "rgb(247,247,247)"
            ],
            [
             0.6,
             "rgb(209,229,240)"
            ],
            [
             0.7,
             "rgb(146,197,222)"
            ],
            [
             0.8,
             "rgb(67,147,195)"
            ],
            [
             0.9,
             "rgb(33,102,172)"
            ],
            [
             1,
             "rgb(5,48,97)"
            ]
           ],
           "sequential": [
            [
             0,
             "#440154"
            ],
            [
             0.1111111111111111,
             "#482878"
            ],
            [
             0.2222222222222222,
             "#3e4989"
            ],
            [
             0.3333333333333333,
             "#31688e"
            ],
            [
             0.4444444444444444,
             "#26828e"
            ],
            [
             0.5555555555555556,
             "#1f9e89"
            ],
            [
             0.6666666666666666,
             "#35b779"
            ],
            [
             0.7777777777777778,
             "#6ece58"
            ],
            [
             0.8888888888888888,
             "#b5de2b"
            ],
            [
             1,
             "#fde725"
            ]
           ],
           "sequentialminus": [
            [
             0,
             "#440154"
            ],
            [
             0.1111111111111111,
             "#482878"
            ],
            [
             0.2222222222222222,
             "#3e4989"
            ],
            [
             0.3333333333333333,
             "#31688e"
            ],
            [
             0.4444444444444444,
             "#26828e"
            ],
            [
             0.5555555555555556,
             "#1f9e89"
            ],
            [
             0.6666666666666666,
             "#35b779"
            ],
            [
             0.7777777777777778,
             "#6ece58"
            ],
            [
             0.8888888888888888,
             "#b5de2b"
            ],
            [
             1,
             "#fde725"
            ]
           ]
          },
          "colorway": [
           "#1F77B4",
           "#FF7F0E",
           "#2CA02C",
           "#D62728",
           "#9467BD",
           "#8C564B",
           "#E377C2",
           "#7F7F7F",
           "#BCBD22",
           "#17BECF"
          ],
          "font": {
           "color": "rgb(36,36,36)"
          },
          "geo": {
           "bgcolor": "white",
           "lakecolor": "white",
           "landcolor": "white",
           "showlakes": true,
           "showland": true,
           "subunitcolor": "white"
          },
          "hoverlabel": {
           "align": "left"
          },
          "hovermode": "closest",
          "mapbox": {
           "style": "light"
          },
          "paper_bgcolor": "white",
          "plot_bgcolor": "white",
          "polar": {
           "angularaxis": {
            "gridcolor": "rgb(232,232,232)",
            "linecolor": "rgb(36,36,36)",
            "showgrid": false,
            "showline": true,
            "ticks": "outside"
           },
           "bgcolor": "white",
           "radialaxis": {
            "gridcolor": "rgb(232,232,232)",
            "linecolor": "rgb(36,36,36)",
            "showgrid": false,
            "showline": true,
            "ticks": "outside"
           }
          },
          "scene": {
           "xaxis": {
            "backgroundcolor": "white",
            "gridcolor": "rgb(232,232,232)",
            "gridwidth": 2,
            "linecolor": "rgb(36,36,36)",
            "showbackground": true,
            "showgrid": false,
            "showline": true,
            "ticks": "outside",
            "zeroline": false,
            "zerolinecolor": "rgb(36,36,36)"
           },
           "yaxis": {
            "backgroundcolor": "white",
            "gridcolor": "rgb(232,232,232)",
            "gridwidth": 2,
            "linecolor": "rgb(36,36,36)",
            "showbackground": true,
            "showgrid": false,
            "showline": true,
            "ticks": "outside",
            "zeroline": false,
            "zerolinecolor": "rgb(36,36,36)"
           },
           "zaxis": {
            "backgroundcolor": "white",
            "gridcolor": "rgb(232,232,232)",
            "gridwidth": 2,
            "linecolor": "rgb(36,36,36)",
            "showbackground": true,
            "showgrid": false,
            "showline": true,
            "ticks": "outside",
            "zeroline": false,
            "zerolinecolor": "rgb(36,36,36)"
           }
          },
          "shapedefaults": {
           "fillcolor": "black",
           "line": {
            "width": 0
           },
           "opacity": 0.3
          },
          "ternary": {
           "aaxis": {
            "gridcolor": "rgb(232,232,232)",
            "linecolor": "rgb(36,36,36)",
            "showgrid": false,
            "showline": true,
            "ticks": "outside"
           },
           "baxis": {
            "gridcolor": "rgb(232,232,232)",
            "linecolor": "rgb(36,36,36)",
            "showgrid": false,
            "showline": true,
            "ticks": "outside"
           },
           "bgcolor": "white",
           "caxis": {
            "gridcolor": "rgb(232,232,232)",
            "linecolor": "rgb(36,36,36)",
            "showgrid": false,
            "showline": true,
            "ticks": "outside"
           }
          },
          "title": {
           "x": 0.05
          },
          "xaxis": {
           "automargin": true,
           "gridcolor": "rgb(232,232,232)",
           "linecolor": "rgb(36,36,36)",
           "showgrid": false,
           "showline": true,
           "ticks": "outside",
           "title": {
            "standoff": 15
           },
           "zeroline": false,
           "zerolinecolor": "rgb(36,36,36)"
          },
          "yaxis": {
           "automargin": true,
           "gridcolor": "rgb(232,232,232)",
           "linecolor": "rgb(36,36,36)",
           "showgrid": false,
           "showline": true,
           "ticks": "outside",
           "title": {
            "standoff": 15
           },
           "zeroline": false,
           "zerolinecolor": "rgb(36,36,36)"
          }
         }
        },
        "title": {
         "font": {
          "color": "Black",
          "size": 22
         },
         "text": "<b>Topics over Time</b>",
         "x": 0.4,
         "xanchor": "center",
         "y": 0.95,
         "yanchor": "top"
        },
        "width": 1250,
        "xaxis": {
         "showgrid": true
        },
        "yaxis": {
         "showgrid": true,
         "title": {
          "text": "Frequency"
         }
        }
       }
      }
     },
     "metadata": {},
     "output_type": "display_data"
    }
   ],
   "source": [
    "model, topics_yearly, topics, probs = run_bertopic_over_metadata(df_debates, groupby_col=\"year\")\n",
    "model.visualize_topics_over_time(topics_yearly)"
   ]
  },
  {
   "cell_type": "code",
   "execution_count": 7,
   "id": "0a179243",
   "metadata": {},
   "outputs": [
    {
     "name": "stderr",
     "output_type": "stream",
     "text": [
      "2025-05-23 18:32:20,844 - BERTopic - Dimensionality - Fitting the dimensionality reduction algorithm\n"
     ]
    },
    {
     "name": "stdout",
     "output_type": "stream",
     "text": [
      "Creating new BERTopic model using embedding model: all-MiniLM-L6-v2\n",
      "Fitting BERTopic...\n"
     ]
    },
    {
     "name": "stderr",
     "output_type": "stream",
     "text": [
      "2025-05-23 18:32:24,321 - BERTopic - Dimensionality - Completed ✓\n",
      "2025-05-23 18:32:24,323 - BERTopic - Cluster - Start clustering the reduced embeddings\n",
      "2025-05-23 18:32:24,464 - BERTopic - Cluster - Completed ✓\n",
      "2025-05-23 18:32:24,468 - BERTopic - Representation - Fine-tuning topics using representation models.\n",
      "2025-05-23 18:32:24,879 - BERTopic - Representation - Completed ✓\n",
      "2025-05-23 18:32:25,291 - BERTopic - Topic reduction - Reducing number of topics\n",
      "2025-05-23 18:32:25,307 - BERTopic - Representation - Fine-tuning topics using representation models.\n",
      "2025-05-23 18:32:25,679 - BERTopic - Representation - Completed ✓\n",
      "2025-05-23 18:32:25,681 - BERTopic - Topic reduction - Reduced number of topics from 71 to 17\n"
     ]
    },
    {
     "name": "stdout",
     "output_type": "stream",
     "text": [
      "Computing topic evolution over 'date'...\n"
     ]
    },
    {
     "name": "stderr",
     "output_type": "stream",
     "text": [
      "48it [00:01, 29.12it/s]\n"
     ]
    },
    {
     "data": {
      "application/vnd.plotly.v1+json": {
       "config": {
        "plotlyServerURL": "https://plot.ly"
       },
       "data": [
        {
         "hoverinfo": "text",
         "hovertext": [
          "<b>Topic 0</b><br>Words: the, that, in, of, to",
          "<b>Topic 0</b><br>Words: the, that, to, of, in",
          "<b>Topic 0</b><br>Words: the, that, of, to, and",
          "<b>Topic 0</b><br>Words: the, in, that, of, to",
          "<b>Topic 0</b><br>Words: uh, the, to, in, of",
          "<b>Topic 0</b><br>Words: the, of, and, to, that",
          "<b>Topic 0</b><br>Words: uh, the, of, and, in",
          "<b>Topic 0</b><br>Words: the, that, of, to, and",
          "<b>Topic 0</b><br>Words: the, of, that, in, to",
          "<b>Topic 0</b><br>Words: the, that, and, of, to",
          "<b>Topic 0</b><br>Words: the, and, to, that, in",
          "<b>Topic 0</b><br>Words: the, and, that, to, of",
          "<b>Topic 0</b><br>Words: the, and, to, of, that",
          "<b>Topic 0</b><br>Words: the, that, to, and, of",
          "<b>Topic 0</b><br>Words: the, and, to, of, that",
          "<b>Topic 0</b><br>Words: the, to, and, in, we",
          "<b>Topic 0</b><br>Words: the, to, and, of, that",
          "<b>Topic 0</b><br>Words: the, to, and, you, it",
          "<b>Topic 0</b><br>Words: the, and, to, that, it",
          "<b>Topic 0</b><br>Words: the, and, to, in, of",
          "<b>Topic 0</b><br>Words: the, and, to, of, in",
          "<b>Topic 0</b><br>Words: to, the, and, we, in",
          "<b>Topic 0</b><br>Words: the, to, and, of, in",
          "<b>Topic 0</b><br>Words: the, to, of, and, that",
          "<b>Topic 0</b><br>Words: the, to, and, that, of",
          "<b>Topic 0</b><br>Words: the, to, and, of, that",
          "<b>Topic 0</b><br>Words: the, to, and, in, of",
          "<b>Topic 0</b><br>Words: the, to, of, and, in",
          "<b>Topic 0</b><br>Words: the, to, and, of, that",
          "<b>Topic 0</b><br>Words: the, to, and, of, in",
          "<b>Topic 0</b><br>Words: and, the, to, that, we",
          "<b>Topic 0</b><br>Words: the, to, and, that, in",
          "<b>Topic 0</b><br>Words: to, and, the, that, of",
          "<b>Topic 0</b><br>Words: to, the, and, that, of",
          "<b>Topic 0</b><br>Words: the, to, and, that, of",
          "<b>Topic 0</b><br>Words: the, to, we, and, in",
          "<b>Topic 0</b><br>Words: to, the, and, that, of",
          "<b>Topic 0</b><br>Words: to, the, and, that, we",
          "<b>Topic 0</b><br>Words: and, to, the, that, of",
          "<b>Topic 0</b><br>Words: the, and, to, of, that",
          "<b>Topic 0</b><br>Words: and, the, to, of, that",
          "<b>Topic 0</b><br>Words: the, to, and, of, that",
          "<b>Topic 0</b><br>Words: the, you, and, to, in",
          "<b>Topic 0</b><br>Words: the, and, of, to, that",
          "<b>Topic 0</b><br>Words: the, to, and, it, in",
          "<b>Topic 0</b><br>Words: he, the, and, to, that",
          "<b>Topic 0</b><br>Words: the, and, to, that, of",
          "<b>Topic 0</b><br>Words: the, to, that, and, we"
         ],
         "marker": {
          "color": "#E69F00"
         },
         "mode": "lines",
         "name": "0_the_to_and_that",
         "type": "scatter",
         "x": [
          "1960-09-26T00:00:00.000000000",
          "1960-10-07T00:00:00.000000000",
          "1960-10-13T00:00:00.000000000",
          "1960-10-21T00:00:00.000000000",
          "1976-09-23T00:00:00.000000000",
          "1976-10-06T00:00:00.000000000",
          "1976-10-22T00:00:00.000000000",
          "1980-09-21T00:00:00.000000000",
          "1980-10-28T00:00:00.000000000",
          "1984-10-07T00:00:00.000000000",
          "1984-10-11T00:00:00.000000000",
          "1984-10-21T00:00:00.000000000",
          "1988-09-25T00:00:00.000000000",
          "1988-10-05T00:00:00.000000000",
          "1988-10-13T00:00:00.000000000",
          "1992-10-11T00:00:00.000000000",
          "1992-10-13T00:00:00.000000000",
          "1992-10-15T00:00:00.000000000",
          "1992-10-19T00:00:00.000000000",
          "1996-10-06T00:00:00.000000000",
          "1996-10-09T00:00:00.000000000",
          "1996-10-16T00:00:00.000000000",
          "2000-10-03T00:00:00.000000000",
          "2000-10-05T00:00:00.000000000",
          "2000-10-11T00:00:00.000000000",
          "2000-10-17T00:00:00.000000000",
          "2004-09-30T00:00:00.000000000",
          "2004-10-05T00:00:00.000000000",
          "2004-10-08T00:00:00.000000000",
          "2004-10-13T00:00:00.000000000",
          "2008-09-26T00:00:00.000000000",
          "2008-10-02T00:00:00.000000000",
          "2008-10-07T00:00:00.000000000",
          "2008-10-15T00:00:00.000000000",
          "2012-10-03T00:00:00.000000000",
          "2012-10-11T00:00:00.000000000",
          "2012-10-16T00:00:00.000000000",
          "2012-10-22T00:00:00.000000000",
          "2016-09-26T00:00:00.000000000",
          "2016-10-04T00:00:00.000000000",
          "2016-10-09T00:00:00.000000000",
          "2016-10-19T00:00:00.000000000",
          "2020-09-29T00:00:00.000000000",
          "2020-10-07T00:00:00.000000000",
          "2020-10-22T00:00:00.000000000",
          "2024-07-27T00:00:00.000000000",
          "2024-09-10T00:00:00.000000000",
          "2024-10-01T00:00:00.000000000"
         ],
         "y": {
          "bdata": "DwAOABIADAAaABAAGQAUACgAIQAoACAALgApACoAJABHACsAJQA2ADMALgBFACcAOgAyACUAMQAnACUAfQAzADUANQA5AHEARwA2AEEAngBDAFsAcQBDAHEAMABBADEA",
          "dtype": "i2"
         }
        },
        {
         "hoverinfo": "text",
         "hovertext": [
          "<b>Topic 1</b><br>Words: remember, you, last, time, said",
          "<b>Topic 1</b><br>Words: true, answer, thats, not, like",
          "<b>Topic 1</b><br>Words: question, fourth, time, answer, let",
          "<b>Topic 1</b><br>Words: premise, disagree, may, question, must",
          "<b>Topic 1</b><br>Words: respond, answer, me, want, question",
          "<b>Topic 1</b><br>Words: me, ahead, answer, sir, excuse",
          "<b>Topic 1</b><br>Words: true, thats, response, dont, fire",
          "<b>Topic 1</b><br>Words: agree, right, thats, with, that",
          "<b>Topic 1</b><br>Words: let, me, here, your, way",
          "<b>Topic 1</b><br>Words: could, thing, say, one, if",
          "<b>Topic 1</b><br>Words: respond, honor, chance, might, opportunity",
          "<b>Topic 1</b><br>Words: exaggeration, just, thats, repeat, true",
          "<b>Topic 1</b><br>Words: speaks, itself, think, for, that",
          "<b>Topic 1</b><br>Words: answer, let, me, ive, just",
          "<b>Topic 1</b><br>Words: just, let, me, well, points",
          "<b>Topic 1</b><br>Words: itd, fine, me, respond, briefly",
          "<b>Topic 1</b><br>Words: records, facts, just, described, read",
          "<b>Topic 1</b><br>Words: lets, mention, me, respond, let",
          "<b>Topic 1</b><br>Words: studies, respond, six, me, verified",
          "<b>Topic 1</b><br>Words: question, me, happy, answer, let",
          "<b>Topic 1</b><br>Words: liquidate, matter, never, fact, youre",
          "<b>Topic 1</b><br>Words: respond, opinion, id, finishi, theplease",
          "<b>Topic 1</b><br>Words: let, me, weigh, incorrect, interrupt",
          "<b>Topic 1</b><br>Words: respond, please, am, checking, just",
          "<b>Topic 1</b><br>Words: say, me, quote, just, you",
          "<b>Topic 1</b><br>Words: not, true, respond, is, me",
          "<b>Topic 1</b><br>Words: answer, you, conversation, finish, true",
          "<b>Topic 1</b><br>Words: respond, statement, me, excuse, thats",
          "<b>Topic 1</b><br>Words: shouldn, respond, unacceptable, allowed, totally",
          "<b>Topic 1</b><br>Words: respond, like, well, would, to"
         ],
         "marker": {
          "color": "#56B4E9"
         },
         "mode": "lines",
         "name": "1_respond_me_let_answer",
         "type": "scatter",
         "x": [
          "1984-10-07T00:00:00.000000000",
          "1988-09-25T00:00:00.000000000",
          "1988-10-05T00:00:00.000000000",
          "1988-10-13T00:00:00.000000000",
          "1992-10-13T00:00:00.000000000",
          "1992-10-15T00:00:00.000000000",
          "1992-10-19T00:00:00.000000000",
          "1996-10-06T00:00:00.000000000",
          "1996-10-16T00:00:00.000000000",
          "2000-10-03T00:00:00.000000000",
          "2000-10-05T00:00:00.000000000",
          "2000-10-11T00:00:00.000000000",
          "2000-10-17T00:00:00.000000000",
          "2004-10-08T00:00:00.000000000",
          "2008-09-26T00:00:00.000000000",
          "2008-10-07T00:00:00.000000000",
          "2008-10-15T00:00:00.000000000",
          "2012-10-03T00:00:00.000000000",
          "2012-10-11T00:00:00.000000000",
          "2012-10-16T00:00:00.000000000",
          "2012-10-22T00:00:00.000000000",
          "2016-09-26T00:00:00.000000000",
          "2016-10-04T00:00:00.000000000",
          "2016-10-09T00:00:00.000000000",
          "2016-10-19T00:00:00.000000000",
          "2020-09-29T00:00:00.000000000",
          "2020-10-07T00:00:00.000000000",
          "2020-10-22T00:00:00.000000000",
          "2024-07-27T00:00:00.000000000",
          "2024-09-10T00:00:00.000000000"
         ],
         "y": {
          "bdata": "AQIBAhIFAgEBAQICAQEIAgQFBwYDBwsEBxsFCQIB",
          "dtype": "i1"
         }
        },
        {
         "hoverinfo": "text",
         "hovertext": [
          "<b>Topic 2</b><br>Words: hope, seconds, yellow, christmas, minutes",
          "<b>Topic 2</b><br>Words: 24, hour, waiting, period, support",
          "<b>Topic 2</b><br>Words: time, bite, hope, importance, lifetime",
          "<b>Topic 2</b><br>Words: equal, time, lunging, seconds, just",
          "<b>Topic 2</b><br>Words: eligible, oh, youll, yes, be",
          "<b>Topic 2</b><br>Words: limit, keeping, yeah, there, one",
          "<b>Topic 2</b><br>Words: list, run, through, again, can",
          "<b>Topic 2</b><br>Words: first, go, want, do, you",
          "<b>Topic 2</b><br>Words: question, second, 30, new, or",
          "<b>Topic 2</b><br>Words: hope, so, and, time, 24",
          "<b>Topic 2</b><br>Words: time, longer, second, line, debate",
          "<b>Topic 2</b><br>Words: timekeepers, answered, questions, wonderful, chance",
          "<b>Topic 2</b><br>Words: iif, fortunate, martha, hope, plans",
          "<b>Topic 2</b><br>Words: doubt, yeah, it, time, hope",
          "<b>Topic 2</b><br>Words: seconds, add, 30, youre, number",
          "<b>Topic 2</b><br>Words: like, equal, would, through, time",
          "<b>Topic 2</b><br>Words: come, these, all, people, in"
         ],
         "marker": {
          "color": "#009E73"
         },
         "mode": "lines",
         "name": "2_time_hope_24_seconds",
         "type": "scatter",
         "x": [
          "1988-09-25T00:00:00.000000000",
          "1992-10-13T00:00:00.000000000",
          "1992-10-15T00:00:00.000000000",
          "1992-10-19T00:00:00.000000000",
          "1996-10-06T00:00:00.000000000",
          "1996-10-09T00:00:00.000000000",
          "2000-10-11T00:00:00.000000000",
          "2004-10-08T00:00:00.000000000",
          "2004-10-13T00:00:00.000000000",
          "2008-09-26T00:00:00.000000000",
          "2012-10-11T00:00:00.000000000",
          "2012-10-16T00:00:00.000000000",
          "2016-10-09T00:00:00.000000000",
          "2016-10-19T00:00:00.000000000",
          "2020-09-29T00:00:00.000000000",
          "2020-10-07T00:00:00.000000000",
          "2024-07-27T00:00:00.000000000"
         ],
         "y": {
          "bdata": "BAkCBgECAQEBAgUCAgECAgE=",
          "dtype": "i1"
         }
        },
        {
         "hoverinfo": "text",
         "hovertext": [
          "<b>Topic 3</b><br>Words: lost, whove, their, homes, jobs",
          "<b>Topic 3</b><br>Words: planetarium, projector, overhead, hometown, cut",
          "<b>Topic 3</b><br>Words: spent, practically, tied, winning, million",
          "<b>Topic 3</b><br>Words: ransom, payment, created, runway, dollars",
          "<b>Topic 3</b><br>Words: yeah, oh, 15, 000, other",
          "<b>Topic 3</b><br>Words: fisher, moneythe, housesthe, build, house",
          "<b>Topic 3</b><br>Words: dollars, million, half, three, he",
          "<b>Topic 3</b><br>Words: dollars, son, million, half, 183",
          "<b>Topic 3</b><br>Words: moscow, sitting, wouldn, he, 300"
         ],
         "marker": {
          "color": "#F0E442"
         },
         "mode": "lines",
         "name": "3_dollars_million_half_he",
         "type": "scatter",
         "x": [
          "1992-10-15T00:00:00.000000000",
          "2008-10-15T00:00:00.000000000",
          "2016-09-26T00:00:00.000000000",
          "2016-10-04T00:00:00.000000000",
          "2016-10-09T00:00:00.000000000",
          "2016-10-19T00:00:00.000000000",
          "2020-09-29T00:00:00.000000000",
          "2020-10-22T00:00:00.000000000",
          "2024-09-10T00:00:00.000000000"
         ],
         "y": {
          "bdata": "AQECAwEBGQMC",
          "dtype": "i1"
         }
        },
        {
         "hoverinfo": "text",
         "hovertext": [
          "<b>Topic 4</b><br>Words: presidents, position, support, no, the",
          "<b>Topic 4</b><br>Words: voted, record, your, for, you",
          "<b>Topic 4</b><br>Words: jerry, brown, 800, number, like",
          "<b>Topic 4</b><br>Words: booth, factor, voting, they, ought",
          "<b>Topic 4</b><br>Words: retrospect, it, lessons, administration, considered",
          "<b>Topic 4</b><br>Words: fuel, nunn, lugar, nuclear, alternate",
          "<b>Topic 4</b><br>Words: supported, always, fact, thats, it",
          "<b>Topic 4</b><br>Words: scare, voting, politicians, dont, ahead",
          "<b>Topic 4</b><br>Words: voting, record, defend, wont, but",
          "<b>Topic 4</b><br>Words: ballots, ballot, you, it, the",
          "<b>Topic 4</b><br>Words: numbers, election, see, let, over"
         ],
         "marker": {
          "color": "#D55E00"
         },
         "mode": "lines",
         "name": "4_ballots_ballot_you_it",
         "type": "scatter",
         "x": [
          "1984-10-11T00:00:00.000000000",
          "1992-10-13T00:00:00.000000000",
          "1992-10-15T00:00:00.000000000",
          "2000-10-03T00:00:00.000000000",
          "2000-10-11T00:00:00.000000000",
          "2008-09-26T00:00:00.000000000",
          "2008-10-02T00:00:00.000000000",
          "2012-10-11T00:00:00.000000000",
          "2016-10-04T00:00:00.000000000",
          "2020-09-29T00:00:00.000000000",
          "2024-07-27T00:00:00.000000000"
         ],
         "y": {
          "bdata": "AQEBAQIFAQECEwE=",
          "dtype": "i1"
         }
        },
        {
         "hoverinfo": "text",
         "hovertext": [
          "<b>Topic 5</b><br>Words: session, minute, okay, add, open",
          "<b>Topic 5</b><br>Words: door, soon, out, found, as",
          "<b>Topic 5</b><br>Words: sorry, oh, gets, ahead, he",
          "<b>Topic 5</b><br>Words: qualifications, answer, question, his, want",
          "<b>Topic 5</b><br>Words: he, answers, differently, notice, question",
          "<b>Topic 5</b><br>Words: question, last, answer, actually, he",
          "<b>Topic 5</b><br>Words: answered, question, first, should, he",
          "<b>Topic 5</b><br>Words: answering, question, about, business, thing",
          "<b>Topic 5</b><br>Words: he, doesnt, question, how, answer",
          "<b>Topic 5</b><br>Words: flat, lying, website, matter, hes",
          "<b>Topic 5</b><br>Words: handicap, lie, biggest, he, all"
         ],
         "marker": {
          "color": "#0072B2"
         },
         "mode": "lines",
         "name": "5_he_question_doesnt_answer",
         "type": "scatter",
         "x": [
          "1992-10-13T00:00:00.000000000",
          "1992-10-19T00:00:00.000000000",
          "2000-10-17T00:00:00.000000000",
          "2004-10-05T00:00:00.000000000",
          "2012-10-11T00:00:00.000000000",
          "2012-10-16T00:00:00.000000000",
          "2012-10-22T00:00:00.000000000",
          "2016-10-04T00:00:00.000000000",
          "2020-09-29T00:00:00.000000000",
          "2020-10-22T00:00:00.000000000",
          "2024-07-27T00:00:00.000000000"
         ],
         "y": {
          "bdata": "AQEBAQIBAQEOAQE=",
          "dtype": "i1"
         }
        },
        {
         "hoverinfo": "text",
         "hovertext": [
          "<b>Topic 6</b><br>Words: crosstalk, jeffersonian, antithetical, well, polished",
          "<b>Topic 6</b><br>Words: crosstalk, nobut, evidencebut, conspiracy, theories",
          "<b>Topic 6</b><br>Words: crosstalk, matter, discredited, burn, stores",
          "<b>Topic 6</b><br>Words: swing, crosstalk, your, ve, seen"
         ],
         "marker": {
          "color": "#CC79A7"
         },
         "mode": "lines",
         "name": "6_crosstalk_swing_well_there",
         "type": "scatter",
         "x": [
          "2016-10-04T00:00:00.000000000",
          "2016-10-19T00:00:00.000000000",
          "2020-09-29T00:00:00.000000000",
          "2024-07-27T00:00:00.000000000"
         ],
         "y": {
          "bdata": "BwMGAQ==",
          "dtype": "i1"
         }
        },
        {
         "hoverinfo": "text",
         "hovertext": [
          "<b>Topic 7</b><br>Words: fewer, hotspots, thats, people, statistics",
          "<b>Topic 7</b><br>Words: removed, we, so, all, our",
          "<b>Topic 7</b><br>Words: turned, notwell, 35, disaster, 000",
          "<b>Topic 7</b><br>Words: delivers, crowds, mail, outside, 000",
          "<b>Topic 7</b><br>Words: 38, 000, reporters, prisoners, kristen"
         ],
         "marker": {
          "color": "#E69F00"
         },
         "mode": "lines",
         "name": "7_000_we_delivers_crowds",
         "type": "scatter",
         "x": [
          "2012-10-11T00:00:00.000000000",
          "2016-10-04T00:00:00.000000000",
          "2016-10-09T00:00:00.000000000",
          "2020-09-29T00:00:00.000000000",
          "2020-10-22T00:00:00.000000000"
         ],
         "y": {
          "bdata": "BAECCAI=",
          "dtype": "i1"
         }
        },
        {
         "hoverinfo": "text",
         "hovertext": [
          "<b>Topic 8</b><br>Words: circumstances, illegal, under, any, those",
          "<b>Topic 8</b><br>Words: rules, oh, mean, course, care",
          "<b>Topic 8</b><br>Words: subpoena, youd, jail, alone, sector",
          "<b>Topic 8</b><br>Words: law, laws, changed, you, haveand",
          "<b>Topic 8</b><br>Words: law, order, favor, crosstalk, you",
          "<b>Topic 8</b><br>Words: law, telling, simply, true, hes",
          "<b>Topic 8</b><br>Words: law, not, checked, 1990, laws"
         ],
         "marker": {
          "color": "#56B4E9"
         },
         "mode": "lines",
         "name": "8_law_order_you_favor",
         "type": "scatter",
         "x": [
          "1992-10-13T00:00:00.000000000",
          "2000-10-11T00:00:00.000000000",
          "2016-10-09T00:00:00.000000000",
          "2016-10-19T00:00:00.000000000",
          "2020-09-29T00:00:00.000000000",
          "2020-10-22T00:00:00.000000000",
          "2024-10-01T00:00:00.000000000"
         ],
         "y": {
          "bdata": "AQEBAwYBAw==",
          "dtype": "i1"
         }
        },
        {
         "hoverinfo": "text",
         "hovertext": [
          "<b>Topic 9</b><br>Words: position, same, had, have, done",
          "<b>Topic 9</b><br>Words: starting, after, years, know, dont",
          "<b>Topic 9</b><br>Words: ran, tried, last, you, time",
          "<b>Topic 9</b><br>Words: havent, yeah, seven, done, why",
          "<b>Topic 9</b><br>Words: done, been, never, before, it",
          "<b>Topic 9</b><br>Words: havent, done, it, years, you",
          "<b>Topic 9</b><br>Words: didnt, why, do, it, you",
          "<b>Topic 9</b><br>Words: years, why, didnt, simple, hell",
          "<b>Topic 9</b><br>Words: 25, didnt, why, years, last"
         ],
         "marker": {
          "color": "#009E73"
         },
         "mode": "lines",
         "name": "9_done_it_years_why",
         "type": "scatter",
         "x": [
          "1992-10-13T00:00:00.000000000",
          "1992-10-15T00:00:00.000000000",
          "1996-10-16T00:00:00.000000000",
          "2000-10-03T00:00:00.000000000",
          "2012-10-11T00:00:00.000000000",
          "2016-09-26T00:00:00.000000000",
          "2016-10-09T00:00:00.000000000",
          "2016-10-19T00:00:00.000000000",
          "2020-09-29T00:00:00.000000000"
         ],
         "y": {
          "bdata": "AQEBAQMDAQED",
          "dtype": "i1"
         }
        },
        {
         "hoverinfo": "text",
         "hovertext": [
          "<b>Topic 10</b><br>Words: in, that, traditions, too, or",
          "<b>Topic 10</b><br>Words: faith, church, that, to, religion",
          "<b>Topic 10</b><br>Words: religion, church, the, and, of",
          "<b>Topic 10</b><br>Words: the, religious, to, religion, and",
          "<b>Topic 10</b><br>Words: faith, and, almighty, the, your",
          "<b>Topic 10</b><br>Words: faith, informs, life, how, their",
          "<b>Topic 10</b><br>Words: faith, my, religion, was, and"
         ],
         "marker": {
          "color": "#F0E442"
         },
         "mode": "lines",
         "name": "10_faith_religion_church_and",
         "type": "scatter",
         "x": [
          "1980-09-21T00:00:00.000000000",
          "1984-10-07T00:00:00.000000000",
          "1984-10-11T00:00:00.000000000",
          "1996-10-16T00:00:00.000000000",
          "2004-10-13T00:00:00.000000000",
          "2012-10-11T00:00:00.000000000",
          "2016-10-04T00:00:00.000000000"
         ],
         "y": {
          "bdata": "AQUCAwEBAg==",
          "dtype": "i1"
         }
        },
        {
         "hoverinfo": "text",
         "hovertext": [
          "<b>Topic 11</b><br>Words: judy, light, still, my, elaine",
          "<b>Topic 11</b><br>Words: thank, charlie, you, elaine, all",
          "<b>Topic 11</b><br>Words: bob, direct, well, asked, elaine",
          "<b>Topic 11</b><br>Words: bob, youll, education, let, me",
          "<b>Topic 11</b><br>Words: elaine, thank, let, thanks, me"
         ],
         "marker": {
          "color": "#D55E00"
         },
         "mode": "lines",
         "name": "11_elaine_thank_bob_me",
         "type": "scatter",
         "x": [
          "1988-10-05T00:00:00.000000000",
          "2004-10-08T00:00:00.000000000",
          "2008-10-15T00:00:00.000000000",
          "2012-10-22T00:00:00.000000000",
          "2016-10-04T00:00:00.000000000"
         ],
         "y": {
          "bdata": "AQECAQg=",
          "dtype": "i1"
         }
        },
        {
         "hoverinfo": "text",
         "hovertext": [
          "<b>Topic 12</b><br>Words: marriage, of, relationships, gay, and",
          "<b>Topic 12</b><br>Words: marriage, gay, rights, think, law",
          "<b>Topic 12</b><br>Words: marriage, gay, and, that, to",
          "<b>Topic 12</b><br>Words: marriage, and, woman, that, between",
          "<b>Topic 12</b><br>Words: marriage, between, and, but, anything"
         ],
         "marker": {
          "color": "#0072B2"
         },
         "mode": "lines",
         "name": "12_marriage_gay_and_that",
         "type": "scatter",
         "x": [
          "2000-10-05T00:00:00.000000000",
          "2000-10-11T00:00:00.000000000",
          "2004-10-05T00:00:00.000000000",
          "2004-10-13T00:00:00.000000000",
          "2008-10-02T00:00:00.000000000"
         ],
         "y": {
          "bdata": "AgQDAgI=",
          "dtype": "i1"
         }
        },
        {
         "hoverinfo": "text",
         "hovertext": [
          "<b>Topic 13</b><br>Words: jim, seconds, ten, another, wants",
          "<b>Topic 13</b><br>Words: jim, could, round, big, respond",
          "<b>Topic 13</b><br>Words: jim, disagreement, hey, direct, answer",
          "<b>Topic 13</b><br>Words: jim, big, this, point, having",
          "<b>Topic 13</b><br>Words: jim, segment, began, point, word"
         ],
         "marker": {
          "color": "#CC79A7"
         },
         "mode": "lines",
         "name": "13_jim_this_big_point",
         "type": "scatter",
         "x": [
          "1988-09-25T00:00:00.000000000",
          "2000-10-03T00:00:00.000000000",
          "2000-10-17T00:00:00.000000000",
          "2008-09-26T00:00:00.000000000",
          "2012-10-03T00:00:00.000000000"
         ],
         "y": {
          "bdata": "AQECBgI=",
          "dtype": "i1"
         }
        },
        {
         "hoverinfo": "text",
         "hovertext": [
          "<b>Topic 14</b><br>Words: require, did, anyone, you, it",
          "<b>Topic 14</b><br>Words: apologize, sorry, mistake, im, couldnt",
          "<b>Topic 14</b><br>Words: status, didnt, you, indicated, oh",
          "<b>Topic 14</b><br>Words: mail, concluded, book, wrote, mistake",
          "<b>Topic 14</b><br>Words: mandate, individual, yes, course, have",
          "<b>Topic 14</b><br>Words: website, tape, show, did, put"
         ],
         "marker": {
          "color": "#E69F00"
         },
         "mode": "lines",
         "name": "14_require_did_you_it",
         "type": "scatter",
         "x": [
          "1992-10-13T00:00:00.000000000",
          "1992-10-19T00:00:00.000000000",
          "2012-10-22T00:00:00.000000000",
          "2016-09-26T00:00:00.000000000",
          "2020-09-29T00:00:00.000000000",
          "2020-10-22T00:00:00.000000000"
         ],
         "y": {
          "bdata": "AwICAgEB",
          "dtype": "i1"
         }
        },
        {
         "hoverinfo": "text",
         "hovertext": [
          "<b>Topic 15</b><br>Words: initiation, given, prosecutor, any, evidence",
          "<b>Topic 15</b><br>Words: months, cronyism, evidence, found, no",
          "<b>Topic 15</b><br>Words: assumed, charges, claims, kind, lot",
          "<b>Topic 15</b><br>Words: concluded, investigation, prosecutor, fbi, reasonable",
          "<b>Topic 15</b><br>Words: charges, false, knows, she, other",
          "<b>Topic 15</b><br>Words: discharged, dishonorably, wasnt, true, thats",
          "<b>Topic 15</b><br>Words: you, whiner, appeal, re, all",
          "<b>Topic 15</b><br>Words: fraud, include, they, didn, cities"
         ],
         "marker": {
          "color": "#56B4E9"
         },
         "mode": "lines",
         "name": "15_you_concluded_prosecutor_investigatio...",
         "type": "scatter",
         "x": [
          "1976-10-22T00:00:00.000000000",
          "2012-10-11T00:00:00.000000000",
          "2016-09-26T00:00:00.000000000",
          "2016-10-04T00:00:00.000000000",
          "2016-10-19T00:00:00.000000000",
          "2020-09-29T00:00:00.000000000",
          "2024-07-27T00:00:00.000000000",
          "2024-09-10T00:00:00.000000000"
         ],
         "y": {
          "bdata": "AQEBAwEBAQE=",
          "dtype": "i1"
         }
        }
       ],
       "layout": {
        "height": 450,
        "hoverlabel": {
         "bgcolor": "white",
         "font": {
          "family": "Rockwell",
          "size": 16
         }
        },
        "legend": {
         "title": {
          "text": "<b>Global Topic Representation"
         }
        },
        "template": {
         "data": {
          "bar": [
           {
            "error_x": {
             "color": "rgb(36,36,36)"
            },
            "error_y": {
             "color": "rgb(36,36,36)"
            },
            "marker": {
             "line": {
              "color": "white",
              "width": 0.5
             },
             "pattern": {
              "fillmode": "overlay",
              "size": 10,
              "solidity": 0.2
             }
            },
            "type": "bar"
           }
          ],
          "barpolar": [
           {
            "marker": {
             "line": {
              "color": "white",
              "width": 0.5
             },
             "pattern": {
              "fillmode": "overlay",
              "size": 10,
              "solidity": 0.2
             }
            },
            "type": "barpolar"
           }
          ],
          "carpet": [
           {
            "aaxis": {
             "endlinecolor": "rgb(36,36,36)",
             "gridcolor": "white",
             "linecolor": "white",
             "minorgridcolor": "white",
             "startlinecolor": "rgb(36,36,36)"
            },
            "baxis": {
             "endlinecolor": "rgb(36,36,36)",
             "gridcolor": "white",
             "linecolor": "white",
             "minorgridcolor": "white",
             "startlinecolor": "rgb(36,36,36)"
            },
            "type": "carpet"
           }
          ],
          "choropleth": [
           {
            "colorbar": {
             "outlinewidth": 1,
             "tickcolor": "rgb(36,36,36)",
             "ticks": "outside"
            },
            "type": "choropleth"
           }
          ],
          "contour": [
           {
            "colorbar": {
             "outlinewidth": 1,
             "tickcolor": "rgb(36,36,36)",
             "ticks": "outside"
            },
            "colorscale": [
             [
              0,
              "#440154"
             ],
             [
              0.1111111111111111,
              "#482878"
             ],
             [
              0.2222222222222222,
              "#3e4989"
             ],
             [
              0.3333333333333333,
              "#31688e"
             ],
             [
              0.4444444444444444,
              "#26828e"
             ],
             [
              0.5555555555555556,
              "#1f9e89"
             ],
             [
              0.6666666666666666,
              "#35b779"
             ],
             [
              0.7777777777777778,
              "#6ece58"
             ],
             [
              0.8888888888888888,
              "#b5de2b"
             ],
             [
              1,
              "#fde725"
             ]
            ],
            "type": "contour"
           }
          ],
          "contourcarpet": [
           {
            "colorbar": {
             "outlinewidth": 1,
             "tickcolor": "rgb(36,36,36)",
             "ticks": "outside"
            },
            "type": "contourcarpet"
           }
          ],
          "heatmap": [
           {
            "colorbar": {
             "outlinewidth": 1,
             "tickcolor": "rgb(36,36,36)",
             "ticks": "outside"
            },
            "colorscale": [
             [
              0,
              "#440154"
             ],
             [
              0.1111111111111111,
              "#482878"
             ],
             [
              0.2222222222222222,
              "#3e4989"
             ],
             [
              0.3333333333333333,
              "#31688e"
             ],
             [
              0.4444444444444444,
              "#26828e"
             ],
             [
              0.5555555555555556,
              "#1f9e89"
             ],
             [
              0.6666666666666666,
              "#35b779"
             ],
             [
              0.7777777777777778,
              "#6ece58"
             ],
             [
              0.8888888888888888,
              "#b5de2b"
             ],
             [
              1,
              "#fde725"
             ]
            ],
            "type": "heatmap"
           }
          ],
          "histogram": [
           {
            "marker": {
             "line": {
              "color": "white",
              "width": 0.6
             }
            },
            "type": "histogram"
           }
          ],
          "histogram2d": [
           {
            "colorbar": {
             "outlinewidth": 1,
             "tickcolor": "rgb(36,36,36)",
             "ticks": "outside"
            },
            "colorscale": [
             [
              0,
              "#440154"
             ],
             [
              0.1111111111111111,
              "#482878"
             ],
             [
              0.2222222222222222,
              "#3e4989"
             ],
             [
              0.3333333333333333,
              "#31688e"
             ],
             [
              0.4444444444444444,
              "#26828e"
             ],
             [
              0.5555555555555556,
              "#1f9e89"
             ],
             [
              0.6666666666666666,
              "#35b779"
             ],
             [
              0.7777777777777778,
              "#6ece58"
             ],
             [
              0.8888888888888888,
              "#b5de2b"
             ],
             [
              1,
              "#fde725"
             ]
            ],
            "type": "histogram2d"
           }
          ],
          "histogram2dcontour": [
           {
            "colorbar": {
             "outlinewidth": 1,
             "tickcolor": "rgb(36,36,36)",
             "ticks": "outside"
            },
            "colorscale": [
             [
              0,
              "#440154"
             ],
             [
              0.1111111111111111,
              "#482878"
             ],
             [
              0.2222222222222222,
              "#3e4989"
             ],
             [
              0.3333333333333333,
              "#31688e"
             ],
             [
              0.4444444444444444,
              "#26828e"
             ],
             [
              0.5555555555555556,
              "#1f9e89"
             ],
             [
              0.6666666666666666,
              "#35b779"
             ],
             [
              0.7777777777777778,
              "#6ece58"
             ],
             [
              0.8888888888888888,
              "#b5de2b"
             ],
             [
              1,
              "#fde725"
             ]
            ],
            "type": "histogram2dcontour"
           }
          ],
          "mesh3d": [
           {
            "colorbar": {
             "outlinewidth": 1,
             "tickcolor": "rgb(36,36,36)",
             "ticks": "outside"
            },
            "type": "mesh3d"
           }
          ],
          "parcoords": [
           {
            "line": {
             "colorbar": {
              "outlinewidth": 1,
              "tickcolor": "rgb(36,36,36)",
              "ticks": "outside"
             }
            },
            "type": "parcoords"
           }
          ],
          "pie": [
           {
            "automargin": true,
            "type": "pie"
           }
          ],
          "scatter": [
           {
            "fillpattern": {
             "fillmode": "overlay",
             "size": 10,
             "solidity": 0.2
            },
            "type": "scatter"
           }
          ],
          "scatter3d": [
           {
            "line": {
             "colorbar": {
              "outlinewidth": 1,
              "tickcolor": "rgb(36,36,36)",
              "ticks": "outside"
             }
            },
            "marker": {
             "colorbar": {
              "outlinewidth": 1,
              "tickcolor": "rgb(36,36,36)",
              "ticks": "outside"
             }
            },
            "type": "scatter3d"
           }
          ],
          "scattercarpet": [
           {
            "marker": {
             "colorbar": {
              "outlinewidth": 1,
              "tickcolor": "rgb(36,36,36)",
              "ticks": "outside"
             }
            },
            "type": "scattercarpet"
           }
          ],
          "scattergeo": [
           {
            "marker": {
             "colorbar": {
              "outlinewidth": 1,
              "tickcolor": "rgb(36,36,36)",
              "ticks": "outside"
             }
            },
            "type": "scattergeo"
           }
          ],
          "scattergl": [
           {
            "marker": {
             "colorbar": {
              "outlinewidth": 1,
              "tickcolor": "rgb(36,36,36)",
              "ticks": "outside"
             }
            },
            "type": "scattergl"
           }
          ],
          "scattermap": [
           {
            "marker": {
             "colorbar": {
              "outlinewidth": 1,
              "tickcolor": "rgb(36,36,36)",
              "ticks": "outside"
             }
            },
            "type": "scattermap"
           }
          ],
          "scattermapbox": [
           {
            "marker": {
             "colorbar": {
              "outlinewidth": 1,
              "tickcolor": "rgb(36,36,36)",
              "ticks": "outside"
             }
            },
            "type": "scattermapbox"
           }
          ],
          "scatterpolar": [
           {
            "marker": {
             "colorbar": {
              "outlinewidth": 1,
              "tickcolor": "rgb(36,36,36)",
              "ticks": "outside"
             }
            },
            "type": "scatterpolar"
           }
          ],
          "scatterpolargl": [
           {
            "marker": {
             "colorbar": {
              "outlinewidth": 1,
              "tickcolor": "rgb(36,36,36)",
              "ticks": "outside"
             }
            },
            "type": "scatterpolargl"
           }
          ],
          "scatterternary": [
           {
            "marker": {
             "colorbar": {
              "outlinewidth": 1,
              "tickcolor": "rgb(36,36,36)",
              "ticks": "outside"
             }
            },
            "type": "scatterternary"
           }
          ],
          "surface": [
           {
            "colorbar": {
             "outlinewidth": 1,
             "tickcolor": "rgb(36,36,36)",
             "ticks": "outside"
            },
            "colorscale": [
             [
              0,
              "#440154"
             ],
             [
              0.1111111111111111,
              "#482878"
             ],
             [
              0.2222222222222222,
              "#3e4989"
             ],
             [
              0.3333333333333333,
              "#31688e"
             ],
             [
              0.4444444444444444,
              "#26828e"
             ],
             [
              0.5555555555555556,
              "#1f9e89"
             ],
             [
              0.6666666666666666,
              "#35b779"
             ],
             [
              0.7777777777777778,
              "#6ece58"
             ],
             [
              0.8888888888888888,
              "#b5de2b"
             ],
             [
              1,
              "#fde725"
             ]
            ],
            "type": "surface"
           }
          ],
          "table": [
           {
            "cells": {
             "fill": {
              "color": "rgb(237,237,237)"
             },
             "line": {
              "color": "white"
             }
            },
            "header": {
             "fill": {
              "color": "rgb(217,217,217)"
             },
             "line": {
              "color": "white"
             }
            },
            "type": "table"
           }
          ]
         },
         "layout": {
          "annotationdefaults": {
           "arrowhead": 0,
           "arrowwidth": 1
          },
          "autotypenumbers": "strict",
          "coloraxis": {
           "colorbar": {
            "outlinewidth": 1,
            "tickcolor": "rgb(36,36,36)",
            "ticks": "outside"
           }
          },
          "colorscale": {
           "diverging": [
            [
             0,
             "rgb(103,0,31)"
            ],
            [
             0.1,
             "rgb(178,24,43)"
            ],
            [
             0.2,
             "rgb(214,96,77)"
            ],
            [
             0.3,
             "rgb(244,165,130)"
            ],
            [
             0.4,
             "rgb(253,219,199)"
            ],
            [
             0.5,
             "rgb(247,247,247)"
            ],
            [
             0.6,
             "rgb(209,229,240)"
            ],
            [
             0.7,
             "rgb(146,197,222)"
            ],
            [
             0.8,
             "rgb(67,147,195)"
            ],
            [
             0.9,
             "rgb(33,102,172)"
            ],
            [
             1,
             "rgb(5,48,97)"
            ]
           ],
           "sequential": [
            [
             0,
             "#440154"
            ],
            [
             0.1111111111111111,
             "#482878"
            ],
            [
             0.2222222222222222,
             "#3e4989"
            ],
            [
             0.3333333333333333,
             "#31688e"
            ],
            [
             0.4444444444444444,
             "#26828e"
            ],
            [
             0.5555555555555556,
             "#1f9e89"
            ],
            [
             0.6666666666666666,
             "#35b779"
            ],
            [
             0.7777777777777778,
             "#6ece58"
            ],
            [
             0.8888888888888888,
             "#b5de2b"
            ],
            [
             1,
             "#fde725"
            ]
           ],
           "sequentialminus": [
            [
             0,
             "#440154"
            ],
            [
             0.1111111111111111,
             "#482878"
            ],
            [
             0.2222222222222222,
             "#3e4989"
            ],
            [
             0.3333333333333333,
             "#31688e"
            ],
            [
             0.4444444444444444,
             "#26828e"
            ],
            [
             0.5555555555555556,
             "#1f9e89"
            ],
            [
             0.6666666666666666,
             "#35b779"
            ],
            [
             0.7777777777777778,
             "#6ece58"
            ],
            [
             0.8888888888888888,
             "#b5de2b"
            ],
            [
             1,
             "#fde725"
            ]
           ]
          },
          "colorway": [
           "#1F77B4",
           "#FF7F0E",
           "#2CA02C",
           "#D62728",
           "#9467BD",
           "#8C564B",
           "#E377C2",
           "#7F7F7F",
           "#BCBD22",
           "#17BECF"
          ],
          "font": {
           "color": "rgb(36,36,36)"
          },
          "geo": {
           "bgcolor": "white",
           "lakecolor": "white",
           "landcolor": "white",
           "showlakes": true,
           "showland": true,
           "subunitcolor": "white"
          },
          "hoverlabel": {
           "align": "left"
          },
          "hovermode": "closest",
          "mapbox": {
           "style": "light"
          },
          "paper_bgcolor": "white",
          "plot_bgcolor": "white",
          "polar": {
           "angularaxis": {
            "gridcolor": "rgb(232,232,232)",
            "linecolor": "rgb(36,36,36)",
            "showgrid": false,
            "showline": true,
            "ticks": "outside"
           },
           "bgcolor": "white",
           "radialaxis": {
            "gridcolor": "rgb(232,232,232)",
            "linecolor": "rgb(36,36,36)",
            "showgrid": false,
            "showline": true,
            "ticks": "outside"
           }
          },
          "scene": {
           "xaxis": {
            "backgroundcolor": "white",
            "gridcolor": "rgb(232,232,232)",
            "gridwidth": 2,
            "linecolor": "rgb(36,36,36)",
            "showbackground": true,
            "showgrid": false,
            "showline": true,
            "ticks": "outside",
            "zeroline": false,
            "zerolinecolor": "rgb(36,36,36)"
           },
           "yaxis": {
            "backgroundcolor": "white",
            "gridcolor": "rgb(232,232,232)",
            "gridwidth": 2,
            "linecolor": "rgb(36,36,36)",
            "showbackground": true,
            "showgrid": false,
            "showline": true,
            "ticks": "outside",
            "zeroline": false,
            "zerolinecolor": "rgb(36,36,36)"
           },
           "zaxis": {
            "backgroundcolor": "white",
            "gridcolor": "rgb(232,232,232)",
            "gridwidth": 2,
            "linecolor": "rgb(36,36,36)",
            "showbackground": true,
            "showgrid": false,
            "showline": true,
            "ticks": "outside",
            "zeroline": false,
            "zerolinecolor": "rgb(36,36,36)"
           }
          },
          "shapedefaults": {
           "fillcolor": "black",
           "line": {
            "width": 0
           },
           "opacity": 0.3
          },
          "ternary": {
           "aaxis": {
            "gridcolor": "rgb(232,232,232)",
            "linecolor": "rgb(36,36,36)",
            "showgrid": false,
            "showline": true,
            "ticks": "outside"
           },
           "baxis": {
            "gridcolor": "rgb(232,232,232)",
            "linecolor": "rgb(36,36,36)",
            "showgrid": false,
            "showline": true,
            "ticks": "outside"
           },
           "bgcolor": "white",
           "caxis": {
            "gridcolor": "rgb(232,232,232)",
            "linecolor": "rgb(36,36,36)",
            "showgrid": false,
            "showline": true,
            "ticks": "outside"
           }
          },
          "title": {
           "x": 0.05
          },
          "xaxis": {
           "automargin": true,
           "gridcolor": "rgb(232,232,232)",
           "linecolor": "rgb(36,36,36)",
           "showgrid": false,
           "showline": true,
           "ticks": "outside",
           "title": {
            "standoff": 15
           },
           "zeroline": false,
           "zerolinecolor": "rgb(36,36,36)"
          },
          "yaxis": {
           "automargin": true,
           "gridcolor": "rgb(232,232,232)",
           "linecolor": "rgb(36,36,36)",
           "showgrid": false,
           "showline": true,
           "ticks": "outside",
           "title": {
            "standoff": 15
           },
           "zeroline": false,
           "zerolinecolor": "rgb(36,36,36)"
          }
         }
        },
        "title": {
         "font": {
          "color": "Black",
          "size": 22
         },
         "text": "<b>Topics over Time</b>",
         "x": 0.4,
         "xanchor": "center",
         "y": 0.95,
         "yanchor": "top"
        },
        "width": 1250,
        "xaxis": {
         "showgrid": true
        },
        "yaxis": {
         "showgrid": true,
         "title": {
          "text": "Frequency"
         }
        }
       }
      }
     },
     "metadata": {},
     "output_type": "display_data"
    }
   ],
   "source": [
    "model, topics_by_date, *_ = run_bertopic_over_metadata(df_debates, groupby_col=\"date\")\n",
    "model.visualize_topics_over_time(topics_by_date)"
   ]
  },
  {
   "cell_type": "code",
   "execution_count": 12,
   "id": "98f1f670",
   "metadata": {},
   "outputs": [],
   "source": [
    "import seaborn as sns\n",
    "import matplotlib.pyplot as plt\n",
    "\n",
    "def visualize_topic_distribution_by_group(model, df, topics, groupby_col=\"actor\", top_n_topics=20, normalize=True, figsize=(16, 8)):\n",
    "    \"\"\"\n",
    "    Visualize BERTopic topic distribution per group (e.g., actor, party) using a heatmap.\n",
    "\n",
    "    Parameters:\n",
    "        model (BERTopic): Trained BERTopic model\n",
    "        df (pd.DataFrame): DataFrame with 'dialogue' and metadata column\n",
    "        topics (List[int]): List of topic assignments for each document\n",
    "        groupby_col (str): Metadata column to group by (e.g., 'actor', 'party')\n",
    "        top_n_topics (int): Number of most common topics to show\n",
    "        normalize (bool): Whether to normalize topic frequencies per group\n",
    "        figsize (tuple): Size of the heatmap\n",
    "    \"\"\"\n",
    "    assert len(df) == len(topics), \"Mismatch between DataFrame rows and topic assignments.\"\n",
    "\n",
    "    df_grouped = df.copy()\n",
    "    df_grouped[\"topic\"] = topics\n",
    "    group_topic_counts = df_grouped.groupby([groupby_col, \"topic\"]).size().unstack(fill_value=0)\n",
    "\n",
    "    if normalize:\n",
    "        group_topic_counts = group_topic_counts.div(group_topic_counts.sum(axis=1), axis=0)\n",
    "\n",
    "    # Select top N topics overall\n",
    "    top_topics = group_topic_counts.sum().sort_values(ascending=False).head(top_n_topics).index\n",
    "    top_topic_counts = group_topic_counts[top_topics]\n",
    "\n",
    "    # Rename topic columns with topic labels\n",
    "    topic_labels = model.get_topic_info().set_index(\"Topic\")[\"Name\"].to_dict()\n",
    "    top_topic_counts.columns = [topic_labels.get(t, str(t)) for t in top_topic_counts.columns]\n",
    "\n",
    "    plt.figure(figsize=figsize)\n",
    "    sns.heatmap(top_topic_counts, annot=True if top_n_topics <= 10 else False, cmap=\"Blues\", linewidths=0.5)\n",
    "    plt.title(f\"Topic Distribution by {groupby_col.capitalize()}\")\n",
    "    plt.xlabel(\"Topics\")\n",
    "    plt.ylabel(groupby_col.capitalize())\n",
    "    plt.xticks(rotation=45, ha=\"right\")\n",
    "    plt.tight_layout()\n",
    "    plt.show()\n"
   ]
  },
  {
   "cell_type": "code",
   "execution_count": 15,
   "id": "391bb2c2",
   "metadata": {},
   "outputs": [
    {
     "name": "stderr",
     "output_type": "stream",
     "text": [
      "2025-05-23 18:39:29,756 - BERTopic - Dimensionality - Fitting the dimensionality reduction algorithm\n"
     ]
    },
    {
     "name": "stdout",
     "output_type": "stream",
     "text": [
      "Creating new BERTopic model using embedding model: all-MiniLM-L6-v2\n",
      "Fitting BERTopic...\n"
     ]
    },
    {
     "name": "stderr",
     "output_type": "stream",
     "text": [
      "2025-05-23 18:39:33,806 - BERTopic - Dimensionality - Completed ✓\n",
      "2025-05-23 18:39:33,808 - BERTopic - Cluster - Start clustering the reduced embeddings\n",
      "2025-05-23 18:39:33,952 - BERTopic - Cluster - Completed ✓\n",
      "2025-05-23 18:39:33,957 - BERTopic - Representation - Fine-tuning topics using representation models.\n",
      "2025-05-23 18:39:34,364 - BERTopic - Representation - Completed ✓\n",
      "2025-05-23 18:39:34,758 - BERTopic - Topic reduction - Reducing number of topics\n",
      "2025-05-23 18:39:34,773 - BERTopic - Representation - Fine-tuning topics using representation models.\n",
      "2025-05-23 18:39:35,162 - BERTopic - Representation - Completed ✓\n",
      "2025-05-23 18:39:35,165 - BERTopic - Topic reduction - Reduced number of topics from 69 to 26\n"
     ]
    },
    {
     "name": "stdout",
     "output_type": "stream",
     "text": [
      "Computing topic frequency over 'actor'...\n"
     ]
    },
    {
     "data": {
      "image/png": "[encoded data removed]",
      "text/plain": [
       "<Figure size 1600x800 with 2 Axes>"
      ]
     },
     "metadata": {},
     "output_type": "display_data"
    }
   ],
   "source": [
    "model, _, topics, _ = run_bertopic_over_metadata(df_debates, groupby_col=\"actor\")\n",
    "visualize_topic_distribution_by_group(model, df_short, topics, groupby_col=\"actor\", top_n_topics=5)"
   ]
  },
  {
   "cell_type": "code",
   "execution_count": 16,
   "id": "4a66485d",
   "metadata": {},
   "outputs": [
    {
     "name": "stderr",
     "output_type": "stream",
     "text": [
      "2025-05-23 18:40:14,802 - BERTopic - Dimensionality - Fitting the dimensionality reduction algorithm\n"
     ]
    },
    {
     "name": "stdout",
     "output_type": "stream",
     "text": [
      "Creating new BERTopic model using embedding model: all-MiniLM-L6-v2\n",
      "Fitting BERTopic...\n"
     ]
    },
    {
     "name": "stderr",
     "output_type": "stream",
     "text": [
      "2025-05-23 18:40:19,112 - BERTopic - Dimensionality - Completed ✓\n",
      "2025-05-23 18:40:19,118 - BERTopic - Cluster - Start clustering the reduced embeddings\n",
      "2025-05-23 18:40:19,281 - BERTopic - Cluster - Completed ✓\n",
      "2025-05-23 18:40:19,289 - BERTopic - Representation - Fine-tuning topics using representation models.\n",
      "2025-05-23 18:40:19,727 - BERTopic - Representation - Completed ✓\n",
      "2025-05-23 18:40:20,124 - BERTopic - Topic reduction - Reducing number of topics\n",
      "2025-05-23 18:40:20,140 - BERTopic - Representation - Fine-tuning topics using representation models.\n",
      "2025-05-23 18:40:20,552 - BERTopic - Representation - Completed ✓\n",
      "2025-05-23 18:40:20,555 - BERTopic - Topic reduction - Reduced number of topics from 72 to 16\n"
     ]
    },
    {
     "name": "stdout",
     "output_type": "stream",
     "text": [
      "Computing topic frequency over 'party'...\n"
     ]
    },
    {
     "data": {
      "image/png": "[encoded data removed]",
      "text/plain": [
       "<Figure size 1600x800 with 2 Axes>"
      ]
     },
     "metadata": {},
     "output_type": "display_data"
    }
   ],
   "source": [
    "model, _, topics, _ = run_bertopic_over_metadata(df_debates, groupby_col=\"party\")\n",
    "visualize_topic_distribution_by_group(model, df_short, topics, groupby_col=\"party\", top_n_topics=5)"
   ]
  }
 ],
 "metadata": {
  "kernelspec": {
   "display_name": "tensorflow",
   "language": "python",
   "name": "python3"
  },
  "language_info": {
   "codemirror_mode": {
    "name": "ipython",
    "version": 3
   },
   "file_extension": ".py",
   "mimetype": "text/x-python",
   "name": "python",
   "nbconvert_exporter": "python",
   "pygments_lexer": "ipython3",
   "version": "3.12.9"
  }
 },
 "nbformat": 4,
 "nbformat_minor": 5
}
