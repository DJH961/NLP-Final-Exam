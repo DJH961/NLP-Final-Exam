{
 "cells": [
  {
   "cell_type": "markdown",
   "id": "d2f3f5b2-38c4-4806-a6b6-df0f3446618b",
   "metadata": {},
   "source": [
    "# Install & Import Libraries"
   ]
  },
  {
   "cell_type": "markdown",
   "id": "24581ff5-4bd7-469f-aa76-69a7ae2753fe",
   "metadata": {},
   "source": [
    "# BERTopic per Year"
   ]
  },
  {
   "cell_type": "code",
   "execution_count": null,
   "id": "14267a62-1993-4612-9c75-b21fb269ff75",
   "metadata": {},
   "outputs": [
    {
     "name": "stdout",
     "output_type": "stream",
     "text": [
      "Defaulting to user installation because normal site-packages is not writeable\n",
      "Requirement already satisfied: bertopic[all] in /home/ucloud/.local/lib/python3.12/site-packages (0.17.0)\n",
      "\u001b[33mWARNING: bertopic 0.17.0 does not provide the extra 'all'\u001b[0m\u001b[33m\n",
      "\u001b[0mRequirement already satisfied: hdbscan>=0.8.29 in /home/ucloud/.local/lib/python3.12/site-packages (from bertopic[all]) (0.8.40)\n",
      "Requirement already satisfied: numpy>=1.20.0 in /home/ucloud/.local/lib/python3.12/site-packages (from bertopic[all]) (2.2.6)\n",
      "Requirement already satisfied: pandas>=1.1.5 in /home/ucloud/.local/lib/python3.12/site-packages (from bertopic[all]) (2.2.3)\n",
      "Requirement already satisfied: plotly>=4.7.0 in /home/ucloud/.local/lib/python3.12/site-packages (from bertopic[all]) (6.1.1)\n",
      "Requirement already satisfied: scikit-learn>=1.0 in /home/ucloud/.local/lib/python3.12/site-packages (from bertopic[all]) (1.6.1)\n",
      "Requirement already satisfied: sentence-transformers>=0.4.1 in /home/ucloud/.local/lib/python3.12/site-packages (from bertopic[all]) (4.1.0)\n",
      "Requirement already satisfied: tqdm>=4.41.1 in /home/ucloud/.local/lib/python3.12/site-packages (from bertopic[all]) (4.67.1)\n",
      "Requirement already satisfied: umap-learn>=0.5.0 in /home/ucloud/.local/lib/python3.12/site-packages (from bertopic[all]) (0.5.7)\n",
      "Requirement already satisfied: scipy>=1.0 in /home/ucloud/.local/lib/python3.12/site-packages (from hdbscan>=0.8.29->bertopic[all]) (1.13.1)\n",
      "Requirement already satisfied: joblib>=1.0 in /home/ucloud/.local/lib/python3.12/site-packages (from hdbscan>=0.8.29->bertopic[all]) (1.5.1)\n",
      "Requirement already satisfied: python-dateutil>=2.8.2 in /home/ucloud/.local/lib/python3.12/site-packages (from pandas>=1.1.5->bertopic[all]) (2.9.0.post0)\n",
      "Requirement already satisfied: pytz>=2020.1 in /home/ucloud/.local/lib/python3.12/site-packages (from pandas>=1.1.5->bertopic[all]) (2025.2)\n",
      "Requirement already satisfied: tzdata>=2022.7 in /home/ucloud/.local/lib/python3.12/site-packages (from pandas>=1.1.5->bertopic[all]) (2025.2)\n",
      "Requirement already satisfied: narwhals>=1.15.1 in /home/ucloud/.local/lib/python3.12/site-packages (from plotly>=4.7.0->bertopic[all]) (1.40.0)\n",
      "Requirement already satisfied: packaging in /usr/lib/python3/dist-packages (from plotly>=4.7.0->bertopic[all]) (24.0)\n",
      "Requirement already satisfied: threadpoolctl>=3.1.0 in /home/ucloud/.local/lib/python3.12/site-packages (from scikit-learn>=1.0->bertopic[all]) (3.6.0)\n",
      "Requirement already satisfied: transformers<5.0.0,>=4.41.0 in /home/ucloud/.local/lib/python3.12/site-packages (from sentence-transformers>=0.4.1->bertopic[all]) (4.52.3)\n",
      "Requirement already satisfied: torch>=1.11.0 in /home/ucloud/.local/lib/python3.12/site-packages (from sentence-transformers>=0.4.1->bertopic[all]) (2.7.0)\n",
      "Requirement already satisfied: huggingface-hub>=0.20.0 in /home/ucloud/.local/lib/python3.12/site-packages (from sentence-transformers>=0.4.1->bertopic[all]) (0.32.0)\n",
      "Requirement already satisfied: Pillow in /home/ucloud/.local/lib/python3.12/site-packages (from sentence-transformers>=0.4.1->bertopic[all]) (11.2.1)\n",
      "Requirement already satisfied: typing_extensions>=4.5.0 in /home/ucloud/.local/lib/python3.12/site-packages (from sentence-transformers>=0.4.1->bertopic[all]) (4.13.2)\n",
      "Requirement already satisfied: numba>=0.51.2 in /home/ucloud/.local/lib/python3.12/site-packages (from umap-learn>=0.5.0->bertopic[all]) (0.61.2)\n",
      "Requirement already satisfied: pynndescent>=0.5 in /home/ucloud/.local/lib/python3.12/site-packages (from umap-learn>=0.5.0->bertopic[all]) (0.5.13)\n",
      "Requirement already satisfied: filelock in /home/ucloud/.local/lib/python3.12/site-packages (from huggingface-hub>=0.20.0->sentence-transformers>=0.4.1->bertopic[all]) (3.18.0)\n",
      "Requirement already satisfied: fsspec>=2023.5.0 in /home/ucloud/.local/lib/python3.12/site-packages (from huggingface-hub>=0.20.0->sentence-transformers>=0.4.1->bertopic[all]) (2025.5.0)\n",
      "Requirement already satisfied: pyyaml>=5.1 in /home/ucloud/.local/lib/python3.12/site-packages (from huggingface-hub>=0.20.0->sentence-transformers>=0.4.1->bertopic[all]) (6.0.2)\n",
      "Requirement already satisfied: requests in /home/ucloud/.local/lib/python3.12/site-packages (from huggingface-hub>=0.20.0->sentence-transformers>=0.4.1->bertopic[all]) (2.32.3)\n",
      "Requirement already satisfied: hf-xet<2.0.0,>=1.1.2 in /home/ucloud/.local/lib/python3.12/site-packages (from huggingface-hub>=0.20.0->sentence-transformers>=0.4.1->bertopic[all]) (1.1.2)\n",
      "Requirement already satisfied: llvmlite<0.45,>=0.44.0dev0 in /home/ucloud/.local/lib/python3.12/site-packages (from numba>=0.51.2->umap-learn>=0.5.0->bertopic[all]) (0.44.0)\n",
      "Requirement already satisfied: six>=1.5 in /usr/lib/python3/dist-packages (from python-dateutil>=2.8.2->pandas>=1.1.5->bertopic[all]) (1.16.0)\n",
      "Requirement already satisfied: setuptools in /usr/lib/python3/dist-packages (from torch>=1.11.0->sentence-transformers>=0.4.1->bertopic[all]) (68.1.2)\n",
      "Requirement already satisfied: sympy>=1.13.3 in /home/ucloud/.local/lib/python3.12/site-packages (from torch>=1.11.0->sentence-transformers>=0.4.1->bertopic[all]) (1.14.0)\n",
      "Requirement already satisfied: networkx in /home/ucloud/.local/lib/python3.12/site-packages (from torch>=1.11.0->sentence-transformers>=0.4.1->bertopic[all]) (3.4.2)\n",
      "Requirement already satisfied: jinja2 in /home/ucloud/.local/lib/python3.12/site-packages (from torch>=1.11.0->sentence-transformers>=0.4.1->bertopic[all]) (3.1.6)\n",
      "Requirement already satisfied: nvidia-cuda-nvrtc-cu12==12.6.77 in /home/ucloud/.local/lib/python3.12/site-packages (from torch>=1.11.0->sentence-transformers>=0.4.1->bertopic[all]) (12.6.77)\n",
      "Requirement already satisfied: nvidia-cuda-runtime-cu12==12.6.77 in /home/ucloud/.local/lib/python3.12/site-packages (from torch>=1.11.0->sentence-transformers>=0.4.1->bertopic[all]) (12.6.77)\n",
      "Requirement already satisfied: nvidia-cuda-cupti-cu12==12.6.80 in /home/ucloud/.local/lib/python3.12/site-packages (from torch>=1.11.0->sentence-transformers>=0.4.1->bertopic[all]) (12.6.80)\n",
      "Requirement already satisfied: nvidia-cudnn-cu12==9.5.1.17 in /home/ucloud/.local/lib/python3.12/site-packages (from torch>=1.11.0->sentence-transformers>=0.4.1->bertopic[all]) (9.5.1.17)\n",
      "Requirement already satisfied: nvidia-cublas-cu12==12.6.4.1 in /home/ucloud/.local/lib/python3.12/site-packages (from torch>=1.11.0->sentence-transformers>=0.4.1->bertopic[all]) (12.6.4.1)\n",
      "Requirement already satisfied: nvidia-cufft-cu12==11.3.0.4 in /home/ucloud/.local/lib/python3.12/site-packages (from torch>=1.11.0->sentence-transformers>=0.4.1->bertopic[all]) (11.3.0.4)\n",
      "Requirement already satisfied: nvidia-curand-cu12==10.3.7.77 in /home/ucloud/.local/lib/python3.12/site-packages (from torch>=1.11.0->sentence-transformers>=0.4.1->bertopic[all]) (10.3.7.77)\n",
      "Requirement already satisfied: nvidia-cusolver-cu12==11.7.1.2 in /home/ucloud/.local/lib/python3.12/site-packages (from torch>=1.11.0->sentence-transformers>=0.4.1->bertopic[all]) (11.7.1.2)\n",
      "Requirement already satisfied: nvidia-cusparse-cu12==12.5.4.2 in /home/ucloud/.local/lib/python3.12/site-packages (from torch>=1.11.0->sentence-transformers>=0.4.1->bertopic[all]) (12.5.4.2)\n",
      "Requirement already satisfied: nvidia-cusparselt-cu12==0.6.3 in /home/ucloud/.local/lib/python3.12/site-packages (from torch>=1.11.0->sentence-transformers>=0.4.1->bertopic[all]) (0.6.3)\n",
      "Requirement already satisfied: nvidia-nccl-cu12==2.26.2 in /home/ucloud/.local/lib/python3.12/site-packages (from torch>=1.11.0->sentence-transformers>=0.4.1->bertopic[all]) (2.26.2)\n",
      "Requirement already satisfied: nvidia-nvtx-cu12==12.6.77 in /home/ucloud/.local/lib/python3.12/site-packages (from torch>=1.11.0->sentence-transformers>=0.4.1->bertopic[all]) (12.6.77)\n",
      "Requirement already satisfied: nvidia-nvjitlink-cu12==12.6.85 in /home/ucloud/.local/lib/python3.12/site-packages (from torch>=1.11.0->sentence-transformers>=0.4.1->bertopic[all]) (12.6.85)\n",
      "Requirement already satisfied: nvidia-cufile-cu12==1.11.1.6 in /home/ucloud/.local/lib/python3.12/site-packages (from torch>=1.11.0->sentence-transformers>=0.4.1->bertopic[all]) (1.11.1.6)\n",
      "Requirement already satisfied: triton==3.3.0 in /home/ucloud/.local/lib/python3.12/site-packages (from torch>=1.11.0->sentence-transformers>=0.4.1->bertopic[all]) (3.3.0)\n",
      "Requirement already satisfied: regex!=2019.12.17 in /home/ucloud/.local/lib/python3.12/site-packages (from transformers<5.0.0,>=4.41.0->sentence-transformers>=0.4.1->bertopic[all]) (2024.11.6)\n",
      "Requirement already satisfied: tokenizers<0.22,>=0.21 in /home/ucloud/.local/lib/python3.12/site-packages (from transformers<5.0.0,>=4.41.0->sentence-transformers>=0.4.1->bertopic[all]) (0.21.1)\n",
      "Requirement already satisfied: safetensors>=0.4.3 in /home/ucloud/.local/lib/python3.12/site-packages (from transformers<5.0.0,>=4.41.0->sentence-transformers>=0.4.1->bertopic[all]) (0.5.3)\n",
      "Requirement already satisfied: mpmath<1.4,>=1.1.0 in /home/ucloud/.local/lib/python3.12/site-packages (from sympy>=1.13.3->torch>=1.11.0->sentence-transformers>=0.4.1->bertopic[all]) (1.3.0)\n",
      "Requirement already satisfied: MarkupSafe>=2.0 in /usr/lib/python3/dist-packages (from jinja2->torch>=1.11.0->sentence-transformers>=0.4.1->bertopic[all]) (2.1.5)\n",
      "Requirement already satisfied: charset-normalizer<4,>=2 in /home/ucloud/.local/lib/python3.12/site-packages (from requests->huggingface-hub>=0.20.0->sentence-transformers>=0.4.1->bertopic[all]) (3.4.1)\n",
      "Requirement already satisfied: idna<4,>=2.5 in /home/ucloud/.local/lib/python3.12/site-packages (from requests->huggingface-hub>=0.20.0->sentence-transformers>=0.4.1->bertopic[all]) (3.10)\n",
      "Requirement already satisfied: urllib3<3,>=1.21.1 in /home/ucloud/.local/lib/python3.12/site-packages (from requests->huggingface-hub>=0.20.0->sentence-transformers>=0.4.1->bertopic[all]) (2.4.0)\n",
      "Requirement already satisfied: certifi>=2017.4.17 in /home/ucloud/.local/lib/python3.12/site-packages (from requests->huggingface-hub>=0.20.0->sentence-transformers>=0.4.1->bertopic[all]) (2025.1.31)\n",
      "/bin/sh: 1: bertopic.dimensionality: not found\n"
     ]
    }
   ],
   "source": [
    "!pip install bertopic[all]"
   ]
  },
  {
   "cell_type": "code",
   "execution_count": 4,
   "id": "8eebe8f4-975d-475c-b27e-f236fca42a47",
   "metadata": {},
   "outputs": [
    {
     "ename": "ImportError",
     "evalue": "cannot import name 'UMAP' from 'bertopic.dimensionality' (/home/ucloud/.local/lib/python3.12/site-packages/bertopic/dimensionality/__init__.py)",
     "output_type": "error",
     "traceback": [
      "\u001b[31m---------------------------------------------------------------------------\u001b[39m",
      "\u001b[31mImportError\u001b[39m                               Traceback (most recent call last)",
      "\u001b[36mCell\u001b[39m\u001b[36m \u001b[39m\u001b[32mIn[4]\u001b[39m\u001b[32m, line 2\u001b[39m\n\u001b[32m      1\u001b[39m \u001b[38;5;28;01mfrom\u001b[39;00m\u001b[38;5;250m \u001b[39m\u001b[34;01mbertopic\u001b[39;00m\u001b[38;5;250m \u001b[39m\u001b[38;5;28;01mimport\u001b[39;00m BERTopic\n\u001b[32m----> \u001b[39m\u001b[32m2\u001b[39m \u001b[38;5;28;01mfrom\u001b[39;00m\u001b[38;5;250m \u001b[39m\u001b[34;01mbertopic\u001b[39;00m\u001b[34;01m.\u001b[39;00m\u001b[34;01mdimensionality\u001b[39;00m\u001b[38;5;250m \u001b[39m\u001b[38;5;28;01mimport\u001b[39;00m UMAP\n\u001b[32m      3\u001b[39m \u001b[38;5;28;01mfrom\u001b[39;00m\u001b[38;5;250m \u001b[39m\u001b[34;01mbertopic\u001b[39;00m\u001b[34;01m.\u001b[39;00m\u001b[34;01mrepresentation\u001b[39;00m\u001b[38;5;250m \u001b[39m\u001b[38;5;28;01mimport\u001b[39;00m KeyBERTInspired\n\u001b[32m      4\u001b[39m \u001b[38;5;28;01mfrom\u001b[39;00m\u001b[38;5;250m \u001b[39m\u001b[34;01mbertopic\u001b[39;00m\u001b[34;01m.\u001b[39;00m\u001b[34;01mvectorizers\u001b[39;00m\u001b[38;5;250m \u001b[39m\u001b[38;5;28;01mimport\u001b[39;00m ClassTfidfTransformer\n",
      "\u001b[31mImportError\u001b[39m: cannot import name 'UMAP' from 'bertopic.dimensionality' (/home/ucloud/.local/lib/python3.12/site-packages/bertopic/dimensionality/__init__.py)"
     ]
    }
   ],
   "source": [
    "from bertopic import BERTopic\n",
    "from bertopic.dimensionality import UMAP\n",
    "from bertopic.representation import KeyBERTInspired\n",
    "from bertopic.vectorizers import ClassTfidfTransformer\n",
    "import pandas as pd"
   ]
  },
  {
   "cell_type": "code",
   "execution_count": null,
   "id": "3af2f63c",
   "metadata": {},
   "outputs": [],
   "source": [
    "df_debates = pd.read_csv('debate_transcripts_cleaned.csv', encoding='utf-8')\n",
    "df_debates = df_debates[df_debates[\"is_candidate\"] == True].copy()"
   ]
  },
  {
   "cell_type": "code",
   "execution_count": null,
   "id": "97d4c122-7fd6-4152-8328-fa56c4e187fb",
   "metadata": {},
   "outputs": [
    {
     "name": "stderr",
     "output_type": "stream",
     "text": [
      "2025-05-21 20:33:23,981 - BERTopic - Embedding - Transforming documents to embeddings.\n"
     ]
    },
    {
     "data": {
      "application/vnd.jupyter.widget-view+json": {
       "model_id": "f0c04959bcb748d0bd41f2b6202325d2",
       "version_major": 2,
       "version_minor": 0
      },
      "text/plain": [
       "Batches:   0%|          | 0/262 [00:00<?, ?it/s]"
      ]
     },
     "metadata": {},
     "output_type": "display_data"
    }
   ],
   "source": [
    "def run_bertopic_over_metadata(df, groupby_col=\"year\", model=None, embedding_model=\"all-MiniLM-L6-v2\", verbose=True):\n",
    "    \"\"\"\n",
    "    Fits BERTopic to the 'dialogue' column of df and returns topic model and topics over time/group.\n",
    "\n",
    "    Parameters:\n",
    "        df (pd.DataFrame): DataFrame with at least 'dialogue' and one metadata column\n",
    "        groupby_col (str): Column in df to group topic evolution by. Options: \"year\", \"date\", \"debate_title\", \"actor\", \"party\"\n",
    "        model (BERTopic or None): Pass an existing BERTopic model to reuse, or None to create new\n",
    "        embedding_model (str or SentenceTransformer): Sentence embedding model name or object\n",
    "        verbose (bool): Whether to print status messages\n",
    "\n",
    "    Returns:\n",
    "        topic_model (BERTopic)\n",
    "        topics_over_group (pd.DataFrame)\n",
    "        topics (List[int])\n",
    "        probs (List[float])\n",
    "    \"\"\"\n",
    "\n",
    "    assert \"dialogue\" in df.columns, \"DataFrame must have a 'dialogue' column.\"\n",
    "    assert groupby_col in df.columns, f\"{groupby_col} not found in DataFrame columns.\"\n",
    "\n",
    "    docs = df[\"dialogue\"].tolist()\n",
    "    timestamps = df[groupby_col].astype(str).tolist()  # convert to string for topics_over_time\n",
    "\n",
    "    if model is None:\n",
    "        if verbose:\n",
    "            print(f\"Creating new BERTopic model using embedding model: {embedding_model}\")\n",
    "        model = BERTopic(\n",
    "            language=\"english\",\n",
    "            embedding_model=embedding_model,\n",
    "            verbose=verbose\n",
    "        )\n",
    "\n",
    "    if verbose:\n",
    "        print(\"Fitting BERTopic...\")\n",
    "    topics, probs = model.fit_transform(docs)\n",
    "\n",
    "    if verbose:\n",
    "        print(f\"Computing topic evolution over '{groupby_col}'...\")\n",
    "    topics_over_group = model.topics_over_time(docs, timestamps)\n",
    "\n",
    "    return model, topics_over_group, topics, probs\n"
   ]
  },
  {
   "cell_type": "code",
   "execution_count": null,
   "id": "424ead6a-3221-4323-b79c-43d91d59426d",
   "metadata": {},
   "outputs": [],
   "source": [
    "model, topics_yearly, topics, probs = run_bertopic_over_metadata(df_debates, groupby_col=\"year\")\n",
    "model.visualize_topics_over_time(topics_yearly)"
   ]
  }
 ],
 "metadata": {
  "kernelspec": {
   "display_name": "Python 3",
   "language": "python",
   "name": "python3"
  },
  "language_info": {
   "codemirror_mode": {
    "name": "ipython",
    "version": 3
   },
   "file_extension": ".py",
   "mimetype": "text/x-python",
   "name": "python",
   "nbconvert_exporter": "python",
   "pygments_lexer": "ipython3",
   "version": "3.12.3"
  }
 },
 "nbformat": 4,
 "nbformat_minor": 5
}
