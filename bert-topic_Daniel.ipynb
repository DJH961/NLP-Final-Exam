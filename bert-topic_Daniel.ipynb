{
 "cells": [
  {
   "cell_type": "markdown",
   "id": "d2f3f5b2-38c4-4806-a6b6-df0f3446618b",
   "metadata": {},
   "source": [
    "# Install & Import Libraries"
   ]
  },
  {
   "cell_type": "markdown",
   "id": "24581ff5-4bd7-469f-aa76-69a7ae2753fe",
   "metadata": {},
   "source": [
    "# BERTopic per Year"
   ]
  },
  {
   "cell_type": "code",
   "execution_count": 1,
   "id": "14267a62-1993-4612-9c75-b21fb269ff75",
   "metadata": {},
   "outputs": [],
   "source": [
    "#!pip install bertopic[all] umap-learn"
   ]
  },
  {
   "cell_type": "code",
   "execution_count": 2,
   "id": "8eebe8f4-975d-475c-b27e-f236fca42a47",
   "metadata": {},
   "outputs": [],
   "source": [
    "from bertopic import BERTopic\n",
    "from umap import UMAP\n",
    "from bertopic.representation import KeyBERTInspired\n",
    "from bertopic.vectorizers import ClassTfidfTransformer\n",
    "import pandas as pd\n",
    "from sentence_transformers import SentenceTransformer\n",
    "from sklearn.feature_extraction.text import CountVectorizer\n"
   ]
  },
  {
   "cell_type": "code",
   "execution_count": 3,
   "id": "3af2f63c",
   "metadata": {},
   "outputs": [],
   "source": [
    "df_debates = pd.read_csv('debate_transcripts_cleaned.csv', encoding='utf-8')\n",
    "df_debates = df_debates[df_debates[\"is_candidate\"] == True].copy()"
   ]
  },
  {
   "cell_type": "code",
   "execution_count": 4,
   "id": "97d4c122-7fd6-4152-8328-fa56c4e187fb",
   "metadata": {},
   "outputs": [
    {
     "data": {
      "application/vnd.jupyter.widget-view+json": {
       "model_id": "d3296c1e0e2b48f58094b15df1962145",
       "version_major": 2,
       "version_minor": 0
      },
      "text/plain": [
       "Batches:   0%|          | 0/143 [00:00<?, ?it/s]"
      ]
     },
     "metadata": {},
     "output_type": "display_data"
    }
   ],
   "source": [
    "embedderMiniLM = SentenceTransformer(\"all-MiniLM-L6-v2\")\n",
    "df_short = df_debates[df_debates[\"dialogue\"].str.split().str.len() > 5]  # remove anything shorter than 6 words\n",
    "docs = df_short[\"dialogue\"].tolist()\n",
    "embeddingsMiniLM=embedderMiniLM.encode(docs, show_progress_bar=True)\n",
    "\n",
    "def run_bertopic_over_metadata(df, groupby_col=\"year\", model=None, embedding_model=\"all-MiniLM-L6-v2\",embedder=embedderMiniLM, embeddings=embeddingsMiniLM, verbose=True):\n",
    "    \"\"\"\n",
    "    Fits BERTopic to the 'dialogue' column of df and returns topic model and topics over time/group.\n",
    "\n",
    "    Parameters:\n",
    "        df (pd.DataFrame): DataFrame with at least 'dialogue' and one metadata column\n",
    "        groupby_col (str): Column in df to group topic evolution by. Options: \"year\", \"date\", \"debate_title\", \"actor\", \"party\"\n",
    "        model (BERTopic or None): Pass an existing BERTopic model to reuse, or None to create new\n",
    "        embedding_model (str or SentenceTransformer): Sentence embedding model name or object\n",
    "        verbose (bool): Whether to print status messages\n",
    "\n",
    "    Returns:\n",
    "        topic_model (BERTopic)\n",
    "        topics_over_group (pd.DataFrame)\n",
    "        topics (List[int])\n",
    "        probs (List[float])\n",
    "    \"\"\"\n",
    "\n",
    "    assert \"dialogue\" in df.columns, \"DataFrame must have a 'dialogue' column.\"\n",
    "    assert groupby_col in df.columns, f\"{groupby_col} not found in DataFrame columns.\"\n",
    "\n",
    "    df = df[df[\"dialogue\"].str.split().str.len() > 5]  # remove anything shorter than 6 words\n",
    "    docs = df[\"dialogue\"].tolist()\n",
    "    group_data = df[groupby_col]\n",
    "    timestamps = group_data.astype(str).tolist()\n",
    "\n",
    "    if embedder is None:\n",
    "        if verbose:\n",
    "            print(f\"Creating embedding model: {embedding_model}\")\n",
    "        embedder=SentenceTransformer(embedding_model)\n",
    "\n",
    "    if embeddings is None:\n",
    "        if verbose:\n",
    "            print(f\"Embedding encoding\")\n",
    "        embeddings=embedder.encode(docs, show_progress_bar=True)\n",
    "\n",
    "    if model is None:\n",
    "        vectorizer_model = CountVectorizer(stop_words=\"english\")\n",
    "        if verbose:\n",
    "            print(f\"Creating new BERTopic model using embedding model: {embedding_model}\")\n",
    "        model = BERTopic(\n",
    "            language=\"english\",\n",
    "            vectorizer_model=vectorizer_model,\n",
    "            embedding_model=embedder,\n",
    "            verbose=verbose\n",
    "        )\n",
    "\n",
    "    if verbose:\n",
    "        print(\"Fitting BERTopic...\")\n",
    "    topics, probs = model.fit_transform(docs, embeddings)\n",
    "    # Automatically reduce topics based on similarity\n",
    "    model.reduce_topics(df[\"dialogue\"].tolist(), nr_topics=\"auto\")  # or set a target number like 30\n",
    "    model.set_topic_labels(model.generate_topic_labels())\n",
    "\n",
    "\n",
    "    if groupby_col in [\"year\", \"date\"]:\n",
    "        if verbose:\n",
    "            print(f\"Computing topic evolution over '{groupby_col}'...\")\n",
    "        topics_over_group = model.topics_over_time(docs, timestamps)\n",
    "    else:\n",
    "        if verbose:\n",
    "            print(f\"Computing topic frequency over '{groupby_col}'...\")\n",
    "        import pandas as pd\n",
    "        # Build DataFrame with topic and groupby_col\n",
    "        df_topics = pd.DataFrame({\"topic\": topics, groupby_col: group_data})\n",
    "        # Count frequency of each topic per group\n",
    "        topics_over_group = df_topics.groupby([groupby_col, \"topic\"]).size().reset_index(name=\"count\")\n",
    "\n",
    "    return model, topics_over_group, topics, probs\n"
   ]
  },
  {
   "cell_type": "code",
   "execution_count": 5,
   "id": "424ead6a-3221-4323-b79c-43d91d59426d",
   "metadata": {},
   "outputs": [
    {
     "name": "stderr",
     "output_type": "stream",
     "text": [
      "2025-05-23 18:50:45,639 - BERTopic - Dimensionality - Fitting the dimensionality reduction algorithm\n"
     ]
    },
    {
     "name": "stdout",
     "output_type": "stream",
     "text": [
      "Creating new BERTopic model using embedding model: all-MiniLM-L6-v2\n",
      "Fitting BERTopic...\n"
     ]
    },
    {
     "name": "stderr",
     "output_type": "stream",
     "text": [
      "2025-05-23 18:51:04,796 - BERTopic - Dimensionality - Completed ✓\n",
      "2025-05-23 18:51:04,797 - BERTopic - Cluster - Start clustering the reduced embeddings\n",
      "2025-05-23 18:51:04,967 - BERTopic - Cluster - Completed ✓\n",
      "2025-05-23 18:51:04,973 - BERTopic - Representation - Fine-tuning topics using representation models.\n",
      "2025-05-23 18:51:05,374 - BERTopic - Representation - Completed ✓\n",
      "2025-05-23 18:51:05,760 - BERTopic - Topic reduction - Reducing number of topics\n",
      "2025-05-23 18:51:05,780 - BERTopic - Representation - Fine-tuning topics using representation models.\n",
      "2025-05-23 18:51:06,165 - BERTopic - Representation - Completed ✓\n",
      "2025-05-23 18:51:06,168 - BERTopic - Topic reduction - Reduced number of topics from 79 to 30\n"
     ]
    },
    {
     "name": "stdout",
     "output_type": "stream",
     "text": [
      "Computing topic evolution over 'year'...\n"
     ]
    },
    {
     "name": "stderr",
     "output_type": "stream",
     "text": [
      "14it [00:00, 15.78it/s]\n"
     ]
    },
    {
     "data": {
      "application/vnd.plotly.v1+json": {
       "config": {
        "plotlyServerURL": "https://plot.ly"
       },
       "data": [
        {
         "hoverinfo": "text",
         "hovertext": [
          "<b>Topic 0</b><br>Words: think, united, states, mr, kennedy",
          "<b>Topic 0</b><br>Words: uh, people, billion, president, think",
          "<b>Topic 0</b><br>Words: think, government, people, years, energy",
          "<b>Topic 0</b><br>Words: think, president, people, going, soviet",
          "<b>Topic 0</b><br>Words: think, going, country, people, president",
          "<b>Topic 0</b><br>Words: people, think, going, got, want",
          "<b>Topic 0</b><br>Words: people, tax, president, years, going",
          "<b>Topic 0</b><br>Words: think, people, want, going, years",
          "<b>Topic 0</b><br>Words: president, people, going, thats, iraq",
          "<b>Topic 0</b><br>Words: senator, going, mccain, obama, got",
          "<b>Topic 0</b><br>Words: thats, going, people, make, said",
          "<b>Topic 0</b><br>Words: going, donald, people, country, hillary",
          "<b>Topic 0</b><br>Words: going, people, china, president, know",
          "<b>Topic 0</b><br>Words: ve, people, trump, going, donald"
         ],
         "marker": {
          "color": "#E69F00"
         },
         "mode": "lines",
         "name": "0_people_going_think_president",
         "type": "scatter",
         "x": [
          "1960-01-01T00:00:00.000000000",
          "1976-01-01T00:00:00.000000000",
          "1980-01-01T00:00:00.000000000",
          "1984-01-01T00:00:00.000000000",
          "1988-01-01T00:00:00.000000000",
          "1992-01-01T00:00:00.000000000",
          "1996-01-01T00:00:00.000000000",
          "2000-01-01T00:00:00.000000000",
          "2004-01-01T00:00:00.000000000",
          "2008-01-01T00:00:00.000000000",
          "2012-01-01T00:00:00.000000000",
          "2016-01-01T00:00:00.000000000",
          "2020-01-01T00:00:00.000000000",
          "2024-01-01T00:00:00.000000000"
         ],
         "y": {
          "bdata": "PwA7ADQAYgB+AKcAjwCwAJIA/AAVAUIBxQBpAA==",
          "dtype": "i2"
         }
        },
        {
         "hoverinfo": "text",
         "hovertext": [
          "<b>Topic 1</b><br>Words: constitutional, abortion, abortions, oughta, amendments",
          "<b>Topic 1</b><br>Words: individual, abortion, unborn, decision, shall",
          "<b>Topic 1</b><br>Words: abortion, life, unborn, child, human",
          "<b>Topic 1</b><br>Words: abortion, decision, life, child, conscience",
          "<b>Topic 1</b><br>Words: abortion, woman, abortions, life, pro",
          "<b>Topic 1</b><br>Words: life, pro, womans, abortion, choose",
          "<b>Topic 1</b><br>Words: abortion, abortions, life, partial, birth",
          "<b>Topic 1</b><br>Words: abortion, promote, life, partial, birth",
          "<b>Topic 1</b><br>Words: abortion, illinois, pro, roe, wade",
          "<b>Topic 1</b><br>Words: life, catholic, abortion, religious, abortions",
          "<b>Topic 1</b><br>Words: women, abortion, life, roe, wade",
          "<b>Topic 1</b><br>Words: wade, roe, view, court, ballot",
          "<b>Topic 1</b><br>Words: abortion, roe, wade, women, pro"
         ],
         "marker": {
          "color": "#56B4E9"
         },
         "mode": "lines",
         "name": "1_abortion_life_abortions_pro",
         "type": "scatter",
         "x": [
          "1976-01-01T00:00:00.000000000",
          "1980-01-01T00:00:00.000000000",
          "1984-01-01T00:00:00.000000000",
          "1988-01-01T00:00:00.000000000",
          "1992-01-01T00:00:00.000000000",
          "1996-01-01T00:00:00.000000000",
          "2000-01-01T00:00:00.000000000",
          "2004-01-01T00:00:00.000000000",
          "2008-01-01T00:00:00.000000000",
          "2012-01-01T00:00:00.000000000",
          "2016-01-01T00:00:00.000000000",
          "2020-01-01T00:00:00.000000000",
          "2024-01-01T00:00:00.000000000"
         ],
         "y": {
          "bdata": "AQIHBg0DBQQFAgwCGg==",
          "dtype": "i1"
         }
        },
        {
         "hoverinfo": "text",
         "hovertext": [
          "<b>Topic 2</b><br>Words: robbed, follow, respond, let, dont",
          "<b>Topic 2</b><br>Words: respond, let, hold, tutwiler, ahead",
          "<b>Topic 2</b><br>Words: let, way, respond, just, susan",
          "<b>Topic 2</b><br>Words: respond, round, honor, chance, jim",
          "<b>Topic 2</b><br>Words: gwen, question, jobs, respond, let",
          "<b>Topic 2</b><br>Words: respond, just, correct, let, points",
          "<b>Topic 2</b><br>Words: respond, fenton, let, entertain, katherine",
          "<b>Topic 2</b><br>Words: respond, let, just, weigh, interrupt",
          "<b>Topic 2</b><br>Words: respond, susan, just, let, hey",
          "<b>Topic 2</b><br>Words: respond, margaret, allowed, ask, question"
         ],
         "marker": {
          "color": "#009E73"
         },
         "mode": "lines",
         "name": "2_respond_let_just_susan",
         "type": "scatter",
         "x": [
          "1984-01-01T00:00:00.000000000",
          "1992-01-01T00:00:00.000000000",
          "1996-01-01T00:00:00.000000000",
          "2000-01-01T00:00:00.000000000",
          "2004-01-01T00:00:00.000000000",
          "2008-01-01T00:00:00.000000000",
          "2012-01-01T00:00:00.000000000",
          "2016-01-01T00:00:00.000000000",
          "2020-01-01T00:00:00.000000000",
          "2024-01-01T00:00:00.000000000"
         ],
         "y": {
          "bdata": "ARABAwEJBgsQBA==",
          "dtype": "i1"
         }
        },
        {
         "hoverinfo": "text",
         "hovertext": [
          "<b>Topic 3</b><br>Words: civil, black, rights, blocked, record",
          "<b>Topic 3</b><br>Words: profiling, racial, police, law, race",
          "<b>Topic 3</b><br>Words: police, law, african, communities, order",
          "<b>Topic 3</b><br>Words: law, police, black, african, look",
          "<b>Topic 3</b><br>Words: black, police, childcare, 10, horrible"
         ],
         "marker": {
          "color": "#F0E442"
         },
         "mode": "lines",
         "name": "3_police_law_black_african",
         "type": "scatter",
         "x": [
          "1984-01-01T00:00:00.000000000",
          "2000-01-01T00:00:00.000000000",
          "2016-01-01T00:00:00.000000000",
          "2020-01-01T00:00:00.000000000",
          "2024-01-01T00:00:00.000000000"
         ],
         "y": {
          "bdata": "AQYOFQM=",
          "dtype": "i1"
         }
        },
        {
         "hoverinfo": "text",
         "hovertext": [
          "<b>Topic 4</b><br>Words: flu, vaccine, shot, contaminated, england",
          "<b>Topic 4</b><br>Words: surge, summer, martha, announced, youll",
          "<b>Topic 4</b><br>Words: vaccine, shut, people, flu, open"
         ],
         "marker": {
          "color": "#D55E00"
         },
         "mode": "lines",
         "name": "4_vaccine_shut_flu_people",
         "type": "scatter",
         "x": [
          "2004-01-01T00:00:00.000000000",
          "2012-01-01T00:00:00.000000000",
          "2020-01-01T00:00:00.000000000"
         ],
         "y": {
          "bdata": "AQEr",
          "dtype": "i1"
         }
        },
        {
         "hoverinfo": "text",
         "hovertext": [
          "<b>Topic 5</b><br>Words: court, uh, burger, supreme, judges",
          "<b>Topic 5</b><br>Words: judges, religious, test, politicizing, reflection",
          "<b>Topic 5</b><br>Words: bench, appointments, appointed, court, appoint",
          "<b>Topic 5</b><br>Words: judges, bench, court, appoint, constitution",
          "<b>Topic 5</b><br>Words: constitution, judge, judges, pick, interpret",
          "<b>Topic 5</b><br>Words: court, judges, judge, supreme, justice",
          "<b>Topic 5</b><br>Words: unelected, consensus, reaching, determination, judges",
          "<b>Topic 5</b><br>Words: court, supreme, justices, judges, constitution",
          "<b>Topic 5</b><br>Words: court, supreme, justice, judge, election",
          "<b>Topic 5</b><br>Words: court, liberal, supreme, vote, justices"
         ],
         "marker": {
          "color": "#0072B2"
         },
         "mode": "lines",
         "name": "5_court_supreme_judges_uh",
         "type": "scatter",
         "x": [
          "1976-01-01T00:00:00.000000000",
          "1984-01-01T00:00:00.000000000",
          "1988-01-01T00:00:00.000000000",
          "2000-01-01T00:00:00.000000000",
          "2004-01-01T00:00:00.000000000",
          "2008-01-01T00:00:00.000000000",
          "2012-01-01T00:00:00.000000000",
          "2016-01-01T00:00:00.000000000",
          "2020-01-01T00:00:00.000000000",
          "2024-01-01T00:00:00.000000000"
         ],
         "y": {
          "bdata": "AwEDBAMEAQcIAg==",
          "dtype": "i1"
         }
        },
        {
         "hoverinfo": "text",
         "hovertext": [
          "<b>Topic 6</b><br>Words: gun, uh, handgun, registration, crime",
          "<b>Topic 6</b><br>Words: questioning, aclu, dont, patriotism, positions",
          "<b>Topic 6</b><br>Words: police, officers, gun, crime, waiting",
          "<b>Topic 6</b><br>Words: guns, brady, gun, assault, instant",
          "<b>Topic 6</b><br>Words: gun, guns, law, think, laws",
          "<b>Topic 6</b><br>Words: guns, gun, assault, ban, law",
          "<b>Topic 6</b><br>Words: gun, guns, violence, weapons, automatic",
          "<b>Topic 6</b><br>Words: gun, guns, amendment, second, lists",
          "<b>Topic 6</b><br>Words: gun, guns, violence, ve, kids"
         ],
         "marker": {
          "color": "#CC79A7"
         },
         "mode": "lines",
         "name": "6_gun_guns_think_violence",
         "type": "scatter",
         "x": [
          "1976-01-01T00:00:00.000000000",
          "1988-01-01T00:00:00.000000000",
          "1992-01-01T00:00:00.000000000",
          "1996-01-01T00:00:00.000000000",
          "2000-01-01T00:00:00.000000000",
          "2004-01-01T00:00:00.000000000",
          "2012-01-01T00:00:00.000000000",
          "2016-01-01T00:00:00.000000000",
          "2024-01-01T00:00:00.000000000"
         ],
         "y": {
          "bdata": "AwECAwwCBAUE",
          "dtype": "i1"
         }
        },
        {
         "hoverinfo": "text",
         "hovertext": [
          "<b>Topic 7</b><br>Words: true, premise, thats, disagree, question",
          "<b>Topic 7</b><br>Words: true, thats, dont, away, think",
          "<b>Topic 7</b><br>Words: agree, right, thats, true, facts",
          "<b>Topic 7</b><br>Words: speaks, think, true, thats, facts",
          "<b>Topic 7</b><br>Words: records, facts, fact, thats, look",
          "<b>Topic 7</b><br>Words: worse, tell, thats, true, whats",
          "<b>Topic 7</b><br>Words: true, thats, opinion, theplease, athatsgo",
          "<b>Topic 7</b><br>Words: true, thats, exactly, discredited, absolutely"
         ],
         "marker": {
          "color": "#E69F00"
         },
         "mode": "lines",
         "name": "7_true_thats_facts_fact",
         "type": "scatter",
         "x": [
          "1988-01-01T00:00:00.000000000",
          "1992-01-01T00:00:00.000000000",
          "1996-01-01T00:00:00.000000000",
          "2000-01-01T00:00:00.000000000",
          "2008-01-01T00:00:00.000000000",
          "2012-01-01T00:00:00.000000000",
          "2016-01-01T00:00:00.000000000",
          "2020-01-01T00:00:00.000000000"
         ],
         "y": {
          "bdata": "AgEBAQUGCgk=",
          "dtype": "i1"
         }
        },
        {
         "hoverinfo": "text",
         "hovertext": [
          "<b>Topic 8</b><br>Words: presidents, position, support, ballots, ballot",
          "<b>Topic 8</b><br>Words: voted, record, ballots, ballot, voting",
          "<b>Topic 8</b><br>Words: retrospect, booth, lessons, considered, factor",
          "<b>Topic 8</b><br>Words: record, ballots, voted, ballot, vote",
          "<b>Topic 8</b><br>Words: fuel, nunn, alternate, 1990s, lugar",
          "<b>Topic 8</b><br>Words: scare, politicians, voting, ahead, dont",
          "<b>Topic 8</b><br>Words: voting, record, defend, wont, governor",
          "<b>Topic 8</b><br>Words: ballots, ballot, count, em, fraudulent",
          "<b>Topic 8</b><br>Words: numbers, election, let, ballots, ballot"
         ],
         "marker": {
          "color": "#56B4E9"
         },
         "mode": "lines",
         "name": "8_ballots_ballot_voted_record",
         "type": "scatter",
         "x": [
          "1984-01-01T00:00:00.000000000",
          "1992-01-01T00:00:00.000000000",
          "2000-01-01T00:00:00.000000000",
          "2004-01-01T00:00:00.000000000",
          "2008-01-01T00:00:00.000000000",
          "2012-01-01T00:00:00.000000000",
          "2016-01-01T00:00:00.000000000",
          "2020-01-01T00:00:00.000000000",
          "2024-01-01T00:00:00.000000000"
         ],
         "y": {
          "bdata": "AQEDAwUBAhIB",
          "dtype": "i1"
         }
        },
        {
         "hoverinfo": "text",
         "hovertext": [
          "<b>Topic 9</b><br>Words: hope, yellow, seconds, christmas, minutes",
          "<b>Topic 9</b><br>Words: 24, hour, waiting, period, time",
          "<b>Topic 9</b><br>Words: limit, keeping, yeah, isnt, time",
          "<b>Topic 9</b><br>Words: list, run, time, 24, seconds",
          "<b>Topic 9</b><br>Words: question, second, 30, new, want",
          "<b>Topic 9</b><br>Words: time, longer, timekeepers, second, line",
          "<b>Topic 9</b><br>Words: iif, fortunate, martha, hope, time",
          "<b>Topic 9</b><br>Words: football, brought, seconds, equal, happy"
         ],
         "marker": {
          "color": "#009E73"
         },
         "mode": "lines",
         "name": "9_time_24_seconds_hour",
         "type": "scatter",
         "x": [
          "1988-01-01T00:00:00.000000000",
          "1992-01-01T00:00:00.000000000",
          "1996-01-01T00:00:00.000000000",
          "2000-01-01T00:00:00.000000000",
          "2004-01-01T00:00:00.000000000",
          "2012-01-01T00:00:00.000000000",
          "2016-01-01T00:00:00.000000000",
          "2020-01-01T00:00:00.000000000"
         ],
         "y": {
          "bdata": "BA4CAQIGAQQ=",
          "dtype": "i1"
         }
        },
        {
         "hoverinfo": "text",
         "hovertext": [
          "<b>Topic 10</b><br>Words: planetarium, projector, overhead, hometown, pork",
          "<b>Topic 10</b><br>Words: fisher, dollars, million, runway, housesthe",
          "<b>Topic 10</b><br>Words: dollars, million, half, son, moscow",
          "<b>Topic 10</b><br>Words: moscow, sitting, wouldn, 300, gets"
         ],
         "marker": {
          "color": "#F0E442"
         },
         "mode": "lines",
         "name": "10_dollars_million_half_moscow",
         "type": "scatter",
         "x": [
          "2008-01-01T00:00:00.000000000",
          "2016-01-01T00:00:00.000000000",
          "2020-01-01T00:00:00.000000000",
          "2024-01-01T00:00:00.000000000"
         ],
         "y": {
          "bdata": "AQUYAg==",
          "dtype": "i1"
         }
        },
        {
         "hoverinfo": "text",
         "hovertext": [
          "<b>Topic 11</b><br>Words: talking, hes, doesnt, question, answer",
          "<b>Topic 11</b><br>Words: door, session, minute, okay, soon",
          "<b>Topic 11</b><br>Words: repeat, sorry, oh, secondly, gets",
          "<b>Topic 11</b><br>Words: qualifications, answer, question, want, doesnt",
          "<b>Topic 11</b><br>Words: forth, mean, read, dont, youve",
          "<b>Topic 11</b><br>Words: question, differently, answers, answered, notice",
          "<b>Topic 11</b><br>Words: stuff, exactly, said, youve, means",
          "<b>Topic 11</b><br>Words: doesnt, knows, answer, shush, question"
         ],
         "marker": {
          "color": "#D55E00"
         },
         "mode": "lines",
         "name": "11_doesnt_question_answer_knows",
         "type": "scatter",
         "x": [
          "1988-01-01T00:00:00.000000000",
          "1992-01-01T00:00:00.000000000",
          "2000-01-01T00:00:00.000000000",
          "2004-01-01T00:00:00.000000000",
          "2008-01-01T00:00:00.000000000",
          "2012-01-01T00:00:00.000000000",
          "2016-01-01T00:00:00.000000000",
          "2020-01-01T00:00:00.000000000"
         ],
         "y": {
          "bdata": "AQICAQMEAxA=",
          "dtype": "i1"
         }
        },
        {
         "hoverinfo": "text",
         "hovertext": [
          "<b>Topic 12</b><br>Words: uh, enforcing, black, business, minority",
          "<b>Topic 12</b><br>Words: discrimination, affairs, industry, southerner, preserving",
          "<b>Topic 12</b><br>Words: affirmative, action, positive, quotas, disenfranchised",
          "<b>Topic 12</b><br>Words: quotas, officer, chief, think, dont",
          "<b>Topic 12</b><br>Words: affirmative, discrimination, quotas, action, prove",
          "<b>Topic 12</b><br>Words: quotas, affirmative, action, diversity, means",
          "<b>Topic 12</b><br>Words: quotas, affirmative, caucus, reach, action"
         ],
         "marker": {
          "color": "#0072B2"
         },
         "mode": "lines",
         "name": "12_affirmative_quotas_discrimination_act...",
         "type": "scatter",
         "x": [
          "1976-01-01T00:00:00.000000000",
          "1980-01-01T00:00:00.000000000",
          "1984-01-01T00:00:00.000000000",
          "1992-01-01T00:00:00.000000000",
          "1996-01-01T00:00:00.000000000",
          "2000-01-01T00:00:00.000000000",
          "2004-01-01T00:00:00.000000000"
         ],
         "y": {
          "bdata": "AQIBAggFAg==",
          "dtype": "i1"
         }
        },
        {
         "hoverinfo": "text",
         "hovertext": [
          "<b>Topic 13</b><br>Words: mans, awful, using, words, hope",
          "<b>Topic 13</b><br>Words: women, donald, said, campaign, apology",
          "<b>Topic 13</b><br>Words: slanders, regarding, absurd, armed, women",
          "<b>Topic 13</b><br>Words: saw, deserve, donald, carrying, president"
         ],
         "marker": {
          "color": "#CC79A7"
         },
         "mode": "lines",
         "name": "13_women_donald_said_campaign",
         "type": "scatter",
         "x": [
          "2000-01-01T00:00:00.000000000",
          "2016-01-01T00:00:00.000000000",
          "2020-01-01T00:00:00.000000000",
          "2024-01-01T00:00:00.000000000"
         ],
         "y": {
          "bdata": "AREBAg==",
          "dtype": "i1"
         }
        },
        {
         "hoverinfo": "text",
         "hovertext": [
          "<b>Topic 14</b><br>Words: crosstalk, bias, antithetical, bookstore, jeffersonian",
          "<b>Topic 14</b><br>Words: crosstalk, discredited, totally, matter, stores",
          "<b>Topic 14</b><br>Words: swing, crosstalk, ve, seen, know"
         ],
         "marker": {
          "color": "#E69F00"
         },
         "mode": "lines",
         "name": "14_crosstalk_discredited_swing_bias",
         "type": "scatter",
         "x": [
          "2016-01-01T00:00:00.000000000",
          "2020-01-01T00:00:00.000000000",
          "2024-01-01T00:00:00.000000000"
         ],
         "y": {
          "bdata": "DQYB",
          "dtype": "i1"
         }
        },
        {
         "hoverinfo": "text",
         "hovertext": [
          "<b>Topic 15</b><br>Words: circumstances, illegal, law, ad, order",
          "<b>Topic 15</b><br>Words: rules, oh, mean, course, care",
          "<b>Topic 15</b><br>Words: ad, sat, law, laws, changed",
          "<b>Topic 15</b><br>Words: law, order, favor, worry, crosstalk",
          "<b>Topic 15</b><br>Words: law, checked, 1990, book, laws"
         ],
         "marker": {
          "color": "#56B4E9"
         },
         "mode": "lines",
         "name": "15_law_ad_order_favor",
         "type": "scatter",
         "x": [
          "1992-01-01T00:00:00.000000000",
          "2000-01-01T00:00:00.000000000",
          "2016-01-01T00:00:00.000000000",
          "2020-01-01T00:00:00.000000000",
          "2024-01-01T00:00:00.000000000"
         ],
         "y": {
          "bdata": "AQEGCQM=",
          "dtype": "i1"
         }
        },
        {
         "hoverinfo": "text",
         "hovertext": [
          "<b>Topic 16</b><br>Words: remember, time, said, statement, excuse",
          "<b>Topic 16</b><br>Words: words, used, ive, statement, believe",
          "<b>Topic 16</b><br>Words: liquidate, statement, meant, tell, did",
          "<b>Topic 16</b><br>Words: statement, did, quoting, say, asked",
          "<b>Topic 16</b><br>Words: statement, excuse, big, oh, second",
          "<b>Topic 16</b><br>Words: acknowledge, don, statement, excuse, big"
         ],
         "marker": {
          "color": "#009E73"
         },
         "mode": "lines",
         "name": "16_statement_excuse_big_did",
         "type": "scatter",
         "x": [
          "1984-01-01T00:00:00.000000000",
          "2000-01-01T00:00:00.000000000",
          "2012-01-01T00:00:00.000000000",
          "2016-01-01T00:00:00.000000000",
          "2020-01-01T00:00:00.000000000",
          "2024-01-01T00:00:00.000000000"
         ],
         "y": {
          "bdata": "AQEDAwoB",
          "dtype": "i1"
         }
        },
        {
         "hoverinfo": "text",
         "hovertext": [
          "<b>Topic 17</b><br>Words: church, try, belief, prayer, constitutional",
          "<b>Topic 17</b><br>Words: church, faith, religion, religious, prayer",
          "<b>Topic 17</b><br>Words: religious, religion, church, prayer, faith",
          "<b>Topic 17</b><br>Words: faith, religion, church, respect, life",
          "<b>Topic 17</b><br>Words: informs, faith, life, vulnerable, separate",
          "<b>Topic 17</b><br>Words: faith, religion, church, uphold, struggle"
         ],
         "marker": {
          "color": "#F0E442"
         },
         "mode": "lines",
         "name": "17_faith_church_religion_religious",
         "type": "scatter",
         "x": [
          "1980-01-01T00:00:00.000000000",
          "1984-01-01T00:00:00.000000000",
          "1996-01-01T00:00:00.000000000",
          "2004-01-01T00:00:00.000000000",
          "2012-01-01T00:00:00.000000000",
          "2016-01-01T00:00:00.000000000"
         ],
         "y": {
          "bdata": "AggDAgEC",
          "dtype": "i1"
         }
        },
        {
         "hoverinfo": "text",
         "hovertext": [
          "<b>Topic 18</b><br>Words: position, didnt, havent, years, 25",
          "<b>Topic 18</b><br>Words: ran, tried, time, didnt, havent",
          "<b>Topic 18</b><br>Words: havent, yeah, seven, years, didnt",
          "<b>Topic 18</b><br>Words: floor, couple, times, actually, youve",
          "<b>Topic 18</b><br>Words: havent, didnt, years, 30, 26",
          "<b>Topic 18</b><br>Words: didnt, 25, impossible, years, work"
         ],
         "marker": {
          "color": "#D55E00"
         },
         "mode": "lines",
         "name": "18_didnt_havent_years_25",
         "type": "scatter",
         "x": [
          "1992-01-01T00:00:00.000000000",
          "1996-01-01T00:00:00.000000000",
          "2000-01-01T00:00:00.000000000",
          "2012-01-01T00:00:00.000000000",
          "2016-01-01T00:00:00.000000000",
          "2020-01-01T00:00:00.000000000"
         ],
         "y": {
          "bdata": "AQEBBAYF",
          "dtype": "i1"
         }
        },
        {
         "hoverinfo": "text",
         "hovertext": [
          "<b>Topic 19</b><br>Words: initiation, tapes, given, authorities, prosecutor",
          "<b>Topic 19</b><br>Words: tapes, charges, halliburton, fbi, factcheck",
          "<b>Topic 19</b><br>Words: months, lapses, investigation, pickering, intelligence",
          "<b>Topic 19</b><br>Words: investigation, concluded, charges, fbi, prosecutor",
          "<b>Topic 19</b><br>Words: director, fbi, militia, dishonorably, discharged",
          "<b>Topic 19</b><br>Words: whiner, appeal, fraud, include, fbi"
         ],
         "marker": {
          "color": "#0072B2"
         },
         "mode": "lines",
         "name": "19_fbi_investigation_charges_tapes",
         "type": "scatter",
         "x": [
          "1976-01-01T00:00:00.000000000",
          "2004-01-01T00:00:00.000000000",
          "2012-01-01T00:00:00.000000000",
          "2016-01-01T00:00:00.000000000",
          "2020-01-01T00:00:00.000000000",
          "2024-01-01T00:00:00.000000000"
         ],
         "y": {
          "bdata": "AQIDBgMC",
          "dtype": "i1"
         }
        },
        {
         "hoverinfo": "text",
         "hovertext": [
          "<b>Topic 20</b><br>Words: answer, question, fourth, time, try",
          "<b>Topic 20</b><br>Words: answer, question, happy, ill, mention",
          "<b>Topic 20</b><br>Words: answer, let, ive, got, just",
          "<b>Topic 20</b><br>Words: answer, question, happy, appreciate, thank",
          "<b>Topic 20</b><br>Words: answer, question, im, trying, going",
          "<b>Topic 20</b><br>Words: damning, answer, non, question, happy"
         ],
         "marker": {
          "color": "#CC79A7"
         },
         "mode": "lines",
         "name": "20_answer_question_damning_happy",
         "type": "scatter",
         "x": [
          "1988-01-01T00:00:00.000000000",
          "1992-01-01T00:00:00.000000000",
          "2004-01-01T00:00:00.000000000",
          "2012-01-01T00:00:00.000000000",
          "2020-01-01T00:00:00.000000000",
          "2024-01-01T00:00:00.000000000"
         ],
         "y": {
          "bdata": "AgcBAwIB",
          "dtype": "i1"
         }
        },
        {
         "hoverinfo": "text",
         "hovertext": [
          "<b>Topic 21</b><br>Words: pakistan, strategy, afghanistan, taliban, qaida",
          "<b>Topic 21</b><br>Words: pakistan, afghanistan, 2014, laden, taliban"
         ],
         "marker": {
          "color": "#E69F00"
         },
         "mode": "lines",
         "name": "21_pakistan_afghanistan_strategy_taliban",
         "type": "scatter",
         "x": [
          "2008-01-01T00:00:00.000000000",
          "2012-01-01T00:00:00.000000000"
         ],
         "y": {
          "bdata": "CgQ=",
          "dtype": "i1"
         }
        },
        {
         "hoverinfo": "text",
         "hovertext": [
          "<b>Topic 22</b><br>Words: joe, laughter, applause, absolutely, try",
          "<b>Topic 22</b><br>Words: hey, joe, 47, gotta, em",
          "<b>Topic 22</b><br>Words: joe, 47, gotta, em, surprised"
         ],
         "marker": {
          "color": "#56B4E9"
         },
         "mode": "lines",
         "name": "22_joe_47_gotta_em",
         "type": "scatter",
         "x": [
          "2000-01-01T00:00:00.000000000",
          "2008-01-01T00:00:00.000000000",
          "2020-01-01T00:00:00.000000000"
         ],
         "y": {
          "bdata": "AgEL",
          "dtype": "i1"
         }
        },
        {
         "hoverinfo": "text",
         "hovertext": [
          "<b>Topic 23</b><br>Words: mandate, believe, save, political, lives",
          "<b>Topic 23</b><br>Words: fake, head, save, political, lives",
          "<b>Topic 23</b><br>Words: circumstances, challenges, biggest, reduce, try",
          "<b>Topic 23</b><br>Words: better, save, political, lives, deception",
          "<b>Topic 23</b><br>Words: possibly, save, things, bigger, lives",
          "<b>Topic 23</b><br>Words: political, deception, sooner, spoken, save"
         ],
         "marker": {
          "color": "#009E73"
         },
         "mode": "lines",
         "name": "23_save_political_lives_deception",
         "type": "scatter",
         "x": [
          "1992-01-01T00:00:00.000000000",
          "2004-01-01T00:00:00.000000000",
          "2008-01-01T00:00:00.000000000",
          "2012-01-01T00:00:00.000000000",
          "2016-01-01T00:00:00.000000000",
          "2020-01-01T00:00:00.000000000"
         ],
         "y": {
          "bdata": "AQECAQMF",
          "dtype": "i1"
         }
        },
        {
         "hoverinfo": "text",
         "hovertext": [
          "<b>Topic 24</b><br>Words: judy, light, elaine, thank, bob",
          "<b>Topic 24</b><br>Words: thank, charlie, elaine, bob, thanks",
          "<b>Topic 24</b><br>Words: bob, direct, asked, elaine, question",
          "<b>Topic 24</b><br>Words: bob, youll, education, let, elaine",
          "<b>Topic 24</b><br>Words: elaine, thank, thanks, obtaining, let"
         ],
         "marker": {
          "color": "#F0E442"
         },
         "mode": "lines",
         "name": "24_elaine_thank_bob_thanks",
         "type": "scatter",
         "x": [
          "1988-01-01T00:00:00.000000000",
          "2004-01-01T00:00:00.000000000",
          "2008-01-01T00:00:00.000000000",
          "2012-01-01T00:00:00.000000000",
          "2016-01-01T00:00:00.000000000"
         ],
         "y": {
          "bdata": "AQECAQg=",
          "dtype": "i1"
         }
        },
        {
         "hoverinfo": "text",
         "hovertext": [
          "<b>Topic 25</b><br>Words: nice, stealing, perfect, close, wouldnt",
          "<b>Topic 25</b><br>Words: forgotten, youd, thought, nice, itd",
          "<b>Topic 25</b><br>Words: laughter, youve, want, think, nice",
          "<b>Topic 25</b><br>Words: itd, fine, nice, fun, laughter",
          "<b>Topic 25</b><br>Words: fun, contactexcuse, describes, respectful, interrupt",
          "<b>Topic 25</b><br>Words: fun, nice, thank, good, itd"
         ],
         "marker": {
          "color": "#D55E00"
         },
         "mode": "lines",
         "name": "25_nice_fun_itd_laughter",
         "type": "scatter",
         "x": [
          "1988-01-01T00:00:00.000000000",
          "1992-01-01T00:00:00.000000000",
          "2000-01-01T00:00:00.000000000",
          "2008-01-01T00:00:00.000000000",
          "2016-01-01T00:00:00.000000000",
          "2024-01-01T00:00:00.000000000"
         ],
         "y": {
          "bdata": "AgEBAQUC",
          "dtype": "i1"
         }
        },
        {
         "hoverinfo": "text",
         "hovertext": [
          "<b>Topic 26</b><br>Words: jim, seconds, wants, ad, point",
          "<b>Topic 26</b><br>Words: jim, ad, analyzed, journalists, knocked",
          "<b>Topic 26</b><br>Words: jim, having, point, end, big",
          "<b>Topic 26</b><br>Words: jim, segment, began, word, point"
         ],
         "marker": {
          "color": "#0072B2"
         },
         "mode": "lines",
         "name": "26_jim_ad_point_analyzed",
         "type": "scatter",
         "x": [
          "1988-01-01T00:00:00.000000000",
          "2000-01-01T00:00:00.000000000",
          "2008-01-01T00:00:00.000000000",
          "2012-01-01T00:00:00.000000000"
         ],
         "y": {
          "bdata": "AQMGAg==",
          "dtype": "i1"
         }
        },
        {
         "hoverinfo": "text",
         "hovertext": [
          "<b>Topic 27</b><br>Words: marriage, gay, lesbian, relationships, rights",
          "<b>Topic 27</b><br>Words: marriage, gay, woman, man, constitution",
          "<b>Topic 27</b><br>Words: marriage, faiths, redefining, tolerant, gay"
         ],
         "marker": {
          "color": "#CC79A7"
         },
         "mode": "lines",
         "name": "27_marriage_gay_woman_lesbian",
         "type": "scatter",
         "x": [
          "2000-01-01T00:00:00.000000000",
          "2004-01-01T00:00:00.000000000",
          "2008-01-01T00:00:00.000000000"
         ],
         "y": {
          "bdata": "BQUC",
          "dtype": "i1"
         }
        },
        {
         "hoverinfo": "text",
         "hovertext": [
          "<b>Topic 28</b><br>Words: masks, mask, wear, anthony, wore",
          "<b>Topic 28</b><br>Words: masks, wear, toddlers, theater, crowded"
         ],
         "marker": {
          "color": "#E69F00"
         },
         "mode": "lines",
         "name": "28_masks_mask_wear_anthony",
         "type": "scatter",
         "x": [
          "2020-01-01T00:00:00.000000000",
          "2024-01-01T00:00:00.000000000"
         ],
         "y": {
          "bdata": "CgE=",
          "dtype": "i1"
         }
        }
       ],
       "layout": {
        "height": 450,
        "hoverlabel": {
         "bgcolor": "white",
         "font": {
          "family": "Rockwell",
          "size": 16
         }
        },
        "legend": {
         "title": {
          "text": "<b>Global Topic Representation"
         }
        },
        "template": {
         "data": {
          "bar": [
           {
            "error_x": {
             "color": "rgb(36,36,36)"
            },
            "error_y": {
             "color": "rgb(36,36,36)"
            },
            "marker": {
             "line": {
              "color": "white",
              "width": 0.5
             },
             "pattern": {
              "fillmode": "overlay",
              "size": 10,
              "solidity": 0.2
             }
            },
            "type": "bar"
           }
          ],
          "barpolar": [
           {
            "marker": {
             "line": {
              "color": "white",
              "width": 0.5
             },
             "pattern": {
              "fillmode": "overlay",
              "size": 10,
              "solidity": 0.2
             }
            },
            "type": "barpolar"
           }
          ],
          "carpet": [
           {
            "aaxis": {
             "endlinecolor": "rgb(36,36,36)",
             "gridcolor": "white",
             "linecolor": "white",
             "minorgridcolor": "white",
             "startlinecolor": "rgb(36,36,36)"
            },
            "baxis": {
             "endlinecolor": "rgb(36,36,36)",
             "gridcolor": "white",
             "linecolor": "white",
             "minorgridcolor": "white",
             "startlinecolor": "rgb(36,36,36)"
            },
            "type": "carpet"
           }
          ],
          "choropleth": [
           {
            "colorbar": {
             "outlinewidth": 1,
             "tickcolor": "rgb(36,36,36)",
             "ticks": "outside"
            },
            "type": "choropleth"
           }
          ],
          "contour": [
           {
            "colorbar": {
             "outlinewidth": 1,
             "tickcolor": "rgb(36,36,36)",
             "ticks": "outside"
            },
            "colorscale": [
             [
              0,
              "#440154"
             ],
             [
              0.1111111111111111,
              "#482878"
             ],
             [
              0.2222222222222222,
              "#3e4989"
             ],
             [
              0.3333333333333333,
              "#31688e"
             ],
             [
              0.4444444444444444,
              "#26828e"
             ],
             [
              0.5555555555555556,
              "#1f9e89"
             ],
             [
              0.6666666666666666,
              "#35b779"
             ],
             [
              0.7777777777777778,
              "#6ece58"
             ],
             [
              0.8888888888888888,
              "#b5de2b"
             ],
             [
              1,
              "#fde725"
             ]
            ],
            "type": "contour"
           }
          ],
          "contourcarpet": [
           {
            "colorbar": {
             "outlinewidth": 1,
             "tickcolor": "rgb(36,36,36)",
             "ticks": "outside"
            },
            "type": "contourcarpet"
           }
          ],
          "heatmap": [
           {
            "colorbar": {
             "outlinewidth": 1,
             "tickcolor": "rgb(36,36,36)",
             "ticks": "outside"
            },
            "colorscale": [
             [
              0,
              "#440154"
             ],
             [
              0.1111111111111111,
              "#482878"
             ],
             [
              0.2222222222222222,
              "#3e4989"
             ],
             [
              0.3333333333333333,
              "#31688e"
             ],
             [
              0.4444444444444444,
              "#26828e"
             ],
             [
              0.5555555555555556,
              "#1f9e89"
             ],
             [
              0.6666666666666666,
              "#35b779"
             ],
             [
              0.7777777777777778,
              "#6ece58"
             ],
             [
              0.8888888888888888,
              "#b5de2b"
             ],
             [
              1,
              "#fde725"
             ]
            ],
            "type": "heatmap"
           }
          ],
          "histogram": [
           {
            "marker": {
             "line": {
              "color": "white",
              "width": 0.6
             }
            },
            "type": "histogram"
           }
          ],
          "histogram2d": [
           {
            "colorbar": {
             "outlinewidth": 1,
             "tickcolor": "rgb(36,36,36)",
             "ticks": "outside"
            },
            "colorscale": [
             [
              0,
              "#440154"
             ],
             [
              0.1111111111111111,
              "#482878"
             ],
             [
              0.2222222222222222,
              "#3e4989"
             ],
             [
              0.3333333333333333,
              "#31688e"
             ],
             [
              0.4444444444444444,
              "#26828e"
             ],
             [
              0.5555555555555556,
              "#1f9e89"
             ],
             [
              0.6666666666666666,
              "#35b779"
             ],
             [
              0.7777777777777778,
              "#6ece58"
             ],
             [
              0.8888888888888888,
              "#b5de2b"
             ],
             [
              1,
              "#fde725"
             ]
            ],
            "type": "histogram2d"
           }
          ],
          "histogram2dcontour": [
           {
            "colorbar": {
             "outlinewidth": 1,
             "tickcolor": "rgb(36,36,36)",
             "ticks": "outside"
            },
            "colorscale": [
             [
              0,
              "#440154"
             ],
             [
              0.1111111111111111,
              "#482878"
             ],
             [
              0.2222222222222222,
              "#3e4989"
             ],
             [
              0.3333333333333333,
              "#31688e"
             ],
             [
              0.4444444444444444,
              "#26828e"
             ],
             [
              0.5555555555555556,
              "#1f9e89"
             ],
             [
              0.6666666666666666,
              "#35b779"
             ],
             [
              0.7777777777777778,
              "#6ece58"
             ],
             [
              0.8888888888888888,
              "#b5de2b"
             ],
             [
              1,
              "#fde725"
             ]
            ],
            "type": "histogram2dcontour"
           }
          ],
          "mesh3d": [
           {
            "colorbar": {
             "outlinewidth": 1,
             "tickcolor": "rgb(36,36,36)",
             "ticks": "outside"
            },
            "type": "mesh3d"
           }
          ],
          "parcoords": [
           {
            "line": {
             "colorbar": {
              "outlinewidth": 1,
              "tickcolor": "rgb(36,36,36)",
              "ticks": "outside"
             }
            },
            "type": "parcoords"
           }
          ],
          "pie": [
           {
            "automargin": true,
            "type": "pie"
           }
          ],
          "scatter": [
           {
            "fillpattern": {
             "fillmode": "overlay",
             "size": 10,
             "solidity": 0.2
            },
            "type": "scatter"
           }
          ],
          "scatter3d": [
           {
            "line": {
             "colorbar": {
              "outlinewidth": 1,
              "tickcolor": "rgb(36,36,36)",
              "ticks": "outside"
             }
            },
            "marker": {
             "colorbar": {
              "outlinewidth": 1,
              "tickcolor": "rgb(36,36,36)",
              "ticks": "outside"
             }
            },
            "type": "scatter3d"
           }
          ],
          "scattercarpet": [
           {
            "marker": {
             "colorbar": {
              "outlinewidth": 1,
              "tickcolor": "rgb(36,36,36)",
              "ticks": "outside"
             }
            },
            "type": "scattercarpet"
           }
          ],
          "scattergeo": [
           {
            "marker": {
             "colorbar": {
              "outlinewidth": 1,
              "tickcolor": "rgb(36,36,36)",
              "ticks": "outside"
             }
            },
            "type": "scattergeo"
           }
          ],
          "scattergl": [
           {
            "marker": {
             "colorbar": {
              "outlinewidth": 1,
              "tickcolor": "rgb(36,36,36)",
              "ticks": "outside"
             }
            },
            "type": "scattergl"
           }
          ],
          "scattermap": [
           {
            "marker": {
             "colorbar": {
              "outlinewidth": 1,
              "tickcolor": "rgb(36,36,36)",
              "ticks": "outside"
             }
            },
            "type": "scattermap"
           }
          ],
          "scattermapbox": [
           {
            "marker": {
             "colorbar": {
              "outlinewidth": 1,
              "tickcolor": "rgb(36,36,36)",
              "ticks": "outside"
             }
            },
            "type": "scattermapbox"
           }
          ],
          "scatterpolar": [
           {
            "marker": {
             "colorbar": {
              "outlinewidth": 1,
              "tickcolor": "rgb(36,36,36)",
              "ticks": "outside"
             }
            },
            "type": "scatterpolar"
           }
          ],
          "scatterpolargl": [
           {
            "marker": {
             "colorbar": {
              "outlinewidth": 1,
              "tickcolor": "rgb(36,36,36)",
              "ticks": "outside"
             }
            },
            "type": "scatterpolargl"
           }
          ],
          "scatterternary": [
           {
            "marker": {
             "colorbar": {
              "outlinewidth": 1,
              "tickcolor": "rgb(36,36,36)",
              "ticks": "outside"
             }
            },
            "type": "scatterternary"
           }
          ],
          "surface": [
           {
            "colorbar": {
             "outlinewidth": 1,
             "tickcolor": "rgb(36,36,36)",
             "ticks": "outside"
            },
            "colorscale": [
             [
              0,
              "#440154"
             ],
             [
              0.1111111111111111,
              "#482878"
             ],
             [
              0.2222222222222222,
              "#3e4989"
             ],
             [
              0.3333333333333333,
              "#31688e"
             ],
             [
              0.4444444444444444,
              "#26828e"
             ],
             [
              0.5555555555555556,
              "#1f9e89"
             ],
             [
              0.6666666666666666,
              "#35b779"
             ],
             [
              0.7777777777777778,
              "#6ece58"
             ],
             [
              0.8888888888888888,
              "#b5de2b"
             ],
             [
              1,
              "#fde725"
             ]
            ],
            "type": "surface"
           }
          ],
          "table": [
           {
            "cells": {
             "fill": {
              "color": "rgb(237,237,237)"
             },
             "line": {
              "color": "white"
             }
            },
            "header": {
             "fill": {
              "color": "rgb(217,217,217)"
             },
             "line": {
              "color": "white"
             }
            },
            "type": "table"
           }
          ]
         },
         "layout": {
          "annotationdefaults": {
           "arrowhead": 0,
           "arrowwidth": 1
          },
          "autotypenumbers": "strict",
          "coloraxis": {
           "colorbar": {
            "outlinewidth": 1,
            "tickcolor": "rgb(36,36,36)",
            "ticks": "outside"
           }
          },
          "colorscale": {
           "diverging": [
            [
             0,
             "rgb(103,0,31)"
            ],
            [
             0.1,
             "rgb(178,24,43)"
            ],
            [
             0.2,
             "rgb(214,96,77)"
            ],
            [
             0.3,
             "rgb(244,165,130)"
            ],
            [
             0.4,
             "rgb(253,219,199)"
            ],
            [
             0.5,
             "rgb(247,247,247)"
            ],
            [
             0.6,
             "rgb(209,229,240)"
            ],
            [
             0.7,
             "rgb(146,197,222)"
            ],
            [
             0.8,
             "rgb(67,147,195)"
            ],
            [
             0.9,
             "rgb(33,102,172)"
            ],
            [
             1,
             "rgb(5,48,97)"
            ]
           ],
           "sequential": [
            [
             0,
             "#440154"
            ],
            [
             0.1111111111111111,
             "#482878"
            ],
            [
             0.2222222222222222,
             "#3e4989"
            ],
            [
             0.3333333333333333,
             "#31688e"
            ],
            [
             0.4444444444444444,
             "#26828e"
            ],
            [
             0.5555555555555556,
             "#1f9e89"
            ],
            [
             0.6666666666666666,
             "#35b779"
            ],
            [
             0.7777777777777778,
             "#6ece58"
            ],
            [
             0.8888888888888888,
             "#b5de2b"
            ],
            [
             1,
             "#fde725"
            ]
           ],
           "sequentialminus": [
            [
             0,
             "#440154"
            ],
            [
             0.1111111111111111,
             "#482878"
            ],
            [
             0.2222222222222222,
             "#3e4989"
            ],
            [
             0.3333333333333333,
             "#31688e"
            ],
            [
             0.4444444444444444,
             "#26828e"
            ],
            [
             0.5555555555555556,
             "#1f9e89"
            ],
            [
             0.6666666666666666,
             "#35b779"
            ],
            [
             0.7777777777777778,
             "#6ece58"
            ],
            [
             0.8888888888888888,
             "#b5de2b"
            ],
            [
             1,
             "#fde725"
            ]
           ]
          },
          "colorway": [
           "#1F77B4",
           "#FF7F0E",
           "#2CA02C",
           "#D62728",
           "#9467BD",
           "#8C564B",
           "#E377C2",
           "#7F7F7F",
           "#BCBD22",
           "#17BECF"
          ],
          "font": {
           "color": "rgb(36,36,36)"
          },
          "geo": {
           "bgcolor": "white",
           "lakecolor": "white",
           "landcolor": "white",
           "showlakes": true,
           "showland": true,
           "subunitcolor": "white"
          },
          "hoverlabel": {
           "align": "left"
          },
          "hovermode": "closest",
          "mapbox": {
           "style": "light"
          },
          "paper_bgcolor": "white",
          "plot_bgcolor": "white",
          "polar": {
           "angularaxis": {
            "gridcolor": "rgb(232,232,232)",
            "linecolor": "rgb(36,36,36)",
            "showgrid": false,
            "showline": true,
            "ticks": "outside"
           },
           "bgcolor": "white",
           "radialaxis": {
            "gridcolor": "rgb(232,232,232)",
            "linecolor": "rgb(36,36,36)",
            "showgrid": false,
            "showline": true,
            "ticks": "outside"
           }
          },
          "scene": {
           "xaxis": {
            "backgroundcolor": "white",
            "gridcolor": "rgb(232,232,232)",
            "gridwidth": 2,
            "linecolor": "rgb(36,36,36)",
            "showbackground": true,
            "showgrid": false,
            "showline": true,
            "ticks": "outside",
            "zeroline": false,
            "zerolinecolor": "rgb(36,36,36)"
           },
           "yaxis": {
            "backgroundcolor": "white",
            "gridcolor": "rgb(232,232,232)",
            "gridwidth": 2,
            "linecolor": "rgb(36,36,36)",
            "showbackground": true,
            "showgrid": false,
            "showline": true,
            "ticks": "outside",
            "zeroline": false,
            "zerolinecolor": "rgb(36,36,36)"
           },
           "zaxis": {
            "backgroundcolor": "white",
            "gridcolor": "rgb(232,232,232)",
            "gridwidth": 2,
            "linecolor": "rgb(36,36,36)",
            "showbackground": true,
            "showgrid": false,
            "showline": true,
            "ticks": "outside",
            "zeroline": false,
            "zerolinecolor": "rgb(36,36,36)"
           }
          },
          "shapedefaults": {
           "fillcolor": "black",
           "line": {
            "width": 0
           },
           "opacity": 0.3
          },
          "ternary": {
           "aaxis": {
            "gridcolor": "rgb(232,232,232)",
            "linecolor": "rgb(36,36,36)",
            "showgrid": false,
            "showline": true,
            "ticks": "outside"
           },
           "baxis": {
            "gridcolor": "rgb(232,232,232)",
            "linecolor": "rgb(36,36,36)",
            "showgrid": false,
            "showline": true,
            "ticks": "outside"
           },
           "bgcolor": "white",
           "caxis": {
            "gridcolor": "rgb(232,232,232)",
            "linecolor": "rgb(36,36,36)",
            "showgrid": false,
            "showline": true,
            "ticks": "outside"
           }
          },
          "title": {
           "x": 0.05
          },
          "xaxis": {
           "automargin": true,
           "gridcolor": "rgb(232,232,232)",
           "linecolor": "rgb(36,36,36)",
           "showgrid": false,
           "showline": true,
           "ticks": "outside",
           "title": {
            "standoff": 15
           },
           "zeroline": false,
           "zerolinecolor": "rgb(36,36,36)"
          },
          "yaxis": {
           "automargin": true,
           "gridcolor": "rgb(232,232,232)",
           "linecolor": "rgb(36,36,36)",
           "showgrid": false,
           "showline": true,
           "ticks": "outside",
           "title": {
            "standoff": 15
           },
           "zeroline": false,
           "zerolinecolor": "rgb(36,36,36)"
          }
         }
        },
        "title": {
         "font": {
          "color": "Black",
          "size": 22
         },
         "text": "<b>Topics over Time</b>",
         "x": 0.4,
         "xanchor": "center",
         "y": 0.95,
         "yanchor": "top"
        },
        "width": 1250,
        "xaxis": {
         "showgrid": true
        },
        "yaxis": {
         "showgrid": true,
         "title": {
          "text": "Frequency"
         }
        }
       }
      }
     },
     "metadata": {},
     "output_type": "display_data"
    }
   ],
   "source": [
    "model, topics_yearly, topics, probs = run_bertopic_over_metadata(df_debates, groupby_col=\"year\")\n",
    "model.visualize_topics_over_time(topics_yearly)"
   ]
  },
  {
   "cell_type": "code",
   "execution_count": 6,
   "id": "0a179243",
   "metadata": {},
   "outputs": [
    {
     "name": "stderr",
     "output_type": "stream",
     "text": [
      "2025-05-23 18:51:07,896 - BERTopic - Dimensionality - Fitting the dimensionality reduction algorithm\n"
     ]
    },
    {
     "name": "stdout",
     "output_type": "stream",
     "text": [
      "Creating new BERTopic model using embedding model: all-MiniLM-L6-v2\n",
      "Fitting BERTopic...\n"
     ]
    },
    {
     "name": "stderr",
     "output_type": "stream",
     "text": [
      "2025-05-23 18:51:12,206 - BERTopic - Dimensionality - Completed ✓\n",
      "2025-05-23 18:51:12,207 - BERTopic - Cluster - Start clustering the reduced embeddings\n",
      "2025-05-23 18:51:12,386 - BERTopic - Cluster - Completed ✓\n",
      "2025-05-23 18:51:12,389 - BERTopic - Representation - Fine-tuning topics using representation models.\n",
      "2025-05-23 18:51:12,784 - BERTopic - Representation - Completed ✓\n",
      "2025-05-23 18:51:13,207 - BERTopic - Topic reduction - Reducing number of topics\n",
      "2025-05-23 18:51:13,225 - BERTopic - Representation - Fine-tuning topics using representation models.\n",
      "2025-05-23 18:51:13,597 - BERTopic - Representation - Completed ✓\n",
      "2025-05-23 18:51:13,599 - BERTopic - Topic reduction - Reduced number of topics from 75 to 18\n"
     ]
    },
    {
     "name": "stdout",
     "output_type": "stream",
     "text": [
      "Computing topic evolution over 'date'...\n"
     ]
    },
    {
     "name": "stderr",
     "output_type": "stream",
     "text": [
      "48it [00:01, 28.40it/s]\n"
     ]
    },
    {
     "data": {
      "application/vnd.plotly.v1+json": {
       "config": {
        "plotlyServerURL": "https://plot.ly"
       },
       "data": [
        {
         "hoverinfo": "text",
         "hovertext": [
          "<b>Topic 0</b><br>Words: think, uh, states, united, years",
          "<b>Topic 0</b><br>Words: mr, think, united, regrets, believe",
          "<b>Topic 0</b><br>Words: uh, formosa, mr, islands, united",
          "<b>Topic 0</b><br>Words: world, islands, freedom, united, president",
          "<b>Topic 0</b><br>Words: uh, tax, congress, billion, percent",
          "<b>Topic 0</b><br>Words: uh, mr, ford, defense, iran",
          "<b>Topic 0</b><br>Words: uh, people, think, president, court",
          "<b>Topic 0</b><br>Words: think, government, country, tax, people",
          "<b>Topic 0</b><br>Words: president, people, security, years, government",
          "<b>Topic 0</b><br>Words: think, people, going, tax, president",
          "<b>Topic 0</b><br>Words: think, president, people, thats, country",
          "<b>Topic 0</b><br>Words: know, soviet, weapons, president, think",
          "<b>Topic 0</b><br>Words: think, people, want, country, dont",
          "<b>Topic 0</b><br>Words: dukakis, think, country, bentsen, administration",
          "<b>Topic 0</b><br>Words: think, im, going, dont, people",
          "<b>Topic 0</b><br>Words: people, think, going, dont, tax",
          "<b>Topic 0</b><br>Words: bush, clinton, president, right, health",
          "<b>Topic 0</b><br>Words: think, people, got, ve, want",
          "<b>Topic 0</b><br>Words: think, people, government, dont, american",
          "<b>Topic 0</b><br>Words: people, think, president, better, tax",
          "<b>Topic 0</b><br>Words: dole, bob, tax, years, america",
          "<b>Topic 0</b><br>Words: people, going, think, president, thats",
          "<b>Topic 0</b><br>Words: money, plan, security, think, social",
          "<b>Topic 0</b><br>Words: think, gore, al, people, years",
          "<b>Topic 0</b><br>Words: think, people, going, thats, im",
          "<b>Topic 0</b><br>Words: people, want, think, im, tax",
          "<b>Topic 0</b><br>Words: iraq, thats, troops, president, said",
          "<b>Topic 0</b><br>Words: president, kerry, vice, people, john",
          "<b>Topic 0</b><br>Words: going, president, thats, people, im",
          "<b>Topic 0</b><br>Words: people, health, care, president, america",
          "<b>Topic 0</b><br>Words: senator, going, make, think, got",
          "<b>Topic 0</b><br>Words: john, mccain, barack, thats, said",
          "<b>Topic 0</b><br>Words: going, senator, got, thats, know",
          "<b>Topic 0</b><br>Words: senator, going, think, health, obama",
          "<b>Topic 0</b><br>Words: medicare, people, going, thats, tax",
          "<b>Topic 0</b><br>Words: people, tax, thats, dont, cut",
          "<b>Topic 0</b><br>Words: thats, people, going, make, governor",
          "<b>Topic 0</b><br>Words: make, going, sure, thats, weve",
          "<b>Topic 0</b><br>Words: going, people, think, country, know",
          "<b>Topic 0</b><br>Words: trump, donald, hillary, clinton, said",
          "<b>Topic 0</b><br>Words: people, going, think, country, know",
          "<b>Topic 0</b><br>Words: going, people, country, think, mosul",
          "<b>Topic 0</b><br>Words: people, going, look, dont, want",
          "<b>Topic 0</b><br>Words: american, joe, biden, president, trump",
          "<b>Topic 0</b><br>Words: going, people, said, know, china",
          "<b>Topic 0</b><br>Words: people, ve, going, just, border",
          "<b>Topic 0</b><br>Words: people, going, president, country, don",
          "<b>Topic 0</b><br>Words: trump, donald, ve, harris, kamala"
         ],
         "marker": {
          "color": "#E69F00"
         },
         "mode": "lines",
         "name": "0_people_think_going_president",
         "type": "scatter",
         "x": [
          "1960-09-26T00:00:00.000000000",
          "1960-10-07T00:00:00.000000000",
          "1960-10-13T00:00:00.000000000",
          "1960-10-21T00:00:00.000000000",
          "1976-09-23T00:00:00.000000000",
          "1976-10-06T00:00:00.000000000",
          "1976-10-22T00:00:00.000000000",
          "1980-09-21T00:00:00.000000000",
          "1980-10-28T00:00:00.000000000",
          "1984-10-07T00:00:00.000000000",
          "1984-10-11T00:00:00.000000000",
          "1984-10-21T00:00:00.000000000",
          "1988-09-25T00:00:00.000000000",
          "1988-10-05T00:00:00.000000000",
          "1988-10-13T00:00:00.000000000",
          "1992-10-11T00:00:00.000000000",
          "1992-10-13T00:00:00.000000000",
          "1992-10-15T00:00:00.000000000",
          "1992-10-19T00:00:00.000000000",
          "1996-10-06T00:00:00.000000000",
          "1996-10-09T00:00:00.000000000",
          "1996-10-16T00:00:00.000000000",
          "2000-10-03T00:00:00.000000000",
          "2000-10-05T00:00:00.000000000",
          "2000-10-11T00:00:00.000000000",
          "2000-10-17T00:00:00.000000000",
          "2004-09-30T00:00:00.000000000",
          "2004-10-05T00:00:00.000000000",
          "2004-10-08T00:00:00.000000000",
          "2004-10-13T00:00:00.000000000",
          "2008-09-26T00:00:00.000000000",
          "2008-10-02T00:00:00.000000000",
          "2008-10-07T00:00:00.000000000",
          "2008-10-15T00:00:00.000000000",
          "2012-10-03T00:00:00.000000000",
          "2012-10-11T00:00:00.000000000",
          "2012-10-16T00:00:00.000000000",
          "2012-10-22T00:00:00.000000000",
          "2016-09-26T00:00:00.000000000",
          "2016-10-04T00:00:00.000000000",
          "2016-10-09T00:00:00.000000000",
          "2016-10-19T00:00:00.000000000",
          "2020-09-29T00:00:00.000000000",
          "2020-10-07T00:00:00.000000000",
          "2020-10-22T00:00:00.000000000",
          "2024-07-27T00:00:00.000000000",
          "2024-09-10T00:00:00.000000000",
          "2024-10-01T00:00:00.000000000"
         ],
         "y": {
          "bdata": "EQAPABAADQAcABEAGQAVACMAKwAnAB8ALwApAC4AKABCADAAJwA1ADgANQBGACkAOgA0ACcAMQAwACoAiAA3ADIAOwA8AIIARAA/AEAAowA+AFoAkABDAGoAKwA4AC8A",
          "dtype": "i2"
         }
        },
        {
         "hoverinfo": "text",
         "hovertext": [
          "<b>Topic 1</b><br>Words: respond, hold, let, want, finish",
          "<b>Topic 1</b><br>Words: ahead, sir, respond, excuse, let",
          "<b>Topic 1</b><br>Words: response, great, respond, let, just",
          "<b>Topic 1</b><br>Words: let, way, respond, just, finish",
          "<b>Topic 1</b><br>Words: respond, honor, chance, opportunity, let",
          "<b>Topic 1</b><br>Words: let, points, just, couple, respond",
          "<b>Topic 1</b><br>Words: respond, briefly, tom, let, just",
          "<b>Topic 1</b><br>Words: let, say, just, respond, finish",
          "<b>Topic 1</b><br>Words: respond, finish, let, point, just",
          "<b>Topic 1</b><br>Words: respond, entertain, letter, send, hope",
          "<b>Topic 1</b><br>Words: answered, respond, advice, wonderful, let",
          "<b>Topic 1</b><br>Words: respond, finishi, like, id, just",
          "<b>Topic 1</b><br>Words: let, weigh, interrupt, respond, finish",
          "<b>Topic 1</b><br>Words: respond, assume, allowed, just, let",
          "<b>Topic 1</b><br>Words: saylet, just, let, respond, say",
          "<b>Topic 1</b><br>Words: respond, hey, let, just, got",
          "<b>Topic 1</b><br>Words: respond, finish, briefly, letting, susan",
          "<b>Topic 1</b><br>Words: respond, excuse, point, want, let",
          "<b>Topic 1</b><br>Words: respond, allowed, let, just, finish",
          "<b>Topic 1</b><br>Words: respond, like, let, just, finish"
         ],
         "marker": {
          "color": "#56B4E9"
         },
         "mode": "lines",
         "name": "1_respond_let_just_finish",
         "type": "scatter",
         "x": [
          "1992-10-13T00:00:00.000000000",
          "1992-10-15T00:00:00.000000000",
          "1992-10-19T00:00:00.000000000",
          "1996-10-16T00:00:00.000000000",
          "2000-10-05T00:00:00.000000000",
          "2008-09-26T00:00:00.000000000",
          "2008-10-07T00:00:00.000000000",
          "2008-10-15T00:00:00.000000000",
          "2012-10-03T00:00:00.000000000",
          "2012-10-11T00:00:00.000000000",
          "2012-10-16T00:00:00.000000000",
          "2016-09-26T00:00:00.000000000",
          "2016-10-04T00:00:00.000000000",
          "2016-10-09T00:00:00.000000000",
          "2016-10-19T00:00:00.000000000",
          "2020-09-29T00:00:00.000000000",
          "2020-10-07T00:00:00.000000000",
          "2020-10-22T00:00:00.000000000",
          "2024-07-27T00:00:00.000000000",
          "2024-09-10T00:00:00.000000000"
         ],
         "y": {
          "bdata": "CgIBAQIEAQECAgIEBAIBBQIDAQE=",
          "dtype": "i1"
         }
        },
        {
         "hoverinfo": "text",
         "hovertext": [
          "<b>Topic 2</b><br>Words: joe, laughter, applause, crosstalk, absolutely",
          "<b>Topic 2</b><br>Words: hey, joe, crosstalk, 47, discredited",
          "<b>Topic 2</b><br>Words: gone, crosstalk, joe, 47, discredited",
          "<b>Topic 2</b><br>Words: bookstore, book, written, tomorrow, pick",
          "<b>Topic 2</b><br>Words: crosstalk, bias, joe, talk, hit",
          "<b>Topic 2</b><br>Words: crosstalk, nobut, evidencebut, conspiracy, theories",
          "<b>Topic 2</b><br>Words: crosstalk, joe, 47, discredited, surprised",
          "<b>Topic 2</b><br>Words: gotta, em, joe, talk, crosstalk",
          "<b>Topic 2</b><br>Words: swing, crosstalk, ve, seen, know"
         ],
         "marker": {
          "color": "#009E73"
         },
         "mode": "lines",
         "name": "2_crosstalk_joe_47_discredited",
         "type": "scatter",
         "x": [
          "2000-10-05T00:00:00.000000000",
          "2008-10-02T00:00:00.000000000",
          "2012-10-22T00:00:00.000000000",
          "2016-09-26T00:00:00.000000000",
          "2016-10-04T00:00:00.000000000",
          "2016-10-19T00:00:00.000000000",
          "2020-09-29T00:00:00.000000000",
          "2020-10-22T00:00:00.000000000",
          "2024-07-27T00:00:00.000000000"
         ],
         "y": {
          "bdata": "AgEBAQoDEQIB",
          "dtype": "i1"
         }
        },
        {
         "hoverinfo": "text",
         "hovertext": [
          "<b>Topic 3</b><br>Words: remember, time, said, statement, say",
          "<b>Topic 3</b><br>Words: talking, hes, statement, said, say",
          "<b>Topic 3</b><br>Words: true, doesnt, say, make, want",
          "<b>Topic 3</b><br>Words: exaggeration, repeat, laughter, just, secondly",
          "<b>Topic 3</b><br>Words: forth, mean, dont, statement, said",
          "<b>Topic 3</b><br>Words: read, youve, said, got, statement",
          "<b>Topic 3</b><br>Words: statement, did, said, say, oh",
          "<b>Topic 3</b><br>Words: wrong, theyre, say, know, statement",
          "<b>Topic 3</b><br>Words: liquidate, said, statement, say, did",
          "<b>Topic 3</b><br>Words: statement, gospel, line, fullness, answering",
          "<b>Topic 3</b><br>Words: quote, say, quoting, did, asked",
          "<b>Topic 3</b><br>Words: statement, oh, said, did, excuse",
          "<b>Topic 3</b><br>Words: statement, big, typical, oh, excuse"
         ],
         "marker": {
          "color": "#F0E442"
         },
         "mode": "lines",
         "name": "3_statement_said_say_did",
         "type": "scatter",
         "x": [
          "1984-10-07T00:00:00.000000000",
          "1988-10-13T00:00:00.000000000",
          "1992-10-13T00:00:00.000000000",
          "2000-10-11T00:00:00.000000000",
          "2008-09-26T00:00:00.000000000",
          "2008-10-15T00:00:00.000000000",
          "2012-10-03T00:00:00.000000000",
          "2012-10-11T00:00:00.000000000",
          "2012-10-22T00:00:00.000000000",
          "2016-10-04T00:00:00.000000000",
          "2016-10-19T00:00:00.000000000",
          "2020-09-29T00:00:00.000000000",
          "2020-10-22T00:00:00.000000000"
         ],
         "y": {
          "bdata": "AQEBAgIBAQIBBQQJBA==",
          "dtype": "i1"
         }
        },
        {
         "hoverinfo": "text",
         "hovertext": [
          "<b>Topic 4</b><br>Words: true, thats, fact, facts, look",
          "<b>Topic 4</b><br>Words: true, thats, dont, think, away",
          "<b>Topic 4</b><br>Words: agree, right, thats, true, fact",
          "<b>Topic 4</b><br>Words: speaks, think, true, thats, fact",
          "<b>Topic 4</b><br>Words: fact, thats, look, just, think",
          "<b>Topic 4</b><br>Words: records, facts, described, true, just",
          "<b>Topic 4</b><br>Words: purchase, product, case, thats, best",
          "<b>Topic 4</b><br>Words: facts, thats, right, true, fact",
          "<b>Topic 4</b><br>Words: false, completely, case, thats, answer",
          "<b>Topic 4</b><br>Words: matter, fact, youre, look, right",
          "<b>Topic 4</b><br>Words: opinion, athatsgo, theplease, checkers, thats",
          "<b>Topic 4</b><br>Words: false, absolutely, know, true, thats",
          "<b>Topic 4</b><br>Words: checking, true, fact, point, look",
          "<b>Topic 4</b><br>Words: enterprise, criminal, know, people, true",
          "<b>Topic 4</b><br>Words: true, thats, exactly, case, evidence",
          "<b>Topic 4</b><br>Words: true, absolutely, thats, fact, facts",
          "<b>Topic 4</b><br>Words: exactly, thats, true, fact, facts"
         ],
         "marker": {
          "color": "#D55E00"
         },
         "mode": "lines",
         "name": "4_true_thats_fact_facts",
         "type": "scatter",
         "x": [
          "1988-09-25T00:00:00.000000000",
          "1992-10-19T00:00:00.000000000",
          "1996-10-06T00:00:00.000000000",
          "2000-10-17T00:00:00.000000000",
          "2008-09-26T00:00:00.000000000",
          "2008-10-15T00:00:00.000000000",
          "2012-10-03T00:00:00.000000000",
          "2012-10-11T00:00:00.000000000",
          "2012-10-16T00:00:00.000000000",
          "2012-10-22T00:00:00.000000000",
          "2016-09-26T00:00:00.000000000",
          "2016-10-04T00:00:00.000000000",
          "2016-10-09T00:00:00.000000000",
          "2016-10-19T00:00:00.000000000",
          "2020-09-29T00:00:00.000000000",
          "2020-10-07T00:00:00.000000000",
          "2020-10-22T00:00:00.000000000"
         ],
         "y": {
          "bdata": "AQEBAQQCAQECAgMBAgEIAQE=",
          "dtype": "i1"
         }
        },
        {
         "hoverinfo": "text",
         "hovertext": [
          "<b>Topic 5</b><br>Words: planetarium, projector, overhead, hometown, pork",
          "<b>Topic 5</b><br>Words: common, ground, balanced, budget, dollars",
          "<b>Topic 5</b><br>Words: spent, practically, tied, winning, applause",
          "<b>Topic 5</b><br>Words: created, runway, ransom, payment, dollars",
          "<b>Topic 5</b><br>Words: fisher, moneythe, housesthe, build, house",
          "<b>Topic 5</b><br>Words: dollars, million, half, moscow, son",
          "<b>Topic 5</b><br>Words: son, dollars, 183, half, million",
          "<b>Topic 5</b><br>Words: moscow, sitting, wouldn, 300, gets"
         ],
         "marker": {
          "color": "#0072B2"
         },
         "mode": "lines",
         "name": "5_dollars_million_half_moscow",
         "type": "scatter",
         "x": [
          "2008-10-15T00:00:00.000000000",
          "2012-10-11T00:00:00.000000000",
          "2016-09-26T00:00:00.000000000",
          "2016-10-04T00:00:00.000000000",
          "2016-10-19T00:00:00.000000000",
          "2020-09-29T00:00:00.000000000",
          "2020-10-22T00:00:00.000000000",
          "2024-09-10T00:00:00.000000000"
         ],
         "y": {
          "bdata": "AQECAgEVAwI=",
          "dtype": "i1"
         }
        },
        {
         "hoverinfo": "text",
         "hovertext": [
          "<b>Topic 6</b><br>Words: hope, seconds, christmas, minutes, principle",
          "<b>Topic 6</b><br>Words: 24, hour, waiting, period, support",
          "<b>Topic 6</b><br>Words: bite, importance, mess, sound, fix",
          "<b>Topic 6</b><br>Words: equal, lunging, seconds, time, interrupt",
          "<b>Topic 6</b><br>Words: eligible, oh, youll, yes, time",
          "<b>Topic 6</b><br>Words: limit, keeping, yeah, time, believe",
          "<b>Topic 6</b><br>Words: hope, time, 24, seconds, hour",
          "<b>Topic 6</b><br>Words: time, longer, line, debate, equal",
          "<b>Topic 6</b><br>Words: timekeepers, working, sure, want, make",
          "<b>Topic 6</b><br>Words: iif, fortunate, martha, hope, time",
          "<b>Topic 6</b><br>Words: seconds, add, 30, time, 24",
          "<b>Topic 6</b><br>Words: equal, time, like, 24, seconds"
         ],
         "marker": {
          "color": "#CC79A7"
         },
         "mode": "lines",
         "name": "6_time_24_seconds_hour",
         "type": "scatter",
         "x": [
          "1988-09-25T00:00:00.000000000",
          "1992-10-13T00:00:00.000000000",
          "1992-10-15T00:00:00.000000000",
          "1992-10-19T00:00:00.000000000",
          "1996-10-06T00:00:00.000000000",
          "1996-10-09T00:00:00.000000000",
          "2008-09-26T00:00:00.000000000",
          "2012-10-11T00:00:00.000000000",
          "2012-10-16T00:00:00.000000000",
          "2016-10-09T00:00:00.000000000",
          "2020-09-29T00:00:00.000000000",
          "2020-10-07T00:00:00.000000000"
         ],
         "y": {
          "bdata": "AwYBBAEBAgMBAQEB",
          "dtype": "i1"
         }
        },
        {
         "hoverinfo": "text",
         "hovertext": [
          "<b>Topic 7</b><br>Words: session, minute, okay, add, open",
          "<b>Topic 7</b><br>Words: door, soon, went, doesnt, knows",
          "<b>Topic 7</b><br>Words: differently, answers, notice, friend, question",
          "<b>Topic 7</b><br>Words: damage, answered, party, question, doesnt",
          "<b>Topic 7</b><br>Words: broken, promise, hes, said, doesnt",
          "<b>Topic 7</b><br>Words: doesnt, knows, shush, know, answer",
          "<b>Topic 7</b><br>Words: flat, lying, website, rid, tried"
         ],
         "marker": {
          "color": "#E69F00"
         },
         "mode": "lines",
         "name": "7_doesnt_knows_minute_question",
         "type": "scatter",
         "x": [
          "1992-10-13T00:00:00.000000000",
          "1992-10-19T00:00:00.000000000",
          "2012-10-11T00:00:00.000000000",
          "2012-10-22T00:00:00.000000000",
          "2016-10-04T00:00:00.000000000",
          "2020-09-29T00:00:00.000000000",
          "2020-10-22T00:00:00.000000000"
         ],
         "y": {
          "bdata": "AQECAgELAg==",
          "dtype": "i1"
         }
        },
        {
         "hoverinfo": "text",
         "hovertext": [
          "<b>Topic 8</b><br>Words: judy, light, thank, susan, margaret",
          "<b>Topic 8</b><br>Words: owe, characters, oconnor, sandra, carole",
          "<b>Topic 8</b><br>Words: tutwiler, margaret, sitting, today, dont",
          "<b>Topic 8</b><br>Words: gwen, question, jobs, thank, susan",
          "<b>Topic 8</b><br>Words: thank, charlie, susan, margaret, ups",
          "<b>Topic 8</b><br>Words: thank, gwen, susan, margaret, ups",
          "<b>Topic 8</b><br>Words: ups, follow, thank, want, going",
          "<b>Topic 8</b><br>Words: fenton, katherine, looking, forward, question",
          "<b>Topic 8</b><br>Words: website, shouldyou, look, thank, think",
          "<b>Topic 8</b><br>Words: thank, elaine, circuit, midst, seventh",
          "<b>Topic 8</b><br>Words: susan, weigh, attacked, respond, thank",
          "<b>Topic 8</b><br>Words: kristen, respond, thank, susan, margaret",
          "<b>Topic 8</b><br>Words: ask, don, question, thank, susan",
          "<b>Topic 8</b><br>Words: margaret, important, think, thank, susan"
         ],
         "marker": {
          "color": "#56B4E9"
         },
         "mode": "lines",
         "name": "8_thank_susan_margaret_ups",
         "type": "scatter",
         "x": [
          "1988-10-05T00:00:00.000000000",
          "1992-10-15T00:00:00.000000000",
          "1992-10-19T00:00:00.000000000",
          "2004-10-05T00:00:00.000000000",
          "2004-10-08T00:00:00.000000000",
          "2008-10-02T00:00:00.000000000",
          "2008-10-07T00:00:00.000000000",
          "2012-10-16T00:00:00.000000000",
          "2016-09-26T00:00:00.000000000",
          "2016-10-04T00:00:00.000000000",
          "2020-10-07T00:00:00.000000000",
          "2020-10-22T00:00:00.000000000",
          "2024-09-10T00:00:00.000000000",
          "2024-10-01T00:00:00.000000000"
         ],
         "y": {
          "bdata": "AQIBAQEBAQEBAgUBAQE=",
          "dtype": "i1"
         }
        },
        {
         "hoverinfo": "text",
         "hovertext": [
          "<b>Topic 9</b><br>Words: circumstances, illegal, law, ad, order",
          "<b>Topic 9</b><br>Words: rules, oh, mean, course, care",
          "<b>Topic 9</b><br>Words: mayor, judge, appeal, refused, allowed",
          "<b>Topic 9</b><br>Words: ad, sat, laws, law, changed",
          "<b>Topic 9</b><br>Words: law, order, favor, crosstalk, fairly",
          "<b>Topic 9</b><br>Words: telling, law, simply, true, hes",
          "<b>Topic 9</b><br>Words: law, checked, 1990, laws, book"
         ],
         "marker": {
          "color": "#009E73"
         },
         "mode": "lines",
         "name": "9_law_ad_order_favor",
         "type": "scatter",
         "x": [
          "1992-10-13T00:00:00.000000000",
          "2000-10-11T00:00:00.000000000",
          "2016-09-26T00:00:00.000000000",
          "2016-10-19T00:00:00.000000000",
          "2020-09-29T00:00:00.000000000",
          "2020-10-22T00:00:00.000000000",
          "2024-10-01T00:00:00.000000000"
         ],
         "y": {
          "bdata": "AQEBBAcBAw==",
          "dtype": "i1"
         }
        },
        {
         "hoverinfo": "text",
         "hovertext": [
          "<b>Topic 10</b><br>Words: starting, start, years, know, want",
          "<b>Topic 10</b><br>Words: havent, yeah, seven, years, television",
          "<b>Topic 10</b><br>Words: cowboys, cardinals, sunday, dallas, television",
          "<b>Topic 10</b><br>Words: couple, times, actually, havent, years",
          "<b>Topic 10</b><br>Words: ill, year, havent, years, television",
          "<b>Topic 10</b><br>Words: website, visited, quite, bit, doesnt",
          "<b>Topic 10</b><br>Words: havent, 26, years, 30, number",
          "<b>Topic 10</b><br>Words: didnt, havent, years, television, cowboys",
          "<b>Topic 10</b><br>Words: 25, happened, didnt, years, know",
          "<b>Topic 10</b><br>Words: impossible, work, doesnt, havent, years",
          "<b>Topic 10</b><br>Words: television, ve, seen, people, havent"
         ],
         "marker": {
          "color": "#F0E442"
         },
         "mode": "lines",
         "name": "10_havent_years_television_didnt",
         "type": "scatter",
         "x": [
          "1992-10-15T00:00:00.000000000",
          "2000-10-03T00:00:00.000000000",
          "2008-10-15T00:00:00.000000000",
          "2012-10-11T00:00:00.000000000",
          "2012-10-16T00:00:00.000000000",
          "2012-10-22T00:00:00.000000000",
          "2016-09-26T00:00:00.000000000",
          "2016-10-09T00:00:00.000000000",
          "2020-09-29T00:00:00.000000000",
          "2020-10-22T00:00:00.000000000",
          "2024-09-10T00:00:00.000000000"
         ],
         "y": {
          "bdata": "AgEBAwEBAwECAQE=",
          "dtype": "i1"
         }
        },
        {
         "hoverinfo": "text",
         "hovertext": [
          "<b>Topic 11</b><br>Words: answer, like, dont, question, damning",
          "<b>Topic 11</b><br>Words: answer, question, fourth, time, try",
          "<b>Topic 11</b><br>Words: answer, question, happy, ill, id",
          "<b>Topic 11</b><br>Words: answer, question, try, ill, help",
          "<b>Topic 11</b><br>Words: answer, let, ive, got, just",
          "<b>Topic 11</b><br>Words: answer, question, happy, appreciate, thank",
          "<b>Topic 11</b><br>Words: answer, question, im, going, damning",
          "<b>Topic 11</b><br>Words: answer, question, id, trying, like",
          "<b>Topic 11</b><br>Words: cages, built, answer, ask, question",
          "<b>Topic 11</b><br>Words: damning, answer, non, question, happy"
         ],
         "marker": {
          "color": "#D55E00"
         },
         "mode": "lines",
         "name": "11_answer_question_damning_happy",
         "type": "scatter",
         "x": [
          "1988-09-25T00:00:00.000000000",
          "1988-10-05T00:00:00.000000000",
          "1992-10-13T00:00:00.000000000",
          "1992-10-15T00:00:00.000000000",
          "2004-10-08T00:00:00.000000000",
          "2012-10-16T00:00:00.000000000",
          "2020-09-29T00:00:00.000000000",
          "2020-10-07T00:00:00.000000000",
          "2020-10-22T00:00:00.000000000",
          "2024-10-01T00:00:00.000000000"
         ],
         "y": {
          "bdata": "AQEEAQEDAQIBAQ==",
          "dtype": "i1"
         }
        },
        {
         "hoverinfo": "text",
         "hovertext": [
          "<b>Topic 12</b><br>Words: right, just, going, itd, fun",
          "<b>Topic 12</b><br>Words: perfect, wasnt, said, fun, itd",
          "<b>Topic 12</b><br>Words: stealing, nice, close, youre, say",
          "<b>Topic 12</b><br>Words: nbc, 00, laughter, eastern, tomorrow",
          "<b>Topic 12</b><br>Words: forgotten, youd, thought, itd, fun",
          "<b>Topic 12</b><br>Words: laughter, youve, want, think, itd",
          "<b>Topic 12</b><br>Words: itd, fine, fun, nice, apologize",
          "<b>Topic 12</b><br>Words: apologize, fun, respectful, ill, minutes",
          "<b>Topic 12</b><br>Words: contactexcuse, interrupt, hate, ok, wasnt",
          "<b>Topic 12</b><br>Words: thank, good, itd, fun, nice",
          "<b>Topic 12</b><br>Words: fun, nice, itd, apologize, ill"
         ],
         "marker": {
          "color": "#0072B2"
         },
         "mode": "lines",
         "name": "12_fun_itd_nice_apologize",
         "type": "scatter",
         "x": [
          "1984-10-21T00:00:00.000000000",
          "1988-09-25T00:00:00.000000000",
          "1988-10-13T00:00:00.000000000",
          "1992-10-15T00:00:00.000000000",
          "1992-10-19T00:00:00.000000000",
          "2000-10-05T00:00:00.000000000",
          "2008-10-07T00:00:00.000000000",
          "2016-10-04T00:00:00.000000000",
          "2016-10-09T00:00:00.000000000",
          "2024-07-27T00:00:00.000000000",
          "2024-09-10T00:00:00.000000000"
         ],
         "y": {
          "bdata": "AQEBAQEBAQMCAQE=",
          "dtype": "i1"
         }
        },
        {
         "hoverinfo": "text",
         "hovertext": [
          "<b>Topic 13</b><br>Words: calm, personally, oh, pretty, guy",
          "<b>Topic 13</b><br>Words: masks, mask, wear, okay, hes",
          "<b>Topic 13</b><br>Words: calm, toilet, masks, panicked, roll",
          "<b>Topic 13</b><br>Words: anthony, masks, wear, knew, problem",
          "<b>Topic 13</b><br>Words: masks, wear, toddlers, theater, crowded"
         ],
         "marker": {
          "color": "#CC79A7"
         },
         "mode": "lines",
         "name": "13_masks_mask_wear_anthony",
         "type": "scatter",
         "x": [
          "2004-09-30T00:00:00.000000000",
          "2020-09-29T00:00:00.000000000",
          "2020-10-07T00:00:00.000000000",
          "2020-10-22T00:00:00.000000000",
          "2024-10-01T00:00:00.000000000"
         ],
         "y": {
          "bdata": "AQgCAQE=",
          "dtype": "i1"
         }
        },
        {
         "hoverinfo": "text",
         "hovertext": [
          "<b>Topic 14</b><br>Words: jim, seconds, wants, big, point",
          "<b>Topic 14</b><br>Words: jim, round, respond, big, issue",
          "<b>Topic 14</b><br>Words: jim, disagreement, hey, direct, answer",
          "<b>Topic 14</b><br>Words: jim, big, point, having, end",
          "<b>Topic 14</b><br>Words: jim, segment, began, word, point"
         ],
         "marker": {
          "color": "#E69F00"
         },
         "mode": "lines",
         "name": "14_jim_big_point_ive",
         "type": "scatter",
         "x": [
          "1988-09-25T00:00:00.000000000",
          "2000-10-03T00:00:00.000000000",
          "2000-10-17T00:00:00.000000000",
          "2008-09-26T00:00:00.000000000",
          "2012-10-03T00:00:00.000000000"
         ],
         "y": {
          "bdata": "AQECBgI=",
          "dtype": "i1"
         }
        },
        {
         "hoverinfo": "text",
         "hovertext": [
          "<b>Topic 15</b><br>Words: confident, list, pretty, laughter, feel",
          "<b>Topic 15</b><br>Words: okay, think, confident, list, check",
          "<b>Topic 15</b><br>Words: isnt, confident, list, check, pretty",
          "<b>Topic 15</b><br>Words: check, dont, confident, list, pretty",
          "<b>Topic 15</b><br>Words: youll, look, confident, list, check",
          "<b>Topic 15</b><br>Words: eizenkot, gadi, check, look, just",
          "<b>Topic 15</b><br>Words: pretty, think, good, im, confident",
          "<b>Topic 15</b><br>Words: list, arent, ill, dont, think",
          "<b>Topic 15</b><br>Words: ive, got, confident, list, check",
          "<b>Topic 15</b><br>Words: know, confident, list, check, pretty"
         ],
         "marker": {
          "color": "#56B4E9"
         },
         "mode": "lines",
         "name": "15_confident_list_check_pretty",
         "type": "scatter",
         "x": [
          "1988-10-13T00:00:00.000000000",
          "1992-10-15T00:00:00.000000000",
          "1996-10-09T00:00:00.000000000",
          "2012-10-16T00:00:00.000000000",
          "2016-09-26T00:00:00.000000000",
          "2016-10-04T00:00:00.000000000",
          "2016-10-09T00:00:00.000000000",
          "2020-09-29T00:00:00.000000000",
          "2020-10-07T00:00:00.000000000",
          "2024-07-27T00:00:00.000000000"
         ],
         "y": {
          "bdata": "AQEBAQECAQIBAQ==",
          "dtype": "i1"
         }
        },
        {
         "hoverinfo": "text",
         "hovertext": [
          "<b>Topic 16</b><br>Words: yes, biggest, problem, thats, absolutely",
          "<b>Topic 16</b><br>Words: absolutely, long, input, yes, reasonable",
          "<b>Topic 16</b><br>Words: absolutely, targets, drawn, setting, line",
          "<b>Topic 16</b><br>Words: places, yes, absolutely, long, mathematically",
          "<b>Topic 16</b><br>Words: mathematically, precisely, proposing, possible, absolutely",
          "<b>Topic 16</b><br>Words: did, absolutely, yes, long, places",
          "<b>Topic 16</b><br>Words: creative, yes, let, lines, long"
         ],
         "marker": {
          "color": "#009E73"
         },
         "mode": "lines",
         "name": "16_absolutely_yes_long_places",
         "type": "scatter",
         "x": [
          "1992-10-13T00:00:00.000000000",
          "2000-10-11T00:00:00.000000000",
          "2008-10-02T00:00:00.000000000",
          "2012-10-03T00:00:00.000000000",
          "2012-10-11T00:00:00.000000000",
          "2016-09-26T00:00:00.000000000",
          "2016-10-04T00:00:00.000000000"
         ],
         "y": {
          "bdata": "AQMCAQEBAg==",
          "dtype": "i1"
         }
        }
       ],
       "layout": {
        "height": 450,
        "hoverlabel": {
         "bgcolor": "white",
         "font": {
          "family": "Rockwell",
          "size": 16
         }
        },
        "legend": {
         "title": {
          "text": "<b>Global Topic Representation"
         }
        },
        "template": {
         "data": {
          "bar": [
           {
            "error_x": {
             "color": "rgb(36,36,36)"
            },
            "error_y": {
             "color": "rgb(36,36,36)"
            },
            "marker": {
             "line": {
              "color": "white",
              "width": 0.5
             },
             "pattern": {
              "fillmode": "overlay",
              "size": 10,
              "solidity": 0.2
             }
            },
            "type": "bar"
           }
          ],
          "barpolar": [
           {
            "marker": {
             "line": {
              "color": "white",
              "width": 0.5
             },
             "pattern": {
              "fillmode": "overlay",
              "size": 10,
              "solidity": 0.2
             }
            },
            "type": "barpolar"
           }
          ],
          "carpet": [
           {
            "aaxis": {
             "endlinecolor": "rgb(36,36,36)",
             "gridcolor": "white",
             "linecolor": "white",
             "minorgridcolor": "white",
             "startlinecolor": "rgb(36,36,36)"
            },
            "baxis": {
             "endlinecolor": "rgb(36,36,36)",
             "gridcolor": "white",
             "linecolor": "white",
             "minorgridcolor": "white",
             "startlinecolor": "rgb(36,36,36)"
            },
            "type": "carpet"
           }
          ],
          "choropleth": [
           {
            "colorbar": {
             "outlinewidth": 1,
             "tickcolor": "rgb(36,36,36)",
             "ticks": "outside"
            },
            "type": "choropleth"
           }
          ],
          "contour": [
           {
            "colorbar": {
             "outlinewidth": 1,
             "tickcolor": "rgb(36,36,36)",
             "ticks": "outside"
            },
            "colorscale": [
             [
              0,
              "#440154"
             ],
             [
              0.1111111111111111,
              "#482878"
             ],
             [
              0.2222222222222222,
              "#3e4989"
             ],
             [
              0.3333333333333333,
              "#31688e"
             ],
             [
              0.4444444444444444,
              "#26828e"
             ],
             [
              0.5555555555555556,
              "#1f9e89"
             ],
             [
              0.6666666666666666,
              "#35b779"
             ],
             [
              0.7777777777777778,
              "#6ece58"
             ],
             [
              0.8888888888888888,
              "#b5de2b"
             ],
             [
              1,
              "#fde725"
             ]
            ],
            "type": "contour"
           }
          ],
          "contourcarpet": [
           {
            "colorbar": {
             "outlinewidth": 1,
             "tickcolor": "rgb(36,36,36)",
             "ticks": "outside"
            },
            "type": "contourcarpet"
           }
          ],
          "heatmap": [
           {
            "colorbar": {
             "outlinewidth": 1,
             "tickcolor": "rgb(36,36,36)",
             "ticks": "outside"
            },
            "colorscale": [
             [
              0,
              "#440154"
             ],
             [
              0.1111111111111111,
              "#482878"
             ],
             [
              0.2222222222222222,
              "#3e4989"
             ],
             [
              0.3333333333333333,
              "#31688e"
             ],
             [
              0.4444444444444444,
              "#26828e"
             ],
             [
              0.5555555555555556,
              "#1f9e89"
             ],
             [
              0.6666666666666666,
              "#35b779"
             ],
             [
              0.7777777777777778,
              "#6ece58"
             ],
             [
              0.8888888888888888,
              "#b5de2b"
             ],
             [
              1,
              "#fde725"
             ]
            ],
            "type": "heatmap"
           }
          ],
          "histogram": [
           {
            "marker": {
             "line": {
              "color": "white",
              "width": 0.6
             }
            },
            "type": "histogram"
           }
          ],
          "histogram2d": [
           {
            "colorbar": {
             "outlinewidth": 1,
             "tickcolor": "rgb(36,36,36)",
             "ticks": "outside"
            },
            "colorscale": [
             [
              0,
              "#440154"
             ],
             [
              0.1111111111111111,
              "#482878"
             ],
             [
              0.2222222222222222,
              "#3e4989"
             ],
             [
              0.3333333333333333,
              "#31688e"
             ],
             [
              0.4444444444444444,
              "#26828e"
             ],
             [
              0.5555555555555556,
              "#1f9e89"
             ],
             [
              0.6666666666666666,
              "#35b779"
             ],
             [
              0.7777777777777778,
              "#6ece58"
             ],
             [
              0.8888888888888888,
              "#b5de2b"
             ],
             [
              1,
              "#fde725"
             ]
            ],
            "type": "histogram2d"
           }
          ],
          "histogram2dcontour": [
           {
            "colorbar": {
             "outlinewidth": 1,
             "tickcolor": "rgb(36,36,36)",
             "ticks": "outside"
            },
            "colorscale": [
             [
              0,
              "#440154"
             ],
             [
              0.1111111111111111,
              "#482878"
             ],
             [
              0.2222222222222222,
              "#3e4989"
             ],
             [
              0.3333333333333333,
              "#31688e"
             ],
             [
              0.4444444444444444,
              "#26828e"
             ],
             [
              0.5555555555555556,
              "#1f9e89"
             ],
             [
              0.6666666666666666,
              "#35b779"
             ],
             [
              0.7777777777777778,
              "#6ece58"
             ],
             [
              0.8888888888888888,
              "#b5de2b"
             ],
             [
              1,
              "#fde725"
             ]
            ],
            "type": "histogram2dcontour"
           }
          ],
          "mesh3d": [
           {
            "colorbar": {
             "outlinewidth": 1,
             "tickcolor": "rgb(36,36,36)",
             "ticks": "outside"
            },
            "type": "mesh3d"
           }
          ],
          "parcoords": [
           {
            "line": {
             "colorbar": {
              "outlinewidth": 1,
              "tickcolor": "rgb(36,36,36)",
              "ticks": "outside"
             }
            },
            "type": "parcoords"
           }
          ],
          "pie": [
           {
            "automargin": true,
            "type": "pie"
           }
          ],
          "scatter": [
           {
            "fillpattern": {
             "fillmode": "overlay",
             "size": 10,
             "solidity": 0.2
            },
            "type": "scatter"
           }
          ],
          "scatter3d": [
           {
            "line": {
             "colorbar": {
              "outlinewidth": 1,
              "tickcolor": "rgb(36,36,36)",
              "ticks": "outside"
             }
            },
            "marker": {
             "colorbar": {
              "outlinewidth": 1,
              "tickcolor": "rgb(36,36,36)",
              "ticks": "outside"
             }
            },
            "type": "scatter3d"
           }
          ],
          "scattercarpet": [
           {
            "marker": {
             "colorbar": {
              "outlinewidth": 1,
              "tickcolor": "rgb(36,36,36)",
              "ticks": "outside"
             }
            },
            "type": "scattercarpet"
           }
          ],
          "scattergeo": [
           {
            "marker": {
             "colorbar": {
              "outlinewidth": 1,
              "tickcolor": "rgb(36,36,36)",
              "ticks": "outside"
             }
            },
            "type": "scattergeo"
           }
          ],
          "scattergl": [
           {
            "marker": {
             "colorbar": {
              "outlinewidth": 1,
              "tickcolor": "rgb(36,36,36)",
              "ticks": "outside"
             }
            },
            "type": "scattergl"
           }
          ],
          "scattermap": [
           {
            "marker": {
             "colorbar": {
              "outlinewidth": 1,
              "tickcolor": "rgb(36,36,36)",
              "ticks": "outside"
             }
            },
            "type": "scattermap"
           }
          ],
          "scattermapbox": [
           {
            "marker": {
             "colorbar": {
              "outlinewidth": 1,
              "tickcolor": "rgb(36,36,36)",
              "ticks": "outside"
             }
            },
            "type": "scattermapbox"
           }
          ],
          "scatterpolar": [
           {
            "marker": {
             "colorbar": {
              "outlinewidth": 1,
              "tickcolor": "rgb(36,36,36)",
              "ticks": "outside"
             }
            },
            "type": "scatterpolar"
           }
          ],
          "scatterpolargl": [
           {
            "marker": {
             "colorbar": {
              "outlinewidth": 1,
              "tickcolor": "rgb(36,36,36)",
              "ticks": "outside"
             }
            },
            "type": "scatterpolargl"
           }
          ],
          "scatterternary": [
           {
            "marker": {
             "colorbar": {
              "outlinewidth": 1,
              "tickcolor": "rgb(36,36,36)",
              "ticks": "outside"
             }
            },
            "type": "scatterternary"
           }
          ],
          "surface": [
           {
            "colorbar": {
             "outlinewidth": 1,
             "tickcolor": "rgb(36,36,36)",
             "ticks": "outside"
            },
            "colorscale": [
             [
              0,
              "#440154"
             ],
             [
              0.1111111111111111,
              "#482878"
             ],
             [
              0.2222222222222222,
              "#3e4989"
             ],
             [
              0.3333333333333333,
              "#31688e"
             ],
             [
              0.4444444444444444,
              "#26828e"
             ],
             [
              0.5555555555555556,
              "#1f9e89"
             ],
             [
              0.6666666666666666,
              "#35b779"
             ],
             [
              0.7777777777777778,
              "#6ece58"
             ],
             [
              0.8888888888888888,
              "#b5de2b"
             ],
             [
              1,
              "#fde725"
             ]
            ],
            "type": "surface"
           }
          ],
          "table": [
           {
            "cells": {
             "fill": {
              "color": "rgb(237,237,237)"
             },
             "line": {
              "color": "white"
             }
            },
            "header": {
             "fill": {
              "color": "rgb(217,217,217)"
             },
             "line": {
              "color": "white"
             }
            },
            "type": "table"
           }
          ]
         },
         "layout": {
          "annotationdefaults": {
           "arrowhead": 0,
           "arrowwidth": 1
          },
          "autotypenumbers": "strict",
          "coloraxis": {
           "colorbar": {
            "outlinewidth": 1,
            "tickcolor": "rgb(36,36,36)",
            "ticks": "outside"
           }
          },
          "colorscale": {
           "diverging": [
            [
             0,
             "rgb(103,0,31)"
            ],
            [
             0.1,
             "rgb(178,24,43)"
            ],
            [
             0.2,
             "rgb(214,96,77)"
            ],
            [
             0.3,
             "rgb(244,165,130)"
            ],
            [
             0.4,
             "rgb(253,219,199)"
            ],
            [
             0.5,
             "rgb(247,247,247)"
            ],
            [
             0.6,
             "rgb(209,229,240)"
            ],
            [
             0.7,
             "rgb(146,197,222)"
            ],
            [
             0.8,
             "rgb(67,147,195)"
            ],
            [
             0.9,
             "rgb(33,102,172)"
            ],
            [
             1,
             "rgb(5,48,97)"
            ]
           ],
           "sequential": [
            [
             0,
             "#440154"
            ],
            [
             0.1111111111111111,
             "#482878"
            ],
            [
             0.2222222222222222,
             "#3e4989"
            ],
            [
             0.3333333333333333,
             "#31688e"
            ],
            [
             0.4444444444444444,
             "#26828e"
            ],
            [
             0.5555555555555556,
             "#1f9e89"
            ],
            [
             0.6666666666666666,
             "#35b779"
            ],
            [
             0.7777777777777778,
             "#6ece58"
            ],
            [
             0.8888888888888888,
             "#b5de2b"
            ],
            [
             1,
             "#fde725"
            ]
           ],
           "sequentialminus": [
            [
             0,
             "#440154"
            ],
            [
             0.1111111111111111,
             "#482878"
            ],
            [
             0.2222222222222222,
             "#3e4989"
            ],
            [
             0.3333333333333333,
             "#31688e"
            ],
            [
             0.4444444444444444,
             "#26828e"
            ],
            [
             0.5555555555555556,
             "#1f9e89"
            ],
            [
             0.6666666666666666,
             "#35b779"
            ],
            [
             0.7777777777777778,
             "#6ece58"
            ],
            [
             0.8888888888888888,
             "#b5de2b"
            ],
            [
             1,
             "#fde725"
            ]
           ]
          },
          "colorway": [
           "#1F77B4",
           "#FF7F0E",
           "#2CA02C",
           "#D62728",
           "#9467BD",
           "#8C564B",
           "#E377C2",
           "#7F7F7F",
           "#BCBD22",
           "#17BECF"
          ],
          "font": {
           "color": "rgb(36,36,36)"
          },
          "geo": {
           "bgcolor": "white",
           "lakecolor": "white",
           "landcolor": "white",
           "showlakes": true,
           "showland": true,
           "subunitcolor": "white"
          },
          "hoverlabel": {
           "align": "left"
          },
          "hovermode": "closest",
          "mapbox": {
           "style": "light"
          },
          "paper_bgcolor": "white",
          "plot_bgcolor": "white",
          "polar": {
           "angularaxis": {
            "gridcolor": "rgb(232,232,232)",
            "linecolor": "rgb(36,36,36)",
            "showgrid": false,
            "showline": true,
            "ticks": "outside"
           },
           "bgcolor": "white",
           "radialaxis": {
            "gridcolor": "rgb(232,232,232)",
            "linecolor": "rgb(36,36,36)",
            "showgrid": false,
            "showline": true,
            "ticks": "outside"
           }
          },
          "scene": {
           "xaxis": {
            "backgroundcolor": "white",
            "gridcolor": "rgb(232,232,232)",
            "gridwidth": 2,
            "linecolor": "rgb(36,36,36)",
            "showbackground": true,
            "showgrid": false,
            "showline": true,
            "ticks": "outside",
            "zeroline": false,
            "zerolinecolor": "rgb(36,36,36)"
           },
           "yaxis": {
            "backgroundcolor": "white",
            "gridcolor": "rgb(232,232,232)",
            "gridwidth": 2,
            "linecolor": "rgb(36,36,36)",
            "showbackground": true,
            "showgrid": false,
            "showline": true,
            "ticks": "outside",
            "zeroline": false,
            "zerolinecolor": "rgb(36,36,36)"
           },
           "zaxis": {
            "backgroundcolor": "white",
            "gridcolor": "rgb(232,232,232)",
            "gridwidth": 2,
            "linecolor": "rgb(36,36,36)",
            "showbackground": true,
            "showgrid": false,
            "showline": true,
            "ticks": "outside",
            "zeroline": false,
            "zerolinecolor": "rgb(36,36,36)"
           }
          },
          "shapedefaults": {
           "fillcolor": "black",
           "line": {
            "width": 0
           },
           "opacity": 0.3
          },
          "ternary": {
           "aaxis": {
            "gridcolor": "rgb(232,232,232)",
            "linecolor": "rgb(36,36,36)",
            "showgrid": false,
            "showline": true,
            "ticks": "outside"
           },
           "baxis": {
            "gridcolor": "rgb(232,232,232)",
            "linecolor": "rgb(36,36,36)",
            "showgrid": false,
            "showline": true,
            "ticks": "outside"
           },
           "bgcolor": "white",
           "caxis": {
            "gridcolor": "rgb(232,232,232)",
            "linecolor": "rgb(36,36,36)",
            "showgrid": false,
            "showline": true,
            "ticks": "outside"
           }
          },
          "title": {
           "x": 0.05
          },
          "xaxis": {
           "automargin": true,
           "gridcolor": "rgb(232,232,232)",
           "linecolor": "rgb(36,36,36)",
           "showgrid": false,
           "showline": true,
           "ticks": "outside",
           "title": {
            "standoff": 15
           },
           "zeroline": false,
           "zerolinecolor": "rgb(36,36,36)"
          },
          "yaxis": {
           "automargin": true,
           "gridcolor": "rgb(232,232,232)",
           "linecolor": "rgb(36,36,36)",
           "showgrid": false,
           "showline": true,
           "ticks": "outside",
           "title": {
            "standoff": 15
           },
           "zeroline": false,
           "zerolinecolor": "rgb(36,36,36)"
          }
         }
        },
        "title": {
         "font": {
          "color": "Black",
          "size": 22
         },
         "text": "<b>Topics over Time</b>",
         "x": 0.4,
         "xanchor": "center",
         "y": 0.95,
         "yanchor": "top"
        },
        "width": 1250,
        "xaxis": {
         "showgrid": true
        },
        "yaxis": {
         "showgrid": true,
         "title": {
          "text": "Frequency"
         }
        }
       }
      }
     },
     "metadata": {},
     "output_type": "display_data"
    }
   ],
   "source": [
    "model, topics_by_date, *_ = run_bertopic_over_metadata(df_debates, groupby_col=\"date\")\n",
    "model.visualize_topics_over_time(topics_by_date)"
   ]
  },
  {
   "cell_type": "code",
   "execution_count": 7,
   "id": "98f1f670",
   "metadata": {},
   "outputs": [],
   "source": [
    "import seaborn as sns\n",
    "import matplotlib.pyplot as plt\n",
    "\n",
    "def visualize_topic_distribution_by_group(model, df, topics, groupby_col=\"actor\", top_n_topics=20, normalize=True, figsize=(16, 8)):\n",
    "    \"\"\"\n",
    "    Visualize BERTopic topic distribution per group (e.g., actor, party) using a heatmap.\n",
    "\n",
    "    Parameters:\n",
    "        model (BERTopic): Trained BERTopic model\n",
    "        df (pd.DataFrame): DataFrame with 'dialogue' and metadata column\n",
    "        topics (List[int]): List of topic assignments for each document\n",
    "        groupby_col (str): Metadata column to group by (e.g., 'actor', 'party')\n",
    "        top_n_topics (int): Number of most common topics to show\n",
    "        normalize (bool): Whether to normalize topic frequencies per group\n",
    "        figsize (tuple): Size of the heatmap\n",
    "    \"\"\"\n",
    "    assert len(df) == len(topics), \"Mismatch between DataFrame rows and topic assignments.\"\n",
    "\n",
    "    df_grouped = df.copy()\n",
    "    df_grouped[\"topic\"] = topics\n",
    "    group_topic_counts = df_grouped.groupby([groupby_col, \"topic\"]).size().unstack(fill_value=0)\n",
    "\n",
    "    if normalize:\n",
    "        group_topic_counts = group_topic_counts.div(group_topic_counts.sum(axis=1), axis=0)\n",
    "\n",
    "    # Select top N topics overall\n",
    "    top_topics = group_topic_counts.sum().sort_values(ascending=False).head(top_n_topics).index\n",
    "    top_topic_counts = group_topic_counts[top_topics]\n",
    "\n",
    "    # Rename topic columns with topic labels\n",
    "    topic_labels = model.get_topic_info().set_index(\"Topic\")[\"Name\"].to_dict()\n",
    "    top_topic_counts.columns = [topic_labels.get(t, str(t)) for t in top_topic_counts.columns]\n",
    "\n",
    "    plt.figure(figsize=figsize)\n",
    "    sns.heatmap(top_topic_counts, annot=True if top_n_topics <= 10 else False, cmap=\"Blues\", linewidths=0.5)\n",
    "    plt.title(f\"Topic Distribution by {groupby_col.capitalize()}\")\n",
    "    plt.xlabel(\"Topics\")\n",
    "    plt.ylabel(groupby_col.capitalize())\n",
    "    plt.xticks(rotation=45, ha=\"right\")\n",
    "    plt.tight_layout()\n",
    "    plt.show()\n"
   ]
  },
  {
   "cell_type": "code",
   "execution_count": 8,
   "id": "391bb2c2",
   "metadata": {},
   "outputs": [
    {
     "name": "stderr",
     "output_type": "stream",
     "text": [
      "2025-05-23 18:51:15,799 - BERTopic - Dimensionality - Fitting the dimensionality reduction algorithm\n"
     ]
    },
    {
     "name": "stdout",
     "output_type": "stream",
     "text": [
      "Creating new BERTopic model using embedding model: all-MiniLM-L6-v2\n",
      "Fitting BERTopic...\n"
     ]
    },
    {
     "name": "stderr",
     "output_type": "stream",
     "text": [
      "2025-05-23 18:51:19,916 - BERTopic - Dimensionality - Completed ✓\n",
      "2025-05-23 18:51:19,919 - BERTopic - Cluster - Start clustering the reduced embeddings\n",
      "2025-05-23 18:51:20,064 - BERTopic - Cluster - Completed ✓\n",
      "2025-05-23 18:51:20,069 - BERTopic - Representation - Fine-tuning topics using representation models.\n",
      "2025-05-23 18:51:20,477 - BERTopic - Representation - Completed ✓\n",
      "2025-05-23 18:51:20,861 - BERTopic - Topic reduction - Reducing number of topics\n",
      "2025-05-23 18:51:20,880 - BERTopic - Representation - Fine-tuning topics using representation models.\n",
      "2025-05-23 18:51:21,253 - BERTopic - Representation - Completed ✓\n",
      "2025-05-23 18:51:21,255 - BERTopic - Topic reduction - Reduced number of topics from 81 to 23\n"
     ]
    },
    {
     "name": "stdout",
     "output_type": "stream",
     "text": [
      "Computing topic frequency over 'actor'...\n"
     ]
    },
    {
     "data": {
      "image/png": "[encoded data removed]",
      "text/plain": [
       "<Figure size 1600x800 with 2 Axes>"
      ]
     },
     "metadata": {},
     "output_type": "display_data"
    }
   ],
   "source": [
    "model, _, topics, _ = run_bertopic_over_metadata(df_debates, groupby_col=\"actor\")\n",
    "visualize_topic_distribution_by_group(model, df_short, topics, groupby_col=\"actor\", top_n_topics=5)"
   ]
  },
  {
   "cell_type": "code",
   "execution_count": 9,
   "id": "4a66485d",
   "metadata": {},
   "outputs": [
    {
     "name": "stderr",
     "output_type": "stream",
     "text": [
      "2025-05-23 18:51:22,286 - BERTopic - Dimensionality - Fitting the dimensionality reduction algorithm\n"
     ]
    },
    {
     "name": "stdout",
     "output_type": "stream",
     "text": [
      "Creating new BERTopic model using embedding model: all-MiniLM-L6-v2\n",
      "Fitting BERTopic...\n"
     ]
    },
    {
     "name": "stderr",
     "output_type": "stream",
     "text": [
      "2025-05-23 18:51:27,007 - BERTopic - Dimensionality - Completed ✓\n",
      "2025-05-23 18:51:27,012 - BERTopic - Cluster - Start clustering the reduced embeddings\n",
      "2025-05-23 18:51:27,157 - BERTopic - Cluster - Completed ✓\n",
      "2025-05-23 18:51:27,161 - BERTopic - Representation - Fine-tuning topics using representation models.\n",
      "2025-05-23 18:51:27,545 - BERTopic - Representation - Completed ✓\n",
      "2025-05-23 18:51:27,892 - BERTopic - Topic reduction - Reducing number of topics\n",
      "2025-05-23 18:51:27,905 - BERTopic - Representation - Fine-tuning topics using representation models.\n",
      "2025-05-23 18:51:28,262 - BERTopic - Representation - Completed ✓\n",
      "2025-05-23 18:51:28,264 - BERTopic - Topic reduction - Reduced number of topics from 64 to 42\n"
     ]
    },
    {
     "name": "stdout",
     "output_type": "stream",
     "text": [
      "Computing topic frequency over 'party'...\n"
     ]
    },
    {
     "data": {
      "image/png": "[encoded data removed]",
      "text/plain": [
       "<Figure size 1600x800 with 2 Axes>"
      ]
     },
     "metadata": {},
     "output_type": "display_data"
    }
   ],
   "source": [
    "model, _, topics, _ = run_bertopic_over_metadata(df_debates, groupby_col=\"party\")\n",
    "visualize_topic_distribution_by_group(model, df_short, topics, groupby_col=\"party\", top_n_topics=5)"
   ]
  }
 ],
 "metadata": {
  "kernelspec": {
   "display_name": "tensorflow",
   "language": "python",
   "name": "python3"
  },
  "language_info": {
   "codemirror_mode": {
    "name": "ipython",
    "version": 3
   },
   "file_extension": ".py",
   "mimetype": "text/x-python",
   "name": "python",
   "nbconvert_exporter": "python",
   "pygments_lexer": "ipython3",
   "version": "3.12.9"
  }
 },
 "nbformat": 4,
 "nbformat_minor": 5
}
