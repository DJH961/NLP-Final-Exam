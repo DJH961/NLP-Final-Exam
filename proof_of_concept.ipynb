{
 "cells": [
  {
   "cell_type": "markdown",
   "id": "65c74c82",
   "metadata": {},
   "source": [
    "## Preprocessing"
   ]
  },
  {
   "cell_type": "code",
   "execution_count": null,
   "id": "61360dd0",
   "metadata": {},
   "outputs": [],
   "source": [
    "#IMPORTS\n",
    "import pandas as pd\n",
    "import numpy as np"
   ]
  },
  {
   "cell_type": "code",
   "execution_count": 1,
   "id": "2d0722f2",
   "metadata": {},
   "outputs": [],
   "source": [
    "with open('transcript.txt', 'r') as file:\n",
    "    transcript = [line.strip() for line in file if line.strip() != '']"
   ]
  },
  {
   "cell_type": "code",
   "execution_count": 4,
   "id": "7a10309f",
   "metadata": {},
   "outputs": [
    {
     "data": {
      "application/vnd.microsoft.datawrangler.viewer.v0+json": {
       "columns": [
        {
         "name": "index",
         "rawType": "int64",
         "type": "integer"
        },
        {
         "name": "Speaker",
         "rawType": "object",
         "type": "string"
        },
        {
         "name": "Text",
         "rawType": "object",
         "type": "string"
        }
       ],
       "conversionMethod": "pd.DataFrame",
       "ref": "e3fe0757-401b-45e3-b483-d5816594304b",
       "rows": [
        [
         "0",
         "DAVID MUIR",
         "Tonight, the high-stakes showdown here in Philadelphia between Vice President Kamala Harris and former president Donald Trump. Their first face-to-face meeting in this presidential election. Their first face-to-face meeting ever."
        ],
        [
         "1",
         "LINSEY DAVIS",
         "A historic race for president upended just weeks ago. President Biden withdrawing after his last debate. Donald Trump is now up against a new opponent."
        ],
        [
         "2",
         "DAVID MUIR",
         "The candidates separated by the smallest of margins. Essentially tied in the polls nationally. And in the key battlegrounds, including right here in Pennsylvania, all still very much in play. The ABC News Presidential Debate starts right now."
        ],
        [
         "3",
         "DAVID MUIR",
         "Good evening, I'm David Muir. And thank you for joining us for tonight's ABC News Presidential Debate. We want to welcome viewers watching on ABC and around the world tonight. Vice President Kamala Harris and President Donald Trump are just moments away from taking the stage in this unprecedented race for president."
        ],
        [
         "4",
         "LINSEY DAVIS",
         "And I'm Linsey Davis. Tonight's meeting could be the most consequential event of their campaigns, with Election Day now less than two months away. For Vice President Kamala Harris, this is her first debate since President Biden withdrew from the race on July 21st. Of course, that decision followed his debate against President Donald Trump in June. Since then, this race has taken on an entirely new dynamic."
        ]
       ],
       "shape": {
        "columns": 2,
        "rows": 5
       }
      },
      "text/html": [
       "<div>\n",
       "<style scoped>\n",
       "    .dataframe tbody tr th:only-of-type {\n",
       "        vertical-align: middle;\n",
       "    }\n",
       "\n",
       "    .dataframe tbody tr th {\n",
       "        vertical-align: top;\n",
       "    }\n",
       "\n",
       "    .dataframe thead th {\n",
       "        text-align: right;\n",
       "    }\n",
       "</style>\n",
       "<table border=\"1\" class=\"dataframe\">\n",
       "  <thead>\n",
       "    <tr style=\"text-align: right;\">\n",
       "      <th></th>\n",
       "      <th>Speaker</th>\n",
       "      <th>Text</th>\n",
       "    </tr>\n",
       "  </thead>\n",
       "  <tbody>\n",
       "    <tr>\n",
       "      <th>0</th>\n",
       "      <td>DAVID MUIR</td>\n",
       "      <td>Tonight, the high-stakes showdown here in Phil...</td>\n",
       "    </tr>\n",
       "    <tr>\n",
       "      <th>1</th>\n",
       "      <td>LINSEY DAVIS</td>\n",
       "      <td>A historic race for president upended just wee...</td>\n",
       "    </tr>\n",
       "    <tr>\n",
       "      <th>2</th>\n",
       "      <td>DAVID MUIR</td>\n",
       "      <td>The candidates separated by the smallest of ma...</td>\n",
       "    </tr>\n",
       "    <tr>\n",
       "      <th>3</th>\n",
       "      <td>DAVID MUIR</td>\n",
       "      <td>Good evening, I'm David Muir. And thank you fo...</td>\n",
       "    </tr>\n",
       "    <tr>\n",
       "      <th>4</th>\n",
       "      <td>LINSEY DAVIS</td>\n",
       "      <td>And I'm Linsey Davis. Tonight's meeting could ...</td>\n",
       "    </tr>\n",
       "  </tbody>\n",
       "</table>\n",
       "</div>"
      ],
      "text/plain": [
       "        Speaker                                               Text\n",
       "0    DAVID MUIR  Tonight, the high-stakes showdown here in Phil...\n",
       "1  LINSEY DAVIS  A historic race for president upended just wee...\n",
       "2    DAVID MUIR  The candidates separated by the smallest of ma...\n",
       "3    DAVID MUIR  Good evening, I'm David Muir. And thank you fo...\n",
       "4  LINSEY DAVIS  And I'm Linsey Davis. Tonight's meeting could ..."
      ]
     },
     "execution_count": 4,
     "metadata": {},
     "output_type": "execute_result"
    }
   ],
   "source": [
    "import pandas as pd\n",
    "\n",
    "# Split each line at the first colon\n",
    "data = []\n",
    "for line in transcript:\n",
    "    if ':' in line:\n",
    "        speaker, text = line.split(':', 1)\n",
    "        text = text.lstrip()  # Remove leading space\n",
    "        data.append([speaker, text])\n",
    "    else:\n",
    "        data.append(['', line])\n",
    "\n",
    "transcript_df = pd.DataFrame(data, columns=['Speaker', 'Text'])\n",
    "transcript_df.head()"
   ]
  },
  {
   "cell_type": "markdown",
   "id": "92945347",
   "metadata": {},
   "source": [
    "## First Test - BERT"
   ]
  },
  {
   "cell_type": "code",
   "execution_count": 6,
   "id": "b09b587a",
   "metadata": {},
   "outputs": [],
   "source": [
    "#!pip install pandas nltk transformers torch"
   ]
  },
  {
   "cell_type": "code",
   "execution_count": null,
   "id": "591adeac",
   "metadata": {},
   "outputs": [],
   "source": [
    "import nltk\n",
    "nltk.download('vader_lexicon')"
   ]
  },
  {
   "cell_type": "code",
   "execution_count": null,
   "id": "1081243c",
   "metadata": {},
   "outputs": [],
   "source": [
    "import pandas as pd\n",
    "from nltk.sentiment import SentimentIntensityAnalyzer\n",
    "from transformers import AutoTokenizer, AutoModelForSequenceClassification\n",
    "import torch\n",
    "import numpy as np"
   ]
  },
  {
   "cell_type": "code",
   "execution_count": null,
   "id": "2d9f1c64",
   "metadata": {},
   "outputs": [],
   "source": []
  }
 ],
 "metadata": {
  "kernelspec": {
   "display_name": "tensorflow",
   "language": "python",
   "name": "python3"
  },
  "language_info": {
   "codemirror_mode": {
    "name": "ipython",
    "version": 3
   },
   "file_extension": ".py",
   "mimetype": "text/x-python",
   "name": "python",
   "nbconvert_exporter": "python",
   "pygments_lexer": "ipython3",
   "version": "3.12.9"
  }
 },
 "nbformat": 4,
 "nbformat_minor": 5
}
